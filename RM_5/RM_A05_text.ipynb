{
 "cells": [
  {
   "cell_type": "markdown",
   "metadata": {},
   "source": [
    "# Research Methods <br>UHH - Knowledge Technology Research Group - WiSe 2020/2021\n",
    "## Assignment #5 - Estimated Sample Distribution + Empirical Sampling \n"
   ]
  },
  {
   "cell_type": "markdown",
   "metadata": {},
   "source": [
    "***\n",
    "### Group: \n",
    "### Names of members: \n",
    "\n",
    "***"
   ]
  },
  {
   "cell_type": "markdown",
   "metadata": {},
   "source": [
    "### Instructions:\n",
    "\n",
    "Please answer the questions below. Copy this notebook and enter your answers underneath each task description, inserting cells as needed. You may use a combination of [python 3](https://python3.guide/), [markdown](http://jupyter-notebook.readthedocs.io/en/stable/examples/Notebook/Working%20With%20Markdown%20Cells.html), and [LaTex](https://towardsdatascience.com/write-markdown-latex-in-the-jupyter-notebook-10985edb91fd) to formulate your responses. In order to successfully complete the assignment, you will need the lecture material provided in the [RM moodle course](https://lernen.min.uni-hamburg.de/course/view.php?id=582), especially L08 & L09. **Make sure to use only a copy of this notebook for your answers instead of a new/blank notebook.** \n",
    "\n",
    "### Grading Criteria:\n",
    "\n",
    "In order to successfully pass this assignment, you will need **at least a total of 70 points out of 100 points**, and **every** task has to be tackled.\n",
    "\n",
    "### Submission:\n",
    "\n",
    "Please upload the following two files **until Tuesday, 19 January 2021, 19:59 CET (Germany)** together in a .zip archive in moodle:\n",
    "1. a (single) copy of this jupyter notebook containing your answers for all tasks (file extension: .ipynb)\n",
    "2. an [exported PDF document](https://jupyterlab.readthedocs.io/en/stable/user/export.html) of the jupyter notebook (file extension: .pdf)\n",
    "\n",
    "### Presentation:\n",
    "\n",
    "Make sure that each (!) group member takes part in solving this assignment and is prepared to answer questions and/or present solutions from your submitted notebook during our assignment revision meeting scheduled for **Wednesday, 27 January 2021,  12:00 - 13:30 CET (Germany)**.\n",
    "\n",
    "### File Naming:\n",
    "\n",
    "Add the group letter to the file name prior to submission. For example, if your group letter is \"A\" (see group selection in moodle), you would use the following filename: \n",
    "1. RM_A05_Group_A.ipynb \n",
    "2. RM_A05_Group_A.pdf\n",
    "\n",
    "***\n",
    "***"
   ]
  },
  {
   "cell_type": "markdown",
   "metadata": {},
   "source": [
    "#### Task 1 **[50 points]  Compare 2 samples**\n",
    "\n",
    "In your last assignment A04 you conducted your own study. Please use your own sample and compare it to a sample of another group. Please answer this question: *Is there a significant difference between your study results and the other groups result in 'hours of sleep per night'?*\n",
    "\n",
    "1. Make sure your dataframe and/or .csv are ready to share (variable hours, gender) with the other groups\n",
    "2. Use the results of the group with the following letter in the alphabeth. (Group A uses Group B's ... Group[last letter] takes Group A's results.)\n",
    "3. State  $H_0$ & $H_1$ for the above mentioned question. \n",
    "4. a. Choose a method to compare 2 samples (especially see L08).<br> \n",
    "   b. State the assumptions and why you chose this method.<br>\n",
    "   c. State the parameters you used.\n",
    "5. Report scientifically (see A04 how)\n",
    "6. What is the power and the effect size of the test you used? Compute & report\n"
   ]
  },
  {
   "cell_type": "code",
   "execution_count": null,
   "metadata": {},
   "outputs": [],
   "source": []
  },
  {
   "cell_type": "markdown",
   "metadata": {},
   "source": [
    "#### Task 2 **[50 points] Simulation of Experiment**\n",
    "As follow up question to your \"Sleep study\" you would like to ask this question *„Please rate your given average of sleep?“* to your group of women (F) and men (M). What can you expect if you use a Likert Scale? \n",
    "Likert scale: [too little, a bit too little, just right, a bit too much, too much -- \"sleep\"] code the answers with those number: -2, -1, 0, 1, 2\n",
    "\n",
    "Your job is to simulate the process using Monte-Carlo. \n",
    "\n",
    "Assumptions: The ground truth are continuous, normally distributed values around expected means that people could give if asked on a continuous scale. \n",
    "\n",
    "Hypotheses: $H_0$:𝜇1=𝜇2, $H_1$:𝜇1≠𝜇2\n",
    "\n",
    "The aim of this exercise is to understand how Likert-Scales can be evaluated, how experiments with questionnaires can be analysed, and what questions you have to ask if doing so. Write your code in a way to quickly explore different parameters/biases/methods. Vizualize and interprete on your diagrams and results.\n",
    "\n",
    "1. a. How do the sampling distributions look like for $H_0$ and $H_1$ for varying means and effect sizes? (M / F) <br>\n",
    "   b. if you look back at your study which would be the expected tuple of means. Match the duration of sleep with the likert scale: -2 = 2-3h, -1 = 4-5h, 0 = 6-7h, 1 = 8-9h, -2 = 10-11h <br>\n",
    "   c. Use these expected means (your informed one), (1,-1), (1,0), (1.5, 0.5), (-2,-1) and use at least 2 different standard diviations <br>\n",
    "   d. Plot frequencies and likert scale values for each tuple and the sds <br>\n",
    "   e. What is your test statistic and why? <br>\n",
    "   f. What is your sample size and sampling size? Why?\n",
    "2. What is the power of the t-test (2 sample, independent) and the Mann-Whitney-U test? Compute for the mean tuples and sds. Interprete your results.\n",
    "3. How could you model common biases (at least 2) and how would they affect the outcome and power? Use the tuple means and sds, compute, interprete, and vizualize.\n",
    "4. For the case (1.5, 0.5), how large would the sample have to be to get a power of 80% at α=5%? Use the different sds."
   ]
  },
  {
   "cell_type": "code",
   "execution_count": null,
   "metadata": {},
   "outputs": [],
   "source": []
  }
 ],
 "metadata": {
  "kernelspec": {
   "display_name": "Python 3",
   "language": "python",
   "name": "python3"
  },
  "language_info": {
   "codemirror_mode": {
    "name": "ipython",
    "version": 3
   },
   "file_extension": ".py",
   "mimetype": "text/x-python",
   "name": "python",
   "nbconvert_exporter": "python",
   "pygments_lexer": "ipython3",
   "version": "3.8.3"
  }
 },
 "nbformat": 4,
 "nbformat_minor": 4
}
