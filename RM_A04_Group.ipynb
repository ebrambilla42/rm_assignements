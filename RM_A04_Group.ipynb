{
  "nbformat": 4,
  "nbformat_minor": 0,
  "metadata": {
    "kernelspec": {
      "display_name": "Python 3",
      "language": "python",
      "name": "python3"
    },
    "language_info": {
      "codemirror_mode": {
        "name": "ipython",
        "version": 3
      },
      "file_extension": ".py",
      "mimetype": "text/x-python",
      "name": "python",
      "nbconvert_exporter": "python",
      "pygments_lexer": "ipython3",
      "version": "3.8.5"
    },
    "colab": {
      "name": "RM_A04_Group.ipynb",
      "provenance": [],
      "include_colab_link": true
    }
  },
  "cells": [
    {
      "cell_type": "markdown",
      "metadata": {
        "id": "view-in-github",
        "colab_type": "text"
      },
      "source": [
        "<a href=\"https://colab.research.google.com/github/ebrambilla42/rm_assignments/blob/master/RM_A04_Group.ipynb\" target=\"_parent\"><img src=\"https://colab.research.google.com/assets/colab-badge.svg\" alt=\"Open In Colab\"/></a>"
      ]
    },
    {
      "cell_type": "markdown",
      "metadata": {
        "id": "oO7L2pjll6TO"
      },
      "source": [
        "# Research Methods <br>UHH - Knowledge Technology Research Group - WiSe 2020/2021\n",
        "## Assignment #4 - Experiment Design & Human Participant"
      ]
    },
    {
      "cell_type": "markdown",
      "metadata": {
        "id": "lrOOcapRl6TV"
      },
      "source": [
        "***\n",
        "### Group: C\n",
        "### Names of members: \n",
        "\n",
        "1. Aida Usmanova\n",
        "2. Emilio Brambilla\n",
        "3. Navneet Singh Arora\n",
        "\n",
        "***"
      ]
    },
    {
      "cell_type": "markdown",
      "metadata": {
        "id": "bjtZ8jtjl6TW"
      },
      "source": [
        "### Instructions:\n",
        "\n",
        "Please answer the questions below. Copy this notebook and enter your answers underneath each task description, inserting cells as needed. You may use a combination of [python 3](https://python3.guide/), [markdown](http://jupyter-notebook.readthedocs.io/en/stable/examples/Notebook/Working%20With%20Markdown%20Cells.html), and [LaTex](https://towardsdatascience.com/write-markdown-latex-in-the-jupyter-notebook-10985edb91fd) to formulate your responses. In order to successfully complete the assignment, you will need the lecture material provided in the [RM moodle course](https://lernen.min.uni-hamburg.de/course/view.php?id=582), especially L06 & L07. **Make sure to use only a copy of this notebook for your answers instead of a new/blank notebook.** \n",
        "\n",
        "### Grading Criteria:\n",
        "\n",
        "In order to successfully pass this assignment, you will need **at least a total of 70 points out of 100 points**, and **every** task has to be tackled.\n",
        "\n",
        "### Submission:\n",
        "\n",
        "Please upload the following two files **until Tuesday, 5 January 2021, 19:59 CET (Germany)** together in a .zip archive in moodle:\n",
        "1. a (single) copy of this jupyter notebook containing your answers for all tasks (file extension: .ipynb)\n",
        "2. an [exported PDF document](https://jupyterlab.readthedocs.io/en/stable/user/export.html) of the jupyter notebook (file extension: .pdf)\n",
        "\n",
        "### Presentation:\n",
        "\n",
        "Make sure that each (!) group member takes part in solving this assignment and is prepared to answer questions and/or present solutions from your submitted notebook during our assignment revision meeting scheduled for **Wednesday, 13 January 2021,  12:00 - 13:30 CET (Germany)**.\n",
        "\n",
        "### File Naming:\n",
        "\n",
        "Add the group letter to the file name prior to submission. For example, if your group letter is \"A\" (see group selection in moodle), you would use the following filename: \n",
        "1. RM_A04_Group_A.ipynb \n",
        "2. RM_A04_Group_A.pdf\n",
        "\n",
        "***\n",
        "***"
      ]
    },
    {
      "cell_type": "markdown",
      "metadata": {
        "id": "N0hHedKml6TX"
      },
      "source": [
        "#### Task 1 **[25 points]  Design**\n",
        "Design a small study that aims to answer the given question **(A)** and a question of your choice **(B)**. All visualizations (tables, diagrams, ...) are supposed to be written in python code using suitable libraries. \n",
        "\n",
        "**(A)**: Is there a difference between males and females in hours of sleep per night? \n",
        "\n",
        "* $H_0$: *state here, see 1.2.*\n",
        "* $H_1$: *state here, see 1.2.*\n",
        "\n",
        "**(B)**: *fill in your question, see 1.1.*\n",
        "\n",
        "* $H_0$: *state here, see 1.2.*\n",
        "* $H_1$: *state here, see 1.2.*\n",
        "\n",
        "\n",
        "1. Think of one variable which may affect hours of sleep per night other than gender. Include this variable in your research. And state the corresponding question (see question **(A)**).\n",
        "2. Formulate the corresponding hypotheses ($H_0$, $H_1$) to the question **(A)**. \n",
        "3. Formulate the corresponding hypotheses ($H_0$, $H_1$) to the question **(B)** (your own variable).\n",
        "4. Define and write down all factors (independent, dependent, extraneous) as table or diagram.\n",
        "5. Define the type of variables, measurements, scales for each factor you want to measure (including estimate of expected values) as a table.\n",
        "6. Design a questionnaire: Include questions for the variables gender, hours of sleep per night and your variable. \n",
        "7. Estimate validity and reliability (a written explanation is sufficient)."
      ]
    },
    {
      "cell_type": "markdown",
      "metadata": {
        "id": "ikRNUb6sl6TX"
      },
      "source": [
        "* * *\n",
        "* * *"
      ]
    },
    {
      "cell_type": "markdown",
      "metadata": {
        "id": "fjdxUAuKl6TY"
      },
      "source": [
        "#### Task 1: Design\n",
        "Design a small study that aims to answer the given question **(A)** and a question of your choice **(B)**. All visualizations (tables, diagrams, ...) are supposed to be written in python code using suitable libraries. \n",
        "\n",
        "**(A)**: Is there a difference between males and females in hours of sleep per night? \n",
        "\n",
        "* $H_0$: *state here, see 1.2.*\n",
        "* $H_1$: *state here, see 1.2.*\n",
        "\n",
        "**(B)**: *fill in your question, see 1.1.*\n",
        "\n",
        "* $H_0$: *state here, see 1.2.*\n",
        "* $H_1$: *state here, see 1.2.*"
      ]
    },
    {
      "cell_type": "markdown",
      "metadata": {
        "id": "8pKH6Waxl6Ta"
      },
      "source": [
        "#### Question 1.1\n",
        "Think of one variable which may affect hours of sleep per night other than gender. Include this variable in your research. And state the corresponding question (see question **(A)**)."
      ]
    },
    {
      "cell_type": "markdown",
      "metadata": {
        "id": "6iynw3WWl6Ta"
      },
      "source": [
        "#### Solution 1.1"
      ]
    },
    {
      "cell_type": "markdown",
      "metadata": {
        "id": "gVe-bqMoj450"
      },
      "source": [
        "While doing our study for finding out the differences between sleep per night for males and females, we came across a lot of factors which could significantly impact the amount of sleep a person will have. These factors are as below:  \n",
        "\n",
        "1. Time of Final Meal of the day\n",
        "2. Usual Bed Time\n",
        "3. Usual Wake up Time\n",
        "4. Physical Exercise done through out the day\n",
        "5. Screen Time (including Smartphone/Mobile Phone, Laptop, TV and so on)\n",
        "6. Having children and no of children in the family\n",
        "7. Having a pet or number of pets in the house\n",
        "8. Smoking Tendency of an individual\n",
        "9. Alcoholic influence on an individual\n",
        "10. Depression and other emotional/mental issues  \n",
        "  \n",
        "Out of these factors, a lot of factors have a lot of **variance and fluctuations** like **Usual Bed Time, Usual Wake Time, Amount of continuous Physical Activity** and so on. Similarly, some of them have a lot of **inconsistencies** as in case of **Screen Time** as this can have a higher value because of some other individual (like a child using his/her parents devices and so on) and is hard to measure with accuracy.  \n",
        "  \n",
        "But one factor is found to have a significant impact on the health of an individual irrespective of the gender. This factor is **Smoking**, which can be measured consistently and we will see if this variable affects sleep patterns of one gender more than the other or not.  \n",
        "\n",
        "**Question**: \n",
        "Is there a difference between smokers and non-smokers in hours of sleep per night?  \n",
        "  \n",
        "We fill find this out in our study."
      ]
    },
    {
      "cell_type": "markdown",
      "metadata": {
        "id": "jMhiuzNYl6Tb"
      },
      "source": [
        "* * *"
      ]
    },
    {
      "cell_type": "markdown",
      "metadata": {
        "id": "kgkiAXC2l6Tc"
      },
      "source": [
        "#### Question 1.2\n",
        "Formulate the corresponding hypotheses ($H_0$, $H_1$) to the question **(A)**. "
      ]
    },
    {
      "cell_type": "markdown",
      "metadata": {
        "id": "eTPg8jZhl6Tc"
      },
      "source": [
        "#### Solution 1.2"
      ]
    },
    {
      "cell_type": "markdown",
      "metadata": {
        "id": "RDF46Ti6kFv5"
      },
      "source": [
        "After considering the question **(Question (A))**, we come up with the following null hypothesis **$H_0$** and counter hypothesis **$H_1$**:\n",
        "  \n",
        "*$H_0$ : \"There is no difference in hours of sleep per night between males and females\".*  \n",
        "*$H_1$ : \"There is a significant difference in hours of sleep per night between males and females\".*  \n",
        "  \n",
        "This means,  \n",
        "for $H_0$ to be true, p1 - p2 = 0  \n",
        "for $H_1$ to be true, p1 - p2 != 0 **(2-Tailed Test)**"
      ]
    },
    {
      "cell_type": "markdown",
      "metadata": {
        "id": "cwW8rv84l6Td"
      },
      "source": [
        "* * *"
      ]
    },
    {
      "cell_type": "markdown",
      "metadata": {
        "id": "3Q7vWkskl6Td"
      },
      "source": [
        "#### Question 1.3\n",
        "Formulate the corresponding hypotheses ($H_0$, $H_1$) to the question **(B)** (your own variable)."
      ]
    },
    {
      "cell_type": "markdown",
      "metadata": {
        "id": "Ukss4uqRl6Td"
      },
      "source": [
        "#### Solution 1.3"
      ]
    },
    {
      "cell_type": "markdown",
      "metadata": {
        "id": "3HV0D4DWkM44"
      },
      "source": [
        "After finding out the **variable Smoking**, we formulate the corresponding hypothesis:\n",
        "  \n",
        "*$H_0$ : \"There is no difference in hours of sleep per night between smokers and non-smokers\".*  \n",
        "*$H_1$ : \"There is a significant difference in hours of sleep per night between smokers and non-smokers\".*  \n",
        "  \n",
        "This means,  \n",
        "for $H_0$ to be true, p1 - p2 = 0 \n",
        "\n",
        "for $H_1$ to be true, p1 - p2 != 0 **(2-Tailed Test)**"
      ]
    },
    {
      "cell_type": "markdown",
      "metadata": {
        "id": "z1i-na5Fl6Te"
      },
      "source": [
        "* * *"
      ]
    },
    {
      "cell_type": "markdown",
      "metadata": {
        "id": "DKZpxuZnl6Te"
      },
      "source": [
        "#### Question 1.4\n",
        "Define and write down all factors (independent, dependent, extraneous) as table or diagram."
      ]
    },
    {
      "cell_type": "markdown",
      "metadata": {
        "id": "ikphr2EHl6Te"
      },
      "source": [
        "#### Solution 1.4"
      ]
    },
    {
      "cell_type": "code",
      "metadata": {
        "id": "vIQoYwVkl6Te"
      },
      "source": [
        "# Importing Required Libraries for python computation and setting display options\n",
        "\n",
        "import pandas as pd\n",
        "import plotly.graph_objects as go\n",
        "import plotly.express as px\n",
        "import matplotlib.pyplot as plt\n",
        "import numpy as np\n",
        "import scipy.stats as stats\n",
        "import math\n",
        "from plotly import tools, subplots\n",
        "\n",
        "pd.set_option('display.notebook_repr_html', True)"
      ],
      "execution_count": null,
      "outputs": []
    },
    {
      "cell_type": "code",
      "metadata": {
        "id": "3Ap-uU2gTIov"
      },
      "source": [
        "# Here we define various factors and categorize these variables as dependent, independent or extraneous\n",
        "\n",
        "# Preparing a dataframe with columns\n",
        "columns = ['Age',\n",
        "           'Gender', \n",
        "           'Family Size',\n",
        "           'Professional Status',\n",
        "           'Fatigue',\n",
        "           'Daily Habits',\n",
        "           'Sleep And Health',\n",
        "           'Mental Health',\n",
        "           'Smoking Addiction',\n",
        "           'Bed linen', \n",
        "           'Room temperature', \n",
        "           'Climate / Weather', \n",
        "           'Screen Time'];\n",
        "\n",
        "# Creating a dictionary for columnar values\n",
        "tabular_scaling_data = {};\n",
        "tabular_scaling_data[\"\"] = columns\n",
        "\n",
        "# Data for independent factors\n",
        "tabular_scaling_data[\"Independent\"] = [\"Yes\",\n",
        "                                       \"Yes\",\n",
        "                                       \"-\",\n",
        "                                       \"Yes\",\n",
        "                                       \"-\",\n",
        "                                       \"-\",\n",
        "                                       \"-\",\n",
        "                                       \"-\",\n",
        "                                       \"Yes\",\n",
        "                                       \"Yes\",\n",
        "                                       \"Yes\",\n",
        "                                       \"-\",\n",
        "                                       \"Yes\"];\n",
        "\n",
        "# Data for dependent factors\n",
        "tabular_scaling_data[\"Dependent\"] = [\"-\",\n",
        "                                     \"-\",\n",
        "                                     \"-\",\n",
        "                                     \"-\",\n",
        "                                     \"Yes\",\n",
        "                                     \"-\",\n",
        "                                     \"Yes\",\n",
        "                                     \"-\",\n",
        "                                     \"-\",\n",
        "                                     \"-\",\n",
        "                                     \"-\",\n",
        "                                     \"-\",\n",
        "                                     \"-\"];\n",
        "\n",
        "# Data for confounding factors\n",
        "tabular_scaling_data[\"Extraneous\"] = [\"-\",\n",
        "                                      \"-\",\n",
        "                                      \"Yes\",\n",
        "                                      \"-\",\n",
        "                                      \"-\",\n",
        "                                      \"Yes\",\n",
        "                                      \"-\",\n",
        "                                      \"Yes\",\n",
        "                                      \"-\",\n",
        "                                      \"-\",\n",
        "                                      \"-\",\n",
        "                                      \"Yes\",\n",
        "                                      \"-\"];\n",
        "\n",
        "# Converting dictionary to data frame\n",
        "factor_table = pd.DataFrame.from_dict(tabular_scaling_data, columns=columns, orient='index')"
      ],
      "execution_count": null,
      "outputs": []
    },
    {
      "cell_type": "code",
      "metadata": {
        "id": "EwDco7OMTK5B"
      },
      "source": [
        "# Using plotly to plot the table\n",
        "\n",
        "factor_table_plot = go.Figure(data=[go.Table(header=dict(values=list(factor_table.transpose().columns),\n",
        "                                                         align='left',\n",
        "                                                         line_color='black',\n",
        "                                                         fill_color='lightgray',\n",
        "                                                         font=dict(size=14),\n",
        "                                                         height=30),\n",
        "                                             cells=dict(values=factor_table,\n",
        "                                                        align='left',\n",
        "                                                        line_color='black',\n",
        "                                                        fill=dict(color=['lightgray', 'white', 'white', 'white']),\n",
        "                                                        font=dict(size=[14, 12, 12, 12]),\n",
        "                                                        height=30))]);\n",
        "factor_table_plot.update_layout(width=800,\n",
        "                                height=630,\n",
        "                                title_text=\"Table-1: Categorization of Factors\",\n",
        "                                title_x=0.5);"
      ],
      "execution_count": null,
      "outputs": []
    },
    {
      "cell_type": "code",
      "metadata": {
        "colab": {
          "base_uri": "https://localhost:8080/",
          "height": 647
        },
        "id": "UDHllJw9TMyQ",
        "outputId": "6c5ff252-8067-4bb1-b989-55bb5b87a4d1"
      },
      "source": [
        "# Displaying the Table\n",
        "\n",
        "factor_table_plot.show()"
      ],
      "execution_count": null,
      "outputs": [
        {
          "output_type": "display_data",
          "data": {
            "text/html": [
              "<html>\n",
              "<head><meta charset=\"utf-8\" /></head>\n",
              "<body>\n",
              "    <div>\n",
              "            <script src=\"https://cdnjs.cloudflare.com/ajax/libs/mathjax/2.7.5/MathJax.js?config=TeX-AMS-MML_SVG\"></script><script type=\"text/javascript\">if (window.MathJax) {MathJax.Hub.Config({SVG: {font: \"STIX-Web\"}});}</script>\n",
              "                <script type=\"text/javascript\">window.PlotlyConfig = {MathJaxConfig: 'local'};</script>\n",
              "        <script src=\"https://cdn.plot.ly/plotly-latest.min.js\"></script>    \n",
              "            <div id=\"0b1929e6-8c51-4a88-8b00-b73d995c363a\" class=\"plotly-graph-div\" style=\"height:630px; width:800px;\"></div>\n",
              "            <script type=\"text/javascript\">\n",
              "                \n",
              "                    window.PLOTLYENV=window.PLOTLYENV || {};\n",
              "                    \n",
              "                if (document.getElementById(\"0b1929e6-8c51-4a88-8b00-b73d995c363a\")) {\n",
              "                    Plotly.newPlot(\n",
              "                        '0b1929e6-8c51-4a88-8b00-b73d995c363a',\n",
              "                        [{\"cells\": {\"align\": \"left\", \"fill\": {\"color\": [\"lightgray\", \"white\", \"white\", \"white\"]}, \"font\": {\"size\": [14, 12, 12, 12]}, \"height\": 30, \"line\": {\"color\": \"black\"}, \"values\": [[\"Age\", \"Gender\", \"Family Size\", \"Professional Status\", \"Fatigue\", \"Daily Habits\", \"Sleep And Health\", \"Mental Health\", \"Smoking Addiction\", \"Bed linen\", \"Room temperature\", \"Climate / Weather\", \"Screen Time\"], [\"Yes\", \"Yes\", \"-\", \"Yes\", \"-\", \"-\", \"-\", \"-\", \"Yes\", \"Yes\", \"Yes\", \"-\", \"Yes\"], [\"-\", \"-\", \"-\", \"-\", \"Yes\", \"-\", \"Yes\", \"-\", \"-\", \"-\", \"-\", \"-\", \"-\"], [\"-\", \"-\", \"Yes\", \"-\", \"-\", \"Yes\", \"-\", \"Yes\", \"-\", \"-\", \"-\", \"Yes\", \"-\"]]}, \"header\": {\"align\": \"left\", \"fill\": {\"color\": \"lightgray\"}, \"font\": {\"size\": 14}, \"height\": 30, \"line\": {\"color\": \"black\"}, \"values\": [\"\", \"Independent\", \"Dependent\", \"Extraneous\"]}, \"type\": \"table\"}],\n",
              "                        {\"height\": 630, \"template\": {\"data\": {\"bar\": [{\"error_x\": {\"color\": \"#2a3f5f\"}, \"error_y\": {\"color\": \"#2a3f5f\"}, \"marker\": {\"line\": {\"color\": \"#E5ECF6\", \"width\": 0.5}}, \"type\": \"bar\"}], \"barpolar\": [{\"marker\": {\"line\": {\"color\": \"#E5ECF6\", \"width\": 0.5}}, \"type\": \"barpolar\"}], \"carpet\": [{\"aaxis\": {\"endlinecolor\": \"#2a3f5f\", \"gridcolor\": \"white\", \"linecolor\": \"white\", \"minorgridcolor\": \"white\", \"startlinecolor\": \"#2a3f5f\"}, \"baxis\": {\"endlinecolor\": \"#2a3f5f\", \"gridcolor\": \"white\", \"linecolor\": \"white\", \"minorgridcolor\": \"white\", \"startlinecolor\": \"#2a3f5f\"}, \"type\": \"carpet\"}], \"choropleth\": [{\"colorbar\": {\"outlinewidth\": 0, \"ticks\": \"\"}, \"type\": \"choropleth\"}], \"contour\": [{\"colorbar\": {\"outlinewidth\": 0, \"ticks\": \"\"}, \"colorscale\": [[0.0, \"#0d0887\"], [0.1111111111111111, \"#46039f\"], [0.2222222222222222, \"#7201a8\"], [0.3333333333333333, \"#9c179e\"], [0.4444444444444444, \"#bd3786\"], [0.5555555555555556, \"#d8576b\"], [0.6666666666666666, \"#ed7953\"], [0.7777777777777778, \"#fb9f3a\"], [0.8888888888888888, \"#fdca26\"], [1.0, \"#f0f921\"]], \"type\": \"contour\"}], \"contourcarpet\": [{\"colorbar\": {\"outlinewidth\": 0, \"ticks\": \"\"}, \"type\": \"contourcarpet\"}], \"heatmap\": [{\"colorbar\": {\"outlinewidth\": 0, \"ticks\": \"\"}, \"colorscale\": [[0.0, \"#0d0887\"], [0.1111111111111111, \"#46039f\"], [0.2222222222222222, \"#7201a8\"], [0.3333333333333333, \"#9c179e\"], [0.4444444444444444, \"#bd3786\"], [0.5555555555555556, \"#d8576b\"], [0.6666666666666666, \"#ed7953\"], [0.7777777777777778, \"#fb9f3a\"], [0.8888888888888888, \"#fdca26\"], [1.0, \"#f0f921\"]], \"type\": \"heatmap\"}], \"heatmapgl\": [{\"colorbar\": {\"outlinewidth\": 0, \"ticks\": \"\"}, \"colorscale\": [[0.0, \"#0d0887\"], [0.1111111111111111, \"#46039f\"], [0.2222222222222222, \"#7201a8\"], [0.3333333333333333, \"#9c179e\"], [0.4444444444444444, \"#bd3786\"], [0.5555555555555556, \"#d8576b\"], [0.6666666666666666, \"#ed7953\"], [0.7777777777777778, \"#fb9f3a\"], [0.8888888888888888, \"#fdca26\"], [1.0, \"#f0f921\"]], \"type\": \"heatmapgl\"}], \"histogram\": [{\"marker\": {\"colorbar\": {\"outlinewidth\": 0, \"ticks\": \"\"}}, \"type\": \"histogram\"}], \"histogram2d\": [{\"colorbar\": {\"outlinewidth\": 0, \"ticks\": \"\"}, \"colorscale\": [[0.0, \"#0d0887\"], [0.1111111111111111, \"#46039f\"], [0.2222222222222222, \"#7201a8\"], [0.3333333333333333, \"#9c179e\"], [0.4444444444444444, \"#bd3786\"], [0.5555555555555556, \"#d8576b\"], [0.6666666666666666, \"#ed7953\"], [0.7777777777777778, \"#fb9f3a\"], [0.8888888888888888, \"#fdca26\"], [1.0, \"#f0f921\"]], \"type\": \"histogram2d\"}], \"histogram2dcontour\": [{\"colorbar\": {\"outlinewidth\": 0, \"ticks\": \"\"}, \"colorscale\": [[0.0, \"#0d0887\"], [0.1111111111111111, \"#46039f\"], [0.2222222222222222, \"#7201a8\"], [0.3333333333333333, \"#9c179e\"], [0.4444444444444444, \"#bd3786\"], [0.5555555555555556, \"#d8576b\"], [0.6666666666666666, \"#ed7953\"], [0.7777777777777778, \"#fb9f3a\"], [0.8888888888888888, \"#fdca26\"], [1.0, \"#f0f921\"]], \"type\": \"histogram2dcontour\"}], \"mesh3d\": [{\"colorbar\": {\"outlinewidth\": 0, \"ticks\": \"\"}, \"type\": \"mesh3d\"}], \"parcoords\": [{\"line\": {\"colorbar\": {\"outlinewidth\": 0, \"ticks\": \"\"}}, \"type\": \"parcoords\"}], \"pie\": [{\"automargin\": true, \"type\": \"pie\"}], \"scatter\": [{\"marker\": {\"colorbar\": {\"outlinewidth\": 0, \"ticks\": \"\"}}, \"type\": \"scatter\"}], \"scatter3d\": [{\"line\": {\"colorbar\": {\"outlinewidth\": 0, \"ticks\": \"\"}}, \"marker\": {\"colorbar\": {\"outlinewidth\": 0, \"ticks\": \"\"}}, \"type\": \"scatter3d\"}], \"scattercarpet\": [{\"marker\": {\"colorbar\": {\"outlinewidth\": 0, \"ticks\": \"\"}}, \"type\": \"scattercarpet\"}], \"scattergeo\": [{\"marker\": {\"colorbar\": {\"outlinewidth\": 0, \"ticks\": \"\"}}, \"type\": \"scattergeo\"}], \"scattergl\": [{\"marker\": {\"colorbar\": {\"outlinewidth\": 0, \"ticks\": \"\"}}, \"type\": \"scattergl\"}], \"scattermapbox\": [{\"marker\": {\"colorbar\": {\"outlinewidth\": 0, \"ticks\": \"\"}}, \"type\": \"scattermapbox\"}], \"scatterpolar\": [{\"marker\": {\"colorbar\": {\"outlinewidth\": 0, \"ticks\": \"\"}}, \"type\": \"scatterpolar\"}], \"scatterpolargl\": [{\"marker\": {\"colorbar\": {\"outlinewidth\": 0, \"ticks\": \"\"}}, \"type\": \"scatterpolargl\"}], \"scatterternary\": [{\"marker\": {\"colorbar\": {\"outlinewidth\": 0, \"ticks\": \"\"}}, \"type\": \"scatterternary\"}], \"surface\": [{\"colorbar\": {\"outlinewidth\": 0, \"ticks\": \"\"}, \"colorscale\": [[0.0, \"#0d0887\"], [0.1111111111111111, \"#46039f\"], [0.2222222222222222, \"#7201a8\"], [0.3333333333333333, \"#9c179e\"], [0.4444444444444444, \"#bd3786\"], [0.5555555555555556, \"#d8576b\"], [0.6666666666666666, \"#ed7953\"], [0.7777777777777778, \"#fb9f3a\"], [0.8888888888888888, \"#fdca26\"], [1.0, \"#f0f921\"]], \"type\": \"surface\"}], \"table\": [{\"cells\": {\"fill\": {\"color\": \"#EBF0F8\"}, \"line\": {\"color\": \"white\"}}, \"header\": {\"fill\": {\"color\": \"#C8D4E3\"}, \"line\": {\"color\": \"white\"}}, \"type\": \"table\"}]}, \"layout\": {\"annotationdefaults\": {\"arrowcolor\": \"#2a3f5f\", \"arrowhead\": 0, \"arrowwidth\": 1}, \"coloraxis\": {\"colorbar\": {\"outlinewidth\": 0, \"ticks\": \"\"}}, \"colorscale\": {\"diverging\": [[0, \"#8e0152\"], [0.1, \"#c51b7d\"], [0.2, \"#de77ae\"], [0.3, \"#f1b6da\"], [0.4, \"#fde0ef\"], [0.5, \"#f7f7f7\"], [0.6, \"#e6f5d0\"], [0.7, \"#b8e186\"], [0.8, \"#7fbc41\"], [0.9, \"#4d9221\"], [1, \"#276419\"]], \"sequential\": [[0.0, \"#0d0887\"], [0.1111111111111111, \"#46039f\"], [0.2222222222222222, \"#7201a8\"], [0.3333333333333333, \"#9c179e\"], [0.4444444444444444, \"#bd3786\"], [0.5555555555555556, \"#d8576b\"], [0.6666666666666666, \"#ed7953\"], [0.7777777777777778, \"#fb9f3a\"], [0.8888888888888888, \"#fdca26\"], [1.0, \"#f0f921\"]], \"sequentialminus\": [[0.0, \"#0d0887\"], [0.1111111111111111, \"#46039f\"], [0.2222222222222222, \"#7201a8\"], [0.3333333333333333, \"#9c179e\"], [0.4444444444444444, \"#bd3786\"], [0.5555555555555556, \"#d8576b\"], [0.6666666666666666, \"#ed7953\"], [0.7777777777777778, \"#fb9f3a\"], [0.8888888888888888, \"#fdca26\"], [1.0, \"#f0f921\"]]}, \"colorway\": [\"#636efa\", \"#EF553B\", \"#00cc96\", \"#ab63fa\", \"#FFA15A\", \"#19d3f3\", \"#FF6692\", \"#B6E880\", \"#FF97FF\", \"#FECB52\"], \"font\": {\"color\": \"#2a3f5f\"}, \"geo\": {\"bgcolor\": \"white\", \"lakecolor\": \"white\", \"landcolor\": \"#E5ECF6\", \"showlakes\": true, \"showland\": true, \"subunitcolor\": \"white\"}, \"hoverlabel\": {\"align\": \"left\"}, \"hovermode\": \"closest\", \"mapbox\": {\"style\": \"light\"}, \"paper_bgcolor\": \"white\", \"plot_bgcolor\": \"#E5ECF6\", \"polar\": {\"angularaxis\": {\"gridcolor\": \"white\", \"linecolor\": \"white\", \"ticks\": \"\"}, \"bgcolor\": \"#E5ECF6\", \"radialaxis\": {\"gridcolor\": \"white\", \"linecolor\": \"white\", \"ticks\": \"\"}}, \"scene\": {\"xaxis\": {\"backgroundcolor\": \"#E5ECF6\", \"gridcolor\": \"white\", \"gridwidth\": 2, \"linecolor\": \"white\", \"showbackground\": true, \"ticks\": \"\", \"zerolinecolor\": \"white\"}, \"yaxis\": {\"backgroundcolor\": \"#E5ECF6\", \"gridcolor\": \"white\", \"gridwidth\": 2, \"linecolor\": \"white\", \"showbackground\": true, \"ticks\": \"\", \"zerolinecolor\": \"white\"}, \"zaxis\": {\"backgroundcolor\": \"#E5ECF6\", \"gridcolor\": \"white\", \"gridwidth\": 2, \"linecolor\": \"white\", \"showbackground\": true, \"ticks\": \"\", \"zerolinecolor\": \"white\"}}, \"shapedefaults\": {\"line\": {\"color\": \"#2a3f5f\"}}, \"ternary\": {\"aaxis\": {\"gridcolor\": \"white\", \"linecolor\": \"white\", \"ticks\": \"\"}, \"baxis\": {\"gridcolor\": \"white\", \"linecolor\": \"white\", \"ticks\": \"\"}, \"bgcolor\": \"#E5ECF6\", \"caxis\": {\"gridcolor\": \"white\", \"linecolor\": \"white\", \"ticks\": \"\"}}, \"title\": {\"x\": 0.05}, \"xaxis\": {\"automargin\": true, \"gridcolor\": \"white\", \"linecolor\": \"white\", \"ticks\": \"\", \"title\": {\"standoff\": 15}, \"zerolinecolor\": \"white\", \"zerolinewidth\": 2}, \"yaxis\": {\"automargin\": true, \"gridcolor\": \"white\", \"linecolor\": \"white\", \"ticks\": \"\", \"title\": {\"standoff\": 15}, \"zerolinecolor\": \"white\", \"zerolinewidth\": 2}}}, \"title\": {\"text\": \"Table-1: Categorization of Factors\", \"x\": 0.5}, \"width\": 800},\n",
              "                        {\"responsive\": true}\n",
              "                    ).then(function(){\n",
              "                            \n",
              "var gd = document.getElementById('0b1929e6-8c51-4a88-8b00-b73d995c363a');\n",
              "var x = new MutationObserver(function (mutations, observer) {{\n",
              "        var display = window.getComputedStyle(gd).display;\n",
              "        if (!display || display === 'none') {{\n",
              "            console.log([gd, 'removed!']);\n",
              "            Plotly.purge(gd);\n",
              "            observer.disconnect();\n",
              "        }}\n",
              "}});\n",
              "\n",
              "// Listen for the removal of the full notebook cells\n",
              "var notebookContainer = gd.closest('#notebook-container');\n",
              "if (notebookContainer) {{\n",
              "    x.observe(notebookContainer, {childList: true});\n",
              "}}\n",
              "\n",
              "// Listen for the clearing of the current output cell\n",
              "var outputEl = gd.closest('.output');\n",
              "if (outputEl) {{\n",
              "    x.observe(outputEl, {childList: true});\n",
              "}}\n",
              "\n",
              "                        })\n",
              "                };\n",
              "                \n",
              "            </script>\n",
              "        </div>\n",
              "</body>\n",
              "</html>"
            ]
          },
          "metadata": {
            "tags": []
          }
        }
      ]
    },
    {
      "cell_type": "markdown",
      "metadata": {
        "id": "H-xrZrWva9cq"
      },
      "source": [
        "As it can be seen from **Table-1**, we have defined a set of factors and have categorized them into the following sub-categories, namely:  \n",
        "1. Independent Factors\n",
        "2. Dependent Factors\n",
        "3. Extraneous Factors"
      ]
    },
    {
      "cell_type": "markdown",
      "metadata": {
        "id": "iSPVar02a-VI"
      },
      "source": [
        "**Independent Factors**: These are the variables which on manipulating, affects or impacts or brings about a change in some other factors. In our case we have considered the following factors as independent:  \n",
        "\n",
        "* Age\n",
        "* Gender\n",
        "* Professional Status\n",
        "* Smoking Addiction\n",
        "* Bed Linen\n",
        "* Room Temperature\n",
        "* Screen Time  \n",
        "\n",
        "These are considered as independent as changing any of these factors will bring about a change in the most important factor, which in our case is **Sleep**. Varying the independent factors tends to bring about the variation in the dependent factor which for now we consider as **Sleep**. For example, Changing the room temperature from 20&deg;C (Normal Temperature) to 40&deg;C (Hot) or 0&deg;C (Cold) can cause uneasyness and change the sleeping pattern. This can also be explained that some animals go in hibernation in cold weather and come out of hibernation in normal or hot weather.  \n",
        "\n",
        "**Dependent Factors**: These are the factors which get affected or influenced by the manipulation of the independent variables. As mentioned earlier, Sleep is a dependent factor but more than a factor, it is a super-set of factors which actually get affected thus changing this super-set eventually. This super-set consists of:  \n",
        "\n",
        "* Sleep And Health\n",
        "* Overall Fatigue\n",
        "\n",
        "Taking a clue from the previous example, changing the Room Temperature to 0&deg;C can affect the overall health of a person and thus affecting variables like Sleep Hours, Sleep Quality and Overall Fatigue.  \n",
        "\n",
        "It can also ge argued here that why **Health of an Individual** is a dependent factor and not an independent/extraneous factor because any change in the health changes sleep for that person. But the counter argument can be that the health of the individual is itself a dependent factor on room temperature (atleast in some of the cases). Therefore, even though in one of the cases it is an independent factor but in general it is also dependent. Hence, we consider this as a dependent factor for our study.  \n",
        "\n",
        "**Extraneous Factors**: These factors are the factors which cannot be controlled. Even after ensuring that the experiment being conducted among different groups is same with no differences and variations, extraneous factors can create certain difference which needs to be taken into consideration while experimenting or atleast not be ignored completely. In our case the following factors are extraneous:  \n",
        "\n",
        "* Family Size\n",
        "* Daily Habits\n",
        "* Mental Health (Depressed / Anxious / Scared)\n",
        "* Climate / Weather\n",
        "\n",
        "As an example, a depressed person tends to sleep more with low activity. On the other hand, a scared person tends to sleep less with low activity but a person in normal state will have a lot of activities and is tend to have a good sleep."
      ]
    },
    {
      "cell_type": "markdown",
      "metadata": {
        "id": "TVNv0-Z_l6Tf"
      },
      "source": [
        "* * *"
      ]
    },
    {
      "cell_type": "markdown",
      "metadata": {
        "id": "pS-h8V4Jl6Tf"
      },
      "source": [
        "#### Question 1.5\n",
        "Define the type of variables, measurements, scales for each factor you want to measure (including estimate of expected values) as a table."
      ]
    },
    {
      "cell_type": "markdown",
      "metadata": {
        "id": "IjUt84gml6Tf"
      },
      "source": [
        "#### Solution 1.5"
      ]
    },
    {
      "cell_type": "code",
      "metadata": {
        "id": "ZqWIpuWll6Tf"
      },
      "source": [
        "# Here we define various variables with their respective measurement scales \n",
        "\n",
        "# Preparing a dataframe with columns\n",
        "table_columns = ['Age',\n",
        "                 'Gender',\n",
        "                 'Number of Children',\n",
        "                 'Student Status',\n",
        "                 'Work Status',\n",
        "                 'Physical Exercise', \n",
        "                 'Last Meal',\n",
        "                 'Total Sleeping Hours',\n",
        "                 'Time Taken to Sleep',\n",
        "                 'Alcohol Consumption',\n",
        "                 'Medication',\n",
        "                 'Sleep Time', \n",
        "                 'Wakeup Time',\n",
        "                 'Difficulty in Sleep',\n",
        "                 'Sleep Interruption',\n",
        "                 'Sleep Satisfaction',\n",
        "                 'Emotional Quotient',\n",
        "                 'Depression',\n",
        "                 'Anxiety',\n",
        "                 'Negative Thoughts',\n",
        "                 'Smoking',\n",
        "                 'Smoking Period',\n",
        "                 'Cigarettes Consumed',\n",
        "                 'Smoking Improve Mental State',\n",
        "                 'Smoking Helps Sleep',\n",
        "                 'Craving to Smoke'];\n",
        "\n",
        "# Creating a dictionary for columnar values\n",
        "tabular_measurement_data = {};\n",
        "\n",
        "# Defining the Factors as Columnar Values\n",
        "tabular_measurement_data[\"Factor\"] = ['Age',\n",
        "                                      'Gender',\n",
        "                                      'Family Size',\n",
        "                                      'Professional Status',\n",
        "                                      'Professional Status',\n",
        "                                      'Fatigue',\n",
        "                                      'Daily Habits',\n",
        "                                      'Daily Habits',\n",
        "                                      'Daily Habits',\n",
        "                                      'Sleep And Health',\n",
        "                                      'Sleep And Health',\n",
        "                                      'Sleep And Health',\n",
        "                                      'Sleep And Health',\n",
        "                                      'Sleep And Health',\n",
        "                                      'Sleep And Health',\n",
        "                                      'Sleep And Health',\n",
        "                                      'Mental Health',\n",
        "                                      'Mental Health',\n",
        "                                      'Mental Health',\n",
        "                                      'Mental Health',\n",
        "                                      'Smoking Addiction',\n",
        "                                      'Smoking Addiction',\n",
        "                                      'Smoking Addiction',\n",
        "                                      'Smoking Addiction',\n",
        "                                      'Smoking Addiction',\n",
        "                                      'Smoking Addiction']\n",
        "\n",
        "# Data for variables\n",
        "tabular_measurement_data[\"Variable\"] = ['Age',\n",
        "                                        'Gender',\n",
        "                                        'Number of Children',\n",
        "                                        'Student Status',\n",
        "                                        'Work Status',\n",
        "                                        'Physical Exercise', \n",
        "                                        'Last Meal',\n",
        "                                        'Total Sleeping Hours',\n",
        "                                        'Time Taken to Sleep',\n",
        "                                        'Alcohol Consumption',\n",
        "                                        'Medication',\n",
        "                                        'Sleep Time', \n",
        "                                        'Wakeup Time',\n",
        "                                        'Difficulty in Sleep',\n",
        "                                        'Sleep Interruption',\n",
        "                                        'Sleep Satisfaction',\n",
        "                                        'Emotional Quotient',\n",
        "                                        'Depression',\n",
        "                                        'Anxiety',\n",
        "                                        'Negative Thoughts',\n",
        "                                        'Smoking',\n",
        "                                        'Smoking Period',\n",
        "                                        'Cigarettes Consumed',\n",
        "                                        'Smoking Improve Mental State',\n",
        "                                        'Smoking Helps Sleep',\n",
        "                                        'Craving to Smoke'];\n",
        "\n",
        "# Data for variable measurement\n",
        "tabular_measurement_data[\"Level of Measurement (Scale)\"] = [\n",
        "    'Ratio',\n",
        "    'Nominal',\n",
        "    'Ratio',\n",
        "    'Nominal', \n",
        "    'Nominal',\n",
        "    'Ratio (5-point Likert Scale)', \n",
        "    'Ratio',\n",
        "    'St. Mary ́s Hospital Sleep Questionnaire Scale',\n",
        "    'St. Mary ́s Hospital Sleep Questionnaire Scale',\n",
        "    'Ratio',\n",
        "    'Nominal',\n",
        "    'St. Mary ́s Hospital Sleep Questionnaire Scale', \n",
        "    'St. Mary ́s Hospital Sleep Questionnaire Scale', \n",
        "    'Sleep Quality Scale',\n",
        "    'Sleep Quality Scale',\n",
        "    'Sleep Quality Scale',\n",
        "    'Montgomery and Asberg Depression Rating Scale (MADRS)',\n",
        "    'Montgomery and Asberg Depression Rating Scale (MADRS)',\n",
        "    'Montgomery and Asberg Depression Rating Scale (MADRS)',\n",
        "    'Montgomery and Asberg Depression Rating Scale (MADRS)',\n",
        "    'Nominal',\n",
        "    'Ratio',\n",
        "    'Ratio',\n",
        "    'Smoking Consequences Questionnaire Scale',\n",
        "    'Smoking Consequences Questionnaire Scale',\n",
        "    'Smoking Consequences Questionnaire Scale'];\n",
        "\n",
        "# Data for expected values of the variable\n",
        "tabular_measurement_data[\"Expected Value(s)\"] = [\n",
        "    '20-35',\n",
        "    'Male/Female',\n",
        "    '0-10',\n",
        "    'Yes/No',\n",
        "    'Yes/No',\n",
        "    'Rarely/Often/Everyday', \n",
        "    '0 - 5 Hours',\n",
        "    '0 - 15 Hours',\n",
        "    '0 - 4 Hours',\n",
        "    'Never/Rarely/Often/Always',\n",
        "    'Yes/No',\n",
        "    '0:00 - 23:59 Hours', \n",
        "    '0:00 - 23:59 Hours',\n",
        "    'Rarely/Often/Always',\n",
        "    'Never/Rarely/Often/Always',\n",
        "    'Never/Rarely/Often/Always',\n",
        "    'Very Unlikely/Somewhat Unlikely/Neutral/Somewhat Likely/Very Likely',\n",
        "    'Very Unlikely/Somewhat Unlikely/Neutral/Somewhat Likely/Very Likely',\n",
        "    'Very Unlikely/Somewhat Unlikely/Neutral/Somewhat Likely/Very Likely',\n",
        "    'Very Unlikely/Somewhat Unlikely/Neutral/Somewhat Likely/Very Likely',\n",
        "    'Yes/No',\n",
        "    '0 - 20 Years',\n",
        "    '0-100 Cigarettes',\n",
        "    'Completely Disagree/Somewhat Disagree/Neutral/Somewhat Agree/Completely Agree',\n",
        "    'Completely Disagree/Somewhat Disagree/Neutral/Somewhat Agree/Completely Agree',\n",
        "    'Completely Disagree/Somewhat Disagree/Neutral/Somewhat Agree/Completely Agree'];\n",
        "\n",
        "# Converting dictionary to data frame\n",
        "measurement_table = pd.DataFrame.from_dict(tabular_measurement_data, columns=table_columns, orient='index')"
      ],
      "execution_count": null,
      "outputs": []
    },
    {
      "cell_type": "code",
      "metadata": {
        "id": "amf2oByf4Bfd"
      },
      "source": [
        "# Using plotly to plot the table\n",
        "\n",
        "measurement_table_plot = go.Figure(data=[go.Table(header=dict(values=list(measurement_table.transpose().columns),\n",
        "                                                         align='left',\n",
        "                                                         line_color='black',\n",
        "                                                         fill_color='lightgray',\n",
        "                                                         font=dict(size=14),\n",
        "                                                         height=30),\n",
        "                                             cells=dict(values=measurement_table,\n",
        "                                                        align='left',\n",
        "                                                        line_color='black',\n",
        "                                                        fill=dict(color=['lightgray', 'white', 'white', 'white']),\n",
        "                                                        font=dict(size=[14, 12, 12, 12]),\n",
        "                                                        height=30))]);\n",
        "measurement_table_plot.update_layout(width=950,\n",
        "                                height=1400,\n",
        "                                title_text=\"Table-2: Variables and Measurement Scales with Expected Values\",\n",
        "                                title_x=0.5);"
      ],
      "execution_count": null,
      "outputs": []
    },
    {
      "cell_type": "code",
      "metadata": {
        "colab": {
          "base_uri": "https://localhost:8080/",
          "height": 1000
        },
        "id": "sKvxXp9D4EGW",
        "outputId": "0f5dbf37-4962-4bc4-80f6-196da0a5b412"
      },
      "source": [
        "# Displaying the Table\n",
        "\n",
        "measurement_table_plot.show()"
      ],
      "execution_count": null,
      "outputs": [
        {
          "output_type": "display_data",
          "data": {
            "text/html": [
              "<html>\n",
              "<head><meta charset=\"utf-8\" /></head>\n",
              "<body>\n",
              "    <div>\n",
              "            <script src=\"https://cdnjs.cloudflare.com/ajax/libs/mathjax/2.7.5/MathJax.js?config=TeX-AMS-MML_SVG\"></script><script type=\"text/javascript\">if (window.MathJax) {MathJax.Hub.Config({SVG: {font: \"STIX-Web\"}});}</script>\n",
              "                <script type=\"text/javascript\">window.PlotlyConfig = {MathJaxConfig: 'local'};</script>\n",
              "        <script src=\"https://cdn.plot.ly/plotly-latest.min.js\"></script>    \n",
              "            <div id=\"b7618763-87cc-4a0c-aa92-257a3a09e980\" class=\"plotly-graph-div\" style=\"height:1400px; width:950px;\"></div>\n",
              "            <script type=\"text/javascript\">\n",
              "                \n",
              "                    window.PLOTLYENV=window.PLOTLYENV || {};\n",
              "                    \n",
              "                if (document.getElementById(\"b7618763-87cc-4a0c-aa92-257a3a09e980\")) {\n",
              "                    Plotly.newPlot(\n",
              "                        'b7618763-87cc-4a0c-aa92-257a3a09e980',\n",
              "                        [{\"cells\": {\"align\": \"left\", \"fill\": {\"color\": [\"lightgray\", \"white\", \"white\", \"white\"]}, \"font\": {\"size\": [14, 12, 12, 12]}, \"height\": 30, \"line\": {\"color\": \"black\"}, \"values\": [[\"Age\", \"Gender\", \"Family Size\", \"Professional Status\", \"Professional Status\", \"Fatigue\", \"Daily Habits\", \"Daily Habits\", \"Daily Habits\", \"Sleep And Health\", \"Sleep And Health\", \"Sleep And Health\", \"Sleep And Health\", \"Sleep And Health\", \"Sleep And Health\", \"Sleep And Health\", \"Mental Health\", \"Mental Health\", \"Mental Health\", \"Mental Health\", \"Smoking Addiction\", \"Smoking Addiction\", \"Smoking Addiction\", \"Smoking Addiction\", \"Smoking Addiction\", \"Smoking Addiction\"], [\"Age\", \"Gender\", \"Number of Children\", \"Student Status\", \"Work Status\", \"Physical Exercise\", \"Last Meal\", \"Total Sleeping Hours\", \"Time Taken to Sleep\", \"Alcohol Consumption\", \"Medication\", \"Sleep Time\", \"Wakeup Time\", \"Difficulty in Sleep\", \"Sleep Interruption\", \"Sleep Satisfaction\", \"Emotional Quotient\", \"Depression\", \"Anxiety\", \"Negative Thoughts\", \"Smoking\", \"Smoking Period\", \"Cigarettes Consumed\", \"Smoking Improve Mental State\", \"Smoking Helps Sleep\", \"Craving to Smoke\"], [\"Ratio\", \"Nominal\", \"Ratio\", \"Nominal\", \"Nominal\", \"Ratio (5-point Likert Scale)\", \"Ratio\", \"St. Mary \\u0301s Hospital Sleep Questionnaire Scale\", \"St. Mary \\u0301s Hospital Sleep Questionnaire Scale\", \"Ratio\", \"Nominal\", \"St. Mary \\u0301s Hospital Sleep Questionnaire Scale\", \"St. Mary \\u0301s Hospital Sleep Questionnaire Scale\", \"Sleep Quality Scale\", \"Sleep Quality Scale\", \"Sleep Quality Scale\", \"Montgomery and Asberg Depression Rating Scale (MADRS)\", \"Montgomery and Asberg Depression Rating Scale (MADRS)\", \"Montgomery and Asberg Depression Rating Scale (MADRS)\", \"Montgomery and Asberg Depression Rating Scale (MADRS)\", \"Nominal\", \"Ratio\", \"Ratio\", \"Smoking Consequences Questionnaire Scale\", \"Smoking Consequences Questionnaire Scale\", \"Smoking Consequences Questionnaire Scale\"], [\"20-35\", \"Male/Female\", \"0-10\", \"Yes/No\", \"Yes/No\", \"Rarely/Often/Everyday\", \"0 - 5 Hours\", \"0 - 15 Hours\", \"0 - 4 Hours\", \"Never/Rarely/Often/Always\", \"Yes/No\", \"0:00 - 23:59 Hours\", \"0:00 - 23:59 Hours\", \"Rarely/Often/Always\", \"Never/Rarely/Often/Always\", \"Never/Rarely/Often/Always\", \"Very Unlikely/Somewhat Unlikely/Neutral/Somewhat Likely/Very Likely\", \"Very Unlikely/Somewhat Unlikely/Neutral/Somewhat Likely/Very Likely\", \"Very Unlikely/Somewhat Unlikely/Neutral/Somewhat Likely/Very Likely\", \"Very Unlikely/Somewhat Unlikely/Neutral/Somewhat Likely/Very Likely\", \"Yes/No\", \"0 - 20 Years\", \"0-100 Cigarettes\", \"Completely Disagree/Somewhat Disagree/Neutral/Somewhat Agree/Completely Agree\", \"Completely Disagree/Somewhat Disagree/Neutral/Somewhat Agree/Completely Agree\", \"Completely Disagree/Somewhat Disagree/Neutral/Somewhat Agree/Completely Agree\"]]}, \"header\": {\"align\": \"left\", \"fill\": {\"color\": \"lightgray\"}, \"font\": {\"size\": 14}, \"height\": 30, \"line\": {\"color\": \"black\"}, \"values\": [\"Factor\", \"Variable\", \"Level of Measurement (Scale)\", \"Expected Value(s)\"]}, \"type\": \"table\"}],\n",
              "                        {\"height\": 1400, \"template\": {\"data\": {\"bar\": [{\"error_x\": {\"color\": \"#2a3f5f\"}, \"error_y\": {\"color\": \"#2a3f5f\"}, \"marker\": {\"line\": {\"color\": \"#E5ECF6\", \"width\": 0.5}}, \"type\": \"bar\"}], \"barpolar\": [{\"marker\": {\"line\": {\"color\": \"#E5ECF6\", \"width\": 0.5}}, \"type\": \"barpolar\"}], \"carpet\": [{\"aaxis\": {\"endlinecolor\": \"#2a3f5f\", \"gridcolor\": \"white\", \"linecolor\": \"white\", \"minorgridcolor\": \"white\", \"startlinecolor\": \"#2a3f5f\"}, \"baxis\": {\"endlinecolor\": \"#2a3f5f\", \"gridcolor\": \"white\", \"linecolor\": \"white\", \"minorgridcolor\": \"white\", \"startlinecolor\": \"#2a3f5f\"}, \"type\": \"carpet\"}], \"choropleth\": [{\"colorbar\": {\"outlinewidth\": 0, \"ticks\": \"\"}, \"type\": \"choropleth\"}], \"contour\": [{\"colorbar\": {\"outlinewidth\": 0, \"ticks\": \"\"}, \"colorscale\": [[0.0, \"#0d0887\"], [0.1111111111111111, \"#46039f\"], [0.2222222222222222, \"#7201a8\"], [0.3333333333333333, \"#9c179e\"], [0.4444444444444444, \"#bd3786\"], [0.5555555555555556, \"#d8576b\"], [0.6666666666666666, \"#ed7953\"], [0.7777777777777778, \"#fb9f3a\"], [0.8888888888888888, \"#fdca26\"], [1.0, \"#f0f921\"]], \"type\": \"contour\"}], \"contourcarpet\": [{\"colorbar\": {\"outlinewidth\": 0, \"ticks\": \"\"}, \"type\": \"contourcarpet\"}], \"heatmap\": [{\"colorbar\": {\"outlinewidth\": 0, \"ticks\": \"\"}, \"colorscale\": [[0.0, \"#0d0887\"], [0.1111111111111111, \"#46039f\"], [0.2222222222222222, \"#7201a8\"], [0.3333333333333333, \"#9c179e\"], [0.4444444444444444, \"#bd3786\"], [0.5555555555555556, \"#d8576b\"], [0.6666666666666666, \"#ed7953\"], [0.7777777777777778, \"#fb9f3a\"], [0.8888888888888888, \"#fdca26\"], [1.0, \"#f0f921\"]], \"type\": \"heatmap\"}], \"heatmapgl\": [{\"colorbar\": {\"outlinewidth\": 0, \"ticks\": \"\"}, \"colorscale\": [[0.0, \"#0d0887\"], [0.1111111111111111, \"#46039f\"], [0.2222222222222222, \"#7201a8\"], [0.3333333333333333, \"#9c179e\"], [0.4444444444444444, \"#bd3786\"], [0.5555555555555556, \"#d8576b\"], [0.6666666666666666, \"#ed7953\"], [0.7777777777777778, \"#fb9f3a\"], [0.8888888888888888, \"#fdca26\"], [1.0, \"#f0f921\"]], \"type\": \"heatmapgl\"}], \"histogram\": [{\"marker\": {\"colorbar\": {\"outlinewidth\": 0, \"ticks\": \"\"}}, \"type\": \"histogram\"}], \"histogram2d\": [{\"colorbar\": {\"outlinewidth\": 0, \"ticks\": \"\"}, \"colorscale\": [[0.0, \"#0d0887\"], [0.1111111111111111, \"#46039f\"], [0.2222222222222222, \"#7201a8\"], [0.3333333333333333, \"#9c179e\"], [0.4444444444444444, \"#bd3786\"], [0.5555555555555556, \"#d8576b\"], [0.6666666666666666, \"#ed7953\"], [0.7777777777777778, \"#fb9f3a\"], [0.8888888888888888, \"#fdca26\"], [1.0, \"#f0f921\"]], \"type\": \"histogram2d\"}], \"histogram2dcontour\": [{\"colorbar\": {\"outlinewidth\": 0, \"ticks\": \"\"}, \"colorscale\": [[0.0, \"#0d0887\"], [0.1111111111111111, \"#46039f\"], [0.2222222222222222, \"#7201a8\"], [0.3333333333333333, \"#9c179e\"], [0.4444444444444444, \"#bd3786\"], [0.5555555555555556, \"#d8576b\"], [0.6666666666666666, \"#ed7953\"], [0.7777777777777778, \"#fb9f3a\"], [0.8888888888888888, \"#fdca26\"], [1.0, \"#f0f921\"]], \"type\": \"histogram2dcontour\"}], \"mesh3d\": [{\"colorbar\": {\"outlinewidth\": 0, \"ticks\": \"\"}, \"type\": \"mesh3d\"}], \"parcoords\": [{\"line\": {\"colorbar\": {\"outlinewidth\": 0, \"ticks\": \"\"}}, \"type\": \"parcoords\"}], \"pie\": [{\"automargin\": true, \"type\": \"pie\"}], \"scatter\": [{\"marker\": {\"colorbar\": {\"outlinewidth\": 0, \"ticks\": \"\"}}, \"type\": \"scatter\"}], \"scatter3d\": [{\"line\": {\"colorbar\": {\"outlinewidth\": 0, \"ticks\": \"\"}}, \"marker\": {\"colorbar\": {\"outlinewidth\": 0, \"ticks\": \"\"}}, \"type\": \"scatter3d\"}], \"scattercarpet\": [{\"marker\": {\"colorbar\": {\"outlinewidth\": 0, \"ticks\": \"\"}}, \"type\": \"scattercarpet\"}], \"scattergeo\": [{\"marker\": {\"colorbar\": {\"outlinewidth\": 0, \"ticks\": \"\"}}, \"type\": \"scattergeo\"}], \"scattergl\": [{\"marker\": {\"colorbar\": {\"outlinewidth\": 0, \"ticks\": \"\"}}, \"type\": \"scattergl\"}], \"scattermapbox\": [{\"marker\": {\"colorbar\": {\"outlinewidth\": 0, \"ticks\": \"\"}}, \"type\": \"scattermapbox\"}], \"scatterpolar\": [{\"marker\": {\"colorbar\": {\"outlinewidth\": 0, \"ticks\": \"\"}}, \"type\": \"scatterpolar\"}], \"scatterpolargl\": [{\"marker\": {\"colorbar\": {\"outlinewidth\": 0, \"ticks\": \"\"}}, \"type\": \"scatterpolargl\"}], \"scatterternary\": [{\"marker\": {\"colorbar\": {\"outlinewidth\": 0, \"ticks\": \"\"}}, \"type\": \"scatterternary\"}], \"surface\": [{\"colorbar\": {\"outlinewidth\": 0, \"ticks\": \"\"}, \"colorscale\": [[0.0, \"#0d0887\"], [0.1111111111111111, \"#46039f\"], [0.2222222222222222, \"#7201a8\"], [0.3333333333333333, \"#9c179e\"], [0.4444444444444444, \"#bd3786\"], [0.5555555555555556, \"#d8576b\"], [0.6666666666666666, \"#ed7953\"], [0.7777777777777778, \"#fb9f3a\"], [0.8888888888888888, \"#fdca26\"], [1.0, \"#f0f921\"]], \"type\": \"surface\"}], \"table\": [{\"cells\": {\"fill\": {\"color\": \"#EBF0F8\"}, \"line\": {\"color\": \"white\"}}, \"header\": {\"fill\": {\"color\": \"#C8D4E3\"}, \"line\": {\"color\": \"white\"}}, \"type\": \"table\"}]}, \"layout\": {\"annotationdefaults\": {\"arrowcolor\": \"#2a3f5f\", \"arrowhead\": 0, \"arrowwidth\": 1}, \"coloraxis\": {\"colorbar\": {\"outlinewidth\": 0, \"ticks\": \"\"}}, \"colorscale\": {\"diverging\": [[0, \"#8e0152\"], [0.1, \"#c51b7d\"], [0.2, \"#de77ae\"], [0.3, \"#f1b6da\"], [0.4, \"#fde0ef\"], [0.5, \"#f7f7f7\"], [0.6, \"#e6f5d0\"], [0.7, \"#b8e186\"], [0.8, \"#7fbc41\"], [0.9, \"#4d9221\"], [1, \"#276419\"]], \"sequential\": [[0.0, \"#0d0887\"], [0.1111111111111111, \"#46039f\"], [0.2222222222222222, \"#7201a8\"], [0.3333333333333333, \"#9c179e\"], [0.4444444444444444, \"#bd3786\"], [0.5555555555555556, \"#d8576b\"], [0.6666666666666666, \"#ed7953\"], [0.7777777777777778, \"#fb9f3a\"], [0.8888888888888888, \"#fdca26\"], [1.0, \"#f0f921\"]], \"sequentialminus\": [[0.0, \"#0d0887\"], [0.1111111111111111, \"#46039f\"], [0.2222222222222222, \"#7201a8\"], [0.3333333333333333, \"#9c179e\"], [0.4444444444444444, \"#bd3786\"], [0.5555555555555556, \"#d8576b\"], [0.6666666666666666, \"#ed7953\"], [0.7777777777777778, \"#fb9f3a\"], [0.8888888888888888, \"#fdca26\"], [1.0, \"#f0f921\"]]}, \"colorway\": [\"#636efa\", \"#EF553B\", \"#00cc96\", \"#ab63fa\", \"#FFA15A\", \"#19d3f3\", \"#FF6692\", \"#B6E880\", \"#FF97FF\", \"#FECB52\"], \"font\": {\"color\": \"#2a3f5f\"}, \"geo\": {\"bgcolor\": \"white\", \"lakecolor\": \"white\", \"landcolor\": \"#E5ECF6\", \"showlakes\": true, \"showland\": true, \"subunitcolor\": \"white\"}, \"hoverlabel\": {\"align\": \"left\"}, \"hovermode\": \"closest\", \"mapbox\": {\"style\": \"light\"}, \"paper_bgcolor\": \"white\", \"plot_bgcolor\": \"#E5ECF6\", \"polar\": {\"angularaxis\": {\"gridcolor\": \"white\", \"linecolor\": \"white\", \"ticks\": \"\"}, \"bgcolor\": \"#E5ECF6\", \"radialaxis\": {\"gridcolor\": \"white\", \"linecolor\": \"white\", \"ticks\": \"\"}}, \"scene\": {\"xaxis\": {\"backgroundcolor\": \"#E5ECF6\", \"gridcolor\": \"white\", \"gridwidth\": 2, \"linecolor\": \"white\", \"showbackground\": true, \"ticks\": \"\", \"zerolinecolor\": \"white\"}, \"yaxis\": {\"backgroundcolor\": \"#E5ECF6\", \"gridcolor\": \"white\", \"gridwidth\": 2, \"linecolor\": \"white\", \"showbackground\": true, \"ticks\": \"\", \"zerolinecolor\": \"white\"}, \"zaxis\": {\"backgroundcolor\": \"#E5ECF6\", \"gridcolor\": \"white\", \"gridwidth\": 2, \"linecolor\": \"white\", \"showbackground\": true, \"ticks\": \"\", \"zerolinecolor\": \"white\"}}, \"shapedefaults\": {\"line\": {\"color\": \"#2a3f5f\"}}, \"ternary\": {\"aaxis\": {\"gridcolor\": \"white\", \"linecolor\": \"white\", \"ticks\": \"\"}, \"baxis\": {\"gridcolor\": \"white\", \"linecolor\": \"white\", \"ticks\": \"\"}, \"bgcolor\": \"#E5ECF6\", \"caxis\": {\"gridcolor\": \"white\", \"linecolor\": \"white\", \"ticks\": \"\"}}, \"title\": {\"x\": 0.05}, \"xaxis\": {\"automargin\": true, \"gridcolor\": \"white\", \"linecolor\": \"white\", \"ticks\": \"\", \"title\": {\"standoff\": 15}, \"zerolinecolor\": \"white\", \"zerolinewidth\": 2}, \"yaxis\": {\"automargin\": true, \"gridcolor\": \"white\", \"linecolor\": \"white\", \"ticks\": \"\", \"title\": {\"standoff\": 15}, \"zerolinecolor\": \"white\", \"zerolinewidth\": 2}}}, \"title\": {\"text\": \"Table-2: Variables and Measurement Scales with Expected Values\", \"x\": 0.5}, \"width\": 950},\n",
              "                        {\"responsive\": true}\n",
              "                    ).then(function(){\n",
              "                            \n",
              "var gd = document.getElementById('b7618763-87cc-4a0c-aa92-257a3a09e980');\n",
              "var x = new MutationObserver(function (mutations, observer) {{\n",
              "        var display = window.getComputedStyle(gd).display;\n",
              "        if (!display || display === 'none') {{\n",
              "            console.log([gd, 'removed!']);\n",
              "            Plotly.purge(gd);\n",
              "            observer.disconnect();\n",
              "        }}\n",
              "}});\n",
              "\n",
              "// Listen for the removal of the full notebook cells\n",
              "var notebookContainer = gd.closest('#notebook-container');\n",
              "if (notebookContainer) {{\n",
              "    x.observe(notebookContainer, {childList: true});\n",
              "}}\n",
              "\n",
              "// Listen for the clearing of the current output cell\n",
              "var outputEl = gd.closest('.output');\n",
              "if (outputEl) {{\n",
              "    x.observe(outputEl, {childList: true});\n",
              "}}\n",
              "\n",
              "                        })\n",
              "                };\n",
              "                \n",
              "            </script>\n",
              "        </div>\n",
              "</body>\n",
              "</html>"
            ]
          },
          "metadata": {
            "tags": []
          }
        }
      ]
    },
    {
      "cell_type": "markdown",
      "metadata": {
        "id": "cKD8BOVz4F-x"
      },
      "source": [
        "In **Table-2**, we define the variables along with the Scales of Measurement and its expected values. Our questionnaire uses a mix of Standardised and Adhoc Scales and Measures. The set of Standardised scales used are as below:  \n",
        "\n",
        "- Smoking Consequences Questionnaire (SCQ - Brandon et. al, 1991)\n",
        "- Sleep Quality Scale (SQS - Yi, H. et. al, 2006)\n",
        "- St. Mary ́s Hospital Sleep Questionnaire (Ellis BW. Sleep, 1981)  \n",
        "- Montgomery and Asberg Depression Rating Scale (MADRS)  \n",
        "\n",
        "**Smoking Consequences Questionnaire**: The Smoking Consequences Questionnaire (SCQ) was developed to assess smoking-related outcome expectancies among smokers and nonsmokers. Here we have used a version specific for Adults, SCQ-A.  \n",
        "\n",
        "**Sleep Quality Scale**: the SQS evaluates six domains of sleep quality: daytime symptoms, restoration after sleep, problems initiating and maintaining sleep, difficulty waking, and sleep satisfaction.  \n",
        "\n",
        "**St. Mary's Hospital Sleep Questionnaire**: A systematic sleep questionnaire, devised for assessing the previous night's sleep of a subject. It has been designed for repeated use. It is used to assess the overall health of the subject.  \n",
        "\n",
        "**Montgomery and Asberg Depression Rating Scale**: The rating based on a clinical interview moving from broadly phrased questions about symptoms to more detailed ones which allow a precise rating of severity.  \n",
        "\n",
        "We have tried to merge these scales togethor and take only the essential questions and scaling metrics which deemed fit for our experiment and study. Also, we have altered the scaling language as our population sample was not trained on what and how to answer the questionnare. Thus, making it much easier to understand.  \n",
        "\n",
        "Along with this, we have used some AdHoc Questions. This is done to get some exact data which could be measured. This also helps us maintain the neutrality of the questionnaire which is necessary so that the objective of the questionnaire is not revealed and the participants remain honest while answering the questions thus removing any bias."
      ]
    },
    {
      "cell_type": "markdown",
      "metadata": {
        "id": "X3okaQSXl6Tg"
      },
      "source": [
        "* * *"
      ]
    },
    {
      "cell_type": "markdown",
      "metadata": {
        "id": "bdAxI4NNl6Tg"
      },
      "source": [
        "#### Question 1.6\n",
        "Design a questionnaire: Include questions for the variables gender, hours of sleep per night and your variable. "
      ]
    },
    {
      "cell_type": "markdown",
      "metadata": {
        "id": "irhZPS-fl6Tg"
      },
      "source": [
        "#### Solution 1.6"
      ]
    },
    {
      "cell_type": "markdown",
      "metadata": {
        "id": "BRHGr3WcgGNE"
      },
      "source": [
        "Using the above mentioned Standardised Scales and the AdHoc Questions for direct values, we have designed a questionnaire having **5 distinct parts** as below:  \n",
        "\n",
        "1. Introduction\n",
        "2. General Habits\n",
        "3. Sleeping\n",
        "4. Emotional State\n",
        "5. Smoking  \n",
        "\n",
        "**Introduction:** This section takes the basic information of the participant. The most important variable is the **Gender** which can be a differentiating factor in the overall sleep patterns. This section sets up the foundation for the overall questionnaire. It has the following questions:  \n",
        "\n",
        "1. How old are you?\n",
        "2. What is your gender?\n",
        "3. How many children do you have?\n",
        "4. Do you study?\n",
        "5. Do you work?\n",
        "\n",
        "**General Habits:** This section contains two important factors, **Physical Exercise**, **Drinking Habits** as well as **Prescribed Medications**. It has following questions:  \n",
        "\n",
        "6. How often do you exercise in a week?\n",
        "7. How often do you watch the news?\n",
        "8. How many litres of water do you drink per day? \n",
        "9. How many hours before sleep is your last meal?\n",
        "10. Are there any medications prescribed for you?\n",
        "11. How much do you usually drink (alcohol)?\n",
        "12. Please state which of the following activities do you usually do just before you go off to sleep?  \n",
        "\n",
        "**Sleeping:** As described above, this super-set contains the most important differentiating factors which impacts the overall sleep. Factors like **Bed Time**, **Wakeup Time** and overall **Sleeping Hours**. It has the following questions:  \n",
        "\n",
        "13. At what time do you usually fall asleep?\n",
        "14. At what time do you usually get up in the morning?\n",
        "15. I have difficulty falling asleep?\n",
        "16. I wake up in the middle of the night\n",
        "17. I feel refreshed after sleep\n",
        "18. I am satisfied with my sleep\n",
        "19. How many hours do you sleep? (Hours)\n",
        "20. How long does it take you to fall asleep?  (Hours)  \n",
        "\n",
        "**Emotional State:** This is another important factor which is considered to have a lasting impact on the overall sleeping patterns of an individual. **Anxiety**, **Depression** and **Random Thoughts** can have short term or long term impact on an individual. It has the following questions:  \n",
        "\n",
        "21. I am a sentimental person\n",
        "22. I am often worried about the future \n",
        "23. I think I am experiencing depression\n",
        "24. I don't fully enjoy happy moments\n",
        "25. I think I suffer from anxiety\n",
        "26. How likely you have negative thoughts while trying to fall asleep?\n",
        "27. Do you smoke?  \n",
        "\n",
        "**Smoking:** And finally, this is the variable/factor which we have chosen which could also have a lasting impact on the overall health and thus sleep of an individual. It has the following questions:  \n",
        "\n",
        "28. How many years have you been smoking?\n",
        "29. How many cigarettes do you usually smoke during the week?\n",
        "30. Cigarettes help me deal with anxiety or worry\n",
        "31. I sleep better when I smoke before going to bed\n",
        "32. How likely are you to smoke seeing someone smoke?  \n",
        "\n",
        "This could also be seen through this url:  \n",
        "https://docs.google.com/forms/d/e/1FAIpQLSeSStbqAtYVENRcf8tFnGXK-Kl4sXJd3PnNjddRbvwWFPKIfg/viewform?usp=sf_link"
      ]
    },
    {
      "cell_type": "markdown",
      "metadata": {
        "id": "1QK1K1HOl6Tj"
      },
      "source": [
        "* * *"
      ]
    },
    {
      "cell_type": "markdown",
      "metadata": {
        "id": "EjXUi4EUl6Tj"
      },
      "source": [
        "#### Question 1.7\n",
        "Estimate validity and reliability (a written explanation is sufficient)."
      ]
    },
    {
      "cell_type": "markdown",
      "metadata": {
        "id": "zmW-4ivHl6Tj"
      },
      "source": [
        "#### Solution 1.7"
      ]
    },
    {
      "cell_type": "markdown",
      "metadata": {
        "id": "z41eD9WKmYZw"
      },
      "source": [
        "We assume through this questionnaire that, this research will help us provide answers for the chosen variable, which is to determine the sleeping patterns among males and females and how smoking affects sleeping patterns.\n",
        "\n",
        "**Validity:** Here we are targetting people from **Age Group of 20 - 35 years**, which is considered to have the least illnesses. Also, people in this age group are considered to be most active. Thus, any differences in the sleep for both males and females in this age-group could be generalised to other age groups as well. The 5 different sections try to capture the balanced coverage of the issue using adequate questions.  \n",
        "\n",
        "Also, we try to keep the follwoing **Controlled Variable**:  \n",
        "\n",
        "* Age (20 - 35 Years)\n",
        "* Weather / Climate (Targetting people only from a specific region)\n",
        "* Family Size (People with no children)  \n",
        "  \n",
        "Keeping these variables constant provide us a lot more consistency and uniformity as this **reduces** the amount of **Extraneous Factors** significantly.  \n",
        "\n",
        "**Reliability:** We consider this questionnaire reliable as more than 90% of the questions will produce the same result every time this is asked, irrespective of the condition in which a person is answering these questions. Apart from this, most of the questions asked are standard questions which have been tried and tested in various previous studies. Thus, increasing our overall confidence on this experiment."
      ]
    },
    {
      "cell_type": "markdown",
      "metadata": {
        "id": "X4kzqkTsl6Tj"
      },
      "source": [
        "* * *\n",
        "* * *"
      ]
    },
    {
      "cell_type": "markdown",
      "metadata": {
        "id": "nWld6QoMl6Tk"
      },
      "source": [
        "#### Task 2 **[25 points] Conduct**\n",
        "1. Set up a protocol and define testing procedures (How are you going to approach people? What are you telling them? What tool for collecting answers are you using?)\n",
        "2. Make a small pilot study. What do you need to change?\n",
        "3. Conduct your study with 30 people. "
      ]
    },
    {
      "cell_type": "markdown",
      "metadata": {
        "id": "Q7R96juWl6Tk"
      },
      "source": [
        "* * *\n",
        "* * *"
      ]
    },
    {
      "cell_type": "markdown",
      "metadata": {
        "id": "baYW-Mx8l6Tk"
      },
      "source": [
        "#### Task 2: Conduct"
      ]
    },
    {
      "cell_type": "markdown",
      "metadata": {
        "id": "lKiZSNxfl6Tk"
      },
      "source": [
        "#### Question 2.1\n",
        "Set up a protocol and define testing procedures (How are you going to approach people? What are you telling them? What tool for collecting answers are you using?)"
      ]
    },
    {
      "cell_type": "markdown",
      "metadata": {
        "id": "WZN9e4qzl6Tl"
      },
      "source": [
        "#### Solution 2.1"
      ]
    },
    {
      "cell_type": "markdown",
      "metadata": {
        "id": "W1uGVrkFI2z7"
      },
      "source": [
        "#### **Protocol**\n",
        "\n",
        ">**Purpose**:\n",
        ">\n",
        ">The present study aims to find out whether there is any relationship between gender/smoking and sleep hours per >night of a person.\n",
        ">\n",
        ">**Participants**:\n",
        ">\n",
        ">Participants are 30 young adults ranging in age from 20-35 from the same region, thus reducing any variability.\n",
        "\n",
        "#### **Procedure**:\n",
        "\n",
        ">**Recruitment and Inclusion/Exclusion Criteria**:  \n",
        ">\n",
        ">Potential participants will be recruited from friends of the >researchers. Out of all surveyed people, 30 will be >randomly selected for further research.  \n",
        ">\n",
        ">**Measurement**:  \n",
        ">\n",
        ">Young adults will complete a set of self-report questions. The questionnaire will be conducted >online and >anonymously to ensure lack of experimenter’s bias. The questionnaire includes a measurement of sleeping >hours, >sleep quality, falling asleep and wake up times, smoking frequency, drink tendency, type and number of >activities >before sleep, presence of sleep disorders and prescribed medications.  \n",
        ">\n",
        ">**Confounding variables**:  \n",
        ">\n",
        ">In the current study, the confounding variables could be the emotional state, mental or >physical health of the >participant.  \n",
        ">\n",
        ">**Tools**:  \n",
        ">\n",
        ">Google Forms, an online survey.\n",
        ">\n",
        ">**Pre-Questionnaire Talk**:  \n",
        ">\n",
        ">A small talk is done before sending the questionnaire.  \n",
        ">* Firstly, to get the availability from the subject.  \n",
        ">* Secondly, to set a context where we tell the subject that the purpose of this survey is to collect data about daily habits without actually letting them know that the data collected refers to Sleep Patterns and Smoking Patterns.  \n",
        ">* Thirdly, to ensure the data being taken is adheres to **Privacy Policy** and will not be shared with anyone. Apart from that, the experimenters will also not know which subject filled out which question.  \n",
        ">\n",
        ">Doing this is necessary for the survey and this will be explained further in the next section.  \n",
        ">\n",
        ">**Post-Questionnaire Interview**:  \n",
        ">\n",
        ">This is very essential, as firstly, our experiment involves human participants. Therefore, there was a need to undertsand what the subjects were thinking after filling the survey. Did they feel something was in-appropriate and so on. This helps us validate the study and make certain changes if needed before we continue with the experiment.\n",
        ">\n",
        ">**Analysis**:  \n",
        ">\n",
        ">Collected data will be analyzed using EDA approach and will be used to test hypotheses, defined to identify >patterns between two groups divided by gender and attitude towards smoking.\n",
        ">\n",
        ">**Safety procedure**:  \n",
        ">\n",
        ">To ensure the safety of personal data, the questionnaire will be held online and anonymously.\n",
        ">\n",
        ">**Risks and benefits**:  \n",
        ">There are no potential risks and no anticipated benefits to individual participants.\n",
        ">"
      ]
    },
    {
      "cell_type": "markdown",
      "metadata": {
        "id": "ESj9lN7Il6Tt"
      },
      "source": [
        "* * *"
      ]
    },
    {
      "cell_type": "markdown",
      "metadata": {
        "id": "JHCINPNCl6Tu"
      },
      "source": [
        "#### Question 2.2\n",
        "Make a small pilot study. What do you need to change?"
      ]
    },
    {
      "cell_type": "markdown",
      "metadata": {
        "id": "329k14oBl6Tu"
      },
      "source": [
        "#### Solution 2.2"
      ]
    },
    {
      "cell_type": "markdown",
      "metadata": {
        "id": "Z_f6MAph2mEp"
      },
      "source": [
        "For the **pilot study** we selected 10 people to test the effectiveness of the questionnaire.\n",
        "\n",
        "**Results**. After conducting a pilot study we found out that people rarely answer honestly to the direct questions, rather than questions where participants were asked to state the likelihood of such behaviour. We were also surprised by the number of people who thought they were experiencing depression or anxiety."
      ]
    },
    {
      "cell_type": "markdown",
      "metadata": {
        "id": "hKygNa7ml6Ty"
      },
      "source": [
        "* * *"
      ]
    },
    {
      "cell_type": "markdown",
      "metadata": {
        "id": "5-KfSbZzl6Ty"
      },
      "source": [
        "#### Question 2.3\n",
        "Conduct your study with 30 people. "
      ]
    },
    {
      "cell_type": "markdown",
      "metadata": {
        "id": "19WxexVK8oZl"
      },
      "source": [
        "For the study we conducted 40 people and then randomly selected 30 out of them."
      ]
    },
    {
      "cell_type": "markdown",
      "metadata": {
        "id": "_O-neXasl6Ty"
      },
      "source": [
        "#### Solution 2.3"
      ]
    },
    {
      "cell_type": "code",
      "metadata": {
        "id": "Q0Bbw1HSl6Ty"
      },
      "source": [
        ""
      ],
      "execution_count": null,
      "outputs": []
    },
    {
      "cell_type": "markdown",
      "metadata": {
        "id": "bTxRsL5ol6Tz"
      },
      "source": [
        "* * *\n",
        "* * *"
      ]
    },
    {
      "cell_type": "markdown",
      "metadata": {
        "id": "cP38sJysl6Tz"
      },
      "source": [
        "#### Task 3 **[25 points] Evaluate**\n",
        "\n",
        "1. Clean your data and save your variables in a .csv and dataframe for later sharing purposes in A05.\n",
        "2. *a.* Do a short EDA for your study and <br> \n",
        "   *b.* state appropriate statistics and <br> \n",
        "   *c.* choose the appropriate visualizations.\n",
        "3. *a.* Choose the appropriate method to evaluate your hypotheses for questions **(A)** and **(B)**.  \n",
        "   *b.* state why you chose these methods.\n",
        "4. Report scientifically your answer to the questions: provide enough information about the study and the hypotheses, and choose how you want to report the results (see lecture videos, also L05).\n",
        "\n"
      ]
    },
    {
      "cell_type": "markdown",
      "metadata": {
        "id": "E-Gw2zpCl6Tz"
      },
      "source": [
        "* * *\n",
        "* * *"
      ]
    },
    {
      "cell_type": "markdown",
      "metadata": {
        "id": "pGNXbHhsl6Tz"
      },
      "source": [
        "#### Task 3: Evaluate"
      ]
    },
    {
      "cell_type": "markdown",
      "metadata": {
        "id": "m8vFswlUl6Tz"
      },
      "source": [
        "#### Question 3.1\n",
        "Clean your data and save your variables in a .csv and dataframe for later sharing purposes in A05."
      ]
    },
    {
      "cell_type": "markdown",
      "metadata": {
        "id": "BRfRQUsul6T0"
      },
      "source": [
        "#### Solution 3.1"
      ]
    },
    {
      "cell_type": "code",
      "metadata": {
        "colab": {
          "base_uri": "https://localhost:8080/",
          "height": 528
        },
        "id": "M29EOex_BKyj",
        "outputId": "544452bb-8985-45c1-99ee-819d884a3ba7"
      },
      "source": [
        "from google.colab import drive\n",
        "drive.mount('/content/drive')"
      ],
      "execution_count": null,
      "outputs": [
        {
          "output_type": "error",
          "ename": "KeyboardInterrupt",
          "evalue": "ignored",
          "traceback": [
            "\u001b[0;31m---------------------------------------------------------------------------\u001b[0m",
            "\u001b[0;31mKeyboardInterrupt\u001b[0m                         Traceback (most recent call last)",
            "\u001b[0;32m/usr/local/lib/python3.6/dist-packages/ipykernel/kernelbase.py\u001b[0m in \u001b[0;36m_input_request\u001b[0;34m(self, prompt, ident, parent, password)\u001b[0m\n\u001b[1;32m    728\u001b[0m             \u001b[0;32mtry\u001b[0m\u001b[0;34m:\u001b[0m\u001b[0;34m\u001b[0m\u001b[0;34m\u001b[0m\u001b[0m\n\u001b[0;32m--> 729\u001b[0;31m                 \u001b[0mident\u001b[0m\u001b[0;34m,\u001b[0m \u001b[0mreply\u001b[0m \u001b[0;34m=\u001b[0m \u001b[0mself\u001b[0m\u001b[0;34m.\u001b[0m\u001b[0msession\u001b[0m\u001b[0;34m.\u001b[0m\u001b[0mrecv\u001b[0m\u001b[0;34m(\u001b[0m\u001b[0mself\u001b[0m\u001b[0;34m.\u001b[0m\u001b[0mstdin_socket\u001b[0m\u001b[0;34m,\u001b[0m \u001b[0;36m0\u001b[0m\u001b[0;34m)\u001b[0m\u001b[0;34m\u001b[0m\u001b[0;34m\u001b[0m\u001b[0m\n\u001b[0m\u001b[1;32m    730\u001b[0m             \u001b[0;32mexcept\u001b[0m \u001b[0mException\u001b[0m\u001b[0;34m:\u001b[0m\u001b[0;34m\u001b[0m\u001b[0;34m\u001b[0m\u001b[0m\n",
            "\u001b[0;32m/usr/local/lib/python3.6/dist-packages/jupyter_client/session.py\u001b[0m in \u001b[0;36mrecv\u001b[0;34m(self, socket, mode, content, copy)\u001b[0m\n\u001b[1;32m    802\u001b[0m         \u001b[0;32mtry\u001b[0m\u001b[0;34m:\u001b[0m\u001b[0;34m\u001b[0m\u001b[0;34m\u001b[0m\u001b[0m\n\u001b[0;32m--> 803\u001b[0;31m             \u001b[0mmsg_list\u001b[0m \u001b[0;34m=\u001b[0m \u001b[0msocket\u001b[0m\u001b[0;34m.\u001b[0m\u001b[0mrecv_multipart\u001b[0m\u001b[0;34m(\u001b[0m\u001b[0mmode\u001b[0m\u001b[0;34m,\u001b[0m \u001b[0mcopy\u001b[0m\u001b[0;34m=\u001b[0m\u001b[0mcopy\u001b[0m\u001b[0;34m)\u001b[0m\u001b[0;34m\u001b[0m\u001b[0;34m\u001b[0m\u001b[0m\n\u001b[0m\u001b[1;32m    804\u001b[0m         \u001b[0;32mexcept\u001b[0m \u001b[0mzmq\u001b[0m\u001b[0;34m.\u001b[0m\u001b[0mZMQError\u001b[0m \u001b[0;32mas\u001b[0m \u001b[0me\u001b[0m\u001b[0;34m:\u001b[0m\u001b[0;34m\u001b[0m\u001b[0;34m\u001b[0m\u001b[0m\n",
            "\u001b[0;32m/usr/local/lib/python3.6/dist-packages/zmq/sugar/socket.py\u001b[0m in \u001b[0;36mrecv_multipart\u001b[0;34m(self, flags, copy, track)\u001b[0m\n\u001b[1;32m    565\u001b[0m         \"\"\"\n\u001b[0;32m--> 566\u001b[0;31m         \u001b[0mparts\u001b[0m \u001b[0;34m=\u001b[0m \u001b[0;34m[\u001b[0m\u001b[0mself\u001b[0m\u001b[0;34m.\u001b[0m\u001b[0mrecv\u001b[0m\u001b[0;34m(\u001b[0m\u001b[0mflags\u001b[0m\u001b[0;34m,\u001b[0m \u001b[0mcopy\u001b[0m\u001b[0;34m=\u001b[0m\u001b[0mcopy\u001b[0m\u001b[0;34m,\u001b[0m \u001b[0mtrack\u001b[0m\u001b[0;34m=\u001b[0m\u001b[0mtrack\u001b[0m\u001b[0;34m)\u001b[0m\u001b[0;34m]\u001b[0m\u001b[0;34m\u001b[0m\u001b[0;34m\u001b[0m\u001b[0m\n\u001b[0m\u001b[1;32m    567\u001b[0m         \u001b[0;31m# have first part already, only loop while more to receive\u001b[0m\u001b[0;34m\u001b[0m\u001b[0;34m\u001b[0m\u001b[0;34m\u001b[0m\u001b[0m\n",
            "\u001b[0;32mzmq/backend/cython/socket.pyx\u001b[0m in \u001b[0;36mzmq.backend.cython.socket.Socket.recv\u001b[0;34m()\u001b[0m\n",
            "\u001b[0;32mzmq/backend/cython/socket.pyx\u001b[0m in \u001b[0;36mzmq.backend.cython.socket.Socket.recv\u001b[0;34m()\u001b[0m\n",
            "\u001b[0;32mzmq/backend/cython/socket.pyx\u001b[0m in \u001b[0;36mzmq.backend.cython.socket._recv_copy\u001b[0;34m()\u001b[0m\n",
            "\u001b[0;32m/usr/local/lib/python3.6/dist-packages/zmq/backend/cython/checkrc.pxd\u001b[0m in \u001b[0;36mzmq.backend.cython.checkrc._check_rc\u001b[0;34m()\u001b[0m\n",
            "\u001b[0;31mKeyboardInterrupt\u001b[0m: ",
            "\nDuring handling of the above exception, another exception occurred:\n",
            "\u001b[0;31mKeyboardInterrupt\u001b[0m                         Traceback (most recent call last)",
            "\u001b[0;32m<ipython-input-7-d5df0069828e>\u001b[0m in \u001b[0;36m<module>\u001b[0;34m()\u001b[0m\n\u001b[1;32m      1\u001b[0m \u001b[0;32mfrom\u001b[0m \u001b[0mgoogle\u001b[0m\u001b[0;34m.\u001b[0m\u001b[0mcolab\u001b[0m \u001b[0;32mimport\u001b[0m \u001b[0mdrive\u001b[0m\u001b[0;34m\u001b[0m\u001b[0;34m\u001b[0m\u001b[0m\n\u001b[0;32m----> 2\u001b[0;31m \u001b[0mdrive\u001b[0m\u001b[0;34m.\u001b[0m\u001b[0mmount\u001b[0m\u001b[0;34m(\u001b[0m\u001b[0;34m'/content/drive'\u001b[0m\u001b[0;34m)\u001b[0m\u001b[0;34m\u001b[0m\u001b[0;34m\u001b[0m\u001b[0m\n\u001b[0m",
            "\u001b[0;32m/usr/local/lib/python3.6/dist-packages/google/colab/drive.py\u001b[0m in \u001b[0;36mmount\u001b[0;34m(mountpoint, force_remount, timeout_ms, use_metadata_server)\u001b[0m\n\u001b[1;32m    260\u001b[0m       \u001b[0;32mwith\u001b[0m \u001b[0m_output\u001b[0m\u001b[0;34m.\u001b[0m\u001b[0muse_tags\u001b[0m\u001b[0;34m(\u001b[0m\u001b[0;34m'dfs-auth-dance'\u001b[0m\u001b[0;34m)\u001b[0m\u001b[0;34m:\u001b[0m\u001b[0;34m\u001b[0m\u001b[0;34m\u001b[0m\u001b[0m\n\u001b[1;32m    261\u001b[0m         \u001b[0;32mwith\u001b[0m \u001b[0mopen\u001b[0m\u001b[0;34m(\u001b[0m\u001b[0mfifo\u001b[0m\u001b[0;34m,\u001b[0m \u001b[0;34m'w'\u001b[0m\u001b[0;34m)\u001b[0m \u001b[0;32mas\u001b[0m \u001b[0mfifo_file\u001b[0m\u001b[0;34m:\u001b[0m\u001b[0;34m\u001b[0m\u001b[0;34m\u001b[0m\u001b[0m\n\u001b[0;32m--> 262\u001b[0;31m           \u001b[0mfifo_file\u001b[0m\u001b[0;34m.\u001b[0m\u001b[0mwrite\u001b[0m\u001b[0;34m(\u001b[0m\u001b[0mget_code\u001b[0m\u001b[0;34m(\u001b[0m\u001b[0mauth_prompt\u001b[0m\u001b[0;34m)\u001b[0m \u001b[0;34m+\u001b[0m \u001b[0;34m'\\n'\u001b[0m\u001b[0;34m)\u001b[0m\u001b[0;34m\u001b[0m\u001b[0;34m\u001b[0m\u001b[0m\n\u001b[0m\u001b[1;32m    263\u001b[0m       \u001b[0mwrote_to_fifo\u001b[0m \u001b[0;34m=\u001b[0m \u001b[0;32mTrue\u001b[0m\u001b[0;34m\u001b[0m\u001b[0;34m\u001b[0m\u001b[0m\n\u001b[1;32m    264\u001b[0m     \u001b[0;32melif\u001b[0m \u001b[0mcase\u001b[0m \u001b[0;34m==\u001b[0m \u001b[0;36m5\u001b[0m\u001b[0;34m:\u001b[0m\u001b[0;34m\u001b[0m\u001b[0;34m\u001b[0m\u001b[0m\n",
            "\u001b[0;32m/usr/local/lib/python3.6/dist-packages/ipykernel/kernelbase.py\u001b[0m in \u001b[0;36mraw_input\u001b[0;34m(self, prompt)\u001b[0m\n\u001b[1;32m    702\u001b[0m             \u001b[0mself\u001b[0m\u001b[0;34m.\u001b[0m\u001b[0m_parent_ident\u001b[0m\u001b[0;34m,\u001b[0m\u001b[0;34m\u001b[0m\u001b[0;34m\u001b[0m\u001b[0m\n\u001b[1;32m    703\u001b[0m             \u001b[0mself\u001b[0m\u001b[0;34m.\u001b[0m\u001b[0m_parent_header\u001b[0m\u001b[0;34m,\u001b[0m\u001b[0;34m\u001b[0m\u001b[0;34m\u001b[0m\u001b[0m\n\u001b[0;32m--> 704\u001b[0;31m             \u001b[0mpassword\u001b[0m\u001b[0;34m=\u001b[0m\u001b[0;32mFalse\u001b[0m\u001b[0;34m,\u001b[0m\u001b[0;34m\u001b[0m\u001b[0;34m\u001b[0m\u001b[0m\n\u001b[0m\u001b[1;32m    705\u001b[0m         )\n\u001b[1;32m    706\u001b[0m \u001b[0;34m\u001b[0m\u001b[0m\n",
            "\u001b[0;32m/usr/local/lib/python3.6/dist-packages/ipykernel/kernelbase.py\u001b[0m in \u001b[0;36m_input_request\u001b[0;34m(self, prompt, ident, parent, password)\u001b[0m\n\u001b[1;32m    732\u001b[0m             \u001b[0;32mexcept\u001b[0m \u001b[0mKeyboardInterrupt\u001b[0m\u001b[0;34m:\u001b[0m\u001b[0;34m\u001b[0m\u001b[0;34m\u001b[0m\u001b[0m\n\u001b[1;32m    733\u001b[0m                 \u001b[0;31m# re-raise KeyboardInterrupt, to truncate traceback\u001b[0m\u001b[0;34m\u001b[0m\u001b[0;34m\u001b[0m\u001b[0;34m\u001b[0m\u001b[0m\n\u001b[0;32m--> 734\u001b[0;31m                 \u001b[0;32mraise\u001b[0m \u001b[0mKeyboardInterrupt\u001b[0m\u001b[0;34m\u001b[0m\u001b[0;34m\u001b[0m\u001b[0m\n\u001b[0m\u001b[1;32m    735\u001b[0m             \u001b[0;32melse\u001b[0m\u001b[0;34m:\u001b[0m\u001b[0;34m\u001b[0m\u001b[0;34m\u001b[0m\u001b[0m\n\u001b[1;32m    736\u001b[0m                 \u001b[0;32mbreak\u001b[0m\u001b[0;34m\u001b[0m\u001b[0;34m\u001b[0m\u001b[0m\n",
            "\u001b[0;31mKeyboardInterrupt\u001b[0m: "
          ]
        }
      ]
    },
    {
      "cell_type": "code",
      "metadata": {
        "id": "fDwl23YqBjx5"
      },
      "source": [
        "cd \"./drive/MyDrive/Colab Notebooks/\""
      ],
      "execution_count": null,
      "outputs": []
    },
    {
      "cell_type": "code",
      "metadata": {
        "id": "6IPoivS4l6T0"
      },
      "source": [
        "# Fetching the Stude Related Data for doing the EDA\n",
        "\n",
        "study_data = pd.read_csv(\"Cleaned_Up_Data.csv\")"
      ],
      "execution_count": null,
      "outputs": []
    },
    {
      "cell_type": "code",
      "metadata": {
        "id": "LNE_lw5A-_8L"
      },
      "source": [
        "# Using plotly to plot the table\n",
        "\n",
        "study_data_table_plot = go.Figure(data=[go.Table(header=dict(values=list(study_data.columns[:5]),\n",
        "                                                         align='left',\n",
        "                                                         line_color='black',\n",
        "                                                         fill_color='lightgray',\n",
        "                                                         font=dict(size=14),\n",
        "                                                         height=30),\n",
        "                                             cells=dict(values=study_data.head(8).transpose()[:5],\n",
        "                                                        align='left',\n",
        "                                                        line_color='black',\n",
        "                                                        fill_color='white',\n",
        "                                                        height=30))]);\n",
        "study_data_table_plot.update_layout(width=800,\n",
        "                                height=750,\n",
        "                                title_text=\"Table-3: (Preview) Data Collected through the Study on Sleep Patterns\",\n",
        "                                title_x=0.5);"
      ],
      "execution_count": null,
      "outputs": []
    },
    {
      "cell_type": "code",
      "metadata": {
        "id": "fuanUKNP_Cgw"
      },
      "source": [
        "# Displaying the table\n",
        "\n",
        "study_data_table_plot.show()"
      ],
      "execution_count": null,
      "outputs": []
    },
    {
      "cell_type": "markdown",
      "metadata": {
        "id": "7Ofi590Al6T0"
      },
      "source": [
        "* * *"
      ]
    },
    {
      "cell_type": "markdown",
      "metadata": {
        "id": "vUgYZ8HGl6T0"
      },
      "source": [
        "#### Question 3.2\n",
        "*a.* Do a short EDA for your study and <br> \n",
        "*b.* state appropriate statistics and <br> \n",
        "*c.* choose the appropriate visualizations."
      ]
    },
    {
      "cell_type": "markdown",
      "metadata": {
        "id": "e-9K0a0gl6T0"
      },
      "source": [
        "#### Solution 3.2"
      ]
    },
    {
      "cell_type": "code",
      "metadata": {
        "id": "zVwfHrMKl6T0"
      },
      "source": [
        "# Here we try to fetch the different statistics of the data\n",
        "\n",
        "gender_based_data = study_data.groupby('Gender')['Gender'].count()\n",
        "gender_based_data = gender_based_data.rename('Count').reset_index()"
      ],
      "execution_count": null,
      "outputs": []
    },
    {
      "cell_type": "code",
      "metadata": {
        "colab": {
          "base_uri": "https://localhost:8080/",
          "height": 542
        },
        "id": "ASycLEnX_JxS",
        "outputId": "4d9512ac-42cd-45b0-c395-e43c5841a736"
      },
      "source": [
        "# Using plotly to plot the graph\n",
        "\n",
        "gender_based_plot = go.Figure()\n",
        "gender_based_plot = px.bar(gender_based_data, \n",
        "                                 x=\"Gender\", \n",
        "                                 y=\"Count\", \n",
        "                                 color=\"Gender\", \n",
        "                                 text=\"Count\", \n",
        "                                 range_y=[0,30],              \n",
        "                                 labels=dict(Count=\"Total Participants\"))\n",
        "\n",
        "gender_based_plot.update_layout(width=1000,\n",
        "                                title_text=\"Figure-1: -- Total Participants in the Study (per Gender)'\",\n",
        "                                title_x=0.5, \n",
        "                                bargap=0.8)\n",
        "\n",
        "gender_based_plot.update_traces(texttemplate='%{text:.2s} Participants', textposition='outside')\n",
        "gender_based_plot.show()"
      ],
      "execution_count": null,
      "outputs": [
        {
          "output_type": "display_data",
          "data": {
            "text/html": [
              "<html>\n",
              "<head><meta charset=\"utf-8\" /></head>\n",
              "<body>\n",
              "    <div>\n",
              "            <script src=\"https://cdnjs.cloudflare.com/ajax/libs/mathjax/2.7.5/MathJax.js?config=TeX-AMS-MML_SVG\"></script><script type=\"text/javascript\">if (window.MathJax) {MathJax.Hub.Config({SVG: {font: \"STIX-Web\"}});}</script>\n",
              "                <script type=\"text/javascript\">window.PlotlyConfig = {MathJaxConfig: 'local'};</script>\n",
              "        <script src=\"https://cdn.plot.ly/plotly-latest.min.js\"></script>    \n",
              "            <div id=\"5b674983-4972-4e39-b0bc-6274c052faf0\" class=\"plotly-graph-div\" style=\"height:525px; width:1000px;\"></div>\n",
              "            <script type=\"text/javascript\">\n",
              "                \n",
              "                    window.PLOTLYENV=window.PLOTLYENV || {};\n",
              "                    \n",
              "                if (document.getElementById(\"5b674983-4972-4e39-b0bc-6274c052faf0\")) {\n",
              "                    Plotly.newPlot(\n",
              "                        '5b674983-4972-4e39-b0bc-6274c052faf0',\n",
              "                        [{\"alignmentgroup\": \"True\", \"hoverlabel\": {\"namelength\": 0}, \"hovertemplate\": \"Gender=%{x}<br>Total Participants=%{text}\", \"legendgroup\": \"Gender=Female\", \"marker\": {\"color\": \"#636efa\"}, \"name\": \"Gender=Female\", \"offsetgroup\": \"Gender=Female\", \"orientation\": \"v\", \"showlegend\": true, \"text\": [15.0], \"textposition\": \"outside\", \"texttemplate\": \"%{text:.2s} Participants\", \"type\": \"bar\", \"x\": [\"Female\"], \"xaxis\": \"x\", \"y\": [15], \"yaxis\": \"y\"}, {\"alignmentgroup\": \"True\", \"hoverlabel\": {\"namelength\": 0}, \"hovertemplate\": \"Gender=%{x}<br>Total Participants=%{text}\", \"legendgroup\": \"Gender=Male\", \"marker\": {\"color\": \"#EF553B\"}, \"name\": \"Gender=Male\", \"offsetgroup\": \"Gender=Male\", \"orientation\": \"v\", \"showlegend\": true, \"text\": [25.0], \"textposition\": \"outside\", \"texttemplate\": \"%{text:.2s} Participants\", \"type\": \"bar\", \"x\": [\"Male\"], \"xaxis\": \"x\", \"y\": [25], \"yaxis\": \"y\"}],\n",
              "                        {\"bargap\": 0.8, \"barmode\": \"relative\", \"legend\": {\"tracegroupgap\": 0}, \"margin\": {\"t\": 60}, \"template\": {\"data\": {\"bar\": [{\"error_x\": {\"color\": \"#2a3f5f\"}, \"error_y\": {\"color\": \"#2a3f5f\"}, \"marker\": {\"line\": {\"color\": \"#E5ECF6\", \"width\": 0.5}}, \"type\": \"bar\"}], \"barpolar\": [{\"marker\": {\"line\": {\"color\": \"#E5ECF6\", \"width\": 0.5}}, \"type\": \"barpolar\"}], \"carpet\": [{\"aaxis\": {\"endlinecolor\": \"#2a3f5f\", \"gridcolor\": \"white\", \"linecolor\": \"white\", \"minorgridcolor\": \"white\", \"startlinecolor\": \"#2a3f5f\"}, \"baxis\": {\"endlinecolor\": \"#2a3f5f\", \"gridcolor\": \"white\", \"linecolor\": \"white\", \"minorgridcolor\": \"white\", \"startlinecolor\": \"#2a3f5f\"}, \"type\": \"carpet\"}], \"choropleth\": [{\"colorbar\": {\"outlinewidth\": 0, \"ticks\": \"\"}, \"type\": \"choropleth\"}], \"contour\": [{\"colorbar\": {\"outlinewidth\": 0, \"ticks\": \"\"}, \"colorscale\": [[0.0, \"#0d0887\"], [0.1111111111111111, \"#46039f\"], [0.2222222222222222, \"#7201a8\"], [0.3333333333333333, \"#9c179e\"], [0.4444444444444444, \"#bd3786\"], [0.5555555555555556, \"#d8576b\"], [0.6666666666666666, \"#ed7953\"], [0.7777777777777778, \"#fb9f3a\"], [0.8888888888888888, \"#fdca26\"], [1.0, \"#f0f921\"]], \"type\": \"contour\"}], \"contourcarpet\": [{\"colorbar\": {\"outlinewidth\": 0, \"ticks\": \"\"}, \"type\": \"contourcarpet\"}], \"heatmap\": [{\"colorbar\": {\"outlinewidth\": 0, \"ticks\": \"\"}, \"colorscale\": [[0.0, \"#0d0887\"], [0.1111111111111111, \"#46039f\"], [0.2222222222222222, \"#7201a8\"], [0.3333333333333333, \"#9c179e\"], [0.4444444444444444, \"#bd3786\"], [0.5555555555555556, \"#d8576b\"], [0.6666666666666666, \"#ed7953\"], [0.7777777777777778, \"#fb9f3a\"], [0.8888888888888888, \"#fdca26\"], [1.0, \"#f0f921\"]], \"type\": \"heatmap\"}], \"heatmapgl\": [{\"colorbar\": {\"outlinewidth\": 0, \"ticks\": \"\"}, \"colorscale\": [[0.0, \"#0d0887\"], [0.1111111111111111, \"#46039f\"], [0.2222222222222222, \"#7201a8\"], [0.3333333333333333, \"#9c179e\"], [0.4444444444444444, \"#bd3786\"], [0.5555555555555556, \"#d8576b\"], [0.6666666666666666, \"#ed7953\"], [0.7777777777777778, \"#fb9f3a\"], [0.8888888888888888, \"#fdca26\"], [1.0, \"#f0f921\"]], \"type\": \"heatmapgl\"}], \"histogram\": [{\"marker\": {\"colorbar\": {\"outlinewidth\": 0, \"ticks\": \"\"}}, \"type\": \"histogram\"}], \"histogram2d\": [{\"colorbar\": {\"outlinewidth\": 0, \"ticks\": \"\"}, \"colorscale\": [[0.0, \"#0d0887\"], [0.1111111111111111, \"#46039f\"], [0.2222222222222222, \"#7201a8\"], [0.3333333333333333, \"#9c179e\"], [0.4444444444444444, \"#bd3786\"], [0.5555555555555556, \"#d8576b\"], [0.6666666666666666, \"#ed7953\"], [0.7777777777777778, \"#fb9f3a\"], [0.8888888888888888, \"#fdca26\"], [1.0, \"#f0f921\"]], \"type\": \"histogram2d\"}], \"histogram2dcontour\": [{\"colorbar\": {\"outlinewidth\": 0, \"ticks\": \"\"}, \"colorscale\": [[0.0, \"#0d0887\"], [0.1111111111111111, \"#46039f\"], [0.2222222222222222, \"#7201a8\"], [0.3333333333333333, \"#9c179e\"], [0.4444444444444444, \"#bd3786\"], [0.5555555555555556, \"#d8576b\"], [0.6666666666666666, \"#ed7953\"], [0.7777777777777778, \"#fb9f3a\"], [0.8888888888888888, \"#fdca26\"], [1.0, \"#f0f921\"]], \"type\": \"histogram2dcontour\"}], \"mesh3d\": [{\"colorbar\": {\"outlinewidth\": 0, \"ticks\": \"\"}, \"type\": \"mesh3d\"}], \"parcoords\": [{\"line\": {\"colorbar\": {\"outlinewidth\": 0, \"ticks\": \"\"}}, \"type\": \"parcoords\"}], \"pie\": [{\"automargin\": true, \"type\": \"pie\"}], \"scatter\": [{\"marker\": {\"colorbar\": {\"outlinewidth\": 0, \"ticks\": \"\"}}, \"type\": \"scatter\"}], \"scatter3d\": [{\"line\": {\"colorbar\": {\"outlinewidth\": 0, \"ticks\": \"\"}}, \"marker\": {\"colorbar\": {\"outlinewidth\": 0, \"ticks\": \"\"}}, \"type\": \"scatter3d\"}], \"scattercarpet\": [{\"marker\": {\"colorbar\": {\"outlinewidth\": 0, \"ticks\": \"\"}}, \"type\": \"scattercarpet\"}], \"scattergeo\": [{\"marker\": {\"colorbar\": {\"outlinewidth\": 0, \"ticks\": \"\"}}, \"type\": \"scattergeo\"}], \"scattergl\": [{\"marker\": {\"colorbar\": {\"outlinewidth\": 0, \"ticks\": \"\"}}, \"type\": \"scattergl\"}], \"scattermapbox\": [{\"marker\": {\"colorbar\": {\"outlinewidth\": 0, \"ticks\": \"\"}}, \"type\": \"scattermapbox\"}], \"scatterpolar\": [{\"marker\": {\"colorbar\": {\"outlinewidth\": 0, \"ticks\": \"\"}}, \"type\": \"scatterpolar\"}], \"scatterpolargl\": [{\"marker\": {\"colorbar\": {\"outlinewidth\": 0, \"ticks\": \"\"}}, \"type\": \"scatterpolargl\"}], \"scatterternary\": [{\"marker\": {\"colorbar\": {\"outlinewidth\": 0, \"ticks\": \"\"}}, \"type\": \"scatterternary\"}], \"surface\": [{\"colorbar\": {\"outlinewidth\": 0, \"ticks\": \"\"}, \"colorscale\": [[0.0, \"#0d0887\"], [0.1111111111111111, \"#46039f\"], [0.2222222222222222, \"#7201a8\"], [0.3333333333333333, \"#9c179e\"], [0.4444444444444444, \"#bd3786\"], [0.5555555555555556, \"#d8576b\"], [0.6666666666666666, \"#ed7953\"], [0.7777777777777778, \"#fb9f3a\"], [0.8888888888888888, \"#fdca26\"], [1.0, \"#f0f921\"]], \"type\": \"surface\"}], \"table\": [{\"cells\": {\"fill\": {\"color\": \"#EBF0F8\"}, \"line\": {\"color\": \"white\"}}, \"header\": {\"fill\": {\"color\": \"#C8D4E3\"}, \"line\": {\"color\": \"white\"}}, \"type\": \"table\"}]}, \"layout\": {\"annotationdefaults\": {\"arrowcolor\": \"#2a3f5f\", \"arrowhead\": 0, \"arrowwidth\": 1}, \"coloraxis\": {\"colorbar\": {\"outlinewidth\": 0, \"ticks\": \"\"}}, \"colorscale\": {\"diverging\": [[0, \"#8e0152\"], [0.1, \"#c51b7d\"], [0.2, \"#de77ae\"], [0.3, \"#f1b6da\"], [0.4, \"#fde0ef\"], [0.5, \"#f7f7f7\"], [0.6, \"#e6f5d0\"], [0.7, \"#b8e186\"], [0.8, \"#7fbc41\"], [0.9, \"#4d9221\"], [1, \"#276419\"]], \"sequential\": [[0.0, \"#0d0887\"], [0.1111111111111111, \"#46039f\"], [0.2222222222222222, \"#7201a8\"], [0.3333333333333333, \"#9c179e\"], [0.4444444444444444, \"#bd3786\"], [0.5555555555555556, \"#d8576b\"], [0.6666666666666666, \"#ed7953\"], [0.7777777777777778, \"#fb9f3a\"], [0.8888888888888888, \"#fdca26\"], [1.0, \"#f0f921\"]], \"sequentialminus\": [[0.0, \"#0d0887\"], [0.1111111111111111, \"#46039f\"], [0.2222222222222222, \"#7201a8\"], [0.3333333333333333, \"#9c179e\"], [0.4444444444444444, \"#bd3786\"], [0.5555555555555556, \"#d8576b\"], [0.6666666666666666, \"#ed7953\"], [0.7777777777777778, \"#fb9f3a\"], [0.8888888888888888, \"#fdca26\"], [1.0, \"#f0f921\"]]}, \"colorway\": [\"#636efa\", \"#EF553B\", \"#00cc96\", \"#ab63fa\", \"#FFA15A\", \"#19d3f3\", \"#FF6692\", \"#B6E880\", \"#FF97FF\", \"#FECB52\"], \"font\": {\"color\": \"#2a3f5f\"}, \"geo\": {\"bgcolor\": \"white\", \"lakecolor\": \"white\", \"landcolor\": \"#E5ECF6\", \"showlakes\": true, \"showland\": true, \"subunitcolor\": \"white\"}, \"hoverlabel\": {\"align\": \"left\"}, \"hovermode\": \"closest\", \"mapbox\": {\"style\": \"light\"}, \"paper_bgcolor\": \"white\", \"plot_bgcolor\": \"#E5ECF6\", \"polar\": {\"angularaxis\": {\"gridcolor\": \"white\", \"linecolor\": \"white\", \"ticks\": \"\"}, \"bgcolor\": \"#E5ECF6\", \"radialaxis\": {\"gridcolor\": \"white\", \"linecolor\": \"white\", \"ticks\": \"\"}}, \"scene\": {\"xaxis\": {\"backgroundcolor\": \"#E5ECF6\", \"gridcolor\": \"white\", \"gridwidth\": 2, \"linecolor\": \"white\", \"showbackground\": true, \"ticks\": \"\", \"zerolinecolor\": \"white\"}, \"yaxis\": {\"backgroundcolor\": \"#E5ECF6\", \"gridcolor\": \"white\", \"gridwidth\": 2, \"linecolor\": \"white\", \"showbackground\": true, \"ticks\": \"\", \"zerolinecolor\": \"white\"}, \"zaxis\": {\"backgroundcolor\": \"#E5ECF6\", \"gridcolor\": \"white\", \"gridwidth\": 2, \"linecolor\": \"white\", \"showbackground\": true, \"ticks\": \"\", \"zerolinecolor\": \"white\"}}, \"shapedefaults\": {\"line\": {\"color\": \"#2a3f5f\"}}, \"ternary\": {\"aaxis\": {\"gridcolor\": \"white\", \"linecolor\": \"white\", \"ticks\": \"\"}, \"baxis\": {\"gridcolor\": \"white\", \"linecolor\": \"white\", \"ticks\": \"\"}, \"bgcolor\": \"#E5ECF6\", \"caxis\": {\"gridcolor\": \"white\", \"linecolor\": \"white\", \"ticks\": \"\"}}, \"title\": {\"x\": 0.05}, \"xaxis\": {\"automargin\": true, \"gridcolor\": \"white\", \"linecolor\": \"white\", \"ticks\": \"\", \"title\": {\"standoff\": 15}, \"zerolinecolor\": \"white\", \"zerolinewidth\": 2}, \"yaxis\": {\"automargin\": true, \"gridcolor\": \"white\", \"linecolor\": \"white\", \"ticks\": \"\", \"title\": {\"standoff\": 15}, \"zerolinecolor\": \"white\", \"zerolinewidth\": 2}}}, \"title\": {\"text\": \"Figure-1: -- Total Participants in the Study (per Gender)'\", \"x\": 0.5}, \"width\": 1000, \"xaxis\": {\"anchor\": \"y\", \"categoryarray\": [\"Female\", \"Male\"], \"categoryorder\": \"array\", \"domain\": [0.0, 1.0], \"title\": {\"text\": \"Gender\"}}, \"yaxis\": {\"anchor\": \"x\", \"domain\": [0.0, 1.0], \"range\": [0, 30], \"title\": {\"text\": \"Total Participants\"}}},\n",
              "                        {\"responsive\": true}\n",
              "                    ).then(function(){\n",
              "                            \n",
              "var gd = document.getElementById('5b674983-4972-4e39-b0bc-6274c052faf0');\n",
              "var x = new MutationObserver(function (mutations, observer) {{\n",
              "        var display = window.getComputedStyle(gd).display;\n",
              "        if (!display || display === 'none') {{\n",
              "            console.log([gd, 'removed!']);\n",
              "            Plotly.purge(gd);\n",
              "            observer.disconnect();\n",
              "        }}\n",
              "}});\n",
              "\n",
              "// Listen for the removal of the full notebook cells\n",
              "var notebookContainer = gd.closest('#notebook-container');\n",
              "if (notebookContainer) {{\n",
              "    x.observe(notebookContainer, {childList: true});\n",
              "}}\n",
              "\n",
              "// Listen for the clearing of the current output cell\n",
              "var outputEl = gd.closest('.output');\n",
              "if (outputEl) {{\n",
              "    x.observe(outputEl, {childList: true});\n",
              "}}\n",
              "\n",
              "                        })\n",
              "                };\n",
              "                \n",
              "            </script>\n",
              "        </div>\n",
              "</body>\n",
              "</html>"
            ]
          },
          "metadata": {
            "tags": []
          }
        }
      ]
    },
    {
      "cell_type": "code",
      "metadata": {
        "id": "HXsLIyE4_Mqa"
      },
      "source": [
        "# Finding the correct population sizes for our variables (Male : Female | Smokers : Non-Smokers)\n",
        "\n",
        "study_data.loc[study_data['Do you smoke?'] == 'No', 'Smoker'] = '0' \n",
        "study_data.loc[study_data['Do you smoke?'] != 'No', 'Smoker'] = '1' \n",
        "\n",
        "study_data['Smoker'] = pd.to_numeric(study_data['Smoker'])\n",
        "gender_based_smokers = study_data.groupby('Gender')['Smoker'].sum()\n",
        "gender_based_smokers = gender_based_smokers.rename('Smoker').reset_index()\n",
        "gender_based_smokers['Total Participants'] = gender_based_data['Count']\n",
        "gender_based_smokers['Non-Smokers'] = gender_based_smokers['Total Participants'] - gender_based_smokers['Smoker']"
      ],
      "execution_count": null,
      "outputs": []
    },
    {
      "cell_type": "markdown",
      "metadata": {
        "id": "ozZh5Rekl6T1"
      },
      "source": [
        "* * *"
      ]
    },
    {
      "cell_type": "markdown",
      "metadata": {
        "id": "vkXHD4s8l6T1"
      },
      "source": [
        "#### Question 3.3\n",
        "*a.* Choose the appropriate method to evaluate your hypotheses for questions **(A)** and **(B)**.  \n",
        "*b.* state why you chose these methods."
      ]
    },
    {
      "cell_type": "markdown",
      "metadata": {
        "id": "33o6IhL6l6T1"
      },
      "source": [
        "#### Solution 3.3"
      ]
    },
    {
      "cell_type": "markdown",
      "metadata": {
        "id": "UUSkSGeMC5L9"
      },
      "source": [
        "Before doing the EDA, we tried to evaluate three different Test Statistics Method which are Z-Test, T-Test and Chi-Square Test.\n",
        "\n",
        "We choose to go ahead with **T-Test** because:  \n",
        "\n",
        "* In **Z-Test**, in order to proceed, we need to have the Sample Mean and Population mean and should also have known variance. Z-Test is used to check the hypotheses if the Sample drawn belongs to the same population. Our agenda here is not to check that but to find out the effect of a variable.  \n",
        "  \n",
        "* In **Chi-Square Test**, we test out if two or more variables are independent of each other or not. That means, it checks for either Goodness of fit or compare the independent variables. Thus, it does not fit our requirement.  \n",
        "  \n",
        "* Whereas in **T-Test**, it compares the means of 2 different samples. As in our case, we have different samples for male and female, checking the sleep pattern for these two samples through T-Test seems to be the best choice in order to complete our EDA."
      ]
    },
    {
      "cell_type": "markdown",
      "metadata": {
        "id": "wtXJfo01l6T1"
      },
      "source": [
        "* * *"
      ]
    },
    {
      "cell_type": "markdown",
      "metadata": {
        "id": "QvA48DBEl6T2"
      },
      "source": [
        "#### Question 3.4\n",
        "Report scientifically your answer to the questions: provide enough information about the study and the hypotheses, and choose how you want to report the results (see lecture videos, also L05)."
      ]
    },
    {
      "cell_type": "markdown",
      "metadata": {
        "id": "IoQXvE16l6T2"
      },
      "source": [
        "#### Solution 3.4"
      ]
    },
    {
      "cell_type": "code",
      "metadata": {
        "id": "Q74cAr5rl6T2",
        "colab": {
          "base_uri": "https://localhost:8080/",
          "height": 281
        },
        "outputId": "2f6d2b7b-4f9a-4e55-9094-c39715aae03e"
      },
      "source": [
        "# Displaying Normal Distribution to explain how the testing will be done\n",
        "\n",
        "mu = 0\n",
        "variance = 1\n",
        "sigma = math.sqrt(variance)\n",
        "x = np.linspace(mu - 3*sigma, mu + 3*sigma, 100)\n",
        "plt.plot(x, stats.norm.pdf(x, mu, sigma))\n",
        "plt.title('Figure-3: -- Normal distribution')\n",
        "plt.text(-0.2, 0.2, \"0.95\")\n",
        "plt.text(-2.6, 0.05, \"0.25\")\n",
        "plt.text(2.2, 0.05, \"0.25\")\n",
        "plt.axvline(x=-1.96, ymin=0.01, ymax=0.15, color='red', label='-z critical')\n",
        "plt.axvline(x=-2.2, ymin=0.01, ymax=0.1, color='green')\n",
        "plt.axvline(x=-2.4, ymin=0.01, ymax=0.08, color='green')\n",
        "plt.axvline(x=-2.6, ymin=0.01, ymax=0.06, color='green')\n",
        "plt.axvline(x=-2.8, ymin=0.01, ymax=0.04, color='green')\n",
        "plt.axvline(x=-3, ymin=0.01, ymax=0.03, color='green')\n",
        "plt.axvline(x=1.96, ymin=0.01, ymax=0.15, color='red', label='z critical')\n",
        "plt.axvline(x=2.2, ymin=0.01, ymax=0.1, color='green')\n",
        "plt.axvline(x=2.4, ymin=0.01, ymax=0.08, color='green')\n",
        "plt.axvline(x=2.6, ymin=0.01, ymax=0.06, color='green')\n",
        "plt.axvline(x=2.8, ymin=0.01, ymax=0.04, color='green')\n",
        "plt.axvline(x=3, ymin=0.01, ymax=0.03, color='green')\n",
        "plt.show()"
      ],
      "execution_count": null,
      "outputs": [
        {
          "output_type": "display_data",
          "data": {
            "image/png": "[encoded data removed]",
            "text/plain": [
              "<Figure size 432x288 with 1 Axes>"
            ]
          },
          "metadata": {
            "tags": [],
            "needs_background": "light"
          }
        }
      ]
    },
    {
      "cell_type": "markdown",
      "metadata": {
        "id": "fNnUI5Ek_aTD"
      },
      "source": [
        "So here, we have two hypothesis to test as below:  \n",
        "\n",
        "**Hypothesis Testing (A)**  \n",
        "- *$H_0$ : \"There is no difference in hours of sleep per night between males and females\".*  \n",
        "- *$H_1$ : \"There is a significant difference in hours of sleep per night between males and females\".*  \n",
        "\n",
        "**Hypothesis Testing (B)**  \n",
        "- *$H_0$ : \"There is no difference in hours of sleep per night between smokers and non-smokers\".*  \n",
        "- *$H_1$ : \"There is a significant difference in hours of sleep per night between smokers and non-smokers\".*  \n",
        "\n",
        "For both the Hypothesis Testing, we will be doing Two-Tailed T-Test, taking into consideration that the samples on which the testing is being done are independent. Also, because we want to test the possibility of the relationship in both directions.  \n",
        "\n",
        ">(A) *Either Male Sleep > Female Sleep **OR** Male Sleep < Female Sleep  \n",
        ">Our alternative hypothesis (H1) states that Male and Female sleep are not equal, which could be any of these two cases.*  \n",
        "\n",
        ">(B) *Either Smoker's Sleep > Non-Smoker's Sleep **OR** Smoker's Sleep < Non-Smoker's Sleep  \n",
        ">Our alternative hypothesis (H1) states that Smoker's and Non-Smoker's sleep is not equal, which could be any of these two cases.*  \n",
        "\n",
        "For both the Hypothesis, we keep the Significance Level ($\\alpha$) = 0.05  \n",
        "\n",
        "In this Normal Dirstibution (**Figure-4**), shaded areas are our rejection regions. Our $\\alpha$ = 0.05 that means\n",
        "that critical value is 1.96, and since we have two-tailed test we divide alpha by 2 and get 0.25 on both\n",
        "sides (rejection regions)."
      ]
    },
    {
      "cell_type": "code",
      "metadata": {
        "id": "RB0JEqG9_dhL"
      },
      "source": [
        "# Calculating the sample size\n",
        "\n",
        "sample_male = len(study_data[study_data['Gender'] == 'Male'])\n",
        "sample_female = len(study_data[study_data['Gender'] == 'Female'])"
      ],
      "execution_count": null,
      "outputs": []
    },
    {
      "cell_type": "code",
      "metadata": {
        "id": "BIQcsa_0_frp"
      },
      "source": [
        "# Calculating sample means\n",
        "\n",
        "sleep_means = study_data.groupby('Gender')['Total Sleep Hours'].mean()\n",
        "male_sleep_mean = sleep_means['Male']\n",
        "female_sleep_mean = sleep_means['Female']"
      ],
      "execution_count": null,
      "outputs": []
    },
    {
      "cell_type": "code",
      "metadata": {
        "id": "nW1d5S6P_h8c"
      },
      "source": [
        "sleep_means = sleep_means.rename_axis().reset_index()"
      ],
      "execution_count": null,
      "outputs": []
    },
    {
      "cell_type": "code",
      "metadata": {
        "colab": {
          "base_uri": "https://localhost:8080/",
          "height": 542
        },
        "id": "vTv_3Liz_kAM",
        "outputId": "b3d0f7a1-551b-464f-8ec0-6269ab98266d"
      },
      "source": [
        "# Using plotly to plot the graph\n",
        "\n",
        "gender_based_sleep_mean_plot = go.Figure()\n",
        "gender_based_sleep_mean_plot = px.bar(sleep_means, \n",
        "                                 x=\"Gender\", \n",
        "                                 y=\"Total Sleep Hours\", \n",
        "                                 color=\"Gender\", \n",
        "                                 text=\"Total Sleep Hours\", \n",
        "                                 range_y=[0,10])\n",
        "\n",
        "gender_based_sleep_mean_plot.update_layout(width=1000,\n",
        "                                title_text=\"Figure-4: -- Sleep (mean) Comparison Between Males and Females'\",\n",
        "                                title_x=0.5, \n",
        "                                bargap=0.8)\n",
        "\n",
        "gender_based_sleep_mean_plot.update_traces(texttemplate='%{text:.2s} Hours', textposition='outside')\n",
        "gender_based_sleep_mean_plot.show()"
      ],
      "execution_count": null,
      "outputs": [
        {
          "output_type": "display_data",
          "data": {
            "text/html": [
              "<html>\n",
              "<head><meta charset=\"utf-8\" /></head>\n",
              "<body>\n",
              "    <div>\n",
              "            <script src=\"https://cdnjs.cloudflare.com/ajax/libs/mathjax/2.7.5/MathJax.js?config=TeX-AMS-MML_SVG\"></script><script type=\"text/javascript\">if (window.MathJax) {MathJax.Hub.Config({SVG: {font: \"STIX-Web\"}});}</script>\n",
              "                <script type=\"text/javascript\">window.PlotlyConfig = {MathJaxConfig: 'local'};</script>\n",
              "        <script src=\"https://cdn.plot.ly/plotly-latest.min.js\"></script>    \n",
              "            <div id=\"c2024bd5-cc4b-4e10-80db-b6bbd4546df5\" class=\"plotly-graph-div\" style=\"height:525px; width:1000px;\"></div>\n",
              "            <script type=\"text/javascript\">\n",
              "                \n",
              "                    window.PLOTLYENV=window.PLOTLYENV || {};\n",
              "                    \n",
              "                if (document.getElementById(\"c2024bd5-cc4b-4e10-80db-b6bbd4546df5\")) {\n",
              "                    Plotly.newPlot(\n",
              "                        'c2024bd5-cc4b-4e10-80db-b6bbd4546df5',\n",
              "                        [{\"alignmentgroup\": \"True\", \"hoverlabel\": {\"namelength\": 0}, \"hovertemplate\": \"Gender=%{x}<br>Total Sleep Hours=%{text}\", \"legendgroup\": \"Gender=Female\", \"marker\": {\"color\": \"#636efa\"}, \"name\": \"Gender=Female\", \"offsetgroup\": \"Gender=Female\", \"orientation\": \"v\", \"showlegend\": true, \"text\": [7.411111111066666], \"textposition\": \"outside\", \"texttemplate\": \"%{text:.2s} Hours\", \"type\": \"bar\", \"x\": [\"Female\"], \"xaxis\": \"x\", \"y\": [7.411111111066666], \"yaxis\": \"y\"}, {\"alignmentgroup\": \"True\", \"hoverlabel\": {\"namelength\": 0}, \"hovertemplate\": \"Gender=%{x}<br>Total Sleep Hours=%{text}\", \"legendgroup\": \"Gender=Male\", \"marker\": {\"color\": \"#EF553B\"}, \"name\": \"Gender=Male\", \"offsetgroup\": \"Gender=Male\", \"orientation\": \"v\", \"showlegend\": true, \"text\": [7.486666666680001], \"textposition\": \"outside\", \"texttemplate\": \"%{text:.2s} Hours\", \"type\": \"bar\", \"x\": [\"Male\"], \"xaxis\": \"x\", \"y\": [7.486666666680001], \"yaxis\": \"y\"}],\n",
              "                        {\"bargap\": 0.8, \"barmode\": \"relative\", \"legend\": {\"tracegroupgap\": 0}, \"margin\": {\"t\": 60}, \"template\": {\"data\": {\"bar\": [{\"error_x\": {\"color\": \"#2a3f5f\"}, \"error_y\": {\"color\": \"#2a3f5f\"}, \"marker\": {\"line\": {\"color\": \"#E5ECF6\", \"width\": 0.5}}, \"type\": \"bar\"}], \"barpolar\": [{\"marker\": {\"line\": {\"color\": \"#E5ECF6\", \"width\": 0.5}}, \"type\": \"barpolar\"}], \"carpet\": [{\"aaxis\": {\"endlinecolor\": \"#2a3f5f\", \"gridcolor\": \"white\", \"linecolor\": \"white\", \"minorgridcolor\": \"white\", \"startlinecolor\": \"#2a3f5f\"}, \"baxis\": {\"endlinecolor\": \"#2a3f5f\", \"gridcolor\": \"white\", \"linecolor\": \"white\", \"minorgridcolor\": \"white\", \"startlinecolor\": \"#2a3f5f\"}, \"type\": \"carpet\"}], \"choropleth\": [{\"colorbar\": {\"outlinewidth\": 0, \"ticks\": \"\"}, \"type\": \"choropleth\"}], \"contour\": [{\"colorbar\": {\"outlinewidth\": 0, \"ticks\": \"\"}, \"colorscale\": [[0.0, \"#0d0887\"], [0.1111111111111111, \"#46039f\"], [0.2222222222222222, \"#7201a8\"], [0.3333333333333333, \"#9c179e\"], [0.4444444444444444, \"#bd3786\"], [0.5555555555555556, \"#d8576b\"], [0.6666666666666666, \"#ed7953\"], [0.7777777777777778, \"#fb9f3a\"], [0.8888888888888888, \"#fdca26\"], [1.0, \"#f0f921\"]], \"type\": \"contour\"}], \"contourcarpet\": [{\"colorbar\": {\"outlinewidth\": 0, \"ticks\": \"\"}, \"type\": \"contourcarpet\"}], \"heatmap\": [{\"colorbar\": {\"outlinewidth\": 0, \"ticks\": \"\"}, \"colorscale\": [[0.0, \"#0d0887\"], [0.1111111111111111, \"#46039f\"], [0.2222222222222222, \"#7201a8\"], [0.3333333333333333, \"#9c179e\"], [0.4444444444444444, \"#bd3786\"], [0.5555555555555556, \"#d8576b\"], [0.6666666666666666, \"#ed7953\"], [0.7777777777777778, \"#fb9f3a\"], [0.8888888888888888, \"#fdca26\"], [1.0, \"#f0f921\"]], \"type\": \"heatmap\"}], \"heatmapgl\": [{\"colorbar\": {\"outlinewidth\": 0, \"ticks\": \"\"}, \"colorscale\": [[0.0, \"#0d0887\"], [0.1111111111111111, \"#46039f\"], [0.2222222222222222, \"#7201a8\"], [0.3333333333333333, \"#9c179e\"], [0.4444444444444444, \"#bd3786\"], [0.5555555555555556, \"#d8576b\"], [0.6666666666666666, \"#ed7953\"], [0.7777777777777778, \"#fb9f3a\"], [0.8888888888888888, \"#fdca26\"], [1.0, \"#f0f921\"]], \"type\": \"heatmapgl\"}], \"histogram\": [{\"marker\": {\"colorbar\": {\"outlinewidth\": 0, \"ticks\": \"\"}}, \"type\": \"histogram\"}], \"histogram2d\": [{\"colorbar\": {\"outlinewidth\": 0, \"ticks\": \"\"}, \"colorscale\": [[0.0, \"#0d0887\"], [0.1111111111111111, \"#46039f\"], [0.2222222222222222, \"#7201a8\"], [0.3333333333333333, \"#9c179e\"], [0.4444444444444444, \"#bd3786\"], [0.5555555555555556, \"#d8576b\"], [0.6666666666666666, \"#ed7953\"], [0.7777777777777778, \"#fb9f3a\"], [0.8888888888888888, \"#fdca26\"], [1.0, \"#f0f921\"]], \"type\": \"histogram2d\"}], \"histogram2dcontour\": [{\"colorbar\": {\"outlinewidth\": 0, \"ticks\": \"\"}, \"colorscale\": [[0.0, \"#0d0887\"], [0.1111111111111111, \"#46039f\"], [0.2222222222222222, \"#7201a8\"], [0.3333333333333333, \"#9c179e\"], [0.4444444444444444, \"#bd3786\"], [0.5555555555555556, \"#d8576b\"], [0.6666666666666666, \"#ed7953\"], [0.7777777777777778, \"#fb9f3a\"], [0.8888888888888888, \"#fdca26\"], [1.0, \"#f0f921\"]], \"type\": \"histogram2dcontour\"}], \"mesh3d\": [{\"colorbar\": {\"outlinewidth\": 0, \"ticks\": \"\"}, \"type\": \"mesh3d\"}], \"parcoords\": [{\"line\": {\"colorbar\": {\"outlinewidth\": 0, \"ticks\": \"\"}}, \"type\": \"parcoords\"}], \"pie\": [{\"automargin\": true, \"type\": \"pie\"}], \"scatter\": [{\"marker\": {\"colorbar\": {\"outlinewidth\": 0, \"ticks\": \"\"}}, \"type\": \"scatter\"}], \"scatter3d\": [{\"line\": {\"colorbar\": {\"outlinewidth\": 0, \"ticks\": \"\"}}, \"marker\": {\"colorbar\": {\"outlinewidth\": 0, \"ticks\": \"\"}}, \"type\": \"scatter3d\"}], \"scattercarpet\": [{\"marker\": {\"colorbar\": {\"outlinewidth\": 0, \"ticks\": \"\"}}, \"type\": \"scattercarpet\"}], \"scattergeo\": [{\"marker\": {\"colorbar\": {\"outlinewidth\": 0, \"ticks\": \"\"}}, \"type\": \"scattergeo\"}], \"scattergl\": [{\"marker\": {\"colorbar\": {\"outlinewidth\": 0, \"ticks\": \"\"}}, \"type\": \"scattergl\"}], \"scattermapbox\": [{\"marker\": {\"colorbar\": {\"outlinewidth\": 0, \"ticks\": \"\"}}, \"type\": \"scattermapbox\"}], \"scatterpolar\": [{\"marker\": {\"colorbar\": {\"outlinewidth\": 0, \"ticks\": \"\"}}, \"type\": \"scatterpolar\"}], \"scatterpolargl\": [{\"marker\": {\"colorbar\": {\"outlinewidth\": 0, \"ticks\": \"\"}}, \"type\": \"scatterpolargl\"}], \"scatterternary\": [{\"marker\": {\"colorbar\": {\"outlinewidth\": 0, \"ticks\": \"\"}}, \"type\": \"scatterternary\"}], \"surface\": [{\"colorbar\": {\"outlinewidth\": 0, \"ticks\": \"\"}, \"colorscale\": [[0.0, \"#0d0887\"], [0.1111111111111111, \"#46039f\"], [0.2222222222222222, \"#7201a8\"], [0.3333333333333333, \"#9c179e\"], [0.4444444444444444, \"#bd3786\"], [0.5555555555555556, \"#d8576b\"], [0.6666666666666666, \"#ed7953\"], [0.7777777777777778, \"#fb9f3a\"], [0.8888888888888888, \"#fdca26\"], [1.0, \"#f0f921\"]], \"type\": \"surface\"}], \"table\": [{\"cells\": {\"fill\": {\"color\": \"#EBF0F8\"}, \"line\": {\"color\": \"white\"}}, \"header\": {\"fill\": {\"color\": \"#C8D4E3\"}, \"line\": {\"color\": \"white\"}}, \"type\": \"table\"}]}, \"layout\": {\"annotationdefaults\": {\"arrowcolor\": \"#2a3f5f\", \"arrowhead\": 0, \"arrowwidth\": 1}, \"coloraxis\": {\"colorbar\": {\"outlinewidth\": 0, \"ticks\": \"\"}}, \"colorscale\": {\"diverging\": [[0, \"#8e0152\"], [0.1, \"#c51b7d\"], [0.2, \"#de77ae\"], [0.3, \"#f1b6da\"], [0.4, \"#fde0ef\"], [0.5, \"#f7f7f7\"], [0.6, \"#e6f5d0\"], [0.7, \"#b8e186\"], [0.8, \"#7fbc41\"], [0.9, \"#4d9221\"], [1, \"#276419\"]], \"sequential\": [[0.0, \"#0d0887\"], [0.1111111111111111, \"#46039f\"], [0.2222222222222222, \"#7201a8\"], [0.3333333333333333, \"#9c179e\"], [0.4444444444444444, \"#bd3786\"], [0.5555555555555556, \"#d8576b\"], [0.6666666666666666, \"#ed7953\"], [0.7777777777777778, \"#fb9f3a\"], [0.8888888888888888, \"#fdca26\"], [1.0, \"#f0f921\"]], \"sequentialminus\": [[0.0, \"#0d0887\"], [0.1111111111111111, \"#46039f\"], [0.2222222222222222, \"#7201a8\"], [0.3333333333333333, \"#9c179e\"], [0.4444444444444444, \"#bd3786\"], [0.5555555555555556, \"#d8576b\"], [0.6666666666666666, \"#ed7953\"], [0.7777777777777778, \"#fb9f3a\"], [0.8888888888888888, \"#fdca26\"], [1.0, \"#f0f921\"]]}, \"colorway\": [\"#636efa\", \"#EF553B\", \"#00cc96\", \"#ab63fa\", \"#FFA15A\", \"#19d3f3\", \"#FF6692\", \"#B6E880\", \"#FF97FF\", \"#FECB52\"], \"font\": {\"color\": \"#2a3f5f\"}, \"geo\": {\"bgcolor\": \"white\", \"lakecolor\": \"white\", \"landcolor\": \"#E5ECF6\", \"showlakes\": true, \"showland\": true, \"subunitcolor\": \"white\"}, \"hoverlabel\": {\"align\": \"left\"}, \"hovermode\": \"closest\", \"mapbox\": {\"style\": \"light\"}, \"paper_bgcolor\": \"white\", \"plot_bgcolor\": \"#E5ECF6\", \"polar\": {\"angularaxis\": {\"gridcolor\": \"white\", \"linecolor\": \"white\", \"ticks\": \"\"}, \"bgcolor\": \"#E5ECF6\", \"radialaxis\": {\"gridcolor\": \"white\", \"linecolor\": \"white\", \"ticks\": \"\"}}, \"scene\": {\"xaxis\": {\"backgroundcolor\": \"#E5ECF6\", \"gridcolor\": \"white\", \"gridwidth\": 2, \"linecolor\": \"white\", \"showbackground\": true, \"ticks\": \"\", \"zerolinecolor\": \"white\"}, \"yaxis\": {\"backgroundcolor\": \"#E5ECF6\", \"gridcolor\": \"white\", \"gridwidth\": 2, \"linecolor\": \"white\", \"showbackground\": true, \"ticks\": \"\", \"zerolinecolor\": \"white\"}, \"zaxis\": {\"backgroundcolor\": \"#E5ECF6\", \"gridcolor\": \"white\", \"gridwidth\": 2, \"linecolor\": \"white\", \"showbackground\": true, \"ticks\": \"\", \"zerolinecolor\": \"white\"}}, \"shapedefaults\": {\"line\": {\"color\": \"#2a3f5f\"}}, \"ternary\": {\"aaxis\": {\"gridcolor\": \"white\", \"linecolor\": \"white\", \"ticks\": \"\"}, \"baxis\": {\"gridcolor\": \"white\", \"linecolor\": \"white\", \"ticks\": \"\"}, \"bgcolor\": \"#E5ECF6\", \"caxis\": {\"gridcolor\": \"white\", \"linecolor\": \"white\", \"ticks\": \"\"}}, \"title\": {\"x\": 0.05}, \"xaxis\": {\"automargin\": true, \"gridcolor\": \"white\", \"linecolor\": \"white\", \"ticks\": \"\", \"title\": {\"standoff\": 15}, \"zerolinecolor\": \"white\", \"zerolinewidth\": 2}, \"yaxis\": {\"automargin\": true, \"gridcolor\": \"white\", \"linecolor\": \"white\", \"ticks\": \"\", \"title\": {\"standoff\": 15}, \"zerolinecolor\": \"white\", \"zerolinewidth\": 2}}}, \"title\": {\"text\": \"Figure-4: -- Sleep (mean) Comparison Between Males and Females'\", \"x\": 0.5}, \"width\": 1000, \"xaxis\": {\"anchor\": \"y\", \"categoryarray\": [\"Female\", \"Male\"], \"categoryorder\": \"array\", \"domain\": [0.0, 1.0], \"title\": {\"text\": \"Gender\"}}, \"yaxis\": {\"anchor\": \"x\", \"domain\": [0.0, 1.0], \"range\": [0, 10], \"title\": {\"text\": \"Total Sleep Hours\"}}},\n",
              "                        {\"responsive\": true}\n",
              "                    ).then(function(){\n",
              "                            \n",
              "var gd = document.getElementById('c2024bd5-cc4b-4e10-80db-b6bbd4546df5');\n",
              "var x = new MutationObserver(function (mutations, observer) {{\n",
              "        var display = window.getComputedStyle(gd).display;\n",
              "        if (!display || display === 'none') {{\n",
              "            console.log([gd, 'removed!']);\n",
              "            Plotly.purge(gd);\n",
              "            observer.disconnect();\n",
              "        }}\n",
              "}});\n",
              "\n",
              "// Listen for the removal of the full notebook cells\n",
              "var notebookContainer = gd.closest('#notebook-container');\n",
              "if (notebookContainer) {{\n",
              "    x.observe(notebookContainer, {childList: true});\n",
              "}}\n",
              "\n",
              "// Listen for the clearing of the current output cell\n",
              "var outputEl = gd.closest('.output');\n",
              "if (outputEl) {{\n",
              "    x.observe(outputEl, {childList: true});\n",
              "}}\n",
              "\n",
              "                        })\n",
              "                };\n",
              "                \n",
              "            </script>\n",
              "        </div>\n",
              "</body>\n",
              "</html>"
            ]
          },
          "metadata": {
            "tags": []
          }
        }
      ]
    },
    {
      "cell_type": "markdown",
      "metadata": {
        "id": "7Bd1ge_5_mnI"
      },
      "source": [
        "As it can already be seen, that there is no significant difference between total hours of sleep of Males and Females. Now, we will try to see if we receive the same results through our statistics or not."
      ]
    },
    {
      "cell_type": "code",
      "metadata": {
        "id": "luwZlUCA_pJj"
      },
      "source": [
        "# Finding Gender based Standard Deviation\n",
        "\n",
        "sleep_deviation = study_data.groupby('Gender')['Total Sleep Hours'].std()\n",
        "male_sleep_deviation = sleep_deviation['Male']\n",
        "female_sleep_deviation = sleep_deviation['Female']"
      ],
      "execution_count": null,
      "outputs": []
    },
    {
      "cell_type": "code",
      "metadata": {
        "id": "WsIN6tQG_rLL"
      },
      "source": [
        "# Finding out Gender based Variance\n",
        "\n",
        "male_sleep_variance = male_sleep_deviation**2\n",
        "female_sleep_variance = female_sleep_deviation**2"
      ],
      "execution_count": null,
      "outputs": []
    },
    {
      "cell_type": "code",
      "metadata": {
        "id": "XR8cLlHs_tWW"
      },
      "source": [
        "# Finding out the T-Score\n",
        "\n",
        "numerator = np.abs(male_sleep_mean - female_sleep_mean)\n",
        "denominator = np.sqrt((male_sleep_variance/sample_male) + (female_sleep_variance/sample_female))\n",
        "t_value = numerator/denominator"
      ],
      "execution_count": null,
      "outputs": []
    },
    {
      "cell_type": "code",
      "metadata": {
        "colab": {
          "base_uri": "https://localhost:8080/"
        },
        "id": "3UMe8KI5_wlH",
        "outputId": "f2576e4a-d62d-4640-a5d7-872aadeb3c2d"
      },
      "source": [
        "print(\"T-Score from the Gender Based Data and Statistics is : \", t_value)"
      ],
      "execution_count": null,
      "outputs": [
        {
          "output_type": "stream",
          "text": [
            "T-Score from the Gender Based Data and Statistics is :  0.22888766165986502\n"
          ],
          "name": "stdout"
        }
      ]
    },
    {
      "cell_type": "markdown",
      "metadata": {
        "id": "WGlpOlIg_yNs"
      },
      "source": [
        "Now, using the **T-Score**, we will find out the **p-value** through T-Distribution Table for Two-Tailed Test.  \n",
        "After looking through the T-Distribution Table, we get the p-value of 0.820251  \n",
        "\n",
        "As it can be seen that p-value is greater than the significance level i.e.  \n",
        "**p-value > $\\alpha$**  \n",
        "**0.820251 > 0.05**  \n",
        "\n",
        "Thus such large p-value leads to the evidence that there is no significant difference between hours of sleep for Males and Females. Therefore, we fail to reject the null hypothesis $H_0$."
      ]
    },
    {
      "cell_type": "markdown",
      "metadata": {
        "id": "MuiZO7t5_0LX"
      },
      "source": [
        "But, since this test is based on **Mean Values** and as we know **Outliers significantly impact Mean Values**. Thus, we will remove the outliers where Total Sleep Hours < 6 Hours && Total Sleep Hours > 9 Hours."
      ]
    },
    {
      "cell_type": "code",
      "metadata": {
        "id": "OtYmAUd2_3rn"
      },
      "source": [
        "# Calculating sample means\n",
        "\n",
        "study_data_interim = study_data[study_data['Total Sleep Hours'] >= 6.0]\n",
        "study_data_interim = study_data_interim[study_data_interim['Total Sleep Hours'] <= 9.0]\n",
        "sleep_means = study_data_interim.groupby('Gender')['Total Sleep Hours'].mean()\n",
        "male_sleep_mean = sleep_means['Male']\n",
        "female_sleep_mean = sleep_means['Female']"
      ],
      "execution_count": null,
      "outputs": []
    },
    {
      "cell_type": "code",
      "metadata": {
        "id": "KYJ4r1oX_6tw"
      },
      "source": [
        "# Calculating the sample size\n",
        "\n",
        "sample_male = len(study_data_interim[study_data_interim['Gender'] == 'Male'])\n",
        "sample_female = len(study_data_interim[study_data_interim['Gender'] == 'Female'])"
      ],
      "execution_count": null,
      "outputs": []
    },
    {
      "cell_type": "code",
      "metadata": {
        "id": "Rdm1o1z5_8i-"
      },
      "source": [
        "sleep_means = sleep_means.rename_axis().reset_index()"
      ],
      "execution_count": null,
      "outputs": []
    },
    {
      "cell_type": "code",
      "metadata": {
        "colab": {
          "base_uri": "https://localhost:8080/",
          "height": 542
        },
        "id": "WTLGWx-y_-a3",
        "outputId": "af13cd3d-dc61-43e3-a713-c2e022980bb0"
      },
      "source": [
        "# Using plotly to plot the graph\n",
        "\n",
        "gender_based_sleep_mean_plot = go.Figure()\n",
        "gender_based_sleep_mean_plot = px.bar(sleep_means, \n",
        "                                 x=\"Gender\", \n",
        "                                 y=\"Total Sleep Hours\", \n",
        "                                 color=\"Gender\", \n",
        "                                 text=\"Total Sleep Hours\", \n",
        "                                 range_y=[0,10])\n",
        "\n",
        "gender_based_sleep_mean_plot.update_layout(width=1000,\n",
        "                                title_text=\"Figure-5: -- Sleep (mean) Comparison Between Males and Females (Outliers Removed)'\",\n",
        "                                title_x=0.5, \n",
        "                                bargap=0.8)\n",
        "\n",
        "gender_based_sleep_mean_plot.update_traces(texttemplate='%{text:.2s} Hours', textposition='outside')\n",
        "gender_based_sleep_mean_plot.show()"
      ],
      "execution_count": null,
      "outputs": [
        {
          "output_type": "display_data",
          "data": {
            "text/html": [
              "<html>\n",
              "<head><meta charset=\"utf-8\" /></head>\n",
              "<body>\n",
              "    <div>\n",
              "            <script src=\"https://cdnjs.cloudflare.com/ajax/libs/mathjax/2.7.5/MathJax.js?config=TeX-AMS-MML_SVG\"></script><script type=\"text/javascript\">if (window.MathJax) {MathJax.Hub.Config({SVG: {font: \"STIX-Web\"}});}</script>\n",
              "                <script type=\"text/javascript\">window.PlotlyConfig = {MathJaxConfig: 'local'};</script>\n",
              "        <script src=\"https://cdn.plot.ly/plotly-latest.min.js\"></script>    \n",
              "            <div id=\"53ca9642-0931-4f34-9511-a11642625e30\" class=\"plotly-graph-div\" style=\"height:525px; width:1000px;\"></div>\n",
              "            <script type=\"text/javascript\">\n",
              "                \n",
              "                    window.PLOTLYENV=window.PLOTLYENV || {};\n",
              "                    \n",
              "                if (document.getElementById(\"53ca9642-0931-4f34-9511-a11642625e30\")) {\n",
              "                    Plotly.newPlot(\n",
              "                        '53ca9642-0931-4f34-9511-a11642625e30',\n",
              "                        [{\"alignmentgroup\": \"True\", \"hoverlabel\": {\"namelength\": 0}, \"hovertemplate\": \"Gender=%{x}<br>Total Sleep Hours=%{text}\", \"legendgroup\": \"Gender=Female\", \"marker\": {\"color\": \"#636efa\"}, \"name\": \"Gender=Female\", \"offsetgroup\": \"Gender=Female\", \"orientation\": \"v\", \"showlegend\": true, \"text\": [7.583333333285714], \"textposition\": \"outside\", \"texttemplate\": \"%{text:.2s} Hours\", \"type\": \"bar\", \"x\": [\"Female\"], \"xaxis\": \"x\", \"y\": [7.583333333285714], \"yaxis\": \"y\"}, {\"alignmentgroup\": \"True\", \"hoverlabel\": {\"namelength\": 0}, \"hovertemplate\": \"Gender=%{x}<br>Total Sleep Hours=%{text}\", \"legendgroup\": \"Gender=Male\", \"marker\": {\"color\": \"#EF553B\"}, \"name\": \"Gender=Male\", \"offsetgroup\": \"Gender=Male\", \"orientation\": \"v\", \"showlegend\": true, \"text\": [7.486666666680001], \"textposition\": \"outside\", \"texttemplate\": \"%{text:.2s} Hours\", \"type\": \"bar\", \"x\": [\"Male\"], \"xaxis\": \"x\", \"y\": [7.486666666680001], \"yaxis\": \"y\"}],\n",
              "                        {\"bargap\": 0.8, \"barmode\": \"relative\", \"legend\": {\"tracegroupgap\": 0}, \"margin\": {\"t\": 60}, \"template\": {\"data\": {\"bar\": [{\"error_x\": {\"color\": \"#2a3f5f\"}, \"error_y\": {\"color\": \"#2a3f5f\"}, \"marker\": {\"line\": {\"color\": \"#E5ECF6\", \"width\": 0.5}}, \"type\": \"bar\"}], \"barpolar\": [{\"marker\": {\"line\": {\"color\": \"#E5ECF6\", \"width\": 0.5}}, \"type\": \"barpolar\"}], \"carpet\": [{\"aaxis\": {\"endlinecolor\": \"#2a3f5f\", \"gridcolor\": \"white\", \"linecolor\": \"white\", \"minorgridcolor\": \"white\", \"startlinecolor\": \"#2a3f5f\"}, \"baxis\": {\"endlinecolor\": \"#2a3f5f\", \"gridcolor\": \"white\", \"linecolor\": \"white\", \"minorgridcolor\": \"white\", \"startlinecolor\": \"#2a3f5f\"}, \"type\": \"carpet\"}], \"choropleth\": [{\"colorbar\": {\"outlinewidth\": 0, \"ticks\": \"\"}, \"type\": \"choropleth\"}], \"contour\": [{\"colorbar\": {\"outlinewidth\": 0, \"ticks\": \"\"}, \"colorscale\": [[0.0, \"#0d0887\"], [0.1111111111111111, \"#46039f\"], [0.2222222222222222, \"#7201a8\"], [0.3333333333333333, \"#9c179e\"], [0.4444444444444444, \"#bd3786\"], [0.5555555555555556, \"#d8576b\"], [0.6666666666666666, \"#ed7953\"], [0.7777777777777778, \"#fb9f3a\"], [0.8888888888888888, \"#fdca26\"], [1.0, \"#f0f921\"]], \"type\": \"contour\"}], \"contourcarpet\": [{\"colorbar\": {\"outlinewidth\": 0, \"ticks\": \"\"}, \"type\": \"contourcarpet\"}], \"heatmap\": [{\"colorbar\": {\"outlinewidth\": 0, \"ticks\": \"\"}, \"colorscale\": [[0.0, \"#0d0887\"], [0.1111111111111111, \"#46039f\"], [0.2222222222222222, \"#7201a8\"], [0.3333333333333333, \"#9c179e\"], [0.4444444444444444, \"#bd3786\"], [0.5555555555555556, \"#d8576b\"], [0.6666666666666666, \"#ed7953\"], [0.7777777777777778, \"#fb9f3a\"], [0.8888888888888888, \"#fdca26\"], [1.0, \"#f0f921\"]], \"type\": \"heatmap\"}], \"heatmapgl\": [{\"colorbar\": {\"outlinewidth\": 0, \"ticks\": \"\"}, \"colorscale\": [[0.0, \"#0d0887\"], [0.1111111111111111, \"#46039f\"], [0.2222222222222222, \"#7201a8\"], [0.3333333333333333, \"#9c179e\"], [0.4444444444444444, \"#bd3786\"], [0.5555555555555556, \"#d8576b\"], [0.6666666666666666, \"#ed7953\"], [0.7777777777777778, \"#fb9f3a\"], [0.8888888888888888, \"#fdca26\"], [1.0, \"#f0f921\"]], \"type\": \"heatmapgl\"}], \"histogram\": [{\"marker\": {\"colorbar\": {\"outlinewidth\": 0, \"ticks\": \"\"}}, \"type\": \"histogram\"}], \"histogram2d\": [{\"colorbar\": {\"outlinewidth\": 0, \"ticks\": \"\"}, \"colorscale\": [[0.0, \"#0d0887\"], [0.1111111111111111, \"#46039f\"], [0.2222222222222222, \"#7201a8\"], [0.3333333333333333, \"#9c179e\"], [0.4444444444444444, \"#bd3786\"], [0.5555555555555556, \"#d8576b\"], [0.6666666666666666, \"#ed7953\"], [0.7777777777777778, \"#fb9f3a\"], [0.8888888888888888, \"#fdca26\"], [1.0, \"#f0f921\"]], \"type\": \"histogram2d\"}], \"histogram2dcontour\": [{\"colorbar\": {\"outlinewidth\": 0, \"ticks\": \"\"}, \"colorscale\": [[0.0, \"#0d0887\"], [0.1111111111111111, \"#46039f\"], [0.2222222222222222, \"#7201a8\"], [0.3333333333333333, \"#9c179e\"], [0.4444444444444444, \"#bd3786\"], [0.5555555555555556, \"#d8576b\"], [0.6666666666666666, \"#ed7953\"], [0.7777777777777778, \"#fb9f3a\"], [0.8888888888888888, \"#fdca26\"], [1.0, \"#f0f921\"]], \"type\": \"histogram2dcontour\"}], \"mesh3d\": [{\"colorbar\": {\"outlinewidth\": 0, \"ticks\": \"\"}, \"type\": \"mesh3d\"}], \"parcoords\": [{\"line\": {\"colorbar\": {\"outlinewidth\": 0, \"ticks\": \"\"}}, \"type\": \"parcoords\"}], \"pie\": [{\"automargin\": true, \"type\": \"pie\"}], \"scatter\": [{\"marker\": {\"colorbar\": {\"outlinewidth\": 0, \"ticks\": \"\"}}, \"type\": \"scatter\"}], \"scatter3d\": [{\"line\": {\"colorbar\": {\"outlinewidth\": 0, \"ticks\": \"\"}}, \"marker\": {\"colorbar\": {\"outlinewidth\": 0, \"ticks\": \"\"}}, \"type\": \"scatter3d\"}], \"scattercarpet\": [{\"marker\": {\"colorbar\": {\"outlinewidth\": 0, \"ticks\": \"\"}}, \"type\": \"scattercarpet\"}], \"scattergeo\": [{\"marker\": {\"colorbar\": {\"outlinewidth\": 0, \"ticks\": \"\"}}, \"type\": \"scattergeo\"}], \"scattergl\": [{\"marker\": {\"colorbar\": {\"outlinewidth\": 0, \"ticks\": \"\"}}, \"type\": \"scattergl\"}], \"scattermapbox\": [{\"marker\": {\"colorbar\": {\"outlinewidth\": 0, \"ticks\": \"\"}}, \"type\": \"scattermapbox\"}], \"scatterpolar\": [{\"marker\": {\"colorbar\": {\"outlinewidth\": 0, \"ticks\": \"\"}}, \"type\": \"scatterpolar\"}], \"scatterpolargl\": [{\"marker\": {\"colorbar\": {\"outlinewidth\": 0, \"ticks\": \"\"}}, \"type\": \"scatterpolargl\"}], \"scatterternary\": [{\"marker\": {\"colorbar\": {\"outlinewidth\": 0, \"ticks\": \"\"}}, \"type\": \"scatterternary\"}], \"surface\": [{\"colorbar\": {\"outlinewidth\": 0, \"ticks\": \"\"}, \"colorscale\": [[0.0, \"#0d0887\"], [0.1111111111111111, \"#46039f\"], [0.2222222222222222, \"#7201a8\"], [0.3333333333333333, \"#9c179e\"], [0.4444444444444444, \"#bd3786\"], [0.5555555555555556, \"#d8576b\"], [0.6666666666666666, \"#ed7953\"], [0.7777777777777778, \"#fb9f3a\"], [0.8888888888888888, \"#fdca26\"], [1.0, \"#f0f921\"]], \"type\": \"surface\"}], \"table\": [{\"cells\": {\"fill\": {\"color\": \"#EBF0F8\"}, \"line\": {\"color\": \"white\"}}, \"header\": {\"fill\": {\"color\": \"#C8D4E3\"}, \"line\": {\"color\": \"white\"}}, \"type\": \"table\"}]}, \"layout\": {\"annotationdefaults\": {\"arrowcolor\": \"#2a3f5f\", \"arrowhead\": 0, \"arrowwidth\": 1}, \"coloraxis\": {\"colorbar\": {\"outlinewidth\": 0, \"ticks\": \"\"}}, \"colorscale\": {\"diverging\": [[0, \"#8e0152\"], [0.1, \"#c51b7d\"], [0.2, \"#de77ae\"], [0.3, \"#f1b6da\"], [0.4, \"#fde0ef\"], [0.5, \"#f7f7f7\"], [0.6, \"#e6f5d0\"], [0.7, \"#b8e186\"], [0.8, \"#7fbc41\"], [0.9, \"#4d9221\"], [1, \"#276419\"]], \"sequential\": [[0.0, \"#0d0887\"], [0.1111111111111111, \"#46039f\"], [0.2222222222222222, \"#7201a8\"], [0.3333333333333333, \"#9c179e\"], [0.4444444444444444, \"#bd3786\"], [0.5555555555555556, \"#d8576b\"], [0.6666666666666666, \"#ed7953\"], [0.7777777777777778, \"#fb9f3a\"], [0.8888888888888888, \"#fdca26\"], [1.0, \"#f0f921\"]], \"sequentialminus\": [[0.0, \"#0d0887\"], [0.1111111111111111, \"#46039f\"], [0.2222222222222222, \"#7201a8\"], [0.3333333333333333, \"#9c179e\"], [0.4444444444444444, \"#bd3786\"], [0.5555555555555556, \"#d8576b\"], [0.6666666666666666, \"#ed7953\"], [0.7777777777777778, \"#fb9f3a\"], [0.8888888888888888, \"#fdca26\"], [1.0, \"#f0f921\"]]}, \"colorway\": [\"#636efa\", \"#EF553B\", \"#00cc96\", \"#ab63fa\", \"#FFA15A\", \"#19d3f3\", \"#FF6692\", \"#B6E880\", \"#FF97FF\", \"#FECB52\"], \"font\": {\"color\": \"#2a3f5f\"}, \"geo\": {\"bgcolor\": \"white\", \"lakecolor\": \"white\", \"landcolor\": \"#E5ECF6\", \"showlakes\": true, \"showland\": true, \"subunitcolor\": \"white\"}, \"hoverlabel\": {\"align\": \"left\"}, \"hovermode\": \"closest\", \"mapbox\": {\"style\": \"light\"}, \"paper_bgcolor\": \"white\", \"plot_bgcolor\": \"#E5ECF6\", \"polar\": {\"angularaxis\": {\"gridcolor\": \"white\", \"linecolor\": \"white\", \"ticks\": \"\"}, \"bgcolor\": \"#E5ECF6\", \"radialaxis\": {\"gridcolor\": \"white\", \"linecolor\": \"white\", \"ticks\": \"\"}}, \"scene\": {\"xaxis\": {\"backgroundcolor\": \"#E5ECF6\", \"gridcolor\": \"white\", \"gridwidth\": 2, \"linecolor\": \"white\", \"showbackground\": true, \"ticks\": \"\", \"zerolinecolor\": \"white\"}, \"yaxis\": {\"backgroundcolor\": \"#E5ECF6\", \"gridcolor\": \"white\", \"gridwidth\": 2, \"linecolor\": \"white\", \"showbackground\": true, \"ticks\": \"\", \"zerolinecolor\": \"white\"}, \"zaxis\": {\"backgroundcolor\": \"#E5ECF6\", \"gridcolor\": \"white\", \"gridwidth\": 2, \"linecolor\": \"white\", \"showbackground\": true, \"ticks\": \"\", \"zerolinecolor\": \"white\"}}, \"shapedefaults\": {\"line\": {\"color\": \"#2a3f5f\"}}, \"ternary\": {\"aaxis\": {\"gridcolor\": \"white\", \"linecolor\": \"white\", \"ticks\": \"\"}, \"baxis\": {\"gridcolor\": \"white\", \"linecolor\": \"white\", \"ticks\": \"\"}, \"bgcolor\": \"#E5ECF6\", \"caxis\": {\"gridcolor\": \"white\", \"linecolor\": \"white\", \"ticks\": \"\"}}, \"title\": {\"x\": 0.05}, \"xaxis\": {\"automargin\": true, \"gridcolor\": \"white\", \"linecolor\": \"white\", \"ticks\": \"\", \"title\": {\"standoff\": 15}, \"zerolinecolor\": \"white\", \"zerolinewidth\": 2}, \"yaxis\": {\"automargin\": true, \"gridcolor\": \"white\", \"linecolor\": \"white\", \"ticks\": \"\", \"title\": {\"standoff\": 15}, \"zerolinecolor\": \"white\", \"zerolinewidth\": 2}}}, \"title\": {\"text\": \"Figure-5: -- Sleep (mean) Comparison Between Males and Females (Outliers Removed)'\", \"x\": 0.5}, \"width\": 1000, \"xaxis\": {\"anchor\": \"y\", \"categoryarray\": [\"Female\", \"Male\"], \"categoryorder\": \"array\", \"domain\": [0.0, 1.0], \"title\": {\"text\": \"Gender\"}}, \"yaxis\": {\"anchor\": \"x\", \"domain\": [0.0, 1.0], \"range\": [0, 10], \"title\": {\"text\": \"Total Sleep Hours\"}}},\n",
              "                        {\"responsive\": true}\n",
              "                    ).then(function(){\n",
              "                            \n",
              "var gd = document.getElementById('53ca9642-0931-4f34-9511-a11642625e30');\n",
              "var x = new MutationObserver(function (mutations, observer) {{\n",
              "        var display = window.getComputedStyle(gd).display;\n",
              "        if (!display || display === 'none') {{\n",
              "            console.log([gd, 'removed!']);\n",
              "            Plotly.purge(gd);\n",
              "            observer.disconnect();\n",
              "        }}\n",
              "}});\n",
              "\n",
              "// Listen for the removal of the full notebook cells\n",
              "var notebookContainer = gd.closest('#notebook-container');\n",
              "if (notebookContainer) {{\n",
              "    x.observe(notebookContainer, {childList: true});\n",
              "}}\n",
              "\n",
              "// Listen for the clearing of the current output cell\n",
              "var outputEl = gd.closest('.output');\n",
              "if (outputEl) {{\n",
              "    x.observe(outputEl, {childList: true});\n",
              "}}\n",
              "\n",
              "                        })\n",
              "                };\n",
              "                \n",
              "            </script>\n",
              "        </div>\n",
              "</body>\n",
              "</html>"
            ]
          },
          "metadata": {
            "tags": []
          }
        }
      ]
    },
    {
      "cell_type": "markdown",
      "metadata": {
        "id": "mjPXF3kiACxB"
      },
      "source": [
        "As it can already be seen, that there is no significant difference between total hours of sleep of Males and Females. One noticeable difference after removing the outliers is that Mean Hours of Sleep for Females have increased whereas for Males, Mean Hours of Sleep remain the same."
      ]
    },
    {
      "cell_type": "code",
      "metadata": {
        "id": "FOD2j0NxADu7"
      },
      "source": [
        "# Finding Gender based Standard Deviation\n",
        "\n",
        "sleep_deviation = study_data.groupby('Gender')['Total Sleep Hours'].std()\n",
        "male_sleep_deviation = sleep_deviation['Male']\n",
        "female_sleep_deviation = sleep_deviation['Female']"
      ],
      "execution_count": null,
      "outputs": []
    },
    {
      "cell_type": "code",
      "metadata": {
        "id": "N7Gm7SCqAFjy"
      },
      "source": [
        "# Finding out Gender based Variance\n",
        "\n",
        "male_sleep_variance = male_sleep_deviation**2\n",
        "female_sleep_variance = female_sleep_deviation**2"
      ],
      "execution_count": null,
      "outputs": []
    },
    {
      "cell_type": "code",
      "metadata": {
        "id": "pTyZ0xyeAIT6"
      },
      "source": [
        "# Finding out the T-Score\n",
        "\n",
        "numerator = np.abs(male_sleep_mean - female_sleep_mean)\n",
        "denominator = np.sqrt((male_sleep_variance/sample_male) + (female_sleep_variance/sample_female))\n",
        "t_value = numerator/denominator"
      ],
      "execution_count": null,
      "outputs": []
    },
    {
      "cell_type": "code",
      "metadata": {
        "colab": {
          "base_uri": "https://localhost:8080/"
        },
        "id": "-I3Nc7atAKiz",
        "outputId": "0f3f088c-91e1-4d28-b20c-45356c73df1c"
      },
      "source": [
        "print(\"T-Score from the Gender Based Data and Statistics is : \", t_value)"
      ],
      "execution_count": null,
      "outputs": [
        {
          "output_type": "stream",
          "text": [
            "T-Score from the Gender Based Data and Statistics is :  0.28553557895959053\n"
          ],
          "name": "stdout"
        }
      ]
    },
    {
      "cell_type": "markdown",
      "metadata": {
        "id": "-5ny0H3CAO_f"
      },
      "source": [
        "Now, using the **T-Score**, we will find out the **p-value** through T-Distribution Table for Two-Tailed Test.  \n",
        "After looking through the T-Distribution Table, we get the p-value of 0.77126  \n",
        "\n",
        "As it can be seen that p-value is greater than the significance level i.e.  \n",
        "**p-value > $\\alpha$**  \n",
        "**0.77126 > 0.05**  \n",
        "\n",
        "Thus, even after removing the outliers, we get similarly large p-value leading to the evidence that there is no significant difference between hours of sleep for Males and Females. Therefore, we fail to reject the null hypothesis $H_0$."
      ]
    },
    {
      "cell_type": "code",
      "metadata": {
        "id": "N590bIU-AQwM"
      },
      "source": [
        "# Calculating Sample Sizes for Smokers and Non-Smokers\n",
        "\n",
        "sample_nonsmoker = len(study_data[study_data['Smoker'] == 0])\n",
        "sample_smoker = len(study_data[study_data['Smoker'] == 1])"
      ],
      "execution_count": null,
      "outputs": []
    },
    {
      "cell_type": "code",
      "metadata": {
        "id": "4HNzeDSrAT7y"
      },
      "source": [
        "# Calculating the Mean Hours of Sleep for Smokers and Non-Smokers\n",
        "\n",
        "sleep_means = study_data.groupby('Smoker')['Total Sleep Hours'].mean()\n",
        "nonsmoker_mean = sleep_means[0]\n",
        "smoker_mean = sleep_means[1]"
      ],
      "execution_count": null,
      "outputs": []
    },
    {
      "cell_type": "code",
      "metadata": {
        "id": "Vj9bm5izAWFa"
      },
      "source": [
        "sleep_means = sleep_means.rename_axis().reset_index()"
      ],
      "execution_count": null,
      "outputs": []
    },
    {
      "cell_type": "code",
      "metadata": {
        "id": "wPKIDyxHAYmE"
      },
      "source": [
        "sleep_means.loc[sleep_means['Smoker'] == 0, 'Smoking Status'] = 'Non-Smokers'\n",
        "sleep_means.loc[sleep_means['Smoker'] == 1, 'Smoking Status'] = 'Smokers'"
      ],
      "execution_count": null,
      "outputs": []
    },
    {
      "cell_type": "code",
      "metadata": {
        "colab": {
          "base_uri": "https://localhost:8080/",
          "height": 542
        },
        "id": "MGGV7CFTAajt",
        "outputId": "d6fdb95f-7b94-4bb6-cc6b-cff7cd407d93"
      },
      "source": [
        "# Using plotly to plot the graph\n",
        "\n",
        "gender_based_sleep_mean_plot = go.Figure()\n",
        "gender_based_sleep_mean_plot = px.bar(sleep_means, \n",
        "                                 x=\"Smoking Status\", \n",
        "                                 y=\"Total Sleep Hours\", \n",
        "                                 color=\"Smoking Status\", \n",
        "                                 text=\"Total Sleep Hours\", \n",
        "                                 range_y=[0,10])\n",
        "\n",
        "gender_based_sleep_mean_plot.update_layout(width=1000,\n",
        "                                title_text=\"Figure-6: -- Sleep (mean) Comparison Between Smokers and Non-Smokers'\",\n",
        "                                title_x=0.5, \n",
        "                                bargap=0.8)\n",
        "\n",
        "gender_based_sleep_mean_plot.update_traces(texttemplate='%{text:.2s} Hours', textposition='outside')\n",
        "gender_based_sleep_mean_plot.show()"
      ],
      "execution_count": null,
      "outputs": [
        {
          "output_type": "display_data",
          "data": {
            "text/html": [
              "<html>\n",
              "<head><meta charset=\"utf-8\" /></head>\n",
              "<body>\n",
              "    <div>\n",
              "            <script src=\"https://cdnjs.cloudflare.com/ajax/libs/mathjax/2.7.5/MathJax.js?config=TeX-AMS-MML_SVG\"></script><script type=\"text/javascript\">if (window.MathJax) {MathJax.Hub.Config({SVG: {font: \"STIX-Web\"}});}</script>\n",
              "                <script type=\"text/javascript\">window.PlotlyConfig = {MathJaxConfig: 'local'};</script>\n",
              "        <script src=\"https://cdn.plot.ly/plotly-latest.min.js\"></script>    \n",
              "            <div id=\"e28fea2c-ddd9-4714-a827-4d2fcb15e156\" class=\"plotly-graph-div\" style=\"height:525px; width:1000px;\"></div>\n",
              "            <script type=\"text/javascript\">\n",
              "                \n",
              "                    window.PLOTLYENV=window.PLOTLYENV || {};\n",
              "                    \n",
              "                if (document.getElementById(\"e28fea2c-ddd9-4714-a827-4d2fcb15e156\")) {\n",
              "                    Plotly.newPlot(\n",
              "                        'e28fea2c-ddd9-4714-a827-4d2fcb15e156',\n",
              "                        [{\"alignmentgroup\": \"True\", \"hoverlabel\": {\"namelength\": 0}, \"hovertemplate\": \"Smoking Status=%{x}<br>Total Sleep Hours=%{text}\", \"legendgroup\": \"Smoking Status=Non-Smokers\", \"marker\": {\"color\": \"#636efa\"}, \"name\": \"Smoking Status=Non-Smokers\", \"offsetgroup\": \"Smoking Status=Non-Smokers\", \"orientation\": \"v\", \"showlegend\": true, \"text\": [7.233333333320001], \"textposition\": \"outside\", \"texttemplate\": \"%{text:.2s} Hours\", \"type\": \"bar\", \"x\": [\"Non-Smokers\"], \"xaxis\": \"x\", \"y\": [7.233333333320001], \"yaxis\": \"y\"}, {\"alignmentgroup\": \"True\", \"hoverlabel\": {\"namelength\": 0}, \"hovertemplate\": \"Smoking Status=%{x}<br>Total Sleep Hours=%{text}\", \"legendgroup\": \"Smoking Status=Smokers\", \"marker\": {\"color\": \"#EF553B\"}, \"name\": \"Smoking Status=Smokers\", \"offsetgroup\": \"Smoking Status=Smokers\", \"orientation\": \"v\", \"showlegend\": true, \"text\": [7.833333333333333], \"textposition\": \"outside\", \"texttemplate\": \"%{text:.2s} Hours\", \"type\": \"bar\", \"x\": [\"Smokers\"], \"xaxis\": \"x\", \"y\": [7.833333333333333], \"yaxis\": \"y\"}],\n",
              "                        {\"bargap\": 0.8, \"barmode\": \"relative\", \"legend\": {\"tracegroupgap\": 0}, \"margin\": {\"t\": 60}, \"template\": {\"data\": {\"bar\": [{\"error_x\": {\"color\": \"#2a3f5f\"}, \"error_y\": {\"color\": \"#2a3f5f\"}, \"marker\": {\"line\": {\"color\": \"#E5ECF6\", \"width\": 0.5}}, \"type\": \"bar\"}], \"barpolar\": [{\"marker\": {\"line\": {\"color\": \"#E5ECF6\", \"width\": 0.5}}, \"type\": \"barpolar\"}], \"carpet\": [{\"aaxis\": {\"endlinecolor\": \"#2a3f5f\", \"gridcolor\": \"white\", \"linecolor\": \"white\", \"minorgridcolor\": \"white\", \"startlinecolor\": \"#2a3f5f\"}, \"baxis\": {\"endlinecolor\": \"#2a3f5f\", \"gridcolor\": \"white\", \"linecolor\": \"white\", \"minorgridcolor\": \"white\", \"startlinecolor\": \"#2a3f5f\"}, \"type\": \"carpet\"}], \"choropleth\": [{\"colorbar\": {\"outlinewidth\": 0, \"ticks\": \"\"}, \"type\": \"choropleth\"}], \"contour\": [{\"colorbar\": {\"outlinewidth\": 0, \"ticks\": \"\"}, \"colorscale\": [[0.0, \"#0d0887\"], [0.1111111111111111, \"#46039f\"], [0.2222222222222222, \"#7201a8\"], [0.3333333333333333, \"#9c179e\"], [0.4444444444444444, \"#bd3786\"], [0.5555555555555556, \"#d8576b\"], [0.6666666666666666, \"#ed7953\"], [0.7777777777777778, \"#fb9f3a\"], [0.8888888888888888, \"#fdca26\"], [1.0, \"#f0f921\"]], \"type\": \"contour\"}], \"contourcarpet\": [{\"colorbar\": {\"outlinewidth\": 0, \"ticks\": \"\"}, \"type\": \"contourcarpet\"}], \"heatmap\": [{\"colorbar\": {\"outlinewidth\": 0, \"ticks\": \"\"}, \"colorscale\": [[0.0, \"#0d0887\"], [0.1111111111111111, \"#46039f\"], [0.2222222222222222, \"#7201a8\"], [0.3333333333333333, \"#9c179e\"], [0.4444444444444444, \"#bd3786\"], [0.5555555555555556, \"#d8576b\"], [0.6666666666666666, \"#ed7953\"], [0.7777777777777778, \"#fb9f3a\"], [0.8888888888888888, \"#fdca26\"], [1.0, \"#f0f921\"]], \"type\": \"heatmap\"}], \"heatmapgl\": [{\"colorbar\": {\"outlinewidth\": 0, \"ticks\": \"\"}, \"colorscale\": [[0.0, \"#0d0887\"], [0.1111111111111111, \"#46039f\"], [0.2222222222222222, \"#7201a8\"], [0.3333333333333333, \"#9c179e\"], [0.4444444444444444, \"#bd3786\"], [0.5555555555555556, \"#d8576b\"], [0.6666666666666666, \"#ed7953\"], [0.7777777777777778, \"#fb9f3a\"], [0.8888888888888888, \"#fdca26\"], [1.0, \"#f0f921\"]], \"type\": \"heatmapgl\"}], \"histogram\": [{\"marker\": {\"colorbar\": {\"outlinewidth\": 0, \"ticks\": \"\"}}, \"type\": \"histogram\"}], \"histogram2d\": [{\"colorbar\": {\"outlinewidth\": 0, \"ticks\": \"\"}, \"colorscale\": [[0.0, \"#0d0887\"], [0.1111111111111111, \"#46039f\"], [0.2222222222222222, \"#7201a8\"], [0.3333333333333333, \"#9c179e\"], [0.4444444444444444, \"#bd3786\"], [0.5555555555555556, \"#d8576b\"], [0.6666666666666666, \"#ed7953\"], [0.7777777777777778, \"#fb9f3a\"], [0.8888888888888888, \"#fdca26\"], [1.0, \"#f0f921\"]], \"type\": \"histogram2d\"}], \"histogram2dcontour\": [{\"colorbar\": {\"outlinewidth\": 0, \"ticks\": \"\"}, \"colorscale\": [[0.0, \"#0d0887\"], [0.1111111111111111, \"#46039f\"], [0.2222222222222222, \"#7201a8\"], [0.3333333333333333, \"#9c179e\"], [0.4444444444444444, \"#bd3786\"], [0.5555555555555556, \"#d8576b\"], [0.6666666666666666, \"#ed7953\"], [0.7777777777777778, \"#fb9f3a\"], [0.8888888888888888, \"#fdca26\"], [1.0, \"#f0f921\"]], \"type\": \"histogram2dcontour\"}], \"mesh3d\": [{\"colorbar\": {\"outlinewidth\": 0, \"ticks\": \"\"}, \"type\": \"mesh3d\"}], \"parcoords\": [{\"line\": {\"colorbar\": {\"outlinewidth\": 0, \"ticks\": \"\"}}, \"type\": \"parcoords\"}], \"pie\": [{\"automargin\": true, \"type\": \"pie\"}], \"scatter\": [{\"marker\": {\"colorbar\": {\"outlinewidth\": 0, \"ticks\": \"\"}}, \"type\": \"scatter\"}], \"scatter3d\": [{\"line\": {\"colorbar\": {\"outlinewidth\": 0, \"ticks\": \"\"}}, \"marker\": {\"colorbar\": {\"outlinewidth\": 0, \"ticks\": \"\"}}, \"type\": \"scatter3d\"}], \"scattercarpet\": [{\"marker\": {\"colorbar\": {\"outlinewidth\": 0, \"ticks\": \"\"}}, \"type\": \"scattercarpet\"}], \"scattergeo\": [{\"marker\": {\"colorbar\": {\"outlinewidth\": 0, \"ticks\": \"\"}}, \"type\": \"scattergeo\"}], \"scattergl\": [{\"marker\": {\"colorbar\": {\"outlinewidth\": 0, \"ticks\": \"\"}}, \"type\": \"scattergl\"}], \"scattermapbox\": [{\"marker\": {\"colorbar\": {\"outlinewidth\": 0, \"ticks\": \"\"}}, \"type\": \"scattermapbox\"}], \"scatterpolar\": [{\"marker\": {\"colorbar\": {\"outlinewidth\": 0, \"ticks\": \"\"}}, \"type\": \"scatterpolar\"}], \"scatterpolargl\": [{\"marker\": {\"colorbar\": {\"outlinewidth\": 0, \"ticks\": \"\"}}, \"type\": \"scatterpolargl\"}], \"scatterternary\": [{\"marker\": {\"colorbar\": {\"outlinewidth\": 0, \"ticks\": \"\"}}, \"type\": \"scatterternary\"}], \"surface\": [{\"colorbar\": {\"outlinewidth\": 0, \"ticks\": \"\"}, \"colorscale\": [[0.0, \"#0d0887\"], [0.1111111111111111, \"#46039f\"], [0.2222222222222222, \"#7201a8\"], [0.3333333333333333, \"#9c179e\"], [0.4444444444444444, \"#bd3786\"], [0.5555555555555556, \"#d8576b\"], [0.6666666666666666, \"#ed7953\"], [0.7777777777777778, \"#fb9f3a\"], [0.8888888888888888, \"#fdca26\"], [1.0, \"#f0f921\"]], \"type\": \"surface\"}], \"table\": [{\"cells\": {\"fill\": {\"color\": \"#EBF0F8\"}, \"line\": {\"color\": \"white\"}}, \"header\": {\"fill\": {\"color\": \"#C8D4E3\"}, \"line\": {\"color\": \"white\"}}, \"type\": \"table\"}]}, \"layout\": {\"annotationdefaults\": {\"arrowcolor\": \"#2a3f5f\", \"arrowhead\": 0, \"arrowwidth\": 1}, \"coloraxis\": {\"colorbar\": {\"outlinewidth\": 0, \"ticks\": \"\"}}, \"colorscale\": {\"diverging\": [[0, \"#8e0152\"], [0.1, \"#c51b7d\"], [0.2, \"#de77ae\"], [0.3, \"#f1b6da\"], [0.4, \"#fde0ef\"], [0.5, \"#f7f7f7\"], [0.6, \"#e6f5d0\"], [0.7, \"#b8e186\"], [0.8, \"#7fbc41\"], [0.9, \"#4d9221\"], [1, \"#276419\"]], \"sequential\": [[0.0, \"#0d0887\"], [0.1111111111111111, \"#46039f\"], [0.2222222222222222, \"#7201a8\"], [0.3333333333333333, \"#9c179e\"], [0.4444444444444444, \"#bd3786\"], [0.5555555555555556, \"#d8576b\"], [0.6666666666666666, \"#ed7953\"], [0.7777777777777778, \"#fb9f3a\"], [0.8888888888888888, \"#fdca26\"], [1.0, \"#f0f921\"]], \"sequentialminus\": [[0.0, \"#0d0887\"], [0.1111111111111111, \"#46039f\"], [0.2222222222222222, \"#7201a8\"], [0.3333333333333333, \"#9c179e\"], [0.4444444444444444, \"#bd3786\"], [0.5555555555555556, \"#d8576b\"], [0.6666666666666666, \"#ed7953\"], [0.7777777777777778, \"#fb9f3a\"], [0.8888888888888888, \"#fdca26\"], [1.0, \"#f0f921\"]]}, \"colorway\": [\"#636efa\", \"#EF553B\", \"#00cc96\", \"#ab63fa\", \"#FFA15A\", \"#19d3f3\", \"#FF6692\", \"#B6E880\", \"#FF97FF\", \"#FECB52\"], \"font\": {\"color\": \"#2a3f5f\"}, \"geo\": {\"bgcolor\": \"white\", \"lakecolor\": \"white\", \"landcolor\": \"#E5ECF6\", \"showlakes\": true, \"showland\": true, \"subunitcolor\": \"white\"}, \"hoverlabel\": {\"align\": \"left\"}, \"hovermode\": \"closest\", \"mapbox\": {\"style\": \"light\"}, \"paper_bgcolor\": \"white\", \"plot_bgcolor\": \"#E5ECF6\", \"polar\": {\"angularaxis\": {\"gridcolor\": \"white\", \"linecolor\": \"white\", \"ticks\": \"\"}, \"bgcolor\": \"#E5ECF6\", \"radialaxis\": {\"gridcolor\": \"white\", \"linecolor\": \"white\", \"ticks\": \"\"}}, \"scene\": {\"xaxis\": {\"backgroundcolor\": \"#E5ECF6\", \"gridcolor\": \"white\", \"gridwidth\": 2, \"linecolor\": \"white\", \"showbackground\": true, \"ticks\": \"\", \"zerolinecolor\": \"white\"}, \"yaxis\": {\"backgroundcolor\": \"#E5ECF6\", \"gridcolor\": \"white\", \"gridwidth\": 2, \"linecolor\": \"white\", \"showbackground\": true, \"ticks\": \"\", \"zerolinecolor\": \"white\"}, \"zaxis\": {\"backgroundcolor\": \"#E5ECF6\", \"gridcolor\": \"white\", \"gridwidth\": 2, \"linecolor\": \"white\", \"showbackground\": true, \"ticks\": \"\", \"zerolinecolor\": \"white\"}}, \"shapedefaults\": {\"line\": {\"color\": \"#2a3f5f\"}}, \"ternary\": {\"aaxis\": {\"gridcolor\": \"white\", \"linecolor\": \"white\", \"ticks\": \"\"}, \"baxis\": {\"gridcolor\": \"white\", \"linecolor\": \"white\", \"ticks\": \"\"}, \"bgcolor\": \"#E5ECF6\", \"caxis\": {\"gridcolor\": \"white\", \"linecolor\": \"white\", \"ticks\": \"\"}}, \"title\": {\"x\": 0.05}, \"xaxis\": {\"automargin\": true, \"gridcolor\": \"white\", \"linecolor\": \"white\", \"ticks\": \"\", \"title\": {\"standoff\": 15}, \"zerolinecolor\": \"white\", \"zerolinewidth\": 2}, \"yaxis\": {\"automargin\": true, \"gridcolor\": \"white\", \"linecolor\": \"white\", \"ticks\": \"\", \"title\": {\"standoff\": 15}, \"zerolinecolor\": \"white\", \"zerolinewidth\": 2}}}, \"title\": {\"text\": \"Figure-6: -- Sleep (mean) Comparison Between Smokers and Non-Smokers'\", \"x\": 0.5}, \"width\": 1000, \"xaxis\": {\"anchor\": \"y\", \"categoryarray\": [\"Non-Smokers\", \"Smokers\"], \"categoryorder\": \"array\", \"domain\": [0.0, 1.0], \"title\": {\"text\": \"Smoking Status\"}}, \"yaxis\": {\"anchor\": \"x\", \"domain\": [0.0, 1.0], \"range\": [0, 10], \"title\": {\"text\": \"Total Sleep Hours\"}}},\n",
              "                        {\"responsive\": true}\n",
              "                    ).then(function(){\n",
              "                            \n",
              "var gd = document.getElementById('e28fea2c-ddd9-4714-a827-4d2fcb15e156');\n",
              "var x = new MutationObserver(function (mutations, observer) {{\n",
              "        var display = window.getComputedStyle(gd).display;\n",
              "        if (!display || display === 'none') {{\n",
              "            console.log([gd, 'removed!']);\n",
              "            Plotly.purge(gd);\n",
              "            observer.disconnect();\n",
              "        }}\n",
              "}});\n",
              "\n",
              "// Listen for the removal of the full notebook cells\n",
              "var notebookContainer = gd.closest('#notebook-container');\n",
              "if (notebookContainer) {{\n",
              "    x.observe(notebookContainer, {childList: true});\n",
              "}}\n",
              "\n",
              "// Listen for the clearing of the current output cell\n",
              "var outputEl = gd.closest('.output');\n",
              "if (outputEl) {{\n",
              "    x.observe(outputEl, {childList: true});\n",
              "}}\n",
              "\n",
              "                        })\n",
              "                };\n",
              "                \n",
              "            </script>\n",
              "        </div>\n",
              "</body>\n",
              "</html>"
            ]
          },
          "metadata": {
            "tags": []
          }
        }
      ]
    },
    {
      "cell_type": "markdown",
      "metadata": {
        "id": "9HB8hmuXAfEv"
      },
      "source": [
        "Here, we have strange result. We observe that Smokers Tend to Sleep more as compared to Non-Smoker and there is significant difference between the two. Now, we will try to evaluate this and verify through our statistical test."
      ]
    },
    {
      "cell_type": "code",
      "metadata": {
        "id": "P1lu-xcnAhbL"
      },
      "source": [
        "# Calculating Standard Deviation for Smokers and Non-Smokers\n",
        "\n",
        "sleep_deviation = study_data.groupby('Smoker')['Total Sleep Hours'].std()\n",
        "nonsmoker_sleep_deviation = sleep_deviation[0]\n",
        "smoker_sleep_deviation = sleep_deviation[1]"
      ],
      "execution_count": null,
      "outputs": []
    },
    {
      "cell_type": "code",
      "metadata": {
        "id": "_uQnvwI0Aihp"
      },
      "source": [
        "# Calculating the Variance for Smokers and Non-Smokers\n",
        "\n",
        "smoker_sleep_variance = smoker_sleep_deviation**2\n",
        "nonsmoker_sleep_variance = nonsmoker_sleep_deviation**2"
      ],
      "execution_count": null,
      "outputs": []
    },
    {
      "cell_type": "code",
      "metadata": {
        "id": "XLUv6QhbAkvk"
      },
      "source": [
        "# Finding out the T-Score\n",
        "\n",
        "numerator = np.abs(smoker_mean - nonsmoker_mean)\n",
        "denominator = np.sqrt((smoker_sleep_variance/sample_smoker) + (nonsmoker_sleep_variance/sample_nonsmoker))\n",
        "t_value = numerator/denominator"
      ],
      "execution_count": null,
      "outputs": []
    },
    {
      "cell_type": "code",
      "metadata": {
        "colab": {
          "base_uri": "https://localhost:8080/"
        },
        "id": "zf-ltSPFAm9j",
        "outputId": "4d7a54ea-6e85-496e-b592-e951b496aad8"
      },
      "source": [
        "print(\"T-Score from the Gender Based Data and Statistics is : \", t_value)"
      ],
      "execution_count": null,
      "outputs": [
        {
          "output_type": "stream",
          "text": [
            "T-Score from the Gender Based Data and Statistics is :  2.1723868860335576\n"
          ],
          "name": "stdout"
        }
      ]
    },
    {
      "cell_type": "markdown",
      "metadata": {
        "id": "1KB3FvuvApNM"
      },
      "source": [
        "Now, using the **T-Score**, we will find out the **p-value** through T-Distribution Table for Two-Tailed Test.  \n",
        "After looking through the T-Distribution Table, we get the p-value of 0.036  \n",
        "\n",
        "As it can be seen that p-value is small compared to the significance level i.e.  \n",
        "**p-value > $\\alpha$**  \n",
        "**0.036 > 0.05**  \n",
        "\n",
        "Thus such small p-value leads to the evidence that there is significant difference between hours of sleep for Smokers and Non-Smokers. Therefore, we have enough evidence to reject the null hypothesis $H_0$."
      ]
    },
    {
      "cell_type": "markdown",
      "metadata": {
        "id": "r8RacE8Vl6T2"
      },
      "source": [
        "* * *\n",
        "* * *"
      ]
    },
    {
      "cell_type": "markdown",
      "metadata": {
        "id": "4KnzckC8l6T2"
      },
      "source": [
        "#### Task 4 **[25 points] Discuss**\n",
        "\n",
        "A discussion in a paper is the paragraph where you should be critical with your study.\n",
        "1. Report limitations of your study (Design, Conduct, Results).\n",
        "2. Discuss the variability.\n",
        "3. What would you improve in your study?\n",
        "4. How would you proceed? Now that you have the results of your study - can you think of more variables and ways to gain insight? And why?\n",
        "5. Identify and state here the most interesting learnings for yourself and prepare to present them in our zoom meeting. These question may help you: Did everything go as you have planned - when designing, conducting, evaluating, discussing your study? Did you like asking people? "
      ]
    },
    {
      "cell_type": "markdown",
      "metadata": {
        "id": "WAlEoku_l6T3"
      },
      "source": [
        "* * *\n",
        "* * *"
      ]
    },
    {
      "cell_type": "markdown",
      "metadata": {
        "id": "EoM6njajl6T3"
      },
      "source": [
        "#### Task 4: Discuss\n",
        "A discussion in a paper is the paragraph where you should be critical with your study."
      ]
    },
    {
      "cell_type": "markdown",
      "metadata": {
        "id": "O6-mVE92l6T3"
      },
      "source": [
        "#### Question 4.1\n",
        "Report limitations of your study (Design, Conduct, Results)."
      ]
    },
    {
      "cell_type": "markdown",
      "metadata": {
        "id": "B4cQr9yql6T3"
      },
      "source": [
        "#### Solution 4.1"
      ]
    },
    {
      "cell_type": "markdown",
      "metadata": {
        "id": "Ayy9Bwq2dtrt"
      },
      "source": [
        "1. For the current study we have conducted people in the age group between 20 - 35. Therefore, this study have **selection bias** because the respondents were not randomply selected for the survey. The result of this study cannot be aplied for all age groups.\n",
        "\n",
        "2. This study does not take into account the duration of smoking of the respondent. We counted person as a smoker regardless of duration of smoking.\n",
        "\n",
        "3. The study has **lack of available data**. There were only 15 smokers and 15 female respondents. Since we sent the questionnaire and waited till there would be enough participants, so we could not force people to take a survey.\n",
        "\n",
        "4. Another limitation of the study is **self-reported data**, as we took what people said. Some people may have not answered honestly or have forgotten the facts.\n",
        "\n",
        "5. There is also a **cultural bias**. The respondents were from different parts of the world, hence there might be different views and opinions to the same questions.\n",
        "\n",
        "6. The respondents may also not be **fluent in language**, as for most of the respondents English is not a native language, so there is possibility that they misunderstood some questions."
      ]
    },
    {
      "cell_type": "markdown",
      "metadata": {
        "id": "5RaAgjz7l6T3"
      },
      "source": [
        "* * *"
      ]
    },
    {
      "cell_type": "markdown",
      "metadata": {
        "id": "I6rMjS0Vl6T4"
      },
      "source": [
        "#### Question 4.2\n",
        "Discuss the variability."
      ]
    },
    {
      "cell_type": "markdown",
      "metadata": {
        "id": "_XH5Ujkbl6T4"
      },
      "source": [
        "#### Solution 4.2"
      ]
    },
    {
      "cell_type": "markdown",
      "metadata": {
        "id": "Dr2UyOqrnqP4"
      },
      "source": [
        "By selecting people in one age group (20-35) we decreased within variability and increased between variability. The age in our study varies little.\n",
        "\n",
        "There is a variability in the duration of smoking, as well as in the amount of cigarettes per week.\n",
        "\n",
        "[1, 1, 1, 2, 2, 3, 3, 4, 5, 5, 5, 8, 9, 10, 16]\n",
        "\n",
        "range = 15\n",
        "\n",
        "mean = 4.8"
      ]
    },
    {
      "cell_type": "code",
      "metadata": {
        "colab": {
          "base_uri": "https://localhost:8080/",
          "height": 298
        },
        "id": "gkFky3pp3-ur",
        "outputId": "e8586892-2ab6-4335-a401-9592162e7c75"
      },
      "source": [
        "import pandas as pd\n",
        "smoking_dur = [1, 1, 1, 2, 2, 3, 3, 4, 5, 5, 5, 8, 9, 10, 16]\n",
        "\n",
        "\n",
        "plt.boxplot(smoking_dur)\n",
        "plt.title('Smoking duration of participants')\n",
        "plt.ylabel('Years', fontsize=18)\n",
        "plt.show()\n"
      ],
      "execution_count": null,
      "outputs": [
        {
          "output_type": "display_data",
          "data": {
            "image/png": "[encoded data removed]",
            "text/plain": [
              "<Figure size 432x288 with 1 Axes>"
            ]
          },
          "metadata": {
            "tags": [],
            "needs_background": "light"
          }
        },
        {
          "output_type": "stream",
          "text": [
            "[1, 1, 1, 2, 2, 3, 3, 4, 5, 5, 5, 8, 9, 10, 16]\n"
          ],
          "name": "stdout"
        }
      ]
    },
    {
      "cell_type": "code",
      "metadata": {
        "id": "0CxxuYXt7EZs"
      },
      "source": [
        ""
      ],
      "execution_count": null,
      "outputs": []
    },
    {
      "cell_type": "markdown",
      "metadata": {
        "id": "JB0C56PRl6T5"
      },
      "source": [
        "* * *"
      ]
    },
    {
      "cell_type": "markdown",
      "metadata": {
        "id": "CEGVJeaXl6T6"
      },
      "source": [
        "#### Question 4.3\n",
        "What would you improve in your study?"
      ]
    },
    {
      "cell_type": "markdown",
      "metadata": {
        "id": "xR5GoFvAfLdY"
      },
      "source": [
        "1. Since the data in our study is self-reported, one of the possible ways to improve study is to keep track on people's sleep hours during the week.\n",
        "\n",
        "2. Reduce the number of questions in the questionnaire, as people tend to get bored very quickly with uninteresting questions. Especially if there is no reward for participants.\n",
        "\n",
        "3. Change questions, so people cannot answer dishonestly. People are alarmed by the abundance of questions about their private lives."
      ]
    },
    {
      "cell_type": "markdown",
      "metadata": {
        "id": "WFy2zhDSl6T6"
      },
      "source": [
        "#### Solution 4.3"
      ]
    },
    {
      "cell_type": "code",
      "metadata": {
        "id": "uhIetPcPl6T7"
      },
      "source": [
        ""
      ],
      "execution_count": null,
      "outputs": []
    },
    {
      "cell_type": "markdown",
      "metadata": {
        "id": "8HDTUC1jl6T7"
      },
      "source": [
        "* * *"
      ]
    },
    {
      "cell_type": "markdown",
      "metadata": {
        "id": "ZcU3ToGUl6T7"
      },
      "source": [
        "#### Question 4.4\n",
        "How would you proceed? Now that you have the results of your study - can you think of more variables and ways to gain insight? And why?"
      ]
    },
    {
      "cell_type": "markdown",
      "metadata": {
        "id": "TInxKgQZl6T8"
      },
      "source": [
        "#### Solution 4.4"
      ]
    },
    {
      "cell_type": "code",
      "metadata": {
        "id": "xGEASzjCl6T8"
      },
      "source": [
        ""
      ],
      "execution_count": null,
      "outputs": []
    },
    {
      "cell_type": "markdown",
      "metadata": {
        "id": "Ml1B-a6El6T8"
      },
      "source": [
        "* * *"
      ]
    },
    {
      "cell_type": "markdown",
      "metadata": {
        "id": "pGskDXzjl6T8"
      },
      "source": [
        "#### Question 4.5\n",
        "Identify and state here the most interesting learnings for yourself and prepare to present them in our zoom meeting. These question may help you: Did everything go as you have planned - when designing, conducting, evaluating, discussing your study? Did you like asking people? "
      ]
    },
    {
      "cell_type": "markdown",
      "metadata": {
        "id": "LbmGgFE4l6T8"
      },
      "source": [
        "#### Solution 4.5"
      ]
    },
    {
      "cell_type": "code",
      "metadata": {
        "id": "Un__LLdjl6UK"
      },
      "source": [
        ""
      ],
      "execution_count": null,
      "outputs": []
    },
    {
      "cell_type": "markdown",
      "metadata": {
        "id": "xp7xoIsVl6UK"
      },
      "source": [
        "* * *"
      ]
    }
  ]
}