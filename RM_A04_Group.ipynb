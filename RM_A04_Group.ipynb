{
  "nbformat": 4,
  "nbformat_minor": 0,
  "metadata": {
    "kernelspec": {
      "display_name": "Python 3",
      "language": "python",
      "name": "python3"
    },
    "language_info": {
      "codemirror_mode": {
        "name": "ipython",
        "version": 3
      },
      "file_extension": ".py",
      "mimetype": "text/x-python",
      "name": "python",
      "nbconvert_exporter": "python",
      "pygments_lexer": "ipython3",
      "version": "3.8.5"
    },
    "colab": {
      "name": "RM_A04_Group.ipynb",
      "provenance": [],
      "collapsed_sections": [
        "WZN9e4qzl6Tl",
        "EoM6njajl6T3"
      ],
      "toc_visible": true,
      "include_colab_link": true
    }
  },
  "cells": [
    {
      "cell_type": "markdown",
      "metadata": {
        "id": "view-in-github",
        "colab_type": "text"
      },
      "source": [
        "<a href=\"https://colab.research.google.com/github/ebrambilla42/rm_assignments/blob/master/RM_A04_Group.ipynb\" target=\"_parent\"><img src=\"https://colab.research.google.com/assets/colab-badge.svg\" alt=\"Open In Colab\"/></a>"
      ]
    },
    {
      "cell_type": "markdown",
      "metadata": {
        "id": "oO7L2pjll6TO"
      },
      "source": [
        "# Research Methods <br>UHH - Knowledge Technology Research Group - WiSe 2020/2021\n",
        "## Assignment #4 - Experiment Design & Human Participant"
      ]
    },
    {
      "cell_type": "markdown",
      "metadata": {
        "id": "lrOOcapRl6TV"
      },
      "source": [
        "***\n",
        "### Group: C\n",
        "### Names of members: \n",
        "\n",
        "1. Aida Usmanova\n",
        "2. Emilio Brambilla\n",
        "3. Navneet Singh Arora\n",
        "\n",
        "***"
      ]
    },
    {
      "cell_type": "markdown",
      "metadata": {
        "id": "bjtZ8jtjl6TW"
      },
      "source": [
        "### Instructions:\n",
        "\n",
        "Please answer the questions below. Copy this notebook and enter your answers underneath each task description, inserting cells as needed. You may use a combination of [python 3](https://python3.guide/), [markdown](http://jupyter-notebook.readthedocs.io/en/stable/examples/Notebook/Working%20With%20Markdown%20Cells.html), and [LaTex](https://towardsdatascience.com/write-markdown-latex-in-the-jupyter-notebook-10985edb91fd) to formulate your responses. In order to successfully complete the assignment, you will need the lecture material provided in the [RM moodle course](https://lernen.min.uni-hamburg.de/course/view.php?id=582), especially L06 & L07. **Make sure to use only a copy of this notebook for your answers instead of a new/blank notebook.** \n",
        "\n",
        "### Grading Criteria:\n",
        "\n",
        "In order to successfully pass this assignment, you will need **at least a total of 70 points out of 100 points**, and **every** task has to be tackled.\n",
        "\n",
        "### Submission:\n",
        "\n",
        "Please upload the following two files **until Tuesday, 5 January 2021, 19:59 CET (Germany)** together in a .zip archive in moodle:\n",
        "1. a (single) copy of this jupyter notebook containing your answers for all tasks (file extension: .ipynb)\n",
        "2. an [exported PDF document](https://jupyterlab.readthedocs.io/en/stable/user/export.html) of the jupyter notebook (file extension: .pdf)\n",
        "\n",
        "### Presentation:\n",
        "\n",
        "Make sure that each (!) group member takes part in solving this assignment and is prepared to answer questions and/or present solutions from your submitted notebook during our assignment revision meeting scheduled for **Wednesday, 13 January 2021,  12:00 - 13:30 CET (Germany)**.\n",
        "\n",
        "### File Naming:\n",
        "\n",
        "Add the group letter to the file name prior to submission. For example, if your group letter is \"A\" (see group selection in moodle), you would use the following filename: \n",
        "1. RM_A04_Group_A.ipynb \n",
        "2. RM_A04_Group_A.pdf\n",
        "\n",
        "***\n",
        "***"
      ]
    },
    {
      "cell_type": "markdown",
      "metadata": {
        "id": "N0hHedKml6TX"
      },
      "source": [
        "## Task 1 **[25 points]  Design**\n",
        "Design a small study that aims to answer the given question **(A)** and a question of your choice **(B)**. All visualizations (tables, diagrams, ...) are supposed to be written in python code using suitable libraries. \n",
        "\n",
        "**(A)**: Is there a difference between males and females in hours of sleep per night? \n",
        "\n",
        "* $H_0$: *state here, see 1.2.*\n",
        "* $H_1$: *state here, see 1.2.*\n",
        "\n",
        "**(B)**: *fill in your question, see 1.1.*\n",
        "\n",
        "* $H_0$: *state here, see 1.2.*\n",
        "* $H_1$: *state here, see 1.2.*\n",
        "\n",
        "\n",
        "1. Think of one variable which may affect hours of sleep per night other than gender. Include this variable in your research. And state the corresponding question (see question **(A)**).\n",
        "2. Formulate the corresponding hypotheses ($H_0$, $H_1$) to the question **(A)**. \n",
        "3. Formulate the corresponding hypotheses ($H_0$, $H_1$) to the question **(B)** (your own variable).\n",
        "4. Define and write down all factors (independent, dependent, extraneous) as table or diagram.\n",
        "5. Define the type of variables, measurements, scales for each factor you want to measure (including estimate of expected values) as a table.\n",
        "6. Design a questionnaire: Include questions for the variables gender, hours of sleep per night and your variable. \n",
        "7. Estimate validity and reliability (a written explanation is sufficient)."
      ]
    },
    {
      "cell_type": "markdown",
      "metadata": {
        "id": "ikRNUb6sl6TX"
      },
      "source": [
        "* * *\n",
        "* * *"
      ]
    },
    {
      "cell_type": "markdown",
      "metadata": {
        "id": "fjdxUAuKl6TY"
      },
      "source": [
        "#### Task 1: Design\n",
        "Design a small study that aims to answer the given question **(A)** and a question of your choice **(B)**. All visualizations (tables, diagrams, ...) are supposed to be written in python code using suitable libraries. \n",
        "\n",
        "**(A)**: Is there a difference between males and females in hours of sleep per night? \n",
        "\n",
        "* $H_0$: *state here, see 1.2.*\n",
        "* $H_1$: *state here, see 1.2.*\n",
        "\n",
        "**(B)**: *fill in your question, see 1.1.*\n",
        "\n",
        "* $H_0$: *state here, see 1.2.*\n",
        "* $H_1$: *state here, see 1.2.*"
      ]
    },
    {
      "cell_type": "markdown",
      "metadata": {
        "id": "8pKH6Waxl6Ta"
      },
      "source": [
        "### Question 1.1\n",
        "Think of one variable which may affect hours of sleep per night other than gender. Include this variable in your research. And state the corresponding question (see question **(A)**)."
      ]
    },
    {
      "cell_type": "markdown",
      "metadata": {
        "id": "6iynw3WWl6Ta"
      },
      "source": [
        "#### Solution 1.1"
      ]
    },
    {
      "cell_type": "markdown",
      "metadata": {
        "id": "gVe-bqMoj450"
      },
      "source": [
        "While doing our study for finding out the differences between sleep per night for males and females, we came across a lot of factors which could significantly impact the amount of sleep a person will have. These factors are as below:  \n",
        "\n",
        "1. Time of Final Meal of the day\n",
        "2. Usual Bed Time\n",
        "3. Usual Wake up Time\n",
        "4. Physical Exercise done through out the day\n",
        "5. Screen Time (including Smartphone/Mobile Phone, Laptop, TV and so on)\n",
        "6. Having children and no of children in the family\n",
        "7. Having a pet or number of pets in the house\n",
        "8. Smoking Tendency of an individual\n",
        "9. Alcoholic influence on an individual\n",
        "10. Depression and other emotional/mental issues  \n",
        "  \n",
        "Out of these factors, a lot of factors have a lot of **variance and fluctuations** like **Usual Bed Time, Usual Wake Time, Amount of continuous Physical Activity** and so on. Similarly, some of them have a lot of **inconsistencies** as in case of **Screen Time** as this can have a higher value because of some other individual (like a child using his/her parents devices and so on) and is hard to measure with accuracy.  \n",
        "  \n",
        "But one factor is found to have a significant impact on the health of an individual irrespective of the gender. This factor is **Smoking**, which can be measured consistently and we will see if this variable affects sleep patterns of one gender more than the other or not.  \n",
        "\n",
        "**Question**: \n",
        "Is there a difference between smokers and non-smokers in hours of sleep per night?  \n",
        "  \n",
        "We fill find this out in our study."
      ]
    },
    {
      "cell_type": "markdown",
      "metadata": {
        "id": "jMhiuzNYl6Tb"
      },
      "source": [
        "* * *"
      ]
    },
    {
      "cell_type": "markdown",
      "metadata": {
        "id": "kgkiAXC2l6Tc"
      },
      "source": [
        "### Question 1.2\n",
        "Formulate the corresponding hypotheses ($H_0$, $H_1$) to the question **(A)**. "
      ]
    },
    {
      "cell_type": "markdown",
      "metadata": {
        "id": "eTPg8jZhl6Tc"
      },
      "source": [
        "#### Solution 1.2"
      ]
    },
    {
      "cell_type": "markdown",
      "metadata": {
        "id": "RDF46Ti6kFv5"
      },
      "source": [
        "After considering the question **(Question (A))**, we come up with the following null hypothesis **$H_0$** and counter hypothesis **$H_1$**:\n",
        "  \n",
        "*$H_0$ : \"There is no difference in hours of sleep per night between males and females\".*  \n",
        "*$H_1$ : \"There is a significant difference in hours of sleep per night between males and females\".*  \n",
        "  \n",
        "This means,  \n",
        "for $H_0$ to be true, p1 - p2 = 0  \n",
        "for $H_1$ to be true, p1 - p2 != 0 **(2-Tailed Test)**\n",
        "\n",
        "For both hypotheses we don't know how different two groups are, but want to know if the difference exists. Therefore, we will proceed with 2-Tailed Test."
      ]
    },
    {
      "cell_type": "markdown",
      "metadata": {
        "id": "cwW8rv84l6Td"
      },
      "source": [
        "* * *"
      ]
    },
    {
      "cell_type": "markdown",
      "metadata": {
        "id": "3Q7vWkskl6Td"
      },
      "source": [
        "### Question 1.3\n",
        "Formulate the corresponding hypotheses ($H_0$, $H_1$) to the question **(B)** (your own variable)."
      ]
    },
    {
      "cell_type": "markdown",
      "metadata": {
        "id": "Ukss4uqRl6Td"
      },
      "source": [
        "#### Solution 1.3"
      ]
    },
    {
      "cell_type": "markdown",
      "metadata": {
        "id": "3HV0D4DWkM44"
      },
      "source": [
        "After finding out the **variable Smoking**, we formulate the corresponding hypothesis:\n",
        "  \n",
        "*$H_0$ : \"There is no difference in hours of sleep per night between smokers and non-smokers\".*  \n",
        "*$H_1$ : \"There is a significant difference in hours of sleep per night between smokers and non-smokers\".*  \n",
        "  \n",
        "This means,  \n",
        "for $H_0$ to be true, p1 - p2 = 0 \n",
        "\n",
        "for $H_1$ to be true, p1 - p2 != 0 **(2-Tailed Test)**"
      ]
    },
    {
      "cell_type": "markdown",
      "metadata": {
        "id": "z1i-na5Fl6Te"
      },
      "source": [
        "* * *"
      ]
    },
    {
      "cell_type": "markdown",
      "metadata": {
        "id": "DKZpxuZnl6Te"
      },
      "source": [
        "### Question 1.4\n",
        "Define and write down all factors (independent, dependent, extraneous) as table or diagram."
      ]
    },
    {
      "cell_type": "markdown",
      "metadata": {
        "id": "ikphr2EHl6Te"
      },
      "source": [
        "#### Solution 1.4"
      ]
    },
    {
      "cell_type": "code",
      "metadata": {
        "id": "vIQoYwVkl6Te"
      },
      "source": [
        "# Importing Required Libraries for python computation and setting display options\n",
        "\n",
        "import pandas as pd\n",
        "import plotly.graph_objects as go\n",
        "import plotly.express as px\n",
        "import matplotlib.pyplot as plt\n",
        "import numpy as np\n",
        "import scipy.stats as stats\n",
        "import math\n",
        "from plotly import tools, subplots\n",
        "\n",
        "pd.set_option('display.notebook_repr_html', True)"
      ],
      "execution_count": null,
      "outputs": []
    },
    {
      "cell_type": "code",
      "metadata": {
        "id": "3Ap-uU2gTIov"
      },
      "source": [
        "# Here we define various factors and categorize these variables as dependent, independent or extraneous\n",
        "\n",
        "# Preparing a dataframe with columns\n",
        "columns = ['Age',\n",
        "           'Gender', \n",
        "           'Family Size',\n",
        "           'Professional Status',\n",
        "           'Fatigue',\n",
        "           'Daily Habits',\n",
        "           'Sleep And Health',\n",
        "           'Mental Health',\n",
        "           'Smoking Addiction',\n",
        "           'Bed linen', \n",
        "           'Room temperature', \n",
        "           'Climate / Weather', \n",
        "           'Screen Time'];\n",
        "\n",
        "# Creating a dictionary for columnar values\n",
        "tabular_scaling_data = {};\n",
        "tabular_scaling_data[\"\"] = columns\n",
        "\n",
        "# Data for independent factors\n",
        "tabular_scaling_data[\"Independent\"] = [\"Yes\",\n",
        "                                       \"Yes\",\n",
        "                                       \"-\",\n",
        "                                       \"Yes\",\n",
        "                                       \"-\",\n",
        "                                       \"-\",\n",
        "                                       \"-\",\n",
        "                                       \"-\",\n",
        "                                       \"Yes\",\n",
        "                                       \"Yes\",\n",
        "                                       \"Yes\",\n",
        "                                       \"-\",\n",
        "                                       \"Yes\"];\n",
        "\n",
        "# Data for dependent factors\n",
        "tabular_scaling_data[\"Dependent\"] = [\"-\",\n",
        "                                     \"-\",\n",
        "                                     \"-\",\n",
        "                                     \"-\",\n",
        "                                     \"Yes\",\n",
        "                                     \"-\",\n",
        "                                     \"Yes\",\n",
        "                                     \"-\",\n",
        "                                     \"-\",\n",
        "                                     \"-\",\n",
        "                                     \"-\",\n",
        "                                     \"-\",\n",
        "                                     \"-\"];\n",
        "\n",
        "# Data for confounding factors\n",
        "tabular_scaling_data[\"Extraneous\"] = [\"-\",\n",
        "                                      \"-\",\n",
        "                                      \"Yes\",\n",
        "                                      \"-\",\n",
        "                                      \"-\",\n",
        "                                      \"Yes\",\n",
        "                                      \"-\",\n",
        "                                      \"Yes\",\n",
        "                                      \"-\",\n",
        "                                      \"-\",\n",
        "                                      \"-\",\n",
        "                                      \"Yes\",\n",
        "                                      \"-\"];\n",
        "\n",
        "# Converting dictionary to data frame\n",
        "factor_table = pd.DataFrame.from_dict(tabular_scaling_data, columns=columns, orient='index')"
      ],
      "execution_count": null,
      "outputs": []
    },
    {
      "cell_type": "code",
      "metadata": {
        "id": "EwDco7OMTK5B"
      },
      "source": [
        "# Using plotly to plot the table\n",
        "\n",
        "factor_table_plot = go.Figure(data=[go.Table(header=dict(values=list(factor_table.transpose().columns),\n",
        "                                                         align='left',\n",
        "                                                         line_color='black',\n",
        "                                                         fill_color='lightgray',\n",
        "                                                         font=dict(size=14),\n",
        "                                                         height=30),\n",
        "                                             cells=dict(values=factor_table,\n",
        "                                                        align='left',\n",
        "                                                        line_color='black',\n",
        "                                                        fill=dict(color=['lightgray', 'white', 'white', 'white']),\n",
        "                                                        font=dict(size=[14, 12, 12, 12]),\n",
        "                                                        height=30))]);\n",
        "factor_table_plot.update_layout(width=800,\n",
        "                                height=630,\n",
        "                                title_text=\"Table-1: Categorization of Factors\",\n",
        "                                title_x=0.5);"
      ],
      "execution_count": null,
      "outputs": []
    },
    {
      "cell_type": "code",
      "metadata": {
        "colab": {
          "base_uri": "https://localhost:8080/"
        },
        "id": "UDHllJw9TMyQ",
        "outputId": "4a0e6350-57dd-4e6c-828b-9af9c966775a"
      },
      "source": [
        "# Displaying the Table\n",
        "\n",
        "factor_table_plot.show()"
      ],
      "execution_count": null,
      "outputs": [
        {
          "output_type": "display_data",
          "data": {
            "text/html": [
              "<html>\n",
              "<head><meta charset=\"utf-8\" /></head>\n",
              "<body>\n",
              "    <div>\n",
              "            <script src=\"https://cdnjs.cloudflare.com/ajax/libs/mathjax/2.7.5/MathJax.js?config=TeX-AMS-MML_SVG\"></script><script type=\"text/javascript\">if (window.MathJax) {MathJax.Hub.Config({SVG: {font: \"STIX-Web\"}});}</script>\n",
              "                <script type=\"text/javascript\">window.PlotlyConfig = {MathJaxConfig: 'local'};</script>\n",
              "        <script src=\"https://cdn.plot.ly/plotly-latest.min.js\"></script>    \n",
              "            <div id=\"43efde92-942e-4b9a-ac88-3c2bff142205\" class=\"plotly-graph-div\" style=\"height:630px; width:800px;\"></div>\n",
              "            <script type=\"text/javascript\">\n",
              "                \n",
              "                    window.PLOTLYENV=window.PLOTLYENV || {};\n",
              "                    \n",
              "                if (document.getElementById(\"43efde92-942e-4b9a-ac88-3c2bff142205\")) {\n",
              "                    Plotly.newPlot(\n",
              "                        '43efde92-942e-4b9a-ac88-3c2bff142205',\n",
              "                        [{\"cells\": {\"align\": \"left\", \"fill\": {\"color\": [\"lightgray\", \"white\", \"white\", \"white\"]}, \"font\": {\"size\": [14, 12, 12, 12]}, \"height\": 30, \"line\": {\"color\": \"black\"}, \"values\": [[\"Age\", \"Gender\", \"Family Size\", \"Professional Status\", \"Fatigue\", \"Daily Habits\", \"Sleep And Health\", \"Mental Health\", \"Smoking Addiction\", \"Bed linen\", \"Room temperature\", \"Climate / Weather\", \"Screen Time\"], [\"Yes\", \"Yes\", \"-\", \"Yes\", \"-\", \"-\", \"-\", \"-\", \"Yes\", \"Yes\", \"Yes\", \"-\", \"Yes\"], [\"-\", \"-\", \"-\", \"-\", \"Yes\", \"-\", \"Yes\", \"-\", \"-\", \"-\", \"-\", \"-\", \"-\"], [\"-\", \"-\", \"Yes\", \"-\", \"-\", \"Yes\", \"-\", \"Yes\", \"-\", \"-\", \"-\", \"Yes\", \"-\"]]}, \"header\": {\"align\": \"left\", \"fill\": {\"color\": \"lightgray\"}, \"font\": {\"size\": 14}, \"height\": 30, \"line\": {\"color\": \"black\"}, \"values\": [\"\", \"Independent\", \"Dependent\", \"Extraneous\"]}, \"type\": \"table\"}],\n",
              "                        {\"height\": 630, \"template\": {\"data\": {\"bar\": [{\"error_x\": {\"color\": \"#2a3f5f\"}, \"error_y\": {\"color\": \"#2a3f5f\"}, \"marker\": {\"line\": {\"color\": \"#E5ECF6\", \"width\": 0.5}}, \"type\": \"bar\"}], \"barpolar\": [{\"marker\": {\"line\": {\"color\": \"#E5ECF6\", \"width\": 0.5}}, \"type\": \"barpolar\"}], \"carpet\": [{\"aaxis\": {\"endlinecolor\": \"#2a3f5f\", \"gridcolor\": \"white\", \"linecolor\": \"white\", \"minorgridcolor\": \"white\", \"startlinecolor\": \"#2a3f5f\"}, \"baxis\": {\"endlinecolor\": \"#2a3f5f\", \"gridcolor\": \"white\", \"linecolor\": \"white\", \"minorgridcolor\": \"white\", \"startlinecolor\": \"#2a3f5f\"}, \"type\": \"carpet\"}], \"choropleth\": [{\"colorbar\": {\"outlinewidth\": 0, \"ticks\": \"\"}, \"type\": \"choropleth\"}], \"contour\": [{\"colorbar\": {\"outlinewidth\": 0, \"ticks\": \"\"}, \"colorscale\": [[0.0, \"#0d0887\"], [0.1111111111111111, \"#46039f\"], [0.2222222222222222, \"#7201a8\"], [0.3333333333333333, \"#9c179e\"], [0.4444444444444444, \"#bd3786\"], [0.5555555555555556, \"#d8576b\"], [0.6666666666666666, \"#ed7953\"], [0.7777777777777778, \"#fb9f3a\"], [0.8888888888888888, \"#fdca26\"], [1.0, \"#f0f921\"]], \"type\": \"contour\"}], \"contourcarpet\": [{\"colorbar\": {\"outlinewidth\": 0, \"ticks\": \"\"}, \"type\": \"contourcarpet\"}], \"heatmap\": [{\"colorbar\": {\"outlinewidth\": 0, \"ticks\": \"\"}, \"colorscale\": [[0.0, \"#0d0887\"], [0.1111111111111111, \"#46039f\"], [0.2222222222222222, \"#7201a8\"], [0.3333333333333333, \"#9c179e\"], [0.4444444444444444, \"#bd3786\"], [0.5555555555555556, \"#d8576b\"], [0.6666666666666666, \"#ed7953\"], [0.7777777777777778, \"#fb9f3a\"], [0.8888888888888888, \"#fdca26\"], [1.0, \"#f0f921\"]], \"type\": \"heatmap\"}], \"heatmapgl\": [{\"colorbar\": {\"outlinewidth\": 0, \"ticks\": \"\"}, \"colorscale\": [[0.0, \"#0d0887\"], [0.1111111111111111, \"#46039f\"], [0.2222222222222222, \"#7201a8\"], [0.3333333333333333, \"#9c179e\"], [0.4444444444444444, \"#bd3786\"], [0.5555555555555556, \"#d8576b\"], [0.6666666666666666, \"#ed7953\"], [0.7777777777777778, \"#fb9f3a\"], [0.8888888888888888, \"#fdca26\"], [1.0, \"#f0f921\"]], \"type\": \"heatmapgl\"}], \"histogram\": [{\"marker\": {\"colorbar\": {\"outlinewidth\": 0, \"ticks\": \"\"}}, \"type\": \"histogram\"}], \"histogram2d\": [{\"colorbar\": {\"outlinewidth\": 0, \"ticks\": \"\"}, \"colorscale\": [[0.0, \"#0d0887\"], [0.1111111111111111, \"#46039f\"], [0.2222222222222222, \"#7201a8\"], [0.3333333333333333, \"#9c179e\"], [0.4444444444444444, \"#bd3786\"], [0.5555555555555556, \"#d8576b\"], [0.6666666666666666, \"#ed7953\"], [0.7777777777777778, \"#fb9f3a\"], [0.8888888888888888, \"#fdca26\"], [1.0, \"#f0f921\"]], \"type\": \"histogram2d\"}], \"histogram2dcontour\": [{\"colorbar\": {\"outlinewidth\": 0, \"ticks\": \"\"}, \"colorscale\": [[0.0, \"#0d0887\"], [0.1111111111111111, \"#46039f\"], [0.2222222222222222, \"#7201a8\"], [0.3333333333333333, \"#9c179e\"], [0.4444444444444444, \"#bd3786\"], [0.5555555555555556, \"#d8576b\"], [0.6666666666666666, \"#ed7953\"], [0.7777777777777778, \"#fb9f3a\"], [0.8888888888888888, \"#fdca26\"], [1.0, \"#f0f921\"]], \"type\": \"histogram2dcontour\"}], \"mesh3d\": [{\"colorbar\": {\"outlinewidth\": 0, \"ticks\": \"\"}, \"type\": \"mesh3d\"}], \"parcoords\": [{\"line\": {\"colorbar\": {\"outlinewidth\": 0, \"ticks\": \"\"}}, \"type\": \"parcoords\"}], \"pie\": [{\"automargin\": true, \"type\": \"pie\"}], \"scatter\": [{\"marker\": {\"colorbar\": {\"outlinewidth\": 0, \"ticks\": \"\"}}, \"type\": \"scatter\"}], \"scatter3d\": [{\"line\": {\"colorbar\": {\"outlinewidth\": 0, \"ticks\": \"\"}}, \"marker\": {\"colorbar\": {\"outlinewidth\": 0, \"ticks\": \"\"}}, \"type\": \"scatter3d\"}], \"scattercarpet\": [{\"marker\": {\"colorbar\": {\"outlinewidth\": 0, \"ticks\": \"\"}}, \"type\": \"scattercarpet\"}], \"scattergeo\": [{\"marker\": {\"colorbar\": {\"outlinewidth\": 0, \"ticks\": \"\"}}, \"type\": \"scattergeo\"}], \"scattergl\": [{\"marker\": {\"colorbar\": {\"outlinewidth\": 0, \"ticks\": \"\"}}, \"type\": \"scattergl\"}], \"scattermapbox\": [{\"marker\": {\"colorbar\": {\"outlinewidth\": 0, \"ticks\": \"\"}}, \"type\": \"scattermapbox\"}], \"scatterpolar\": [{\"marker\": {\"colorbar\": {\"outlinewidth\": 0, \"ticks\": \"\"}}, \"type\": \"scatterpolar\"}], \"scatterpolargl\": [{\"marker\": {\"colorbar\": {\"outlinewidth\": 0, \"ticks\": \"\"}}, \"type\": \"scatterpolargl\"}], \"scatterternary\": [{\"marker\": {\"colorbar\": {\"outlinewidth\": 0, \"ticks\": \"\"}}, \"type\": \"scatterternary\"}], \"surface\": [{\"colorbar\": {\"outlinewidth\": 0, \"ticks\": \"\"}, \"colorscale\": [[0.0, \"#0d0887\"], [0.1111111111111111, \"#46039f\"], [0.2222222222222222, \"#7201a8\"], [0.3333333333333333, \"#9c179e\"], [0.4444444444444444, \"#bd3786\"], [0.5555555555555556, \"#d8576b\"], [0.6666666666666666, \"#ed7953\"], [0.7777777777777778, \"#fb9f3a\"], [0.8888888888888888, \"#fdca26\"], [1.0, \"#f0f921\"]], \"type\": \"surface\"}], \"table\": [{\"cells\": {\"fill\": {\"color\": \"#EBF0F8\"}, \"line\": {\"color\": \"white\"}}, \"header\": {\"fill\": {\"color\": \"#C8D4E3\"}, \"line\": {\"color\": \"white\"}}, \"type\": \"table\"}]}, \"layout\": {\"annotationdefaults\": {\"arrowcolor\": \"#2a3f5f\", \"arrowhead\": 0, \"arrowwidth\": 1}, \"coloraxis\": {\"colorbar\": {\"outlinewidth\": 0, \"ticks\": \"\"}}, \"colorscale\": {\"diverging\": [[0, \"#8e0152\"], [0.1, \"#c51b7d\"], [0.2, \"#de77ae\"], [0.3, \"#f1b6da\"], [0.4, \"#fde0ef\"], [0.5, \"#f7f7f7\"], [0.6, \"#e6f5d0\"], [0.7, \"#b8e186\"], [0.8, \"#7fbc41\"], [0.9, \"#4d9221\"], [1, \"#276419\"]], \"sequential\": [[0.0, \"#0d0887\"], [0.1111111111111111, \"#46039f\"], [0.2222222222222222, \"#7201a8\"], [0.3333333333333333, \"#9c179e\"], [0.4444444444444444, \"#bd3786\"], [0.5555555555555556, \"#d8576b\"], [0.6666666666666666, \"#ed7953\"], [0.7777777777777778, \"#fb9f3a\"], [0.8888888888888888, \"#fdca26\"], [1.0, \"#f0f921\"]], \"sequentialminus\": [[0.0, \"#0d0887\"], [0.1111111111111111, \"#46039f\"], [0.2222222222222222, \"#7201a8\"], [0.3333333333333333, \"#9c179e\"], [0.4444444444444444, \"#bd3786\"], [0.5555555555555556, \"#d8576b\"], [0.6666666666666666, \"#ed7953\"], [0.7777777777777778, \"#fb9f3a\"], [0.8888888888888888, \"#fdca26\"], [1.0, \"#f0f921\"]]}, \"colorway\": [\"#636efa\", \"#EF553B\", \"#00cc96\", \"#ab63fa\", \"#FFA15A\", \"#19d3f3\", \"#FF6692\", \"#B6E880\", \"#FF97FF\", \"#FECB52\"], \"font\": {\"color\": \"#2a3f5f\"}, \"geo\": {\"bgcolor\": \"white\", \"lakecolor\": \"white\", \"landcolor\": \"#E5ECF6\", \"showlakes\": true, \"showland\": true, \"subunitcolor\": \"white\"}, \"hoverlabel\": {\"align\": \"left\"}, \"hovermode\": \"closest\", \"mapbox\": {\"style\": \"light\"}, \"paper_bgcolor\": \"white\", \"plot_bgcolor\": \"#E5ECF6\", \"polar\": {\"angularaxis\": {\"gridcolor\": \"white\", \"linecolor\": \"white\", \"ticks\": \"\"}, \"bgcolor\": \"#E5ECF6\", \"radialaxis\": {\"gridcolor\": \"white\", \"linecolor\": \"white\", \"ticks\": \"\"}}, \"scene\": {\"xaxis\": {\"backgroundcolor\": \"#E5ECF6\", \"gridcolor\": \"white\", \"gridwidth\": 2, \"linecolor\": \"white\", \"showbackground\": true, \"ticks\": \"\", \"zerolinecolor\": \"white\"}, \"yaxis\": {\"backgroundcolor\": \"#E5ECF6\", \"gridcolor\": \"white\", \"gridwidth\": 2, \"linecolor\": \"white\", \"showbackground\": true, \"ticks\": \"\", \"zerolinecolor\": \"white\"}, \"zaxis\": {\"backgroundcolor\": \"#E5ECF6\", \"gridcolor\": \"white\", \"gridwidth\": 2, \"linecolor\": \"white\", \"showbackground\": true, \"ticks\": \"\", \"zerolinecolor\": \"white\"}}, \"shapedefaults\": {\"line\": {\"color\": \"#2a3f5f\"}}, \"ternary\": {\"aaxis\": {\"gridcolor\": \"white\", \"linecolor\": \"white\", \"ticks\": \"\"}, \"baxis\": {\"gridcolor\": \"white\", \"linecolor\": \"white\", \"ticks\": \"\"}, \"bgcolor\": \"#E5ECF6\", \"caxis\": {\"gridcolor\": \"white\", \"linecolor\": \"white\", \"ticks\": \"\"}}, \"title\": {\"x\": 0.05}, \"xaxis\": {\"automargin\": true, \"gridcolor\": \"white\", \"linecolor\": \"white\", \"ticks\": \"\", \"title\": {\"standoff\": 15}, \"zerolinecolor\": \"white\", \"zerolinewidth\": 2}, \"yaxis\": {\"automargin\": true, \"gridcolor\": \"white\", \"linecolor\": \"white\", \"ticks\": \"\", \"title\": {\"standoff\": 15}, \"zerolinecolor\": \"white\", \"zerolinewidth\": 2}}}, \"title\": {\"text\": \"Table-1: Categorization of Factors\", \"x\": 0.5}, \"width\": 800},\n",
              "                        {\"responsive\": true}\n",
              "                    ).then(function(){\n",
              "                            \n",
              "var gd = document.getElementById('43efde92-942e-4b9a-ac88-3c2bff142205');\n",
              "var x = new MutationObserver(function (mutations, observer) {{\n",
              "        var display = window.getComputedStyle(gd).display;\n",
              "        if (!display || display === 'none') {{\n",
              "            console.log([gd, 'removed!']);\n",
              "            Plotly.purge(gd);\n",
              "            observer.disconnect();\n",
              "        }}\n",
              "}});\n",
              "\n",
              "// Listen for the removal of the full notebook cells\n",
              "var notebookContainer = gd.closest('#notebook-container');\n",
              "if (notebookContainer) {{\n",
              "    x.observe(notebookContainer, {childList: true});\n",
              "}}\n",
              "\n",
              "// Listen for the clearing of the current output cell\n",
              "var outputEl = gd.closest('.output');\n",
              "if (outputEl) {{\n",
              "    x.observe(outputEl, {childList: true});\n",
              "}}\n",
              "\n",
              "                        })\n",
              "                };\n",
              "                \n",
              "            </script>\n",
              "        </div>\n",
              "</body>\n",
              "</html>"
            ]
          },
          "metadata": {
            "tags": []
          }
        }
      ]
    },
    {
      "cell_type": "markdown",
      "metadata": {
        "id": "H-xrZrWva9cq"
      },
      "source": [
        "As it can be seen from **Table-1**, we have defined a set of factors and have categorized them into the following sub-categories, namely:  \n",
        "1. Independent Factors\n",
        "2. Dependent Factors\n",
        "3. Extraneous Factors"
      ]
    },
    {
      "cell_type": "markdown",
      "metadata": {
        "id": "iSPVar02a-VI"
      },
      "source": [
        "**Independent Factors**: These are the variables which on manipulating, affects or impacts or brings about a change in some other factors. In our case we have considered the following factors as independent:  \n",
        "\n",
        "* Age\n",
        "* Gender\n",
        "* Professional Status\n",
        "* Smoking Addiction\n",
        "* Bed Linen\n",
        "* Room Temperature\n",
        "* Screen Time  \n",
        "\n",
        "These are considered as independent as changing any of these factors will bring about a change in the most important factor, which in our case is **Sleep**. Varying the independent factors tends to bring about the variation in the dependent factor which for now we consider as **Sleep**. For example, Changing the room temperature from 20&deg;C (Normal Temperature) to 40&deg;C (Hot) or 0&deg;C (Cold) can cause uneasyness and change the sleeping pattern. This can also be explained that some animals go in hibernation in cold weather and come out of hibernation in normal or hot weather.  \n",
        "\n",
        "**Dependent Factors**: These are the factors which get affected or influenced by the manipulation of the independent variables. As mentioned earlier, Sleep is a dependent factor but more than a factor, it is a super-set of factors which actually get affected thus changing this super-set eventually. This super-set consists of:  \n",
        "\n",
        "* Sleep And Health\n",
        "* Overall Fatigue\n",
        "\n",
        "Taking a clue from the previous example, changing the Room Temperature to 0&deg;C can affect the overall health of a person and thus affecting variables like Sleep Hours, Sleep Quality and Overall Fatigue.  \n",
        "\n",
        "It can also ge argued here that why **Health of an Individual** is a dependent factor and not an independent/extraneous factor because any change in the health changes sleep for that person. But the counter argument can be that the health of the individual is itself a dependent factor on room temperature (atleast in some of the cases). Therefore, even though in one of the cases it is an independent factor but in general it is also dependent. Hence, we consider this as a dependent factor for our study.  \n",
        "\n",
        "**Extraneous Factors**: These factors are the factors which cannot be controlled. Even after ensuring that the experiment being conducted among different groups is same with no differences and variations, extraneous factors can create certain difference which needs to be taken into consideration while experimenting or atleast not be ignored completely. In our case the following factors are extraneous:  \n",
        "\n",
        "* Family Size\n",
        "* Daily Habits\n",
        "* Mental Health (Depressed / Anxious / Scared)\n",
        "* Climate / Weather\n",
        "\n",
        "As an example, a depressed person tends to sleep more with low activity. On the other hand, a scared person tends to sleep less with low activity but a person in normal state will have a lot of activities and is tend to have a good sleep."
      ]
    },
    {
      "cell_type": "markdown",
      "metadata": {
        "id": "TVNv0-Z_l6Tf"
      },
      "source": [
        "* * *"
      ]
    },
    {
      "cell_type": "markdown",
      "metadata": {
        "id": "pS-h8V4Jl6Tf"
      },
      "source": [
        "### Question 1.5\n",
        "Define the type of variables, measurements, scales for each factor you want to measure (including estimate of expected values) as a table."
      ]
    },
    {
      "cell_type": "markdown",
      "metadata": {
        "id": "IjUt84gml6Tf"
      },
      "source": [
        "#### Solution 1.5"
      ]
    },
    {
      "cell_type": "code",
      "metadata": {
        "id": "ZqWIpuWll6Tf"
      },
      "source": [
        "# Here we define various variables with their respective measurement scales \n",
        "\n",
        "# Preparing a dataframe with columns\n",
        "table_columns = ['Age',\n",
        "                 'Gender',\n",
        "                 'Number of Children',\n",
        "                 'Student Status',\n",
        "                 'Work Status',\n",
        "                 'Physical Exercise', \n",
        "                 'Last Meal',\n",
        "                 'Total Sleeping Hours',\n",
        "                 'Time Taken to Sleep',\n",
        "                 'Alcohol Consumption',\n",
        "                 'Medication',\n",
        "                 'Sleep Time', \n",
        "                 'Wakeup Time',\n",
        "                 'Difficulty in Sleep',\n",
        "                 'Sleep Interruption',\n",
        "                 'Sleep Satisfaction',\n",
        "                 'Emotional Quotient',\n",
        "                 'Depression',\n",
        "                 'Anxiety',\n",
        "                 'Negative Thoughts',\n",
        "                 'Smoking',\n",
        "                 'Smoking Period',\n",
        "                 'Cigarettes Consumed',\n",
        "                 'Smoking Improve Mental State',\n",
        "                 'Smoking Helps Sleep',\n",
        "                 'Craving to Smoke'];\n",
        "\n",
        "# Creating a dictionary for columnar values\n",
        "tabular_measurement_data = {};\n",
        "\n",
        "# Defining the Factors as Columnar Values\n",
        "tabular_measurement_data[\"Factor\"] = ['Age',\n",
        "                                      'Gender',\n",
        "                                      'Family Size',\n",
        "                                      'Professional Status',\n",
        "                                      'Professional Status',\n",
        "                                      'Fatigue',\n",
        "                                      'Daily Habits',\n",
        "                                      'Daily Habits',\n",
        "                                      'Daily Habits',\n",
        "                                      'Sleep And Health',\n",
        "                                      'Sleep And Health',\n",
        "                                      'Sleep And Health',\n",
        "                                      'Sleep And Health',\n",
        "                                      'Sleep And Health',\n",
        "                                      'Sleep And Health',\n",
        "                                      'Sleep And Health',\n",
        "                                      'Mental Health',\n",
        "                                      'Mental Health',\n",
        "                                      'Mental Health',\n",
        "                                      'Mental Health',\n",
        "                                      'Smoking Addiction',\n",
        "                                      'Smoking Addiction',\n",
        "                                      'Smoking Addiction',\n",
        "                                      'Smoking Addiction',\n",
        "                                      'Smoking Addiction',\n",
        "                                      'Smoking Addiction']\n",
        "\n",
        "# Data for variables\n",
        "tabular_measurement_data[\"Variable\"] = ['Age',\n",
        "                                        'Gender',\n",
        "                                        'Number of Children',\n",
        "                                        'Student Status',\n",
        "                                        'Work Status',\n",
        "                                        'Physical Exercise', \n",
        "                                        'Last Meal',\n",
        "                                        'Total Sleeping Hours',\n",
        "                                        'Time Taken to Sleep',\n",
        "                                        'Alcohol Consumption',\n",
        "                                        'Medication',\n",
        "                                        'Sleep Time', \n",
        "                                        'Wakeup Time',\n",
        "                                        'Difficulty in Sleep',\n",
        "                                        'Sleep Interruption',\n",
        "                                        'Sleep Satisfaction',\n",
        "                                        'Emotional Quotient',\n",
        "                                        'Depression',\n",
        "                                        'Anxiety',\n",
        "                                        'Negative Thoughts',\n",
        "                                        'Smoking',\n",
        "                                        'Smoking Period',\n",
        "                                        'Cigarettes Consumed',\n",
        "                                        'Smoking Improve Mental State',\n",
        "                                        'Smoking Helps Sleep',\n",
        "                                        'Craving to Smoke'];\n",
        "\n",
        "# Data for variable measurement\n",
        "tabular_measurement_data[\"Level of Measurement (Scale)\"] = [\n",
        "    'Ratio',\n",
        "    'Nominal',\n",
        "    'Ratio',\n",
        "    'Nominal', \n",
        "    'Nominal',\n",
        "    'Ratio (5-point Likert Scale)', \n",
        "    'Ratio',\n",
        "    'St. Mary ́s Hospital Sleep Questionnaire Scale',\n",
        "    'St. Mary ́s Hospital Sleep Questionnaire Scale',\n",
        "    'Ratio',\n",
        "    'Nominal',\n",
        "    'St. Mary ́s Hospital Sleep Questionnaire Scale', \n",
        "    'St. Mary ́s Hospital Sleep Questionnaire Scale', \n",
        "    'Sleep Quality Scale',\n",
        "    'Sleep Quality Scale',\n",
        "    'Sleep Quality Scale',\n",
        "    'Montgomery and Asberg Depression Rating Scale (MADRS)',\n",
        "    'Montgomery and Asberg Depression Rating Scale (MADRS)',\n",
        "    'Montgomery and Asberg Depression Rating Scale (MADRS)',\n",
        "    'Montgomery and Asberg Depression Rating Scale (MADRS)',\n",
        "    'Nominal',\n",
        "    'Ratio',\n",
        "    'Ratio',\n",
        "    'Smoking Consequences Questionnaire Scale',\n",
        "    'Smoking Consequences Questionnaire Scale',\n",
        "    'Smoking Consequences Questionnaire Scale'];\n",
        "\n",
        "# Data for expected values of the variable\n",
        "tabular_measurement_data[\"Expected Value(s)\"] = [\n",
        "    '20-35',\n",
        "    'Male/Female',\n",
        "    '0-10',\n",
        "    'Yes/No',\n",
        "    'Yes/No',\n",
        "    'Rarely/Often/Everyday', \n",
        "    '0 - 5 Hours',\n",
        "    '0 - 15 Hours',\n",
        "    '0 - 4 Hours',\n",
        "    'Never/Rarely/Often/Always',\n",
        "    'Yes/No',\n",
        "    '0:00 - 23:59 Hours', \n",
        "    '0:00 - 23:59 Hours',\n",
        "    'Rarely/Often/Always',\n",
        "    'Never/Rarely/Often/Always',\n",
        "    'Never/Rarely/Often/Always',\n",
        "    'Very Unlikely/Somewhat Unlikely/Neutral/Somewhat Likely/Very Likely',\n",
        "    'Very Unlikely/Somewhat Unlikely/Neutral/Somewhat Likely/Very Likely',\n",
        "    'Very Unlikely/Somewhat Unlikely/Neutral/Somewhat Likely/Very Likely',\n",
        "    'Very Unlikely/Somewhat Unlikely/Neutral/Somewhat Likely/Very Likely',\n",
        "    'Yes/No',\n",
        "    '0 - 20 Years',\n",
        "    '0-100 Cigarettes',\n",
        "    'Completely Disagree/Somewhat Disagree/Neutral/Somewhat Agree/Completely Agree',\n",
        "    'Completely Disagree/Somewhat Disagree/Neutral/Somewhat Agree/Completely Agree',\n",
        "    'Completely Disagree/Somewhat Disagree/Neutral/Somewhat Agree/Completely Agree'];\n",
        "\n",
        "# Converting dictionary to data frame\n",
        "measurement_table = pd.DataFrame.from_dict(tabular_measurement_data, columns=table_columns, orient='index')"
      ],
      "execution_count": null,
      "outputs": []
    },
    {
      "cell_type": "code",
      "metadata": {
        "id": "amf2oByf4Bfd"
      },
      "source": [
        "# Using plotly to plot the table\n",
        "\n",
        "measurement_table_plot = go.Figure(data=[go.Table(header=dict(values=list(measurement_table.transpose().columns),\n",
        "                                                         align='left',\n",
        "                                                         line_color='black',\n",
        "                                                         fill_color='lightgray',\n",
        "                                                         font=dict(size=14),\n",
        "                                                         height=30),\n",
        "                                             cells=dict(values=measurement_table,\n",
        "                                                        align='left',\n",
        "                                                        line_color='black',\n",
        "                                                        fill=dict(color=['lightgray', 'white', 'white', 'white']),\n",
        "                                                        font=dict(size=[14, 12, 12, 12]),\n",
        "                                                        height=30))]);\n",
        "measurement_table_plot.update_layout(width=950,\n",
        "                                height=1400,\n",
        "                                title_text=\"Table-2: Variables and Measurement Scales with Expected Values\",\n",
        "                                title_x=0.5);"
      ],
      "execution_count": null,
      "outputs": []
    },
    {
      "cell_type": "code",
      "metadata": {
        "colab": {
          "base_uri": "https://localhost:8080/"
        },
        "id": "sKvxXp9D4EGW",
        "outputId": "18f8a464-974f-4804-be66-c9849d77a091"
      },
      "source": [
        "# Displaying the Table\n",
        "\n",
        "measurement_table_plot.show()"
      ],
      "execution_count": null,
      "outputs": [
        {
          "output_type": "display_data",
          "data": {
            "text/html": [
              "<html>\n",
              "<head><meta charset=\"utf-8\" /></head>\n",
              "<body>\n",
              "    <div>\n",
              "            <script src=\"https://cdnjs.cloudflare.com/ajax/libs/mathjax/2.7.5/MathJax.js?config=TeX-AMS-MML_SVG\"></script><script type=\"text/javascript\">if (window.MathJax) {MathJax.Hub.Config({SVG: {font: \"STIX-Web\"}});}</script>\n",
              "                <script type=\"text/javascript\">window.PlotlyConfig = {MathJaxConfig: 'local'};</script>\n",
              "        <script src=\"https://cdn.plot.ly/plotly-latest.min.js\"></script>    \n",
              "            <div id=\"358b554c-2fa6-46be-a011-e00ccf7be5b6\" class=\"plotly-graph-div\" style=\"height:1400px; width:950px;\"></div>\n",
              "            <script type=\"text/javascript\">\n",
              "                \n",
              "                    window.PLOTLYENV=window.PLOTLYENV || {};\n",
              "                    \n",
              "                if (document.getElementById(\"358b554c-2fa6-46be-a011-e00ccf7be5b6\")) {\n",
              "                    Plotly.newPlot(\n",
              "                        '358b554c-2fa6-46be-a011-e00ccf7be5b6',\n",
              "                        [{\"cells\": {\"align\": \"left\", \"fill\": {\"color\": [\"lightgray\", \"white\", \"white\", \"white\"]}, \"font\": {\"size\": [14, 12, 12, 12]}, \"height\": 30, \"line\": {\"color\": \"black\"}, \"values\": [[\"Age\", \"Gender\", \"Family Size\", \"Professional Status\", \"Professional Status\", \"Fatigue\", \"Daily Habits\", \"Daily Habits\", \"Daily Habits\", \"Sleep And Health\", \"Sleep And Health\", \"Sleep And Health\", \"Sleep And Health\", \"Sleep And Health\", \"Sleep And Health\", \"Sleep And Health\", \"Mental Health\", \"Mental Health\", \"Mental Health\", \"Mental Health\", \"Smoking Addiction\", \"Smoking Addiction\", \"Smoking Addiction\", \"Smoking Addiction\", \"Smoking Addiction\", \"Smoking Addiction\"], [\"Age\", \"Gender\", \"Number of Children\", \"Student Status\", \"Work Status\", \"Physical Exercise\", \"Last Meal\", \"Total Sleeping Hours\", \"Time Taken to Sleep\", \"Alcohol Consumption\", \"Medication\", \"Sleep Time\", \"Wakeup Time\", \"Difficulty in Sleep\", \"Sleep Interruption\", \"Sleep Satisfaction\", \"Emotional Quotient\", \"Depression\", \"Anxiety\", \"Negative Thoughts\", \"Smoking\", \"Smoking Period\", \"Cigarettes Consumed\", \"Smoking Improve Mental State\", \"Smoking Helps Sleep\", \"Craving to Smoke\"], [\"Ratio\", \"Nominal\", \"Ratio\", \"Nominal\", \"Nominal\", \"Ratio (5-point Likert Scale)\", \"Ratio\", \"St. Mary \\u0301s Hospital Sleep Questionnaire Scale\", \"St. Mary \\u0301s Hospital Sleep Questionnaire Scale\", \"Ratio\", \"Nominal\", \"St. Mary \\u0301s Hospital Sleep Questionnaire Scale\", \"St. Mary \\u0301s Hospital Sleep Questionnaire Scale\", \"Sleep Quality Scale\", \"Sleep Quality Scale\", \"Sleep Quality Scale\", \"Montgomery and Asberg Depression Rating Scale (MADRS)\", \"Montgomery and Asberg Depression Rating Scale (MADRS)\", \"Montgomery and Asberg Depression Rating Scale (MADRS)\", \"Montgomery and Asberg Depression Rating Scale (MADRS)\", \"Nominal\", \"Ratio\", \"Ratio\", \"Smoking Consequences Questionnaire Scale\", \"Smoking Consequences Questionnaire Scale\", \"Smoking Consequences Questionnaire Scale\"], [\"20-35\", \"Male/Female\", \"0-10\", \"Yes/No\", \"Yes/No\", \"Rarely/Often/Everyday\", \"0 - 5 Hours\", \"0 - 15 Hours\", \"0 - 4 Hours\", \"Never/Rarely/Often/Always\", \"Yes/No\", \"0:00 - 23:59 Hours\", \"0:00 - 23:59 Hours\", \"Rarely/Often/Always\", \"Never/Rarely/Often/Always\", \"Never/Rarely/Often/Always\", \"Very Unlikely/Somewhat Unlikely/Neutral/Somewhat Likely/Very Likely\", \"Very Unlikely/Somewhat Unlikely/Neutral/Somewhat Likely/Very Likely\", \"Very Unlikely/Somewhat Unlikely/Neutral/Somewhat Likely/Very Likely\", \"Very Unlikely/Somewhat Unlikely/Neutral/Somewhat Likely/Very Likely\", \"Yes/No\", \"0 - 20 Years\", \"0-100 Cigarettes\", \"Completely Disagree/Somewhat Disagree/Neutral/Somewhat Agree/Completely Agree\", \"Completely Disagree/Somewhat Disagree/Neutral/Somewhat Agree/Completely Agree\", \"Completely Disagree/Somewhat Disagree/Neutral/Somewhat Agree/Completely Agree\"]]}, \"header\": {\"align\": \"left\", \"fill\": {\"color\": \"lightgray\"}, \"font\": {\"size\": 14}, \"height\": 30, \"line\": {\"color\": \"black\"}, \"values\": [\"Factor\", \"Variable\", \"Level of Measurement (Scale)\", \"Expected Value(s)\"]}, \"type\": \"table\"}],\n",
              "                        {\"height\": 1400, \"template\": {\"data\": {\"bar\": [{\"error_x\": {\"color\": \"#2a3f5f\"}, \"error_y\": {\"color\": \"#2a3f5f\"}, \"marker\": {\"line\": {\"color\": \"#E5ECF6\", \"width\": 0.5}}, \"type\": \"bar\"}], \"barpolar\": [{\"marker\": {\"line\": {\"color\": \"#E5ECF6\", \"width\": 0.5}}, \"type\": \"barpolar\"}], \"carpet\": [{\"aaxis\": {\"endlinecolor\": \"#2a3f5f\", \"gridcolor\": \"white\", \"linecolor\": \"white\", \"minorgridcolor\": \"white\", \"startlinecolor\": \"#2a3f5f\"}, \"baxis\": {\"endlinecolor\": \"#2a3f5f\", \"gridcolor\": \"white\", \"linecolor\": \"white\", \"minorgridcolor\": \"white\", \"startlinecolor\": \"#2a3f5f\"}, \"type\": \"carpet\"}], \"choropleth\": [{\"colorbar\": {\"outlinewidth\": 0, \"ticks\": \"\"}, \"type\": \"choropleth\"}], \"contour\": [{\"colorbar\": {\"outlinewidth\": 0, \"ticks\": \"\"}, \"colorscale\": [[0.0, \"#0d0887\"], [0.1111111111111111, \"#46039f\"], [0.2222222222222222, \"#7201a8\"], [0.3333333333333333, \"#9c179e\"], [0.4444444444444444, \"#bd3786\"], [0.5555555555555556, \"#d8576b\"], [0.6666666666666666, \"#ed7953\"], [0.7777777777777778, \"#fb9f3a\"], [0.8888888888888888, \"#fdca26\"], [1.0, \"#f0f921\"]], \"type\": \"contour\"}], \"contourcarpet\": [{\"colorbar\": {\"outlinewidth\": 0, \"ticks\": \"\"}, \"type\": \"contourcarpet\"}], \"heatmap\": [{\"colorbar\": {\"outlinewidth\": 0, \"ticks\": \"\"}, \"colorscale\": [[0.0, \"#0d0887\"], [0.1111111111111111, \"#46039f\"], [0.2222222222222222, \"#7201a8\"], [0.3333333333333333, \"#9c179e\"], [0.4444444444444444, \"#bd3786\"], [0.5555555555555556, \"#d8576b\"], [0.6666666666666666, \"#ed7953\"], [0.7777777777777778, \"#fb9f3a\"], [0.8888888888888888, \"#fdca26\"], [1.0, \"#f0f921\"]], \"type\": \"heatmap\"}], \"heatmapgl\": [{\"colorbar\": {\"outlinewidth\": 0, \"ticks\": \"\"}, \"colorscale\": [[0.0, \"#0d0887\"], [0.1111111111111111, \"#46039f\"], [0.2222222222222222, \"#7201a8\"], [0.3333333333333333, \"#9c179e\"], [0.4444444444444444, \"#bd3786\"], [0.5555555555555556, \"#d8576b\"], [0.6666666666666666, \"#ed7953\"], [0.7777777777777778, \"#fb9f3a\"], [0.8888888888888888, \"#fdca26\"], [1.0, \"#f0f921\"]], \"type\": \"heatmapgl\"}], \"histogram\": [{\"marker\": {\"colorbar\": {\"outlinewidth\": 0, \"ticks\": \"\"}}, \"type\": \"histogram\"}], \"histogram2d\": [{\"colorbar\": {\"outlinewidth\": 0, \"ticks\": \"\"}, \"colorscale\": [[0.0, \"#0d0887\"], [0.1111111111111111, \"#46039f\"], [0.2222222222222222, \"#7201a8\"], [0.3333333333333333, \"#9c179e\"], [0.4444444444444444, \"#bd3786\"], [0.5555555555555556, \"#d8576b\"], [0.6666666666666666, \"#ed7953\"], [0.7777777777777778, \"#fb9f3a\"], [0.8888888888888888, \"#fdca26\"], [1.0, \"#f0f921\"]], \"type\": \"histogram2d\"}], \"histogram2dcontour\": [{\"colorbar\": {\"outlinewidth\": 0, \"ticks\": \"\"}, \"colorscale\": [[0.0, \"#0d0887\"], [0.1111111111111111, \"#46039f\"], [0.2222222222222222, \"#7201a8\"], [0.3333333333333333, \"#9c179e\"], [0.4444444444444444, \"#bd3786\"], [0.5555555555555556, \"#d8576b\"], [0.6666666666666666, \"#ed7953\"], [0.7777777777777778, \"#fb9f3a\"], [0.8888888888888888, \"#fdca26\"], [1.0, \"#f0f921\"]], \"type\": \"histogram2dcontour\"}], \"mesh3d\": [{\"colorbar\": {\"outlinewidth\": 0, \"ticks\": \"\"}, \"type\": \"mesh3d\"}], \"parcoords\": [{\"line\": {\"colorbar\": {\"outlinewidth\": 0, \"ticks\": \"\"}}, \"type\": \"parcoords\"}], \"pie\": [{\"automargin\": true, \"type\": \"pie\"}], \"scatter\": [{\"marker\": {\"colorbar\": {\"outlinewidth\": 0, \"ticks\": \"\"}}, \"type\": \"scatter\"}], \"scatter3d\": [{\"line\": {\"colorbar\": {\"outlinewidth\": 0, \"ticks\": \"\"}}, \"marker\": {\"colorbar\": {\"outlinewidth\": 0, \"ticks\": \"\"}}, \"type\": \"scatter3d\"}], \"scattercarpet\": [{\"marker\": {\"colorbar\": {\"outlinewidth\": 0, \"ticks\": \"\"}}, \"type\": \"scattercarpet\"}], \"scattergeo\": [{\"marker\": {\"colorbar\": {\"outlinewidth\": 0, \"ticks\": \"\"}}, \"type\": \"scattergeo\"}], \"scattergl\": [{\"marker\": {\"colorbar\": {\"outlinewidth\": 0, \"ticks\": \"\"}}, \"type\": \"scattergl\"}], \"scattermapbox\": [{\"marker\": {\"colorbar\": {\"outlinewidth\": 0, \"ticks\": \"\"}}, \"type\": \"scattermapbox\"}], \"scatterpolar\": [{\"marker\": {\"colorbar\": {\"outlinewidth\": 0, \"ticks\": \"\"}}, \"type\": \"scatterpolar\"}], \"scatterpolargl\": [{\"marker\": {\"colorbar\": {\"outlinewidth\": 0, \"ticks\": \"\"}}, \"type\": \"scatterpolargl\"}], \"scatterternary\": [{\"marker\": {\"colorbar\": {\"outlinewidth\": 0, \"ticks\": \"\"}}, \"type\": \"scatterternary\"}], \"surface\": [{\"colorbar\": {\"outlinewidth\": 0, \"ticks\": \"\"}, \"colorscale\": [[0.0, \"#0d0887\"], [0.1111111111111111, \"#46039f\"], [0.2222222222222222, \"#7201a8\"], [0.3333333333333333, \"#9c179e\"], [0.4444444444444444, \"#bd3786\"], [0.5555555555555556, \"#d8576b\"], [0.6666666666666666, \"#ed7953\"], [0.7777777777777778, \"#fb9f3a\"], [0.8888888888888888, \"#fdca26\"], [1.0, \"#f0f921\"]], \"type\": \"surface\"}], \"table\": [{\"cells\": {\"fill\": {\"color\": \"#EBF0F8\"}, \"line\": {\"color\": \"white\"}}, \"header\": {\"fill\": {\"color\": \"#C8D4E3\"}, \"line\": {\"color\": \"white\"}}, \"type\": \"table\"}]}, \"layout\": {\"annotationdefaults\": {\"arrowcolor\": \"#2a3f5f\", \"arrowhead\": 0, \"arrowwidth\": 1}, \"coloraxis\": {\"colorbar\": {\"outlinewidth\": 0, \"ticks\": \"\"}}, \"colorscale\": {\"diverging\": [[0, \"#8e0152\"], [0.1, \"#c51b7d\"], [0.2, \"#de77ae\"], [0.3, \"#f1b6da\"], [0.4, \"#fde0ef\"], [0.5, \"#f7f7f7\"], [0.6, \"#e6f5d0\"], [0.7, \"#b8e186\"], [0.8, \"#7fbc41\"], [0.9, \"#4d9221\"], [1, \"#276419\"]], \"sequential\": [[0.0, \"#0d0887\"], [0.1111111111111111, \"#46039f\"], [0.2222222222222222, \"#7201a8\"], [0.3333333333333333, \"#9c179e\"], [0.4444444444444444, \"#bd3786\"], [0.5555555555555556, \"#d8576b\"], [0.6666666666666666, \"#ed7953\"], [0.7777777777777778, \"#fb9f3a\"], [0.8888888888888888, \"#fdca26\"], [1.0, \"#f0f921\"]], \"sequentialminus\": [[0.0, \"#0d0887\"], [0.1111111111111111, \"#46039f\"], [0.2222222222222222, \"#7201a8\"], [0.3333333333333333, \"#9c179e\"], [0.4444444444444444, \"#bd3786\"], [0.5555555555555556, \"#d8576b\"], [0.6666666666666666, \"#ed7953\"], [0.7777777777777778, \"#fb9f3a\"], [0.8888888888888888, \"#fdca26\"], [1.0, \"#f0f921\"]]}, \"colorway\": [\"#636efa\", \"#EF553B\", \"#00cc96\", \"#ab63fa\", \"#FFA15A\", \"#19d3f3\", \"#FF6692\", \"#B6E880\", \"#FF97FF\", \"#FECB52\"], \"font\": {\"color\": \"#2a3f5f\"}, \"geo\": {\"bgcolor\": \"white\", \"lakecolor\": \"white\", \"landcolor\": \"#E5ECF6\", \"showlakes\": true, \"showland\": true, \"subunitcolor\": \"white\"}, \"hoverlabel\": {\"align\": \"left\"}, \"hovermode\": \"closest\", \"mapbox\": {\"style\": \"light\"}, \"paper_bgcolor\": \"white\", \"plot_bgcolor\": \"#E5ECF6\", \"polar\": {\"angularaxis\": {\"gridcolor\": \"white\", \"linecolor\": \"white\", \"ticks\": \"\"}, \"bgcolor\": \"#E5ECF6\", \"radialaxis\": {\"gridcolor\": \"white\", \"linecolor\": \"white\", \"ticks\": \"\"}}, \"scene\": {\"xaxis\": {\"backgroundcolor\": \"#E5ECF6\", \"gridcolor\": \"white\", \"gridwidth\": 2, \"linecolor\": \"white\", \"showbackground\": true, \"ticks\": \"\", \"zerolinecolor\": \"white\"}, \"yaxis\": {\"backgroundcolor\": \"#E5ECF6\", \"gridcolor\": \"white\", \"gridwidth\": 2, \"linecolor\": \"white\", \"showbackground\": true, \"ticks\": \"\", \"zerolinecolor\": \"white\"}, \"zaxis\": {\"backgroundcolor\": \"#E5ECF6\", \"gridcolor\": \"white\", \"gridwidth\": 2, \"linecolor\": \"white\", \"showbackground\": true, \"ticks\": \"\", \"zerolinecolor\": \"white\"}}, \"shapedefaults\": {\"line\": {\"color\": \"#2a3f5f\"}}, \"ternary\": {\"aaxis\": {\"gridcolor\": \"white\", \"linecolor\": \"white\", \"ticks\": \"\"}, \"baxis\": {\"gridcolor\": \"white\", \"linecolor\": \"white\", \"ticks\": \"\"}, \"bgcolor\": \"#E5ECF6\", \"caxis\": {\"gridcolor\": \"white\", \"linecolor\": \"white\", \"ticks\": \"\"}}, \"title\": {\"x\": 0.05}, \"xaxis\": {\"automargin\": true, \"gridcolor\": \"white\", \"linecolor\": \"white\", \"ticks\": \"\", \"title\": {\"standoff\": 15}, \"zerolinecolor\": \"white\", \"zerolinewidth\": 2}, \"yaxis\": {\"automargin\": true, \"gridcolor\": \"white\", \"linecolor\": \"white\", \"ticks\": \"\", \"title\": {\"standoff\": 15}, \"zerolinecolor\": \"white\", \"zerolinewidth\": 2}}}, \"title\": {\"text\": \"Table-2: Variables and Measurement Scales with Expected Values\", \"x\": 0.5}, \"width\": 950},\n",
              "                        {\"responsive\": true}\n",
              "                    ).then(function(){\n",
              "                            \n",
              "var gd = document.getElementById('358b554c-2fa6-46be-a011-e00ccf7be5b6');\n",
              "var x = new MutationObserver(function (mutations, observer) {{\n",
              "        var display = window.getComputedStyle(gd).display;\n",
              "        if (!display || display === 'none') {{\n",
              "            console.log([gd, 'removed!']);\n",
              "            Plotly.purge(gd);\n",
              "            observer.disconnect();\n",
              "        }}\n",
              "}});\n",
              "\n",
              "// Listen for the removal of the full notebook cells\n",
              "var notebookContainer = gd.closest('#notebook-container');\n",
              "if (notebookContainer) {{\n",
              "    x.observe(notebookContainer, {childList: true});\n",
              "}}\n",
              "\n",
              "// Listen for the clearing of the current output cell\n",
              "var outputEl = gd.closest('.output');\n",
              "if (outputEl) {{\n",
              "    x.observe(outputEl, {childList: true});\n",
              "}}\n",
              "\n",
              "                        })\n",
              "                };\n",
              "                \n",
              "            </script>\n",
              "        </div>\n",
              "</body>\n",
              "</html>"
            ]
          },
          "metadata": {
            "tags": []
          }
        }
      ]
    },
    {
      "cell_type": "markdown",
      "metadata": {
        "id": "cKD8BOVz4F-x"
      },
      "source": [
        "In **Table-2**, we define the variables along with the Scales of Measurement and its expected values. Our questionnaire uses a mix of Standardised and Adhoc Scales and Measures. The set of Standardised scales used are as below:  \n",
        "\n",
        "- Smoking Consequences Questionnaire (SCQ - Brandon et. al, 1991)\n",
        "- Sleep Quality Scale (SQS - Yi, H. et. al, 2006)\n",
        "- St. Mary ́s Hospital Sleep Questionnaire (Ellis BW. Sleep, 1981)  \n",
        "- Montgomery and Asberg Depression Rating Scale (MADRS)  \n",
        "\n",
        "**Smoking Consequences Questionnaire**: The Smoking Consequences Questionnaire (SCQ) was developed to assess smoking-related outcome expectancies among smokers and nonsmokers. Here we have used a version specific for Adults, SCQ-A.  \n",
        "\n",
        "**Sleep Quality Scale**: the SQS evaluates six domains of sleep quality: daytime symptoms, restoration after sleep, problems initiating and maintaining sleep, difficulty waking, and sleep satisfaction.  \n",
        "\n",
        "**St. Mary's Hospital Sleep Questionnaire**: A systematic sleep questionnaire, devised for assessing the previous night's sleep of a subject. It has been designed for repeated use. It is used to assess the overall health of the subject.  \n",
        "\n",
        "**Montgomery and Asberg Depression Rating Scale**: The rating based on a clinical interview moving from broadly phrased questions about symptoms to more detailed ones which allow a precise rating of severity.  \n",
        "\n",
        "We have tried to merge these scales togethor and take only the essential questions and scaling metrics which deemed fit for our experiment and study. Also, we have altered the scaling language as our population sample was not trained on what and how to answer the questionnare. Thus, making it much easier to understand.  \n",
        "\n",
        "Along with this, we have used some AdHoc Questions. This is done to get some exact data which could be measured. This also helps us maintain the neutrality of the questionnaire which is necessary so that the objective of the questionnaire is not revealed and the participants remain honest while answering the questions thus removing any bias."
      ]
    },
    {
      "cell_type": "markdown",
      "metadata": {
        "id": "X3okaQSXl6Tg"
      },
      "source": [
        "* * *"
      ]
    },
    {
      "cell_type": "markdown",
      "metadata": {
        "id": "bdAxI4NNl6Tg"
      },
      "source": [
        "### Question 1.6\n",
        "Design a questionnaire: Include questions for the variables gender, hours of sleep per night and your variable. "
      ]
    },
    {
      "cell_type": "markdown",
      "metadata": {
        "id": "irhZPS-fl6Tg"
      },
      "source": [
        "#### Solution 1.6"
      ]
    },
    {
      "cell_type": "markdown",
      "metadata": {
        "id": "BRHGr3WcgGNE"
      },
      "source": [
        "Using the above mentioned Standardised Scales and the AdHoc Questions for direct values, we have designed a questionnaire having **5 distinct parts** as below:  \n",
        "\n",
        "1. Introduction\n",
        "2. General Habits\n",
        "3. Sleeping\n",
        "4. Emotional State\n",
        "5. Smoking  \n",
        "\n",
        "**Introduction:** This section takes the basic information of the participant. The most important variable is the **Gender** which can be a differentiating factor in the overall sleep patterns. This section sets up the foundation for the overall questionnaire. It has the following questions:  \n",
        "\n",
        "1. How old are you?\n",
        "2. What is your gender?\n",
        "3. How many children do you have?\n",
        "4. Do you study?\n",
        "5. Do you work?\n",
        "\n",
        "**General Habits:** This section contains two important factors, **Physical Exercise**, **Drinking Habits** as well as **Prescribed Medications**. It has following questions:  \n",
        "\n",
        "6. How often do you exercise in a week?\n",
        "7. How often do you watch the news?\n",
        "8. How many litres of water do you drink per day? \n",
        "9. How many hours before sleep is your last meal?\n",
        "10. Are there any medications prescribed for you?\n",
        "11. How much do you usually drink (alcohol)?\n",
        "12. Please state which of the following activities do you usually do just before you go off to sleep?  \n",
        "\n",
        "**Sleeping:** As described above, this super-set contains the most important differentiating factors which impacts the overall sleep. Factors like **Bed Time**, **Wakeup Time** and overall **Sleeping Hours**. It has the following questions:  \n",
        "\n",
        "13. At what time do you usually fall asleep?\n",
        "14. At what time do you usually get up in the morning?\n",
        "15. I have difficulty falling asleep?\n",
        "16. I wake up in the middle of the night\n",
        "17. I feel refreshed after sleep\n",
        "18. I am satisfied with my sleep\n",
        "19. How many hours do you sleep? (Hours)\n",
        "20. How long does it take you to fall asleep?  (Hours)  \n",
        "\n",
        "**Emotional State:** This is another important factor which is considered to have a lasting impact on the overall sleeping patterns of an individual. **Anxiety**, **Depression** and **Random Thoughts** can have short term or long term impact on an individual. It has the following questions:  \n",
        "\n",
        "21. I am a sentimental person\n",
        "22. I am often worried about the future \n",
        "23. I think I am experiencing depression\n",
        "24. I don't fully enjoy happy moments\n",
        "25. I think I suffer from anxiety\n",
        "26. How likely you have negative thoughts while trying to fall asleep?\n",
        "27. Do you smoke?  \n",
        "\n",
        "**Smoking:** And finally, this is the variable/factor which we have chosen which could also have a lasting impact on the overall health and thus sleep of an individual. It has the following questions:  \n",
        "\n",
        "28. How many years have you been smoking?\n",
        "29. How many cigarettes do you usually smoke during the week?\n",
        "30. Cigarettes help me deal with anxiety or worry\n",
        "31. I sleep better when I smoke before going to bed\n",
        "32. How likely are you to smoke seeing someone smoke?  \n",
        "\n",
        "This could also be seen through this url:  \n",
        "https://docs.google.com/forms/d/e/1FAIpQLSeSStbqAtYVENRcf8tFnGXK-Kl4sXJd3PnNjddRbvwWFPKIfg/viewform?usp=sf_link"
      ]
    },
    {
      "cell_type": "markdown",
      "metadata": {
        "id": "1QK1K1HOl6Tj"
      },
      "source": [
        "* * *"
      ]
    },
    {
      "cell_type": "markdown",
      "metadata": {
        "id": "EjXUi4EUl6Tj"
      },
      "source": [
        "### Question 1.7\n",
        "Estimate validity and reliability (a written explanation is sufficient)."
      ]
    },
    {
      "cell_type": "markdown",
      "metadata": {
        "id": "zmW-4ivHl6Tj"
      },
      "source": [
        "#### Solution 1.7"
      ]
    },
    {
      "cell_type": "markdown",
      "metadata": {
        "id": "z41eD9WKmYZw"
      },
      "source": [
        "We assume through this questionnaire that, this research will help us provide answers for the chosen variable, which is to determine the sleeping patterns among males and females and how smoking affects sleeping patterns.\n",
        "\n",
        "**Validity:** Here we are targetting people from **Age Group of 20 - 35 years**, which is considered to have the least illnesses. Also, people in this age group are considered to be most active. Thus, any differences in the sleep for both males and females in this age-group could be generalised to other age groups as well. The 5 different sections try to capture the balanced coverage of the issue using adequate questions.  \n",
        "\n",
        "Also, we try to keep the follwoing **Controlled Variable**:  \n",
        "\n",
        "* Age (20 - 35 Years)\n",
        "* Family Size (People with no children)  \n",
        "  \n",
        "Keeping these variables constant provide us a lot more consistency and uniformity as this **reduces** the amount of **Extraneous Factors** significantly.  \n",
        "\n",
        "**Reliability:** We consider this questionnaire reliable as more than 90% of the questions will produce the same result every time this is asked, irrespective of the condition in which a person is answering these questions. Apart from this, most of the questions asked are standard questions which have been tried and tested in various previous studies. Thus, increasing our overall confidence on this experiment."
      ]
    },
    {
      "cell_type": "markdown",
      "metadata": {
        "id": "X4kzqkTsl6Tj"
      },
      "source": [
        "* * *\n",
        "* * *"
      ]
    },
    {
      "cell_type": "markdown",
      "metadata": {
        "id": "nWld6QoMl6Tk"
      },
      "source": [
        "## Task 2 **[25 points] Conduct**\n",
        "1. Set up a protocol and define testing procedures (How are you going to approach people? What are you telling them? What tool for collecting answers are you using?)\n",
        "2. Make a small pilot study. What do you need to change?\n",
        "3. Conduct your study with 30 people. "
      ]
    },
    {
      "cell_type": "markdown",
      "metadata": {
        "id": "Q7R96juWl6Tk"
      },
      "source": [
        "* * *\n",
        "* * *"
      ]
    },
    {
      "cell_type": "markdown",
      "metadata": {
        "id": "lKiZSNxfl6Tk"
      },
      "source": [
        "### Question 2.1\n",
        "Set up a protocol and define testing procedures (How are you going to approach people? What are you telling them? What tool for collecting answers are you using?)"
      ]
    },
    {
      "cell_type": "markdown",
      "metadata": {
        "id": "WZN9e4qzl6Tl"
      },
      "source": [
        "#### Solution 2.1"
      ]
    },
    {
      "cell_type": "markdown",
      "metadata": {
        "id": "W1uGVrkFI2z7"
      },
      "source": [
        "#### **Protocol**\n",
        "\n",
        ">**Purpose**:\n",
        ">\n",
        ">The present study aims to find out whether there is any relationship between gender/smoking tendency and sleep hours per night of a person.\n",
        ">\n",
        ">**Participants**:\n",
        ">\n",
        ">Participants are 30 young adults ranging in age from 20-35 from different parts of the world.\n",
        "\n",
        "#### **Procedure**:\n",
        "\n",
        ">**Recruitment and Inclusion/Exclusion Criteria**:  \n",
        ">\n",
        ">Potential participants will be recruited from friends of the researchers. Out of all surveyed people, 30 will be randomly selected for further research.  \n",
        ">\n",
        ">**Measurement**:  \n",
        ">\n",
        ">Young adults will complete a set of self-report questions. The questionnaire will be conducted online and anonymously to ensure lack of experimenter’s bias. The questionnaire includes a measurement of sleeping hours, sleep quality, falling asleep and wake up times, smoking frequency, drink tendency, type and number of activities before sleep, presence of sleep disorders and prescribed medications.  \n",
        ">\n",
        ">**Confounding variables**:  \n",
        ">\n",
        ">In the current study, the confounding variables could be the emotional state, mental or physical health of the participant.  \n",
        ">\n",
        ">**Tools**:  \n",
        ">\n",
        ">Google Forms, an online survey.\n",
        ">\n",
        ">**Pre-Questionnaire Talk**:  \n",
        ">\n",
        ">A small talk is done before sending the questionnaire.  \n",
        ">* Firstly, to get the availability from the subject.  \n",
        ">* Secondly, to set a context where we tell the subject that the purpose of this survey is to collect data about daily habits without actually letting them know that the data collected refers to Sleep Patterns and Smoking Patterns.  \n",
        ">* Thirdly, to ensure the data being taken is adheres to **Privacy Policy** and will not be shared with anyone. Apart from that, the experimenters will also not know which subject filled out which question.  \n",
        ">\n",
        ">Doing this is necessary for the survey and this will be explained further in the next section.  \n",
        ">\n",
        ">**Post-Questionnaire Interview**:  \n",
        ">\n",
        ">This is very essential, as firstly, our experiment involves human participants. Therefore, there was a need to undertsand what the subjects were thinking after filling the survey. Did they feel something was in-appropriate and so on. This helps us validate the study and make certain changes if needed before we continue with the experiment.\n",
        ">\n",
        ">**Analysis**:  \n",
        ">\n",
        ">Collected data will be analyzed using EDA approach and will be used to test hypotheses, defined to identify sleep patterns between two groups divided by gender and attitude towards smoking.\n",
        ">\n",
        ">**Safety procedure**:  \n",
        ">\n",
        ">To ensure the safety of personal data, the questionnaire will be held online and anonymously.\n",
        ">\n",
        ">**Risks and benefits**:  \n",
        ">There are no potential risks and no anticipated benefits to individual participants.\n",
        ">"
      ]
    },
    {
      "cell_type": "markdown",
      "metadata": {
        "id": "ESj9lN7Il6Tt"
      },
      "source": [
        "* * *"
      ]
    },
    {
      "cell_type": "markdown",
      "metadata": {
        "id": "JHCINPNCl6Tu"
      },
      "source": [
        "### Question 2.2\n",
        "Make a small pilot study. What do you need to change?"
      ]
    },
    {
      "cell_type": "markdown",
      "metadata": {
        "id": "329k14oBl6Tu"
      },
      "source": [
        "#### Solution 2.2"
      ]
    },
    {
      "cell_type": "markdown",
      "metadata": {
        "id": "Z_f6MAph2mEp"
      },
      "source": [
        "#### Pilot Study - 01  \n",
        "\n",
        "For the **Pilot Study** we selected 20 People to test the effectiveness of the questionnaire including the experimenters.\n",
        "\n",
        "Here, **Pre-Questionnaire Interview was not done** and the participants were only sent the Questionnaire to answer whenever they can with no compulsion.  \n",
        "\n",
        "**Results**: After conducting a pilot study we found out that, there was a lot **less data and details** opposed to what was anticipated. A lot of **people did not take part** in the Survey. The questions which seemed to be good previously, made less sense after the survey, which was even observed by the experimenters while doing the Survey.  \n",
        "\n",
        "#### Pilot Study - 02  \n",
        "\n",
        "Before doing another Pilot Study, we decided to do **Post-Survey Interview**. As the people who participated were very less and known, we tried to interview them to ask and take their feedback on the survey.  \n",
        "\n",
        "5 People were chosen for this process. The biggest feedback received from all of them was that there were **a lot of Personal Questions** and that the **Survey was not Anonymous** as it was not mentioned anywhere, nor it was iterated to the participants. Apart from them, some of the questions made people **Uncomfortable**.  \n",
        "\n",
        "Thus, after receiving the feedback, a **new Questionnaire was Designed**, keeping in mind all these points.  \n",
        "\n",
        "Now, for the **Pilot Study**, 25 other people were chosen.  \n",
        "Firstly, **Pre-Questionnaire Interview** was done, where the expectations were set with the participant. Participants were made to feel confident about the survey and data privacy. Same was mentioned in the Survey Description as well.  \n",
        "\n",
        "**Result**:  After conducting the survey, we received a lot more data as expected. People filled out all the questions and even the questions related to their mental health.  \n",
        "\n",
        "Now again, we chose 5 people for the **Post-Survey Interview** and asked them following questions:  \n",
        "\n",
        ">1. How did you feel after completing the survey? \n",
        ">2. Were there any questions that you thought were inappropriate or unpleasant?\n",
        ">3. How long did it take you to complete the survey?\n",
        ">4. How confident are you in your answers? \n",
        ">5. Were there any questions you didn’t know what to answer?\n",
        ">6. Have you guessed what this study is about?\n",
        ">7. Do you have any suggestions on how to improve the survey?\n",
        ">8. What do you think is the agenda for this survey?  \n",
        "\n",
        "This time, we received positive feedback and people seemed a lot more relaxed and content with the survey as compared to the previous study.  \n",
        "\n",
        "#### Changes Done: Pilot Study - 01 ->  Pilot Study - 02  \n",
        "\n",
        "1. Pre-Survey Interview\n",
        "2. Set the context of being an Anonymous Survey with Data Privacy\n",
        "3. Completely chnaging the Questionnaire\n",
        "4. Post-Survey Interview  \n",
        "\n",
        "Thus, after making all these changes and getting satisfactory results from the Pilot Study - 02, we went ahead with the conduct of actual study."
      ]
    },
    {
      "cell_type": "markdown",
      "metadata": {
        "id": "hKygNa7ml6Ty"
      },
      "source": [
        "* * *"
      ]
    },
    {
      "cell_type": "markdown",
      "metadata": {
        "id": "5-KfSbZzl6Ty"
      },
      "source": [
        "### Question 2.3\n",
        "Conduct your study with 30 people. "
      ]
    },
    {
      "cell_type": "markdown",
      "metadata": {
        "id": "_O-neXasl6Ty"
      },
      "source": [
        "#### Solution 2.3"
      ]
    },
    {
      "cell_type": "markdown",
      "metadata": {
        "id": "bTxRsL5ol6Tz"
      },
      "source": [
        "* * *\n",
        "* * *"
      ]
    },
    {
      "cell_type": "markdown",
      "metadata": {
        "id": "3bUg2Lhev6hH"
      },
      "source": [
        "Firstly, we tried to do a **Single Blind Trial**, by making sure that the subjects are unaware of what this survey is all about. The expectations were set using the Pre-Questionnaire Interview that the study is about **Daily Habits** and we tried to verify if the participants were able to anticipate the aim of study or not. It turns out, no participant was able to know, that the study is to measure the **Sleeping Pattern** and **Smoking**.  \n",
        "\n",
        "Secondly, we tried to bring in **Double Blinding** by making sure that the experimenter does not give any clues or anything in this regard, by holding the Experiment and Pre/Post Interviews on a Social Platform using fixed set of Questions. So same questions were asked by the experiment in text, which takes out the voice modulation or facial expression and having same set of questions, gave us a way to follow Double Blinding. Although, since the participants were mostly friends of the researchers/experimenters, some biases could not be avoided, such as having conversation with the participant in-between the interview, or participants asking questions while filling up the survey and so on.  \n",
        "\n",
        "Thus, in this way, we included as many participants we could, close to 40 Participants were chosen for the Survey and Data of 30 is chosen out of those, thus, bringing in **Randomisation**, which could further help us deal with biasis and reduce the confounding variables if any."
      ]
    },
    {
      "cell_type": "markdown",
      "metadata": {
        "id": "cP38sJysl6Tz"
      },
      "source": [
        "## Task 3 **[25 points] Evaluate**\n",
        "\n",
        "1. Clean your data and save your variables in a .csv and dataframe for later sharing purposes in A05.\n",
        "2. *a.* Do a short EDA for your study and <br> \n",
        "   *b.* state appropriate statistics and <br> \n",
        "   *c.* choose the appropriate visualizations.\n",
        "3. *a.* Choose the appropriate method to evaluate your hypotheses for questions **(A)** and **(B)**.  \n",
        "   *b.* state why you chose these methods.\n",
        "4. Report scientifically your answer to the questions: provide enough information about the study and the hypotheses, and choose how you want to report the results (see lecture videos, also L05).\n",
        "\n"
      ]
    },
    {
      "cell_type": "markdown",
      "metadata": {
        "id": "E-Gw2zpCl6Tz"
      },
      "source": [
        "* * *\n",
        "* * *"
      ]
    },
    {
      "cell_type": "markdown",
      "metadata": {
        "id": "m8vFswlUl6Tz"
      },
      "source": [
        "### Question 3.1\n",
        "Clean your data and save your variables in a .csv and dataframe for later sharing purposes in A05."
      ]
    },
    {
      "cell_type": "markdown",
      "metadata": {
        "id": "BRfRQUsul6T0"
      },
      "source": [
        "#### Solution 3.1\n",
        "\n",
        "1. Download Csv \n",
        "2. Change columns names \n",
        "3. Clean the data\n",
        "  - remove NAN\n",
        "  - remove 10 random persons\n",
        "4. Save data in csv"
      ]
    },
    {
      "cell_type": "code",
      "metadata": {
        "colab": {
          "base_uri": "https://localhost:8080/"
        },
        "id": "MC5f_x5Vz3Fl",
        "outputId": "54e52f25-cd6e-48f2-a37c-fb698f82661a"
      },
      "source": [
        "#load questionnaire raw data\n",
        "import requests\n",
        "import io\n",
        "url = \"https://raw.githubusercontent.com/ebrambilla42/rm_assignments/master/RM_4/questionnaire.csv\" \n",
        "download = requests.get(url).content\n",
        "\n",
        "\n",
        "study_data = pd.read_csv(io.StringIO(download.decode('utf-8')))\n",
        "study_data.head()"
      ],
      "execution_count": null,
      "outputs": [
        {
          "output_type": "execute_result",
          "data": {
            "text/html": [
              "<div>\n",
              "<style scoped>\n",
              "    .dataframe tbody tr th:only-of-type {\n",
              "        vertical-align: middle;\n",
              "    }\n",
              "\n",
              "    .dataframe tbody tr th {\n",
              "        vertical-align: top;\n",
              "    }\n",
              "\n",
              "    .dataframe thead th {\n",
              "        text-align: right;\n",
              "    }\n",
              "</style>\n",
              "<table border=\"1\" class=\"dataframe\">\n",
              "  <thead>\n",
              "    <tr style=\"text-align: right;\">\n",
              "      <th></th>\n",
              "      <th>Timestamp</th>\n",
              "      <th>How old are you?</th>\n",
              "      <th>What is your gender?</th>\n",
              "      <th>How many kids do you have?</th>\n",
              "      <th>Do you study?</th>\n",
              "      <th>Do you work?</th>\n",
              "      <th>How often do you exercise in a week?</th>\n",
              "      <th>How often do you watch the news?</th>\n",
              "      <th>How many litres of water do you drink per day?</th>\n",
              "      <th>How many hours before sleep is your last meal?</th>\n",
              "      <th>Are there any medications prescribed for you?</th>\n",
              "      <th>How much do you usually drink (alcohol)?</th>\n",
              "      <th>Please state which of the following activities do you usually do just before you go off to sleep?</th>\n",
              "      <th>At what time do you usually fall asleep?</th>\n",
              "      <th>At what time do you usually get up in the morning?</th>\n",
              "      <th>I have difficulty falling asleep?</th>\n",
              "      <th>I wake up in the middle of the night</th>\n",
              "      <th>I feel refreshed after sleep</th>\n",
              "      <th>I am satisfied with my sleep</th>\n",
              "      <th>How many hours do you sleep? (Hours)</th>\n",
              "      <th>How long does it take you to fall asleep?  (Hours)</th>\n",
              "      <th>I am a sentimental person</th>\n",
              "      <th>I am often worried about the future</th>\n",
              "      <th>I think I am experiencing depression</th>\n",
              "      <th>I don't fully enjoy happy moments</th>\n",
              "      <th>I think I suffer from anxiety</th>\n",
              "      <th>How likely you have negative thoughts while trying to fall asleep?</th>\n",
              "      <th>Do you smoke?</th>\n",
              "      <th>How many years have you been smoking?</th>\n",
              "      <th>How many cigarettes do you usually smoke during the week?</th>\n",
              "      <th>Cigarettes help me deal with anxiety or worry</th>\n",
              "      <th>I sleep better when I smoke before going to bed</th>\n",
              "      <th>How likely are you to smoke seeing someone smoke?</th>\n",
              "    </tr>\n",
              "  </thead>\n",
              "  <tbody>\n",
              "    <tr>\n",
              "      <th>0</th>\n",
              "      <td>2020/12/27 9:26:38 am CET</td>\n",
              "      <td>21</td>\n",
              "      <td>Female</td>\n",
              "      <td>0</td>\n",
              "      <td>Yes</td>\n",
              "      <td>Yes</td>\n",
              "      <td>2</td>\n",
              "      <td>2</td>\n",
              "      <td>1.5</td>\n",
              "      <td>2 hours</td>\n",
              "      <td>No</td>\n",
              "      <td>1</td>\n",
              "      <td>Check email;Watch social media</td>\n",
              "      <td>00:00</td>\n",
              "      <td>06:20</td>\n",
              "      <td>1</td>\n",
              "      <td>2</td>\n",
              "      <td>2</td>\n",
              "      <td>2</td>\n",
              "      <td>06:20:00</td>\n",
              "      <td>00:05:00</td>\n",
              "      <td>4</td>\n",
              "      <td>4</td>\n",
              "      <td>3</td>\n",
              "      <td>3</td>\n",
              "      <td>3</td>\n",
              "      <td>2</td>\n",
              "      <td>No</td>\n",
              "      <td>NaN</td>\n",
              "      <td>NaN</td>\n",
              "      <td>NaN</td>\n",
              "      <td>NaN</td>\n",
              "      <td>NaN</td>\n",
              "    </tr>\n",
              "    <tr>\n",
              "      <th>1</th>\n",
              "      <td>2020/12/27 9:28:26 am CET</td>\n",
              "      <td>22</td>\n",
              "      <td>Male</td>\n",
              "      <td>0</td>\n",
              "      <td>No</td>\n",
              "      <td>Yes</td>\n",
              "      <td>2</td>\n",
              "      <td>2</td>\n",
              "      <td>1.0</td>\n",
              "      <td>More than 3 hours</td>\n",
              "      <td>No</td>\n",
              "      <td>1</td>\n",
              "      <td>Watch social media;Read books</td>\n",
              "      <td>23:59</td>\n",
              "      <td>08:00</td>\n",
              "      <td>3</td>\n",
              "      <td>2</td>\n",
              "      <td>2</td>\n",
              "      <td>3</td>\n",
              "      <td>07:00:00</td>\n",
              "      <td>01:00:00</td>\n",
              "      <td>2</td>\n",
              "      <td>3</td>\n",
              "      <td>2</td>\n",
              "      <td>3</td>\n",
              "      <td>2</td>\n",
              "      <td>1</td>\n",
              "      <td>No</td>\n",
              "      <td>NaN</td>\n",
              "      <td>NaN</td>\n",
              "      <td>NaN</td>\n",
              "      <td>NaN</td>\n",
              "      <td>NaN</td>\n",
              "    </tr>\n",
              "    <tr>\n",
              "      <th>2</th>\n",
              "      <td>2020/12/27 9:28:54 am CET</td>\n",
              "      <td>21</td>\n",
              "      <td>Male</td>\n",
              "      <td>0</td>\n",
              "      <td>Yes</td>\n",
              "      <td>Yes</td>\n",
              "      <td>3</td>\n",
              "      <td>5</td>\n",
              "      <td>1.5</td>\n",
              "      <td>1 hour</td>\n",
              "      <td>Yes</td>\n",
              "      <td>2</td>\n",
              "      <td>Check email;Watch social media;Watch TV;Evenin...</td>\n",
              "      <td>00:00</td>\n",
              "      <td>08:00</td>\n",
              "      <td>3</td>\n",
              "      <td>1</td>\n",
              "      <td>4</td>\n",
              "      <td>4</td>\n",
              "      <td>08:00:00</td>\n",
              "      <td>01:00:00</td>\n",
              "      <td>4</td>\n",
              "      <td>3</td>\n",
              "      <td>3</td>\n",
              "      <td>3</td>\n",
              "      <td>2</td>\n",
              "      <td>3</td>\n",
              "      <td>No</td>\n",
              "      <td>NaN</td>\n",
              "      <td>NaN</td>\n",
              "      <td>NaN</td>\n",
              "      <td>NaN</td>\n",
              "      <td>NaN</td>\n",
              "    </tr>\n",
              "    <tr>\n",
              "      <th>3</th>\n",
              "      <td>2020/12/27 9:34:32 am CET</td>\n",
              "      <td>22</td>\n",
              "      <td>Male</td>\n",
              "      <td>0</td>\n",
              "      <td>Yes</td>\n",
              "      <td>Yes</td>\n",
              "      <td>3</td>\n",
              "      <td>2</td>\n",
              "      <td>2.5</td>\n",
              "      <td>More than 3 hours</td>\n",
              "      <td>No</td>\n",
              "      <td>1</td>\n",
              "      <td>Watch social media;Watch TV;Read books</td>\n",
              "      <td>23:30</td>\n",
              "      <td>06:20</td>\n",
              "      <td>2</td>\n",
              "      <td>1</td>\n",
              "      <td>3</td>\n",
              "      <td>3</td>\n",
              "      <td>06:40:00</td>\n",
              "      <td>00:30:00</td>\n",
              "      <td>4</td>\n",
              "      <td>4</td>\n",
              "      <td>3</td>\n",
              "      <td>1</td>\n",
              "      <td>2</td>\n",
              "      <td>2</td>\n",
              "      <td>No</td>\n",
              "      <td>NaN</td>\n",
              "      <td>NaN</td>\n",
              "      <td>NaN</td>\n",
              "      <td>NaN</td>\n",
              "      <td>NaN</td>\n",
              "    </tr>\n",
              "    <tr>\n",
              "      <th>4</th>\n",
              "      <td>2020/12/27 9:38:18 am CET</td>\n",
              "      <td>21</td>\n",
              "      <td>Male</td>\n",
              "      <td>0</td>\n",
              "      <td>No</td>\n",
              "      <td>Yes</td>\n",
              "      <td>3</td>\n",
              "      <td>5</td>\n",
              "      <td>3.0</td>\n",
              "      <td>1 hour</td>\n",
              "      <td>Yes</td>\n",
              "      <td>1</td>\n",
              "      <td>Check email;Watch social media;Read books;Play...</td>\n",
              "      <td>00:00</td>\n",
              "      <td>07:00</td>\n",
              "      <td>2</td>\n",
              "      <td>1</td>\n",
              "      <td>2</td>\n",
              "      <td>2</td>\n",
              "      <td>07:00:00</td>\n",
              "      <td>00:30:00</td>\n",
              "      <td>1</td>\n",
              "      <td>5</td>\n",
              "      <td>3</td>\n",
              "      <td>2</td>\n",
              "      <td>4</td>\n",
              "      <td>3</td>\n",
              "      <td>No</td>\n",
              "      <td>NaN</td>\n",
              "      <td>NaN</td>\n",
              "      <td>NaN</td>\n",
              "      <td>NaN</td>\n",
              "      <td>NaN</td>\n",
              "    </tr>\n",
              "  </tbody>\n",
              "</table>\n",
              "</div>"
            ],
            "text/plain": [
              "                   Timestamp  ...  How likely are you to smoke seeing someone smoke?\n",
              "0  2020/12/27 9:26:38 am CET  ...                                                NaN\n",
              "1  2020/12/27 9:28:26 am CET  ...                                                NaN\n",
              "2  2020/12/27 9:28:54 am CET  ...                                                NaN\n",
              "3  2020/12/27 9:34:32 am CET  ...                                                NaN\n",
              "4  2020/12/27 9:38:18 am CET  ...                                                NaN\n",
              "\n",
              "[5 rows x 33 columns]"
            ]
          },
          "metadata": {
            "tags": []
          },
          "execution_count": 8
        }
      ]
    },
    {
      "cell_type": "code",
      "metadata": {
        "id": "sS3ScS9Zw3GN"
      },
      "source": [
        "#Change columns names\n",
        "#Questionnaire question -> study column variables names\n",
        "columns = study_data.columns\n",
        "new_columns ={\n",
        "    'How old are you?'                                                          :'Age', \n",
        "    'What is your gender?'                                                      :'Gender',\n",
        "    'How many kids do you have?'                                                :'Number of Children', \n",
        "    'Do you study?'                                                             :'Student Status', \n",
        "    'Do you work?'                                                              :'Work Status',\n",
        "    'How often do you exercise in a week?'                                      :'Physical Exercise', \n",
        "    'How often do you watch the news?'                                          :'News',\n",
        "    'How many litres of water do you drink per day? '                           :'Daily Water',\n",
        "    'How many hours before sleep is your last meal?'                            :'Last Meal',\n",
        "    'Are there any medications prescribed for you?'                             :'Medication',\n",
        "    'How much do you usually drink (alcohol)?'                                  :'Alcohol Consumption',\n",
        "    'Please state which of the following activities do you usually do just before you go off to sleep?':'Activities',\n",
        "    'At what time do you usually fall asleep?'                                  :'Sleep Time', \n",
        "    'At what time do you usually get up in the morning?'                        :'Wakeup Time',\n",
        "    'I have difficulty falling asleep?'                                         :'Difficulty in Sleep',\n",
        "    'I wake up in the middle of the night'                                      :'Sleep Interruption',\n",
        "    'I feel refreshed after sleep'                                              :'Sleep refresh',\n",
        "    'I am satisfied with my sleep'                                              :'Sleep Satisfaction',\n",
        "    'How many hours do you sleep? (Hours)'                                      :'Total Sleeping Hours',\n",
        "    'How long does it take you to fall asleep?  (Hours)'                        :'Time Taken to Sleep',\n",
        "    'I am a sentimental person'                                                 :'Emotional Quotient', \n",
        "    'I am often worried about the future '                                      :'Worried About Future',\n",
        "    'I think I am experiencing depression'                                      :'Depression',\n",
        "    'I don\\'t fully enjoy happy moments'                                        :'Enjoy Happy Moments', \n",
        "    'I think I suffer from anxiety'                                             :'Anxiety',\n",
        "    'How likely you have negative thoughts while trying to fall asleep?'        :'Negative Thoughts',\n",
        "    'Do you smoke?'                                                             :'Smoking',\n",
        "    'How many years have you been smoking?'                                     :'Smoking Period',\n",
        "    'How many cigarettes do you usually smoke during the week?'                 :'Cigarettes Consumed',\n",
        "    'Cigarettes help me deal with anxiety or worry'                             :'Smoking Improve Mental State',\n",
        "    'I sleep better when I smoke before going to bed'                           :'Smoking Helps Sleep',\n",
        "    'How likely are you to smoke seeing someone smoke?'                         :'Craving to Smoke'\n",
        "}   \n",
        "study_data.rename(columns = new_columns, inplace = True) "
      ],
      "execution_count": null,
      "outputs": []
    },
    {
      "cell_type": "code",
      "metadata": {
        "id": "hJt-vJhdw-uY",
        "colab": {
          "base_uri": "https://localhost:8080/"
        },
        "outputId": "a4e11633-5403-4d5a-e45b-8786278c987c"
      },
      "source": [
        "#data Dimension \n",
        "study_data.shape"
      ],
      "execution_count": null,
      "outputs": [
        {
          "output_type": "execute_result",
          "data": {
            "text/plain": [
              "(40, 33)"
            ]
          },
          "metadata": {
            "tags": []
          },
          "execution_count": 10
        }
      ]
    },
    {
      "cell_type": "code",
      "metadata": {
        "id": "Y96mM79ZxLpj"
      },
      "source": [
        "#drop timestamp\n",
        "study_data = study_data.drop(['Timestamp'], axis = 1)"
      ],
      "execution_count": null,
      "outputs": []
    },
    {
      "cell_type": "code",
      "metadata": {
        "id": "bD5BZ9C5xB-C",
        "colab": {
          "base_uri": "https://localhost:8080/"
        },
        "outputId": "f6916b38-54bc-481a-c5f2-95ac297dc6fe"
      },
      "source": [
        "#remove 10 random non smoking partecipants\n",
        "to_remove = np.random.choice(study_data[study_data['Smoking']=='No'].index,size=10,replace=False)\n",
        "study_data = study_data.drop(to_remove)\n",
        "\n",
        "study_data.shape"
      ],
      "execution_count": null,
      "outputs": [
        {
          "output_type": "execute_result",
          "data": {
            "text/plain": [
              "(30, 32)"
            ]
          },
          "metadata": {
            "tags": []
          },
          "execution_count": 12
        }
      ]
    },
    {
      "cell_type": "code",
      "metadata": {
        "id": "EmwSOZPixCR3",
        "colab": {
          "base_uri": "https://localhost:8080/"
        },
        "outputId": "da805565-bb25-4925-9e7b-7c78346827b4"
      },
      "source": [
        "#check for missing values\n",
        "study_data.isnull().sum()"
      ],
      "execution_count": null,
      "outputs": [
        {
          "output_type": "execute_result",
          "data": {
            "text/plain": [
              "Age                              0\n",
              "Gender                           0\n",
              "Number of Children               0\n",
              "Student Status                   0\n",
              "Work Status                      0\n",
              "Physical Exercise                0\n",
              "News                             0\n",
              "Daily Water                      0\n",
              "Last Meal                        0\n",
              "Medication                       0\n",
              "Alcohol Consumption              0\n",
              "Activities                       0\n",
              "Sleep Time                       0\n",
              "Wakeup Time                      0\n",
              "Difficulty in Sleep              0\n",
              "Sleep Interruption               0\n",
              "Sleep refresh                    0\n",
              "Sleep Satisfaction               0\n",
              "Total Sleeping Hours             0\n",
              "Time Taken to Sleep              0\n",
              "Emotional Quotient               0\n",
              "Worried About Future             0\n",
              "Depression                       0\n",
              "Enjoy Happy Moments              0\n",
              "Anxiety                          0\n",
              "Negative Thoughts                0\n",
              "Smoking                          0\n",
              "Smoking Period                  15\n",
              "Cigarettes Consumed             15\n",
              "Smoking Improve Mental State    15\n",
              "Smoking Helps Sleep             15\n",
              "Craving to Smoke                15\n",
              "dtype: int64"
            ]
          },
          "metadata": {
            "tags": []
          },
          "execution_count": 13
        }
      ]
    },
    {
      "cell_type": "code",
      "metadata": {
        "id": "3crH_AEixLfj",
        "colab": {
          "base_uri": "https://localhost:8080/"
        },
        "outputId": "e367a3a3-a38e-42a2-fc88-d5ec5818150f"
      },
      "source": [
        "#Replace missing values 0\n",
        "study_data= study_data.fillna(0)\n",
        "\n",
        "study_data.isnull().sum()"
      ],
      "execution_count": null,
      "outputs": [
        {
          "output_type": "execute_result",
          "data": {
            "text/plain": [
              "Age                             0\n",
              "Gender                          0\n",
              "Number of Children              0\n",
              "Student Status                  0\n",
              "Work Status                     0\n",
              "Physical Exercise               0\n",
              "News                            0\n",
              "Daily Water                     0\n",
              "Last Meal                       0\n",
              "Medication                      0\n",
              "Alcohol Consumption             0\n",
              "Activities                      0\n",
              "Sleep Time                      0\n",
              "Wakeup Time                     0\n",
              "Difficulty in Sleep             0\n",
              "Sleep Interruption              0\n",
              "Sleep refresh                   0\n",
              "Sleep Satisfaction              0\n",
              "Total Sleeping Hours            0\n",
              "Time Taken to Sleep             0\n",
              "Emotional Quotient              0\n",
              "Worried About Future            0\n",
              "Depression                      0\n",
              "Enjoy Happy Moments             0\n",
              "Anxiety                         0\n",
              "Negative Thoughts               0\n",
              "Smoking                         0\n",
              "Smoking Period                  0\n",
              "Cigarettes Consumed             0\n",
              "Smoking Improve Mental State    0\n",
              "Smoking Helps Sleep             0\n",
              "Craving to Smoke                0\n",
              "dtype: int64"
            ]
          },
          "metadata": {
            "tags": []
          },
          "execution_count": 14
        }
      ]
    },
    {
      "cell_type": "code",
      "metadata": {
        "id": "d7_I9049xCJ5",
        "colab": {
          "base_uri": "https://localhost:8080/"
        },
        "outputId": "295f5284-4f26-426f-a046-d7e54ffb2270"
      },
      "source": [
        "#Dataframe content\n",
        "study_data.head()"
      ],
      "execution_count": null,
      "outputs": [
        {
          "output_type": "execute_result",
          "data": {
            "text/html": [
              "<div>\n",
              "<style scoped>\n",
              "    .dataframe tbody tr th:only-of-type {\n",
              "        vertical-align: middle;\n",
              "    }\n",
              "\n",
              "    .dataframe tbody tr th {\n",
              "        vertical-align: top;\n",
              "    }\n",
              "\n",
              "    .dataframe thead th {\n",
              "        text-align: right;\n",
              "    }\n",
              "</style>\n",
              "<table border=\"1\" class=\"dataframe\">\n",
              "  <thead>\n",
              "    <tr style=\"text-align: right;\">\n",
              "      <th></th>\n",
              "      <th>Age</th>\n",
              "      <th>Gender</th>\n",
              "      <th>Number of Children</th>\n",
              "      <th>Student Status</th>\n",
              "      <th>Work Status</th>\n",
              "      <th>Physical Exercise</th>\n",
              "      <th>News</th>\n",
              "      <th>Daily Water</th>\n",
              "      <th>Last Meal</th>\n",
              "      <th>Medication</th>\n",
              "      <th>Alcohol Consumption</th>\n",
              "      <th>Activities</th>\n",
              "      <th>Sleep Time</th>\n",
              "      <th>Wakeup Time</th>\n",
              "      <th>Difficulty in Sleep</th>\n",
              "      <th>Sleep Interruption</th>\n",
              "      <th>Sleep refresh</th>\n",
              "      <th>Sleep Satisfaction</th>\n",
              "      <th>Total Sleeping Hours</th>\n",
              "      <th>Time Taken to Sleep</th>\n",
              "      <th>Emotional Quotient</th>\n",
              "      <th>Worried About Future</th>\n",
              "      <th>Depression</th>\n",
              "      <th>Enjoy Happy Moments</th>\n",
              "      <th>Anxiety</th>\n",
              "      <th>Negative Thoughts</th>\n",
              "      <th>Smoking</th>\n",
              "      <th>Smoking Period</th>\n",
              "      <th>Cigarettes Consumed</th>\n",
              "      <th>Smoking Improve Mental State</th>\n",
              "      <th>Smoking Helps Sleep</th>\n",
              "      <th>Craving to Smoke</th>\n",
              "    </tr>\n",
              "  </thead>\n",
              "  <tbody>\n",
              "    <tr>\n",
              "      <th>2</th>\n",
              "      <td>21</td>\n",
              "      <td>Male</td>\n",
              "      <td>0</td>\n",
              "      <td>Yes</td>\n",
              "      <td>Yes</td>\n",
              "      <td>3</td>\n",
              "      <td>5</td>\n",
              "      <td>1.5</td>\n",
              "      <td>1 hour</td>\n",
              "      <td>Yes</td>\n",
              "      <td>2</td>\n",
              "      <td>Check email;Watch social media;Watch TV;Evenin...</td>\n",
              "      <td>00:00</td>\n",
              "      <td>08:00</td>\n",
              "      <td>3</td>\n",
              "      <td>1</td>\n",
              "      <td>4</td>\n",
              "      <td>4</td>\n",
              "      <td>08:00:00</td>\n",
              "      <td>01:00:00</td>\n",
              "      <td>4</td>\n",
              "      <td>3</td>\n",
              "      <td>3</td>\n",
              "      <td>3</td>\n",
              "      <td>2</td>\n",
              "      <td>3</td>\n",
              "      <td>No</td>\n",
              "      <td>0.0</td>\n",
              "      <td>0.0</td>\n",
              "      <td>0.0</td>\n",
              "      <td>0.0</td>\n",
              "      <td>0.0</td>\n",
              "    </tr>\n",
              "    <tr>\n",
              "      <th>3</th>\n",
              "      <td>22</td>\n",
              "      <td>Male</td>\n",
              "      <td>0</td>\n",
              "      <td>Yes</td>\n",
              "      <td>Yes</td>\n",
              "      <td>3</td>\n",
              "      <td>2</td>\n",
              "      <td>2.5</td>\n",
              "      <td>More than 3 hours</td>\n",
              "      <td>No</td>\n",
              "      <td>1</td>\n",
              "      <td>Watch social media;Watch TV;Read books</td>\n",
              "      <td>23:30</td>\n",
              "      <td>06:20</td>\n",
              "      <td>2</td>\n",
              "      <td>1</td>\n",
              "      <td>3</td>\n",
              "      <td>3</td>\n",
              "      <td>06:40:00</td>\n",
              "      <td>00:30:00</td>\n",
              "      <td>4</td>\n",
              "      <td>4</td>\n",
              "      <td>3</td>\n",
              "      <td>1</td>\n",
              "      <td>2</td>\n",
              "      <td>2</td>\n",
              "      <td>No</td>\n",
              "      <td>0.0</td>\n",
              "      <td>0.0</td>\n",
              "      <td>0.0</td>\n",
              "      <td>0.0</td>\n",
              "      <td>0.0</td>\n",
              "    </tr>\n",
              "    <tr>\n",
              "      <th>5</th>\n",
              "      <td>22</td>\n",
              "      <td>Male</td>\n",
              "      <td>0</td>\n",
              "      <td>No</td>\n",
              "      <td>Yes</td>\n",
              "      <td>3</td>\n",
              "      <td>1</td>\n",
              "      <td>4.0</td>\n",
              "      <td>More than 3 hours</td>\n",
              "      <td>No</td>\n",
              "      <td>1</td>\n",
              "      <td>Evening walk</td>\n",
              "      <td>23:00</td>\n",
              "      <td>06:00</td>\n",
              "      <td>1</td>\n",
              "      <td>1</td>\n",
              "      <td>5</td>\n",
              "      <td>5</td>\n",
              "      <td>07:00:00</td>\n",
              "      <td>00:30:00</td>\n",
              "      <td>3</td>\n",
              "      <td>4</td>\n",
              "      <td>1</td>\n",
              "      <td>2</td>\n",
              "      <td>1</td>\n",
              "      <td>1</td>\n",
              "      <td>Yes</td>\n",
              "      <td>5.0</td>\n",
              "      <td>4.0</td>\n",
              "      <td>1.0</td>\n",
              "      <td>1.0</td>\n",
              "      <td>1.0</td>\n",
              "    </tr>\n",
              "    <tr>\n",
              "      <th>7</th>\n",
              "      <td>22</td>\n",
              "      <td>Female</td>\n",
              "      <td>0</td>\n",
              "      <td>Yes</td>\n",
              "      <td>No</td>\n",
              "      <td>1</td>\n",
              "      <td>2</td>\n",
              "      <td>1.0</td>\n",
              "      <td>3 hours</td>\n",
              "      <td>No</td>\n",
              "      <td>3</td>\n",
              "      <td>Check email;Watch social media</td>\n",
              "      <td>00:00</td>\n",
              "      <td>08:00</td>\n",
              "      <td>3</td>\n",
              "      <td>1</td>\n",
              "      <td>4</td>\n",
              "      <td>4</td>\n",
              "      <td>08:00:00</td>\n",
              "      <td>00:10:00</td>\n",
              "      <td>5</td>\n",
              "      <td>5</td>\n",
              "      <td>5</td>\n",
              "      <td>3</td>\n",
              "      <td>4</td>\n",
              "      <td>3</td>\n",
              "      <td>No</td>\n",
              "      <td>0.0</td>\n",
              "      <td>0.0</td>\n",
              "      <td>0.0</td>\n",
              "      <td>0.0</td>\n",
              "      <td>0.0</td>\n",
              "    </tr>\n",
              "    <tr>\n",
              "      <th>8</th>\n",
              "      <td>22</td>\n",
              "      <td>Male</td>\n",
              "      <td>0</td>\n",
              "      <td>Yes</td>\n",
              "      <td>Yes</td>\n",
              "      <td>1</td>\n",
              "      <td>2</td>\n",
              "      <td>3.0</td>\n",
              "      <td>2 hours</td>\n",
              "      <td>No</td>\n",
              "      <td>2</td>\n",
              "      <td>Check email;Watch social media;Read books;Play...</td>\n",
              "      <td>00:00</td>\n",
              "      <td>08:00</td>\n",
              "      <td>3</td>\n",
              "      <td>2</td>\n",
              "      <td>3</td>\n",
              "      <td>3</td>\n",
              "      <td>08:00:00</td>\n",
              "      <td>01:00:59</td>\n",
              "      <td>3</td>\n",
              "      <td>3</td>\n",
              "      <td>1</td>\n",
              "      <td>4</td>\n",
              "      <td>3</td>\n",
              "      <td>4</td>\n",
              "      <td>Yes</td>\n",
              "      <td>1.0</td>\n",
              "      <td>2.0</td>\n",
              "      <td>4.0</td>\n",
              "      <td>2.0</td>\n",
              "      <td>5.0</td>\n",
              "    </tr>\n",
              "  </tbody>\n",
              "</table>\n",
              "</div>"
            ],
            "text/plain": [
              "   Age  Gender  ...  Smoking Helps Sleep Craving to Smoke\n",
              "2   21    Male  ...                  0.0              0.0\n",
              "3   22    Male  ...                  0.0              0.0\n",
              "5   22    Male  ...                  1.0              1.0\n",
              "7   22  Female  ...                  0.0              0.0\n",
              "8   22    Male  ...                  2.0              5.0\n",
              "\n",
              "[5 rows x 32 columns]"
            ]
          },
          "metadata": {
            "tags": []
          },
          "execution_count": 15
        }
      ]
    },
    {
      "cell_type": "code",
      "metadata": {
        "id": "rjRrvgNvxLzx"
      },
      "source": [
        "#save in csv \n",
        "csv = study_data.to_csv(index=False)\n",
        "f = open(\"clean_questionnaire.csv\",'w')\n",
        "f.write(csv)\n",
        "f.close()"
      ],
      "execution_count": null,
      "outputs": []
    },
    {
      "cell_type": "markdown",
      "metadata": {
        "id": "7Ofi590Al6T0"
      },
      "source": [
        "* * *"
      ]
    },
    {
      "cell_type": "markdown",
      "metadata": {
        "id": "vUgYZ8HGl6T0"
      },
      "source": [
        "### Question 3.2\n",
        "*a.* Do a short EDA for your study and <br> \n",
        "*b.* state appropriate statistics and <br> \n",
        "*c.* choose the appropriate visualizations."
      ]
    },
    {
      "cell_type": "markdown",
      "metadata": {
        "id": "e-9K0a0gl6T0"
      },
      "source": [
        "#### Solution 3.2 ⚠️\n",
        "- multivariate (general)\n",
        "   Visualization \n",
        "    - barplot \n",
        "    - histogram groupped by gender \n",
        "\n",
        "- multivariate (smoking and gender)\n",
        "  - contengency tables\n",
        "  - histogram by gender and smoking"
      ]
    },
    {
      "cell_type": "code",
      "metadata": {
        "id": "RcIScMAKzTEZ",
        "colab": {
          "base_uri": "https://localhost:8080/"
        },
        "outputId": "35a66890-0657-4199-eed9-b5379008fbb8"
      },
      "source": [
        "#Columns description\n",
        "study_data.dtypes"
      ],
      "execution_count": null,
      "outputs": [
        {
          "output_type": "execute_result",
          "data": {
            "text/plain": [
              "Age                               int64\n",
              "Gender                           object\n",
              "Number of Children                int64\n",
              "Student Status                   object\n",
              "Work Status                      object\n",
              "Physical Exercise                 int64\n",
              "News                              int64\n",
              "Daily Water                     float64\n",
              "Last Meal                        object\n",
              "Medication                       object\n",
              "Alcohol Consumption               int64\n",
              "Activities                       object\n",
              "Sleep Time                       object\n",
              "Wakeup Time                      object\n",
              "Difficulty in Sleep               int64\n",
              "Sleep Interruption                int64\n",
              "Sleep refresh                     int64\n",
              "Sleep Satisfaction                int64\n",
              "Total Sleeping Hours             object\n",
              "Time Taken to Sleep              object\n",
              "Emotional Quotient                int64\n",
              "Worried About Future              int64\n",
              "Depression                        int64\n",
              "Enjoy Happy Moments               int64\n",
              "Anxiety                           int64\n",
              "Negative Thoughts                 int64\n",
              "Smoking                          object\n",
              "Smoking Period                  float64\n",
              "Cigarettes Consumed             float64\n",
              "Smoking Improve Mental State    float64\n",
              "Smoking Helps Sleep             float64\n",
              "Craving to Smoke                float64\n",
              "dtype: object"
            ]
          },
          "metadata": {
            "tags": []
          },
          "execution_count": 17
        }
      ]
    },
    {
      "cell_type": "markdown",
      "metadata": {
        "id": "P--zvAYczMZG"
      },
      "source": [
        "####Population Gender "
      ]
    },
    {
      "cell_type": "code",
      "metadata": {
        "id": "zVwfHrMKl6T0"
      },
      "source": [
        "# Here we try to fetch the different statistics of the data\n",
        "\n",
        "gender_based_data = study_data.groupby('Gender')['Gender'].count()\n",
        "gender_based_data = gender_based_data.rename('Count').reset_index()"
      ],
      "execution_count": null,
      "outputs": []
    },
    {
      "cell_type": "code",
      "metadata": {
        "id": "ASycLEnX_JxS",
        "colab": {
          "base_uri": "https://localhost:8080/",
          "height": 542
        },
        "outputId": "b2a45ba1-4551-4bac-dede-791d73001e44"
      },
      "source": [
        "# Using plotly to plot the graph\n",
        "\n",
        "gender_based_plot = go.Figure()\n",
        "gender_based_plot = px.bar(gender_based_data, \n",
        "                                 x=\"Gender\", \n",
        "                                 y=\"Count\", \n",
        "                                 color=\"Gender\", \n",
        "                                 text=\"Count\", \n",
        "                                 range_y=[0,30],              \n",
        "                                 labels=dict(Count=\"Total Participants\"))\n",
        "\n",
        "gender_based_plot.update_layout(width=1000,\n",
        "                                title_text=\"Figure-1: -- Total Participants in the Study (per Gender)'\",\n",
        "                                title_x=0.5, \n",
        "                                bargap=0.8)\n",
        "\n",
        "gender_based_plot.update_traces(texttemplate='%{text:.2s} Participants', textposition='outside')\n",
        "gender_based_plot.show()"
      ],
      "execution_count": null,
      "outputs": [
        {
          "output_type": "display_data",
          "data": {
            "text/html": [
              "<html>\n",
              "<head><meta charset=\"utf-8\" /></head>\n",
              "<body>\n",
              "    <div>\n",
              "            <script src=\"https://cdnjs.cloudflare.com/ajax/libs/mathjax/2.7.5/MathJax.js?config=TeX-AMS-MML_SVG\"></script><script type=\"text/javascript\">if (window.MathJax) {MathJax.Hub.Config({SVG: {font: \"STIX-Web\"}});}</script>\n",
              "                <script type=\"text/javascript\">window.PlotlyConfig = {MathJaxConfig: 'local'};</script>\n",
              "        <script src=\"https://cdn.plot.ly/plotly-latest.min.js\"></script>    \n",
              "            <div id=\"d10e2d1e-9942-406c-8a7d-1cc44bef34d5\" class=\"plotly-graph-div\" style=\"height:525px; width:1000px;\"></div>\n",
              "            <script type=\"text/javascript\">\n",
              "                \n",
              "                    window.PLOTLYENV=window.PLOTLYENV || {};\n",
              "                    \n",
              "                if (document.getElementById(\"d10e2d1e-9942-406c-8a7d-1cc44bef34d5\")) {\n",
              "                    Plotly.newPlot(\n",
              "                        'd10e2d1e-9942-406c-8a7d-1cc44bef34d5',\n",
              "                        [{\"alignmentgroup\": \"True\", \"hoverlabel\": {\"namelength\": 0}, \"hovertemplate\": \"Gender=%{x}<br>Total Participants=%{text}\", \"legendgroup\": \"Gender=Female\", \"marker\": {\"color\": \"#636efa\"}, \"name\": \"Gender=Female\", \"offsetgroup\": \"Gender=Female\", \"orientation\": \"v\", \"showlegend\": true, \"text\": [11.0], \"textposition\": \"outside\", \"texttemplate\": \"%{text:.2s} Participants\", \"type\": \"bar\", \"x\": [\"Female\"], \"xaxis\": \"x\", \"y\": [11], \"yaxis\": \"y\"}, {\"alignmentgroup\": \"True\", \"hoverlabel\": {\"namelength\": 0}, \"hovertemplate\": \"Gender=%{x}<br>Total Participants=%{text}\", \"legendgroup\": \"Gender=Male\", \"marker\": {\"color\": \"#EF553B\"}, \"name\": \"Gender=Male\", \"offsetgroup\": \"Gender=Male\", \"orientation\": \"v\", \"showlegend\": true, \"text\": [19.0], \"textposition\": \"outside\", \"texttemplate\": \"%{text:.2s} Participants\", \"type\": \"bar\", \"x\": [\"Male\"], \"xaxis\": \"x\", \"y\": [19], \"yaxis\": \"y\"}],\n",
              "                        {\"bargap\": 0.8, \"barmode\": \"relative\", \"legend\": {\"tracegroupgap\": 0}, \"margin\": {\"t\": 60}, \"template\": {\"data\": {\"bar\": [{\"error_x\": {\"color\": \"#2a3f5f\"}, \"error_y\": {\"color\": \"#2a3f5f\"}, \"marker\": {\"line\": {\"color\": \"#E5ECF6\", \"width\": 0.5}}, \"type\": \"bar\"}], \"barpolar\": [{\"marker\": {\"line\": {\"color\": \"#E5ECF6\", \"width\": 0.5}}, \"type\": \"barpolar\"}], \"carpet\": [{\"aaxis\": {\"endlinecolor\": \"#2a3f5f\", \"gridcolor\": \"white\", \"linecolor\": \"white\", \"minorgridcolor\": \"white\", \"startlinecolor\": \"#2a3f5f\"}, \"baxis\": {\"endlinecolor\": \"#2a3f5f\", \"gridcolor\": \"white\", \"linecolor\": \"white\", \"minorgridcolor\": \"white\", \"startlinecolor\": \"#2a3f5f\"}, \"type\": \"carpet\"}], \"choropleth\": [{\"colorbar\": {\"outlinewidth\": 0, \"ticks\": \"\"}, \"type\": \"choropleth\"}], \"contour\": [{\"colorbar\": {\"outlinewidth\": 0, \"ticks\": \"\"}, \"colorscale\": [[0.0, \"#0d0887\"], [0.1111111111111111, \"#46039f\"], [0.2222222222222222, \"#7201a8\"], [0.3333333333333333, \"#9c179e\"], [0.4444444444444444, \"#bd3786\"], [0.5555555555555556, \"#d8576b\"], [0.6666666666666666, \"#ed7953\"], [0.7777777777777778, \"#fb9f3a\"], [0.8888888888888888, \"#fdca26\"], [1.0, \"#f0f921\"]], \"type\": \"contour\"}], \"contourcarpet\": [{\"colorbar\": {\"outlinewidth\": 0, \"ticks\": \"\"}, \"type\": \"contourcarpet\"}], \"heatmap\": [{\"colorbar\": {\"outlinewidth\": 0, \"ticks\": \"\"}, \"colorscale\": [[0.0, \"#0d0887\"], [0.1111111111111111, \"#46039f\"], [0.2222222222222222, \"#7201a8\"], [0.3333333333333333, \"#9c179e\"], [0.4444444444444444, \"#bd3786\"], [0.5555555555555556, \"#d8576b\"], [0.6666666666666666, \"#ed7953\"], [0.7777777777777778, \"#fb9f3a\"], [0.8888888888888888, \"#fdca26\"], [1.0, \"#f0f921\"]], \"type\": \"heatmap\"}], \"heatmapgl\": [{\"colorbar\": {\"outlinewidth\": 0, \"ticks\": \"\"}, \"colorscale\": [[0.0, \"#0d0887\"], [0.1111111111111111, \"#46039f\"], [0.2222222222222222, \"#7201a8\"], [0.3333333333333333, \"#9c179e\"], [0.4444444444444444, \"#bd3786\"], [0.5555555555555556, \"#d8576b\"], [0.6666666666666666, \"#ed7953\"], [0.7777777777777778, \"#fb9f3a\"], [0.8888888888888888, \"#fdca26\"], [1.0, \"#f0f921\"]], \"type\": \"heatmapgl\"}], \"histogram\": [{\"marker\": {\"colorbar\": {\"outlinewidth\": 0, \"ticks\": \"\"}}, \"type\": \"histogram\"}], \"histogram2d\": [{\"colorbar\": {\"outlinewidth\": 0, \"ticks\": \"\"}, \"colorscale\": [[0.0, \"#0d0887\"], [0.1111111111111111, \"#46039f\"], [0.2222222222222222, \"#7201a8\"], [0.3333333333333333, \"#9c179e\"], [0.4444444444444444, \"#bd3786\"], [0.5555555555555556, \"#d8576b\"], [0.6666666666666666, \"#ed7953\"], [0.7777777777777778, \"#fb9f3a\"], [0.8888888888888888, \"#fdca26\"], [1.0, \"#f0f921\"]], \"type\": \"histogram2d\"}], \"histogram2dcontour\": [{\"colorbar\": {\"outlinewidth\": 0, \"ticks\": \"\"}, \"colorscale\": [[0.0, \"#0d0887\"], [0.1111111111111111, \"#46039f\"], [0.2222222222222222, \"#7201a8\"], [0.3333333333333333, \"#9c179e\"], [0.4444444444444444, \"#bd3786\"], [0.5555555555555556, \"#d8576b\"], [0.6666666666666666, \"#ed7953\"], [0.7777777777777778, \"#fb9f3a\"], [0.8888888888888888, \"#fdca26\"], [1.0, \"#f0f921\"]], \"type\": \"histogram2dcontour\"}], \"mesh3d\": [{\"colorbar\": {\"outlinewidth\": 0, \"ticks\": \"\"}, \"type\": \"mesh3d\"}], \"parcoords\": [{\"line\": {\"colorbar\": {\"outlinewidth\": 0, \"ticks\": \"\"}}, \"type\": \"parcoords\"}], \"pie\": [{\"automargin\": true, \"type\": \"pie\"}], \"scatter\": [{\"marker\": {\"colorbar\": {\"outlinewidth\": 0, \"ticks\": \"\"}}, \"type\": \"scatter\"}], \"scatter3d\": [{\"line\": {\"colorbar\": {\"outlinewidth\": 0, \"ticks\": \"\"}}, \"marker\": {\"colorbar\": {\"outlinewidth\": 0, \"ticks\": \"\"}}, \"type\": \"scatter3d\"}], \"scattercarpet\": [{\"marker\": {\"colorbar\": {\"outlinewidth\": 0, \"ticks\": \"\"}}, \"type\": \"scattercarpet\"}], \"scattergeo\": [{\"marker\": {\"colorbar\": {\"outlinewidth\": 0, \"ticks\": \"\"}}, \"type\": \"scattergeo\"}], \"scattergl\": [{\"marker\": {\"colorbar\": {\"outlinewidth\": 0, \"ticks\": \"\"}}, \"type\": \"scattergl\"}], \"scattermapbox\": [{\"marker\": {\"colorbar\": {\"outlinewidth\": 0, \"ticks\": \"\"}}, \"type\": \"scattermapbox\"}], \"scatterpolar\": [{\"marker\": {\"colorbar\": {\"outlinewidth\": 0, \"ticks\": \"\"}}, \"type\": \"scatterpolar\"}], \"scatterpolargl\": [{\"marker\": {\"colorbar\": {\"outlinewidth\": 0, \"ticks\": \"\"}}, \"type\": \"scatterpolargl\"}], \"scatterternary\": [{\"marker\": {\"colorbar\": {\"outlinewidth\": 0, \"ticks\": \"\"}}, \"type\": \"scatterternary\"}], \"surface\": [{\"colorbar\": {\"outlinewidth\": 0, \"ticks\": \"\"}, \"colorscale\": [[0.0, \"#0d0887\"], [0.1111111111111111, \"#46039f\"], [0.2222222222222222, \"#7201a8\"], [0.3333333333333333, \"#9c179e\"], [0.4444444444444444, \"#bd3786\"], [0.5555555555555556, \"#d8576b\"], [0.6666666666666666, \"#ed7953\"], [0.7777777777777778, \"#fb9f3a\"], [0.8888888888888888, \"#fdca26\"], [1.0, \"#f0f921\"]], \"type\": \"surface\"}], \"table\": [{\"cells\": {\"fill\": {\"color\": \"#EBF0F8\"}, \"line\": {\"color\": \"white\"}}, \"header\": {\"fill\": {\"color\": \"#C8D4E3\"}, \"line\": {\"color\": \"white\"}}, \"type\": \"table\"}]}, \"layout\": {\"annotationdefaults\": {\"arrowcolor\": \"#2a3f5f\", \"arrowhead\": 0, \"arrowwidth\": 1}, \"coloraxis\": {\"colorbar\": {\"outlinewidth\": 0, \"ticks\": \"\"}}, \"colorscale\": {\"diverging\": [[0, \"#8e0152\"], [0.1, \"#c51b7d\"], [0.2, \"#de77ae\"], [0.3, \"#f1b6da\"], [0.4, \"#fde0ef\"], [0.5, \"#f7f7f7\"], [0.6, \"#e6f5d0\"], [0.7, \"#b8e186\"], [0.8, \"#7fbc41\"], [0.9, \"#4d9221\"], [1, \"#276419\"]], \"sequential\": [[0.0, \"#0d0887\"], [0.1111111111111111, \"#46039f\"], [0.2222222222222222, \"#7201a8\"], [0.3333333333333333, \"#9c179e\"], [0.4444444444444444, \"#bd3786\"], [0.5555555555555556, \"#d8576b\"], [0.6666666666666666, \"#ed7953\"], [0.7777777777777778, \"#fb9f3a\"], [0.8888888888888888, \"#fdca26\"], [1.0, \"#f0f921\"]], \"sequentialminus\": [[0.0, \"#0d0887\"], [0.1111111111111111, \"#46039f\"], [0.2222222222222222, \"#7201a8\"], [0.3333333333333333, \"#9c179e\"], [0.4444444444444444, \"#bd3786\"], [0.5555555555555556, \"#d8576b\"], [0.6666666666666666, \"#ed7953\"], [0.7777777777777778, \"#fb9f3a\"], [0.8888888888888888, \"#fdca26\"], [1.0, \"#f0f921\"]]}, \"colorway\": [\"#636efa\", \"#EF553B\", \"#00cc96\", \"#ab63fa\", \"#FFA15A\", \"#19d3f3\", \"#FF6692\", \"#B6E880\", \"#FF97FF\", \"#FECB52\"], \"font\": {\"color\": \"#2a3f5f\"}, \"geo\": {\"bgcolor\": \"white\", \"lakecolor\": \"white\", \"landcolor\": \"#E5ECF6\", \"showlakes\": true, \"showland\": true, \"subunitcolor\": \"white\"}, \"hoverlabel\": {\"align\": \"left\"}, \"hovermode\": \"closest\", \"mapbox\": {\"style\": \"light\"}, \"paper_bgcolor\": \"white\", \"plot_bgcolor\": \"#E5ECF6\", \"polar\": {\"angularaxis\": {\"gridcolor\": \"white\", \"linecolor\": \"white\", \"ticks\": \"\"}, \"bgcolor\": \"#E5ECF6\", \"radialaxis\": {\"gridcolor\": \"white\", \"linecolor\": \"white\", \"ticks\": \"\"}}, \"scene\": {\"xaxis\": {\"backgroundcolor\": \"#E5ECF6\", \"gridcolor\": \"white\", \"gridwidth\": 2, \"linecolor\": \"white\", \"showbackground\": true, \"ticks\": \"\", \"zerolinecolor\": \"white\"}, \"yaxis\": {\"backgroundcolor\": \"#E5ECF6\", \"gridcolor\": \"white\", \"gridwidth\": 2, \"linecolor\": \"white\", \"showbackground\": true, \"ticks\": \"\", \"zerolinecolor\": \"white\"}, \"zaxis\": {\"backgroundcolor\": \"#E5ECF6\", \"gridcolor\": \"white\", \"gridwidth\": 2, \"linecolor\": \"white\", \"showbackground\": true, \"ticks\": \"\", \"zerolinecolor\": \"white\"}}, \"shapedefaults\": {\"line\": {\"color\": \"#2a3f5f\"}}, \"ternary\": {\"aaxis\": {\"gridcolor\": \"white\", \"linecolor\": \"white\", \"ticks\": \"\"}, \"baxis\": {\"gridcolor\": \"white\", \"linecolor\": \"white\", \"ticks\": \"\"}, \"bgcolor\": \"#E5ECF6\", \"caxis\": {\"gridcolor\": \"white\", \"linecolor\": \"white\", \"ticks\": \"\"}}, \"title\": {\"x\": 0.05}, \"xaxis\": {\"automargin\": true, \"gridcolor\": \"white\", \"linecolor\": \"white\", \"ticks\": \"\", \"title\": {\"standoff\": 15}, \"zerolinecolor\": \"white\", \"zerolinewidth\": 2}, \"yaxis\": {\"automargin\": true, \"gridcolor\": \"white\", \"linecolor\": \"white\", \"ticks\": \"\", \"title\": {\"standoff\": 15}, \"zerolinecolor\": \"white\", \"zerolinewidth\": 2}}}, \"title\": {\"text\": \"Figure-1: -- Total Participants in the Study (per Gender)'\", \"x\": 0.5}, \"width\": 1000, \"xaxis\": {\"anchor\": \"y\", \"categoryarray\": [\"Female\", \"Male\"], \"categoryorder\": \"array\", \"domain\": [0.0, 1.0], \"title\": {\"text\": \"Gender\"}}, \"yaxis\": {\"anchor\": \"x\", \"domain\": [0.0, 1.0], \"range\": [0, 30], \"title\": {\"text\": \"Total Participants\"}}},\n",
              "                        {\"responsive\": true}\n",
              "                    ).then(function(){\n",
              "                            \n",
              "var gd = document.getElementById('d10e2d1e-9942-406c-8a7d-1cc44bef34d5');\n",
              "var x = new MutationObserver(function (mutations, observer) {{\n",
              "        var display = window.getComputedStyle(gd).display;\n",
              "        if (!display || display === 'none') {{\n",
              "            console.log([gd, 'removed!']);\n",
              "            Plotly.purge(gd);\n",
              "            observer.disconnect();\n",
              "        }}\n",
              "}});\n",
              "\n",
              "// Listen for the removal of the full notebook cells\n",
              "var notebookContainer = gd.closest('#notebook-container');\n",
              "if (notebookContainer) {{\n",
              "    x.observe(notebookContainer, {childList: true});\n",
              "}}\n",
              "\n",
              "// Listen for the clearing of the current output cell\n",
              "var outputEl = gd.closest('.output');\n",
              "if (outputEl) {{\n",
              "    x.observe(outputEl, {childList: true});\n",
              "}}\n",
              "\n",
              "                        })\n",
              "                };\n",
              "                \n",
              "            </script>\n",
              "        </div>\n",
              "</body>\n",
              "</html>"
            ]
          },
          "metadata": {
            "tags": []
          }
        }
      ]
    },
    {
      "cell_type": "code",
      "metadata": {
        "id": "HXsLIyE4_Mqa"
      },
      "source": [
        "# Finding the correct population sizes for our variables (Male : Female | Smokers : Non-Smokers)\n",
        "\n",
        "study_data.loc[study_data['Smoking'] == 'No', 'Smoker'] = '0' \n",
        "study_data.loc[study_data['Smoking'] != 'No', 'Smoker'] = '1' \n",
        "\n",
        "study_data['Smoker'] = pd.to_numeric(study_data['Smoker'])\n",
        "gender_based_smokers = study_data.groupby('Gender')['Smoker'].sum()\n",
        "gender_based_smokers = gender_based_smokers.rename('Smoker').reset_index()\n",
        "gender_based_smokers['Total Participants'] = gender_based_data['Count']\n",
        "gender_based_smokers['Non-Smokers'] = gender_based_smokers['Total Participants'] - gender_based_smokers['Smoker']"
      ],
      "execution_count": null,
      "outputs": []
    },
    {
      "cell_type": "code",
      "metadata": {
        "id": "xUbpE-dHN_YB",
        "colab": {
          "base_uri": "https://localhost:8080/",
          "height": 542
        },
        "outputId": "bfd52cfb-2d46-4802-9836-5e8f681e6a1a"
      },
      "source": [
        "#Figure: -- Age Distribution per Gender\n",
        "fig = px.box(study_data, y=\"Age\", x='Gender', color = 'Gender')\n",
        "fig.update_layout(width=1000,\n",
        "                  title_text=\"Figure: -- Age Distribution per Gender'\",\n",
        "                  title_x=0.5, \n",
        "                  bargap=0.8)\n",
        "fig.show()"
      ],
      "execution_count": null,
      "outputs": [
        {
          "output_type": "display_data",
          "data": {
            "text/html": [
              "<html>\n",
              "<head><meta charset=\"utf-8\" /></head>\n",
              "<body>\n",
              "    <div>\n",
              "            <script src=\"https://cdnjs.cloudflare.com/ajax/libs/mathjax/2.7.5/MathJax.js?config=TeX-AMS-MML_SVG\"></script><script type=\"text/javascript\">if (window.MathJax) {MathJax.Hub.Config({SVG: {font: \"STIX-Web\"}});}</script>\n",
              "                <script type=\"text/javascript\">window.PlotlyConfig = {MathJaxConfig: 'local'};</script>\n",
              "        <script src=\"https://cdn.plot.ly/plotly-latest.min.js\"></script>    \n",
              "            <div id=\"09d93b1d-3c33-4bf8-bfdd-4b2709e25bbd\" class=\"plotly-graph-div\" style=\"height:525px; width:1000px;\"></div>\n",
              "            <script type=\"text/javascript\">\n",
              "                \n",
              "                    window.PLOTLYENV=window.PLOTLYENV || {};\n",
              "                    \n",
              "                if (document.getElementById(\"09d93b1d-3c33-4bf8-bfdd-4b2709e25bbd\")) {\n",
              "                    Plotly.newPlot(\n",
              "                        '09d93b1d-3c33-4bf8-bfdd-4b2709e25bbd',\n",
              "                        [{\"alignmentgroup\": \"True\", \"hoverlabel\": {\"namelength\": 0}, \"hovertemplate\": \"Gender=%{x}<br>Age=%{y}\", \"legendgroup\": \"Gender=Male\", \"marker\": {\"color\": \"#636efa\"}, \"name\": \"Gender=Male\", \"notched\": false, \"offsetgroup\": \"Gender=Male\", \"orientation\": \"v\", \"showlegend\": true, \"type\": \"box\", \"x\": [\"Male\", \"Male\", \"Male\", \"Male\", \"Male\", \"Male\", \"Male\", \"Male\", \"Male\", \"Male\", \"Male\", \"Male\", \"Male\", \"Male\", \"Male\", \"Male\", \"Male\", \"Male\", \"Male\"], \"x0\": \" \", \"xaxis\": \"x\", \"y\": [21, 22, 22, 22, 22, 23, 23, 22, 22, 22, 25, 27, 24, 24, 25, 22, 23, 20, 22], \"y0\": \" \", \"yaxis\": \"y\"}, {\"alignmentgroup\": \"True\", \"hoverlabel\": {\"namelength\": 0}, \"hovertemplate\": \"Gender=%{x}<br>Age=%{y}\", \"legendgroup\": \"Gender=Female\", \"marker\": {\"color\": \"#EF553B\"}, \"name\": \"Gender=Female\", \"notched\": false, \"offsetgroup\": \"Gender=Female\", \"orientation\": \"v\", \"showlegend\": true, \"type\": \"box\", \"x\": [\"Female\", \"Female\", \"Female\", \"Female\", \"Female\", \"Female\", \"Female\", \"Female\", \"Female\", \"Female\", \"Female\"], \"x0\": \" \", \"xaxis\": \"x\", \"y\": [22, 20, 31, 21, 20, 24, 31, 24, 20, 24, 24], \"y0\": \" \", \"yaxis\": \"y\"}],\n",
              "                        {\"bargap\": 0.8, \"boxmode\": \"group\", \"legend\": {\"tracegroupgap\": 0}, \"margin\": {\"t\": 60}, \"template\": {\"data\": {\"bar\": [{\"error_x\": {\"color\": \"#2a3f5f\"}, \"error_y\": {\"color\": \"#2a3f5f\"}, \"marker\": {\"line\": {\"color\": \"#E5ECF6\", \"width\": 0.5}}, \"type\": \"bar\"}], \"barpolar\": [{\"marker\": {\"line\": {\"color\": \"#E5ECF6\", \"width\": 0.5}}, \"type\": \"barpolar\"}], \"carpet\": [{\"aaxis\": {\"endlinecolor\": \"#2a3f5f\", \"gridcolor\": \"white\", \"linecolor\": \"white\", \"minorgridcolor\": \"white\", \"startlinecolor\": \"#2a3f5f\"}, \"baxis\": {\"endlinecolor\": \"#2a3f5f\", \"gridcolor\": \"white\", \"linecolor\": \"white\", \"minorgridcolor\": \"white\", \"startlinecolor\": \"#2a3f5f\"}, \"type\": \"carpet\"}], \"choropleth\": [{\"colorbar\": {\"outlinewidth\": 0, \"ticks\": \"\"}, \"type\": \"choropleth\"}], \"contour\": [{\"colorbar\": {\"outlinewidth\": 0, \"ticks\": \"\"}, \"colorscale\": [[0.0, \"#0d0887\"], [0.1111111111111111, \"#46039f\"], [0.2222222222222222, \"#7201a8\"], [0.3333333333333333, \"#9c179e\"], [0.4444444444444444, \"#bd3786\"], [0.5555555555555556, \"#d8576b\"], [0.6666666666666666, \"#ed7953\"], [0.7777777777777778, \"#fb9f3a\"], [0.8888888888888888, \"#fdca26\"], [1.0, \"#f0f921\"]], \"type\": \"contour\"}], \"contourcarpet\": [{\"colorbar\": {\"outlinewidth\": 0, \"ticks\": \"\"}, \"type\": \"contourcarpet\"}], \"heatmap\": [{\"colorbar\": {\"outlinewidth\": 0, \"ticks\": \"\"}, \"colorscale\": [[0.0, \"#0d0887\"], [0.1111111111111111, \"#46039f\"], [0.2222222222222222, \"#7201a8\"], [0.3333333333333333, \"#9c179e\"], [0.4444444444444444, \"#bd3786\"], [0.5555555555555556, \"#d8576b\"], [0.6666666666666666, \"#ed7953\"], [0.7777777777777778, \"#fb9f3a\"], [0.8888888888888888, \"#fdca26\"], [1.0, \"#f0f921\"]], \"type\": \"heatmap\"}], \"heatmapgl\": [{\"colorbar\": {\"outlinewidth\": 0, \"ticks\": \"\"}, \"colorscale\": [[0.0, \"#0d0887\"], [0.1111111111111111, \"#46039f\"], [0.2222222222222222, \"#7201a8\"], [0.3333333333333333, \"#9c179e\"], [0.4444444444444444, \"#bd3786\"], [0.5555555555555556, \"#d8576b\"], [0.6666666666666666, \"#ed7953\"], [0.7777777777777778, \"#fb9f3a\"], [0.8888888888888888, \"#fdca26\"], [1.0, \"#f0f921\"]], \"type\": \"heatmapgl\"}], \"histogram\": [{\"marker\": {\"colorbar\": {\"outlinewidth\": 0, \"ticks\": \"\"}}, \"type\": \"histogram\"}], \"histogram2d\": [{\"colorbar\": {\"outlinewidth\": 0, \"ticks\": \"\"}, \"colorscale\": [[0.0, \"#0d0887\"], [0.1111111111111111, \"#46039f\"], [0.2222222222222222, \"#7201a8\"], [0.3333333333333333, \"#9c179e\"], [0.4444444444444444, \"#bd3786\"], [0.5555555555555556, \"#d8576b\"], [0.6666666666666666, \"#ed7953\"], [0.7777777777777778, \"#fb9f3a\"], [0.8888888888888888, \"#fdca26\"], [1.0, \"#f0f921\"]], \"type\": \"histogram2d\"}], \"histogram2dcontour\": [{\"colorbar\": {\"outlinewidth\": 0, \"ticks\": \"\"}, \"colorscale\": [[0.0, \"#0d0887\"], [0.1111111111111111, \"#46039f\"], [0.2222222222222222, \"#7201a8\"], [0.3333333333333333, \"#9c179e\"], [0.4444444444444444, \"#bd3786\"], [0.5555555555555556, \"#d8576b\"], [0.6666666666666666, \"#ed7953\"], [0.7777777777777778, \"#fb9f3a\"], [0.8888888888888888, \"#fdca26\"], [1.0, \"#f0f921\"]], \"type\": \"histogram2dcontour\"}], \"mesh3d\": [{\"colorbar\": {\"outlinewidth\": 0, \"ticks\": \"\"}, \"type\": \"mesh3d\"}], \"parcoords\": [{\"line\": {\"colorbar\": {\"outlinewidth\": 0, \"ticks\": \"\"}}, \"type\": \"parcoords\"}], \"pie\": [{\"automargin\": true, \"type\": \"pie\"}], \"scatter\": [{\"marker\": {\"colorbar\": {\"outlinewidth\": 0, \"ticks\": \"\"}}, \"type\": \"scatter\"}], \"scatter3d\": [{\"line\": {\"colorbar\": {\"outlinewidth\": 0, \"ticks\": \"\"}}, \"marker\": {\"colorbar\": {\"outlinewidth\": 0, \"ticks\": \"\"}}, \"type\": \"scatter3d\"}], \"scattercarpet\": [{\"marker\": {\"colorbar\": {\"outlinewidth\": 0, \"ticks\": \"\"}}, \"type\": \"scattercarpet\"}], \"scattergeo\": [{\"marker\": {\"colorbar\": {\"outlinewidth\": 0, \"ticks\": \"\"}}, \"type\": \"scattergeo\"}], \"scattergl\": [{\"marker\": {\"colorbar\": {\"outlinewidth\": 0, \"ticks\": \"\"}}, \"type\": \"scattergl\"}], \"scattermapbox\": [{\"marker\": {\"colorbar\": {\"outlinewidth\": 0, \"ticks\": \"\"}}, \"type\": \"scattermapbox\"}], \"scatterpolar\": [{\"marker\": {\"colorbar\": {\"outlinewidth\": 0, \"ticks\": \"\"}}, \"type\": \"scatterpolar\"}], \"scatterpolargl\": [{\"marker\": {\"colorbar\": {\"outlinewidth\": 0, \"ticks\": \"\"}}, \"type\": \"scatterpolargl\"}], \"scatterternary\": [{\"marker\": {\"colorbar\": {\"outlinewidth\": 0, \"ticks\": \"\"}}, \"type\": \"scatterternary\"}], \"surface\": [{\"colorbar\": {\"outlinewidth\": 0, \"ticks\": \"\"}, \"colorscale\": [[0.0, \"#0d0887\"], [0.1111111111111111, \"#46039f\"], [0.2222222222222222, \"#7201a8\"], [0.3333333333333333, \"#9c179e\"], [0.4444444444444444, \"#bd3786\"], [0.5555555555555556, \"#d8576b\"], [0.6666666666666666, \"#ed7953\"], [0.7777777777777778, \"#fb9f3a\"], [0.8888888888888888, \"#fdca26\"], [1.0, \"#f0f921\"]], \"type\": \"surface\"}], \"table\": [{\"cells\": {\"fill\": {\"color\": \"#EBF0F8\"}, \"line\": {\"color\": \"white\"}}, \"header\": {\"fill\": {\"color\": \"#C8D4E3\"}, \"line\": {\"color\": \"white\"}}, \"type\": \"table\"}]}, \"layout\": {\"annotationdefaults\": {\"arrowcolor\": \"#2a3f5f\", \"arrowhead\": 0, \"arrowwidth\": 1}, \"coloraxis\": {\"colorbar\": {\"outlinewidth\": 0, \"ticks\": \"\"}}, \"colorscale\": {\"diverging\": [[0, \"#8e0152\"], [0.1, \"#c51b7d\"], [0.2, \"#de77ae\"], [0.3, \"#f1b6da\"], [0.4, \"#fde0ef\"], [0.5, \"#f7f7f7\"], [0.6, \"#e6f5d0\"], [0.7, \"#b8e186\"], [0.8, \"#7fbc41\"], [0.9, \"#4d9221\"], [1, \"#276419\"]], \"sequential\": [[0.0, \"#0d0887\"], [0.1111111111111111, \"#46039f\"], [0.2222222222222222, \"#7201a8\"], [0.3333333333333333, \"#9c179e\"], [0.4444444444444444, \"#bd3786\"], [0.5555555555555556, \"#d8576b\"], [0.6666666666666666, \"#ed7953\"], [0.7777777777777778, \"#fb9f3a\"], [0.8888888888888888, \"#fdca26\"], [1.0, \"#f0f921\"]], \"sequentialminus\": [[0.0, \"#0d0887\"], [0.1111111111111111, \"#46039f\"], [0.2222222222222222, \"#7201a8\"], [0.3333333333333333, \"#9c179e\"], [0.4444444444444444, \"#bd3786\"], [0.5555555555555556, \"#d8576b\"], [0.6666666666666666, \"#ed7953\"], [0.7777777777777778, \"#fb9f3a\"], [0.8888888888888888, \"#fdca26\"], [1.0, \"#f0f921\"]]}, \"colorway\": [\"#636efa\", \"#EF553B\", \"#00cc96\", \"#ab63fa\", \"#FFA15A\", \"#19d3f3\", \"#FF6692\", \"#B6E880\", \"#FF97FF\", \"#FECB52\"], \"font\": {\"color\": \"#2a3f5f\"}, \"geo\": {\"bgcolor\": \"white\", \"lakecolor\": \"white\", \"landcolor\": \"#E5ECF6\", \"showlakes\": true, \"showland\": true, \"subunitcolor\": \"white\"}, \"hoverlabel\": {\"align\": \"left\"}, \"hovermode\": \"closest\", \"mapbox\": {\"style\": \"light\"}, \"paper_bgcolor\": \"white\", \"plot_bgcolor\": \"#E5ECF6\", \"polar\": {\"angularaxis\": {\"gridcolor\": \"white\", \"linecolor\": \"white\", \"ticks\": \"\"}, \"bgcolor\": \"#E5ECF6\", \"radialaxis\": {\"gridcolor\": \"white\", \"linecolor\": \"white\", \"ticks\": \"\"}}, \"scene\": {\"xaxis\": {\"backgroundcolor\": \"#E5ECF6\", \"gridcolor\": \"white\", \"gridwidth\": 2, \"linecolor\": \"white\", \"showbackground\": true, \"ticks\": \"\", \"zerolinecolor\": \"white\"}, \"yaxis\": {\"backgroundcolor\": \"#E5ECF6\", \"gridcolor\": \"white\", \"gridwidth\": 2, \"linecolor\": \"white\", \"showbackground\": true, \"ticks\": \"\", \"zerolinecolor\": \"white\"}, \"zaxis\": {\"backgroundcolor\": \"#E5ECF6\", \"gridcolor\": \"white\", \"gridwidth\": 2, \"linecolor\": \"white\", \"showbackground\": true, \"ticks\": \"\", \"zerolinecolor\": \"white\"}}, \"shapedefaults\": {\"line\": {\"color\": \"#2a3f5f\"}}, \"ternary\": {\"aaxis\": {\"gridcolor\": \"white\", \"linecolor\": \"white\", \"ticks\": \"\"}, \"baxis\": {\"gridcolor\": \"white\", \"linecolor\": \"white\", \"ticks\": \"\"}, \"bgcolor\": \"#E5ECF6\", \"caxis\": {\"gridcolor\": \"white\", \"linecolor\": \"white\", \"ticks\": \"\"}}, \"title\": {\"x\": 0.05}, \"xaxis\": {\"automargin\": true, \"gridcolor\": \"white\", \"linecolor\": \"white\", \"ticks\": \"\", \"title\": {\"standoff\": 15}, \"zerolinecolor\": \"white\", \"zerolinewidth\": 2}, \"yaxis\": {\"automargin\": true, \"gridcolor\": \"white\", \"linecolor\": \"white\", \"ticks\": \"\", \"title\": {\"standoff\": 15}, \"zerolinecolor\": \"white\", \"zerolinewidth\": 2}}}, \"title\": {\"text\": \"Figure: -- Age Distribution per Gender'\", \"x\": 0.5}, \"width\": 1000, \"xaxis\": {\"anchor\": \"y\", \"categoryarray\": [\"Male\", \"Female\"], \"categoryorder\": \"array\", \"domain\": [0.0, 1.0], \"title\": {\"text\": \"Gender\"}}, \"yaxis\": {\"anchor\": \"x\", \"domain\": [0.0, 1.0], \"title\": {\"text\": \"Age\"}}},\n",
              "                        {\"responsive\": true}\n",
              "                    ).then(function(){\n",
              "                            \n",
              "var gd = document.getElementById('09d93b1d-3c33-4bf8-bfdd-4b2709e25bbd');\n",
              "var x = new MutationObserver(function (mutations, observer) {{\n",
              "        var display = window.getComputedStyle(gd).display;\n",
              "        if (!display || display === 'none') {{\n",
              "            console.log([gd, 'removed!']);\n",
              "            Plotly.purge(gd);\n",
              "            observer.disconnect();\n",
              "        }}\n",
              "}});\n",
              "\n",
              "// Listen for the removal of the full notebook cells\n",
              "var notebookContainer = gd.closest('#notebook-container');\n",
              "if (notebookContainer) {{\n",
              "    x.observe(notebookContainer, {childList: true});\n",
              "}}\n",
              "\n",
              "// Listen for the clearing of the current output cell\n",
              "var outputEl = gd.closest('.output');\n",
              "if (outputEl) {{\n",
              "    x.observe(outputEl, {childList: true});\n",
              "}}\n",
              "\n",
              "                        })\n",
              "                };\n",
              "                \n",
              "            </script>\n",
              "        </div>\n",
              "</body>\n",
              "</html>"
            ]
          },
          "metadata": {
            "tags": []
          }
        }
      ]
    },
    {
      "cell_type": "markdown",
      "metadata": {
        "id": "BrwTpqJ49JTN"
      },
      "source": [
        "####Possible Correlations "
      ]
    },
    {
      "cell_type": "code",
      "metadata": {
        "id": "FWEPpfRhpv-Q"
      },
      "source": [
        "#cast string(sleep hours) to float(sleep hours) for later correct visualization \n",
        "import datetime\n",
        "study_data['Total Sleeping Hours - number']= pd.to_datetime(study_data['Total Sleeping Hours'])\n",
        "minutes = study_data['Total Sleeping Hours - number'].dt.minute /100\n",
        "study_data['Total Sleeping Hours - number'] = study_data['Total Sleeping Hours - number'].dt.hour + minutes"
      ],
      "execution_count": null,
      "outputs": []
    },
    {
      "cell_type": "code",
      "metadata": {
        "id": "rJqmJKmR0FP0",
        "colab": {
          "base_uri": "https://localhost:8080/",
          "height": 542
        },
        "outputId": "b8f29544-a806-495f-eab0-76f41da415b3"
      },
      "source": [
        "#correlations\n",
        "import plotly.express as px\n",
        "\n",
        "fig = px.scatter_matrix(study_data, \n",
        "                         dimensions=['Total Sleeping Hours - number',\n",
        "                                     \"Age\",\n",
        "                                     'Depression',\n",
        "                                     'Alcohol Consumption',                                     'Anxiety',\n",
        "                                     'Cigarettes Consumed',],\n",
        "                        labels={'Alcohol Consumption':'alcol',\n",
        "                                'Total Sleeping Hours - number':'Sleep Hours',\n",
        "                                'Cigarettes Consumed': 'Nr Cig.' \n",
        "                        },  \n",
        "                        color=\"Smoking\", sym\n",
        "                        symbol_sequence)\n",
        "fig.update_traces(diagonal_visible=False)\n",
        "fig.update_layout(width=1000,\n",
        "                  title_text=\"Figure-2: -- Scatter Matrix'\",\n",
        "                  title_x=0.5, \n",
        "                  bargap=0.8)\n",
        "fig.show()\n"
      ],
      "execution_count": null,
      "outputs": [
        {
          "output_type": "display_data",
          "data": {
            "text/html": [
              "<html>\n",
              "<head><meta charset=\"utf-8\" /></head>\n",
              "<body>\n",
              "    <div>\n",
              "            <script src=\"https://cdnjs.cloudflare.com/ajax/libs/mathjax/2.7.5/MathJax.js?config=TeX-AMS-MML_SVG\"></script><script type=\"text/javascript\">if (window.MathJax) {MathJax.Hub.Config({SVG: {font: \"STIX-Web\"}});}</script>\n",
              "                <script type=\"text/javascript\">window.PlotlyConfig = {MathJaxConfig: 'local'};</script>\n",
              "        <script src=\"https://cdn.plot.ly/plotly-latest.min.js\"></script>    \n",
              "            <div id=\"c2a37799-88cf-4d59-ae0d-8241bf7bdebf\" class=\"plotly-graph-div\" style=\"height:525px; width:1000px;\"></div>\n",
              "            <script type=\"text/javascript\">\n",
              "                \n",
              "                    window.PLOTLYENV=window.PLOTLYENV || {};\n",
              "                    \n",
              "                if (document.getElementById(\"c2a37799-88cf-4d59-ae0d-8241bf7bdebf\")) {\n",
              "                    Plotly.newPlot(\n",
              "                        'c2a37799-88cf-4d59-ae0d-8241bf7bdebf',\n",
              "                        [{\"diagonal\": {\"visible\": false}, \"dimensions\": [{\"axis\": {\"matches\": true}, \"label\": \"Sleep Hours\", \"values\": [8.0, 6.4, 8.0, 6.3, 8.0, 7.0, 6.0, 9.0, 5.0, 8.0, 7.0, 8.0, 8.0, 6.0, 8.0]}, {\"axis\": {\"matches\": true}, \"label\": \"Age\", \"values\": [21, 22, 22, 22, 20, 23, 23, 22, 31, 22, 21, 22, 20, 24, 20]}, {\"axis\": {\"matches\": true}, \"label\": \"Depression\", \"values\": [3, 3, 5, 3, 2, 1, 2, 4, 3, 3, 2, 1, 5, 1, 3]}, {\"axis\": {\"matches\": true}, \"label\": \"alcol\", \"values\": [2, 1, 3, 1, 1, 2, 1, 2, 1, 1, 1, 2, 1, 2, 3]}, {\"axis\": {\"matches\": true}, \"label\": \"Anxiety\", \"values\": [2, 2, 4, 4, 4, 2, 2, 1, 5, 3, 2, 2, 1, 4, 1]}, {\"axis\": {\"matches\": true}, \"label\": \"Nr Cig.\", \"values\": [0.0, 0.0, 0.0, 0.0, 0.0, 0.0, 0.0, 0.0, 0.0, 0.0, 0.0, 0.0, 0.0, 0.0, 0.0]}], \"hoverlabel\": {\"namelength\": 0}, \"hovertemplate\": \"Smoking=No<br>%{xaxis.title.text}=%{x}<br>%{yaxis.title.text}=%{y}\", \"legendgroup\": \"Smoking=No\", \"marker\": {\"color\": \"#636efa\", \"symbol\": \"circle\"}, \"name\": \"Smoking=No\", \"showlegend\": true, \"type\": \"splom\"}, {\"diagonal\": {\"visible\": false}, \"dimensions\": [{\"axis\": {\"matches\": true}, \"label\": \"Sleep Hours\", \"values\": [7.0, 8.0, 8.0, 8.0, 7.0, 8.0, 7.3, 7.0, 8.0, 9.0, 8.0, 9.0, 7.0, 7.0, 9.0]}, {\"axis\": {\"matches\": true}, \"label\": \"Age\", \"values\": [22, 22, 25, 27, 24, 31, 24, 25, 24, 22, 23, 20, 24, 22, 24]}, {\"axis\": {\"matches\": true}, \"label\": \"Depression\", \"values\": [1, 1, 5, 3, 2, 3, 1, 3, 1, 1, 1, 2, 5, 2, 2]}, {\"axis\": {\"matches\": true}, \"label\": \"alcol\", \"values\": [1, 2, 4, 3, 4, 1, 3, 4, 3, 5, 2, 3, 2, 4, 3]}, {\"axis\": {\"matches\": true}, \"label\": \"Anxiety\", \"values\": [1, 3, 2, 3, 3, 5, 2, 5, 1, 1, 2, 4, 5, 3, 4]}, {\"axis\": {\"matches\": true}, \"label\": \"Nr Cig.\", \"values\": [4.0, 2.0, 50.0, 25.0, 20.0, 5.0, 12.0, 70.0, 8.0, 20.0, 35.0, 10.0, 50.0, 10.0, 20.0]}], \"hoverlabel\": {\"namelength\": 0}, \"hovertemplate\": \"Smoking=Yes<br>%{xaxis.title.text}=%{x}<br>%{yaxis.title.text}=%{y}\", \"legendgroup\": \"Smoking=Yes\", \"marker\": {\"color\": \"#EF553B\", \"symbol\": \"circle\"}, \"name\": \"Smoking=Yes\", \"showlegend\": true, \"type\": \"splom\"}],\n",
              "                        {\"bargap\": 0.8, \"dragmode\": \"select\", \"legend\": {\"tracegroupgap\": 0}, \"margin\": {\"t\": 60}, \"template\": {\"data\": {\"bar\": [{\"error_x\": {\"color\": \"#2a3f5f\"}, \"error_y\": {\"color\": \"#2a3f5f\"}, \"marker\": {\"line\": {\"color\": \"#E5ECF6\", \"width\": 0.5}}, \"type\": \"bar\"}], \"barpolar\": [{\"marker\": {\"line\": {\"color\": \"#E5ECF6\", \"width\": 0.5}}, \"type\": \"barpolar\"}], \"carpet\": [{\"aaxis\": {\"endlinecolor\": \"#2a3f5f\", \"gridcolor\": \"white\", \"linecolor\": \"white\", \"minorgridcolor\": \"white\", \"startlinecolor\": \"#2a3f5f\"}, \"baxis\": {\"endlinecolor\": \"#2a3f5f\", \"gridcolor\": \"white\", \"linecolor\": \"white\", \"minorgridcolor\": \"white\", \"startlinecolor\": \"#2a3f5f\"}, \"type\": \"carpet\"}], \"choropleth\": [{\"colorbar\": {\"outlinewidth\": 0, \"ticks\": \"\"}, \"type\": \"choropleth\"}], \"contour\": [{\"colorbar\": {\"outlinewidth\": 0, \"ticks\": \"\"}, \"colorscale\": [[0.0, \"#0d0887\"], [0.1111111111111111, \"#46039f\"], [0.2222222222222222, \"#7201a8\"], [0.3333333333333333, \"#9c179e\"], [0.4444444444444444, \"#bd3786\"], [0.5555555555555556, \"#d8576b\"], [0.6666666666666666, \"#ed7953\"], [0.7777777777777778, \"#fb9f3a\"], [0.8888888888888888, \"#fdca26\"], [1.0, \"#f0f921\"]], \"type\": \"contour\"}], \"contourcarpet\": [{\"colorbar\": {\"outlinewidth\": 0, \"ticks\": \"\"}, \"type\": \"contourcarpet\"}], \"heatmap\": [{\"colorbar\": {\"outlinewidth\": 0, \"ticks\": \"\"}, \"colorscale\": [[0.0, \"#0d0887\"], [0.1111111111111111, \"#46039f\"], [0.2222222222222222, \"#7201a8\"], [0.3333333333333333, \"#9c179e\"], [0.4444444444444444, \"#bd3786\"], [0.5555555555555556, \"#d8576b\"], [0.6666666666666666, \"#ed7953\"], [0.7777777777777778, \"#fb9f3a\"], [0.8888888888888888, \"#fdca26\"], [1.0, \"#f0f921\"]], \"type\": \"heatmap\"}], \"heatmapgl\": [{\"colorbar\": {\"outlinewidth\": 0, \"ticks\": \"\"}, \"colorscale\": [[0.0, \"#0d0887\"], [0.1111111111111111, \"#46039f\"], [0.2222222222222222, \"#7201a8\"], [0.3333333333333333, \"#9c179e\"], [0.4444444444444444, \"#bd3786\"], [0.5555555555555556, \"#d8576b\"], [0.6666666666666666, \"#ed7953\"], [0.7777777777777778, \"#fb9f3a\"], [0.8888888888888888, \"#fdca26\"], [1.0, \"#f0f921\"]], \"type\": \"heatmapgl\"}], \"histogram\": [{\"marker\": {\"colorbar\": {\"outlinewidth\": 0, \"ticks\": \"\"}}, \"type\": \"histogram\"}], \"histogram2d\": [{\"colorbar\": {\"outlinewidth\": 0, \"ticks\": \"\"}, \"colorscale\": [[0.0, \"#0d0887\"], [0.1111111111111111, \"#46039f\"], [0.2222222222222222, \"#7201a8\"], [0.3333333333333333, \"#9c179e\"], [0.4444444444444444, \"#bd3786\"], [0.5555555555555556, \"#d8576b\"], [0.6666666666666666, \"#ed7953\"], [0.7777777777777778, \"#fb9f3a\"], [0.8888888888888888, \"#fdca26\"], [1.0, \"#f0f921\"]], \"type\": \"histogram2d\"}], \"histogram2dcontour\": [{\"colorbar\": {\"outlinewidth\": 0, \"ticks\": \"\"}, \"colorscale\": [[0.0, \"#0d0887\"], [0.1111111111111111, \"#46039f\"], [0.2222222222222222, \"#7201a8\"], [0.3333333333333333, \"#9c179e\"], [0.4444444444444444, \"#bd3786\"], [0.5555555555555556, \"#d8576b\"], [0.6666666666666666, \"#ed7953\"], [0.7777777777777778, \"#fb9f3a\"], [0.8888888888888888, \"#fdca26\"], [1.0, \"#f0f921\"]], \"type\": \"histogram2dcontour\"}], \"mesh3d\": [{\"colorbar\": {\"outlinewidth\": 0, \"ticks\": \"\"}, \"type\": \"mesh3d\"}], \"parcoords\": [{\"line\": {\"colorbar\": {\"outlinewidth\": 0, \"ticks\": \"\"}}, \"type\": \"parcoords\"}], \"pie\": [{\"automargin\": true, \"type\": \"pie\"}], \"scatter\": [{\"marker\": {\"colorbar\": {\"outlinewidth\": 0, \"ticks\": \"\"}}, \"type\": \"scatter\"}], \"scatter3d\": [{\"line\": {\"colorbar\": {\"outlinewidth\": 0, \"ticks\": \"\"}}, \"marker\": {\"colorbar\": {\"outlinewidth\": 0, \"ticks\": \"\"}}, \"type\": \"scatter3d\"}], \"scattercarpet\": [{\"marker\": {\"colorbar\": {\"outlinewidth\": 0, \"ticks\": \"\"}}, \"type\": \"scattercarpet\"}], \"scattergeo\": [{\"marker\": {\"colorbar\": {\"outlinewidth\": 0, \"ticks\": \"\"}}, \"type\": \"scattergeo\"}], \"scattergl\": [{\"marker\": {\"colorbar\": {\"outlinewidth\": 0, \"ticks\": \"\"}}, \"type\": \"scattergl\"}], \"scattermapbox\": [{\"marker\": {\"colorbar\": {\"outlinewidth\": 0, \"ticks\": \"\"}}, \"type\": \"scattermapbox\"}], \"scatterpolar\": [{\"marker\": {\"colorbar\": {\"outlinewidth\": 0, \"ticks\": \"\"}}, \"type\": \"scatterpolar\"}], \"scatterpolargl\": [{\"marker\": {\"colorbar\": {\"outlinewidth\": 0, \"ticks\": \"\"}}, \"type\": \"scatterpolargl\"}], \"scatterternary\": [{\"marker\": {\"colorbar\": {\"outlinewidth\": 0, \"ticks\": \"\"}}, \"type\": \"scatterternary\"}], \"surface\": [{\"colorbar\": {\"outlinewidth\": 0, \"ticks\": \"\"}, \"colorscale\": [[0.0, \"#0d0887\"], [0.1111111111111111, \"#46039f\"], [0.2222222222222222, \"#7201a8\"], [0.3333333333333333, \"#9c179e\"], [0.4444444444444444, \"#bd3786\"], [0.5555555555555556, \"#d8576b\"], [0.6666666666666666, \"#ed7953\"], [0.7777777777777778, \"#fb9f3a\"], [0.8888888888888888, \"#fdca26\"], [1.0, \"#f0f921\"]], \"type\": \"surface\"}], \"table\": [{\"cells\": {\"fill\": {\"color\": \"#EBF0F8\"}, \"line\": {\"color\": \"white\"}}, \"header\": {\"fill\": {\"color\": \"#C8D4E3\"}, \"line\": {\"color\": \"white\"}}, \"type\": \"table\"}]}, \"layout\": {\"annotationdefaults\": {\"arrowcolor\": \"#2a3f5f\", \"arrowhead\": 0, \"arrowwidth\": 1}, \"coloraxis\": {\"colorbar\": {\"outlinewidth\": 0, \"ticks\": \"\"}}, \"colorscale\": {\"diverging\": [[0, \"#8e0152\"], [0.1, \"#c51b7d\"], [0.2, \"#de77ae\"], [0.3, \"#f1b6da\"], [0.4, \"#fde0ef\"], [0.5, \"#f7f7f7\"], [0.6, \"#e6f5d0\"], [0.7, \"#b8e186\"], [0.8, \"#7fbc41\"], [0.9, \"#4d9221\"], [1, \"#276419\"]], \"sequential\": [[0.0, \"#0d0887\"], [0.1111111111111111, \"#46039f\"], [0.2222222222222222, \"#7201a8\"], [0.3333333333333333, \"#9c179e\"], [0.4444444444444444, \"#bd3786\"], [0.5555555555555556, \"#d8576b\"], [0.6666666666666666, \"#ed7953\"], [0.7777777777777778, \"#fb9f3a\"], [0.8888888888888888, \"#fdca26\"], [1.0, \"#f0f921\"]], \"sequentialminus\": [[0.0, \"#0d0887\"], [0.1111111111111111, \"#46039f\"], [0.2222222222222222, \"#7201a8\"], [0.3333333333333333, \"#9c179e\"], [0.4444444444444444, \"#bd3786\"], [0.5555555555555556, \"#d8576b\"], [0.6666666666666666, \"#ed7953\"], [0.7777777777777778, \"#fb9f3a\"], [0.8888888888888888, \"#fdca26\"], [1.0, \"#f0f921\"]]}, \"colorway\": [\"#636efa\", \"#EF553B\", \"#00cc96\", \"#ab63fa\", \"#FFA15A\", \"#19d3f3\", \"#FF6692\", \"#B6E880\", \"#FF97FF\", \"#FECB52\"], \"font\": {\"color\": \"#2a3f5f\"}, \"geo\": {\"bgcolor\": \"white\", \"lakecolor\": \"white\", \"landcolor\": \"#E5ECF6\", \"showlakes\": true, \"showland\": true, \"subunitcolor\": \"white\"}, \"hoverlabel\": {\"align\": \"left\"}, \"hovermode\": \"closest\", \"mapbox\": {\"style\": \"light\"}, \"paper_bgcolor\": \"white\", \"plot_bgcolor\": \"#E5ECF6\", \"polar\": {\"angularaxis\": {\"gridcolor\": \"white\", \"linecolor\": \"white\", \"ticks\": \"\"}, \"bgcolor\": \"#E5ECF6\", \"radialaxis\": {\"gridcolor\": \"white\", \"linecolor\": \"white\", \"ticks\": \"\"}}, \"scene\": {\"xaxis\": {\"backgroundcolor\": \"#E5ECF6\", \"gridcolor\": \"white\", \"gridwidth\": 2, \"linecolor\": \"white\", \"showbackground\": true, \"ticks\": \"\", \"zerolinecolor\": \"white\"}, \"yaxis\": {\"backgroundcolor\": \"#E5ECF6\", \"gridcolor\": \"white\", \"gridwidth\": 2, \"linecolor\": \"white\", \"showbackground\": true, \"ticks\": \"\", \"zerolinecolor\": \"white\"}, \"zaxis\": {\"backgroundcolor\": \"#E5ECF6\", \"gridcolor\": \"white\", \"gridwidth\": 2, \"linecolor\": \"white\", \"showbackground\": true, \"ticks\": \"\", \"zerolinecolor\": \"white\"}}, \"shapedefaults\": {\"line\": {\"color\": \"#2a3f5f\"}}, \"ternary\": {\"aaxis\": {\"gridcolor\": \"white\", \"linecolor\": \"white\", \"ticks\": \"\"}, \"baxis\": {\"gridcolor\": \"white\", \"linecolor\": \"white\", \"ticks\": \"\"}, \"bgcolor\": \"#E5ECF6\", \"caxis\": {\"gridcolor\": \"white\", \"linecolor\": \"white\", \"ticks\": \"\"}}, \"title\": {\"x\": 0.05}, \"xaxis\": {\"automargin\": true, \"gridcolor\": \"white\", \"linecolor\": \"white\", \"ticks\": \"\", \"title\": {\"standoff\": 15}, \"zerolinecolor\": \"white\", \"zerolinewidth\": 2}, \"yaxis\": {\"automargin\": true, \"gridcolor\": \"white\", \"linecolor\": \"white\", \"ticks\": \"\", \"title\": {\"standoff\": 15}, \"zerolinecolor\": \"white\", \"zerolinewidth\": 2}}}, \"title\": {\"text\": \"Figure-2: -- Scatter Matrix'\", \"x\": 0.5}, \"width\": 1000},\n",
              "                        {\"responsive\": true}\n",
              "                    ).then(function(){\n",
              "                            \n",
              "var gd = document.getElementById('c2a37799-88cf-4d59-ae0d-8241bf7bdebf');\n",
              "var x = new MutationObserver(function (mutations, observer) {{\n",
              "        var display = window.getComputedStyle(gd).display;\n",
              "        if (!display || display === 'none') {{\n",
              "            console.log([gd, 'removed!']);\n",
              "            Plotly.purge(gd);\n",
              "            observer.disconnect();\n",
              "        }}\n",
              "}});\n",
              "\n",
              "// Listen for the removal of the full notebook cells\n",
              "var notebookContainer = gd.closest('#notebook-container');\n",
              "if (notebookContainer) {{\n",
              "    x.observe(notebookContainer, {childList: true});\n",
              "}}\n",
              "\n",
              "// Listen for the clearing of the current output cell\n",
              "var outputEl = gd.closest('.output');\n",
              "if (outputEl) {{\n",
              "    x.observe(outputEl, {childList: true});\n",
              "}}\n",
              "\n",
              "                        })\n",
              "                };\n",
              "                \n",
              "            </script>\n",
              "        </div>\n",
              "</body>\n",
              "</html>"
            ]
          },
          "metadata": {
            "tags": []
          }
        }
      ]
    },
    {
      "cell_type": "markdown",
      "metadata": {
        "id": "MoSGyVUmyMoY"
      },
      "source": [
        "The scatter matrix above shows possible correlation between some key variables of our study. \n",
        "\n",
        "At first glance (especially in  - Sleep hours per night) \n",
        "highlight possible positive correlation between **Age & Alcohol Consumption** and between **Weekly cigarettes Number & Age**.\n",
        "\n",
        "**Cigarette Consumption & Sleep hours** (our outcome variable) seem to be slightly negative correlated. \n",
        "\n",
        "However, the few data available **seem too sparse** for us in order to be able to provide some strong statements."
      ]
    },
    {
      "cell_type": "markdown",
      "metadata": {
        "id": "Fl28yjGW8M1a"
      },
      "source": [
        "####Contengency Tables\n",
        "\n",
        "⚠️check sleep data variables⚠️ "
      ]
    },
    {
      "cell_type": "code",
      "metadata": {
        "id": "3RCKRrduUc91"
      },
      "source": [
        "study_data.loc[study_data['Anxiety'] >= 3 , 'isAnxious'] = 'Yes'\n",
        "study_data.loc[study_data['Anxiety'] < 3, 'isAnxious'] = 'No' "
      ],
      "execution_count": null,
      "outputs": []
    },
    {
      "cell_type": "code",
      "metadata": {
        "id": "yp9hZnNIUkOj"
      },
      "source": [
        "study_data.loc[study_data['Depression'] >= 3 , 'isDepressed'] = 'Yes'\n",
        "study_data.loc[study_data['Depression'] < 3, 'isDepressed'] = 'No' "
      ],
      "execution_count": null,
      "outputs": []
    },
    {
      "cell_type": "code",
      "metadata": {
        "id": "D86ajkiYUlWL"
      },
      "source": [
        "study_data.loc[study_data['Worried About Future'] >= 3 , 'isWorried'] = 'Yes'\n",
        "study_data.loc[study_data['Worried About Future'] < 3, 'isWorried'] = 'No'"
      ],
      "execution_count": null,
      "outputs": []
    },
    {
      "cell_type": "code",
      "metadata": {
        "id": "OMmcE0OLUnSf",
        "colab": {
          "base_uri": "https://localhost:8080/",
          "height": 601
        },
        "outputId": "9fde6b13-1426-44ce-a634-0f3be780004e"
      },
      "source": [
        "study_data.loc[study_data['Total Sleep Hours'] >= 7.0 , 'Sleeping'] = '>=7 Hours'\n",
        "study_data.loc[study_data['Total Sleep Hours'] < 7.0, 'Sleeping'] = '<7 Hours'"
      ],
      "execution_count": null,
      "outputs": [
        {
          "output_type": "error",
          "ename": "KeyError",
          "evalue": "ignored",
          "traceback": [
            "\u001b[0;31m---------------------------------------------------------------------------\u001b[0m",
            "\u001b[0;31mKeyError\u001b[0m                                  Traceback (most recent call last)",
            "\u001b[0;32m/usr/local/lib/python3.6/dist-packages/pandas/core/indexes/base.py\u001b[0m in \u001b[0;36mget_loc\u001b[0;34m(self, key, method, tolerance)\u001b[0m\n\u001b[1;32m   2897\u001b[0m             \u001b[0;32mtry\u001b[0m\u001b[0;34m:\u001b[0m\u001b[0;34m\u001b[0m\u001b[0;34m\u001b[0m\u001b[0m\n\u001b[0;32m-> 2898\u001b[0;31m                 \u001b[0;32mreturn\u001b[0m \u001b[0mself\u001b[0m\u001b[0;34m.\u001b[0m\u001b[0m_engine\u001b[0m\u001b[0;34m.\u001b[0m\u001b[0mget_loc\u001b[0m\u001b[0;34m(\u001b[0m\u001b[0mcasted_key\u001b[0m\u001b[0;34m)\u001b[0m\u001b[0;34m\u001b[0m\u001b[0;34m\u001b[0m\u001b[0m\n\u001b[0m\u001b[1;32m   2899\u001b[0m             \u001b[0;32mexcept\u001b[0m \u001b[0mKeyError\u001b[0m \u001b[0;32mas\u001b[0m \u001b[0merr\u001b[0m\u001b[0;34m:\u001b[0m\u001b[0;34m\u001b[0m\u001b[0;34m\u001b[0m\u001b[0m\n",
            "\u001b[0;32mpandas/_libs/index.pyx\u001b[0m in \u001b[0;36mpandas._libs.index.IndexEngine.get_loc\u001b[0;34m()\u001b[0m\n",
            "\u001b[0;32mpandas/_libs/index.pyx\u001b[0m in \u001b[0;36mpandas._libs.index.IndexEngine.get_loc\u001b[0;34m()\u001b[0m\n",
            "\u001b[0;32mpandas/_libs/hashtable_class_helper.pxi\u001b[0m in \u001b[0;36mpandas._libs.hashtable.PyObjectHashTable.get_item\u001b[0;34m()\u001b[0m\n",
            "\u001b[0;32mpandas/_libs/hashtable_class_helper.pxi\u001b[0m in \u001b[0;36mpandas._libs.hashtable.PyObjectHashTable.get_item\u001b[0;34m()\u001b[0m\n",
            "\u001b[0;31mKeyError\u001b[0m: 'Total Sleep Hours'",
            "\nThe above exception was the direct cause of the following exception:\n",
            "\u001b[0;31mKeyError\u001b[0m                                  Traceback (most recent call last)",
            "\u001b[0;32m<ipython-input-31-ccc44763cc88>\u001b[0m in \u001b[0;36m<module>\u001b[0;34m()\u001b[0m\n\u001b[0;32m----> 1\u001b[0;31m \u001b[0mstudy_data\u001b[0m\u001b[0;34m.\u001b[0m\u001b[0mloc\u001b[0m\u001b[0;34m[\u001b[0m\u001b[0mstudy_data\u001b[0m\u001b[0;34m[\u001b[0m\u001b[0;34m'Total Sleep Hours'\u001b[0m\u001b[0;34m]\u001b[0m \u001b[0;34m>=\u001b[0m \u001b[0;36m7.0\u001b[0m \u001b[0;34m,\u001b[0m \u001b[0;34m'Sleeping'\u001b[0m\u001b[0;34m]\u001b[0m \u001b[0;34m=\u001b[0m \u001b[0;34m'>=7 Hours'\u001b[0m\u001b[0;34m\u001b[0m\u001b[0;34m\u001b[0m\u001b[0m\n\u001b[0m\u001b[1;32m      2\u001b[0m \u001b[0mstudy_data\u001b[0m\u001b[0;34m.\u001b[0m\u001b[0mloc\u001b[0m\u001b[0;34m[\u001b[0m\u001b[0mstudy_data\u001b[0m\u001b[0;34m[\u001b[0m\u001b[0;34m'Total Sleep Hours'\u001b[0m\u001b[0;34m]\u001b[0m \u001b[0;34m<\u001b[0m \u001b[0;36m7.0\u001b[0m\u001b[0;34m,\u001b[0m \u001b[0;34m'Sleeping'\u001b[0m\u001b[0;34m]\u001b[0m \u001b[0;34m=\u001b[0m \u001b[0;34m'<7 Hours'\u001b[0m\u001b[0;34m\u001b[0m\u001b[0;34m\u001b[0m\u001b[0m\n",
            "\u001b[0;32m/usr/local/lib/python3.6/dist-packages/pandas/core/frame.py\u001b[0m in \u001b[0;36m__getitem__\u001b[0;34m(self, key)\u001b[0m\n\u001b[1;32m   2904\u001b[0m             \u001b[0;32mif\u001b[0m \u001b[0mself\u001b[0m\u001b[0;34m.\u001b[0m\u001b[0mcolumns\u001b[0m\u001b[0;34m.\u001b[0m\u001b[0mnlevels\u001b[0m \u001b[0;34m>\u001b[0m \u001b[0;36m1\u001b[0m\u001b[0;34m:\u001b[0m\u001b[0;34m\u001b[0m\u001b[0;34m\u001b[0m\u001b[0m\n\u001b[1;32m   2905\u001b[0m                 \u001b[0;32mreturn\u001b[0m \u001b[0mself\u001b[0m\u001b[0;34m.\u001b[0m\u001b[0m_getitem_multilevel\u001b[0m\u001b[0;34m(\u001b[0m\u001b[0mkey\u001b[0m\u001b[0;34m)\u001b[0m\u001b[0;34m\u001b[0m\u001b[0;34m\u001b[0m\u001b[0m\n\u001b[0;32m-> 2906\u001b[0;31m             \u001b[0mindexer\u001b[0m \u001b[0;34m=\u001b[0m \u001b[0mself\u001b[0m\u001b[0;34m.\u001b[0m\u001b[0mcolumns\u001b[0m\u001b[0;34m.\u001b[0m\u001b[0mget_loc\u001b[0m\u001b[0;34m(\u001b[0m\u001b[0mkey\u001b[0m\u001b[0;34m)\u001b[0m\u001b[0;34m\u001b[0m\u001b[0;34m\u001b[0m\u001b[0m\n\u001b[0m\u001b[1;32m   2907\u001b[0m             \u001b[0;32mif\u001b[0m \u001b[0mis_integer\u001b[0m\u001b[0;34m(\u001b[0m\u001b[0mindexer\u001b[0m\u001b[0;34m)\u001b[0m\u001b[0;34m:\u001b[0m\u001b[0;34m\u001b[0m\u001b[0;34m\u001b[0m\u001b[0m\n\u001b[1;32m   2908\u001b[0m                 \u001b[0mindexer\u001b[0m \u001b[0;34m=\u001b[0m \u001b[0;34m[\u001b[0m\u001b[0mindexer\u001b[0m\u001b[0;34m]\u001b[0m\u001b[0;34m\u001b[0m\u001b[0;34m\u001b[0m\u001b[0m\n",
            "\u001b[0;32m/usr/local/lib/python3.6/dist-packages/pandas/core/indexes/base.py\u001b[0m in \u001b[0;36mget_loc\u001b[0;34m(self, key, method, tolerance)\u001b[0m\n\u001b[1;32m   2898\u001b[0m                 \u001b[0;32mreturn\u001b[0m \u001b[0mself\u001b[0m\u001b[0;34m.\u001b[0m\u001b[0m_engine\u001b[0m\u001b[0;34m.\u001b[0m\u001b[0mget_loc\u001b[0m\u001b[0;34m(\u001b[0m\u001b[0mcasted_key\u001b[0m\u001b[0;34m)\u001b[0m\u001b[0;34m\u001b[0m\u001b[0;34m\u001b[0m\u001b[0m\n\u001b[1;32m   2899\u001b[0m             \u001b[0;32mexcept\u001b[0m \u001b[0mKeyError\u001b[0m \u001b[0;32mas\u001b[0m \u001b[0merr\u001b[0m\u001b[0;34m:\u001b[0m\u001b[0;34m\u001b[0m\u001b[0;34m\u001b[0m\u001b[0m\n\u001b[0;32m-> 2900\u001b[0;31m                 \u001b[0;32mraise\u001b[0m \u001b[0mKeyError\u001b[0m\u001b[0;34m(\u001b[0m\u001b[0mkey\u001b[0m\u001b[0;34m)\u001b[0m \u001b[0;32mfrom\u001b[0m \u001b[0merr\u001b[0m\u001b[0;34m\u001b[0m\u001b[0;34m\u001b[0m\u001b[0m\n\u001b[0m\u001b[1;32m   2901\u001b[0m \u001b[0;34m\u001b[0m\u001b[0m\n\u001b[1;32m   2902\u001b[0m         \u001b[0;32mif\u001b[0m \u001b[0mtolerance\u001b[0m \u001b[0;32mis\u001b[0m \u001b[0;32mnot\u001b[0m \u001b[0;32mNone\u001b[0m\u001b[0;34m:\u001b[0m\u001b[0;34m\u001b[0m\u001b[0;34m\u001b[0m\u001b[0m\n",
            "\u001b[0;31mKeyError\u001b[0m: 'Total Sleep Hours'"
          ]
        }
      ]
    },
    {
      "cell_type": "code",
      "metadata": {
        "id": "1R3PsdxlUpH_"
      },
      "source": [
        "tab = pd.crosstab(study_data['isAnxious'],  study_data['Gender'], margins=True, margins_name=\"Total\")"
      ],
      "execution_count": null,
      "outputs": []
    },
    {
      "cell_type": "code",
      "metadata": {
        "id": "htlm56KCUrh3",
        "colab": {
          "base_uri": "https://localhost:8080/",
          "height": 175
        },
        "outputId": "943c72a2-31da-4de5-c7ab-415f4ff7fb79"
      },
      "source": [
        "tab"
      ],
      "execution_count": null,
      "outputs": [
        {
          "output_type": "execute_result",
          "data": {
            "text/html": [
              "<div>\n",
              "<style scoped>\n",
              "    .dataframe tbody tr th:only-of-type {\n",
              "        vertical-align: middle;\n",
              "    }\n",
              "\n",
              "    .dataframe tbody tr th {\n",
              "        vertical-align: top;\n",
              "    }\n",
              "\n",
              "    .dataframe thead th {\n",
              "        text-align: right;\n",
              "    }\n",
              "</style>\n",
              "<table border=\"1\" class=\"dataframe\">\n",
              "  <thead>\n",
              "    <tr style=\"text-align: right;\">\n",
              "      <th>Gender</th>\n",
              "      <th>Female</th>\n",
              "      <th>Male</th>\n",
              "      <th>Total</th>\n",
              "    </tr>\n",
              "    <tr>\n",
              "      <th>isAnxious</th>\n",
              "      <th></th>\n",
              "      <th></th>\n",
              "      <th></th>\n",
              "    </tr>\n",
              "  </thead>\n",
              "  <tbody>\n",
              "    <tr>\n",
              "      <th>No</th>\n",
              "      <td>3</td>\n",
              "      <td>12</td>\n",
              "      <td>15</td>\n",
              "    </tr>\n",
              "    <tr>\n",
              "      <th>Yes</th>\n",
              "      <td>8</td>\n",
              "      <td>7</td>\n",
              "      <td>15</td>\n",
              "    </tr>\n",
              "    <tr>\n",
              "      <th>Total</th>\n",
              "      <td>11</td>\n",
              "      <td>19</td>\n",
              "      <td>30</td>\n",
              "    </tr>\n",
              "  </tbody>\n",
              "</table>\n",
              "</div>"
            ],
            "text/plain": [
              "Gender     Female  Male  Total\n",
              "isAnxious                     \n",
              "No              3    12     15\n",
              "Yes             8     7     15\n",
              "Total          11    19     30"
            ]
          },
          "metadata": {
            "tags": []
          },
          "execution_count": 33
        }
      ]
    },
    {
      "cell_type": "code",
      "metadata": {
        "id": "CDccJyVMUt5y",
        "colab": {
          "base_uri": "https://localhost:8080/",
          "height": 601
        },
        "outputId": "9c385b59-f5d4-4215-dbef-eac004352c63"
      },
      "source": [
        "tab1 = pd.crosstab(study_data['Gender'],  study_data['Sleeping'], margins=True, margins_name=\"Total\")"
      ],
      "execution_count": null,
      "outputs": [
        {
          "output_type": "error",
          "ename": "KeyError",
          "evalue": "ignored",
          "traceback": [
            "\u001b[0;31m---------------------------------------------------------------------------\u001b[0m",
            "\u001b[0;31mKeyError\u001b[0m                                  Traceback (most recent call last)",
            "\u001b[0;32m/usr/local/lib/python3.6/dist-packages/pandas/core/indexes/base.py\u001b[0m in \u001b[0;36mget_loc\u001b[0;34m(self, key, method, tolerance)\u001b[0m\n\u001b[1;32m   2897\u001b[0m             \u001b[0;32mtry\u001b[0m\u001b[0;34m:\u001b[0m\u001b[0;34m\u001b[0m\u001b[0;34m\u001b[0m\u001b[0m\n\u001b[0;32m-> 2898\u001b[0;31m                 \u001b[0;32mreturn\u001b[0m \u001b[0mself\u001b[0m\u001b[0;34m.\u001b[0m\u001b[0m_engine\u001b[0m\u001b[0;34m.\u001b[0m\u001b[0mget_loc\u001b[0m\u001b[0;34m(\u001b[0m\u001b[0mcasted_key\u001b[0m\u001b[0;34m)\u001b[0m\u001b[0;34m\u001b[0m\u001b[0;34m\u001b[0m\u001b[0m\n\u001b[0m\u001b[1;32m   2899\u001b[0m             \u001b[0;32mexcept\u001b[0m \u001b[0mKeyError\u001b[0m \u001b[0;32mas\u001b[0m \u001b[0merr\u001b[0m\u001b[0;34m:\u001b[0m\u001b[0;34m\u001b[0m\u001b[0;34m\u001b[0m\u001b[0m\n",
            "\u001b[0;32mpandas/_libs/index.pyx\u001b[0m in \u001b[0;36mpandas._libs.index.IndexEngine.get_loc\u001b[0;34m()\u001b[0m\n",
            "\u001b[0;32mpandas/_libs/index.pyx\u001b[0m in \u001b[0;36mpandas._libs.index.IndexEngine.get_loc\u001b[0;34m()\u001b[0m\n",
            "\u001b[0;32mpandas/_libs/hashtable_class_helper.pxi\u001b[0m in \u001b[0;36mpandas._libs.hashtable.PyObjectHashTable.get_item\u001b[0;34m()\u001b[0m\n",
            "\u001b[0;32mpandas/_libs/hashtable_class_helper.pxi\u001b[0m in \u001b[0;36mpandas._libs.hashtable.PyObjectHashTable.get_item\u001b[0;34m()\u001b[0m\n",
            "\u001b[0;31mKeyError\u001b[0m: 'Sleeping'",
            "\nThe above exception was the direct cause of the following exception:\n",
            "\u001b[0;31mKeyError\u001b[0m                                  Traceback (most recent call last)",
            "\u001b[0;32m<ipython-input-34-8d37fae7e9a4>\u001b[0m in \u001b[0;36m<module>\u001b[0;34m()\u001b[0m\n\u001b[0;32m----> 1\u001b[0;31m \u001b[0mtab1\u001b[0m \u001b[0;34m=\u001b[0m \u001b[0mpd\u001b[0m\u001b[0;34m.\u001b[0m\u001b[0mcrosstab\u001b[0m\u001b[0;34m(\u001b[0m\u001b[0mstudy_data\u001b[0m\u001b[0;34m[\u001b[0m\u001b[0;34m'Gender'\u001b[0m\u001b[0;34m]\u001b[0m\u001b[0;34m,\u001b[0m  \u001b[0mstudy_data\u001b[0m\u001b[0;34m[\u001b[0m\u001b[0;34m'Sleeping'\u001b[0m\u001b[0;34m]\u001b[0m\u001b[0;34m,\u001b[0m \u001b[0mmargins\u001b[0m\u001b[0;34m=\u001b[0m\u001b[0;32mTrue\u001b[0m\u001b[0;34m,\u001b[0m \u001b[0mmargins_name\u001b[0m\u001b[0;34m=\u001b[0m\u001b[0;34m\"Total\"\u001b[0m\u001b[0;34m)\u001b[0m\u001b[0;34m\u001b[0m\u001b[0;34m\u001b[0m\u001b[0m\n\u001b[0m",
            "\u001b[0;32m/usr/local/lib/python3.6/dist-packages/pandas/core/frame.py\u001b[0m in \u001b[0;36m__getitem__\u001b[0;34m(self, key)\u001b[0m\n\u001b[1;32m   2904\u001b[0m             \u001b[0;32mif\u001b[0m \u001b[0mself\u001b[0m\u001b[0;34m.\u001b[0m\u001b[0mcolumns\u001b[0m\u001b[0;34m.\u001b[0m\u001b[0mnlevels\u001b[0m \u001b[0;34m>\u001b[0m \u001b[0;36m1\u001b[0m\u001b[0;34m:\u001b[0m\u001b[0;34m\u001b[0m\u001b[0;34m\u001b[0m\u001b[0m\n\u001b[1;32m   2905\u001b[0m                 \u001b[0;32mreturn\u001b[0m \u001b[0mself\u001b[0m\u001b[0;34m.\u001b[0m\u001b[0m_getitem_multilevel\u001b[0m\u001b[0;34m(\u001b[0m\u001b[0mkey\u001b[0m\u001b[0;34m)\u001b[0m\u001b[0;34m\u001b[0m\u001b[0;34m\u001b[0m\u001b[0m\n\u001b[0;32m-> 2906\u001b[0;31m             \u001b[0mindexer\u001b[0m \u001b[0;34m=\u001b[0m \u001b[0mself\u001b[0m\u001b[0;34m.\u001b[0m\u001b[0mcolumns\u001b[0m\u001b[0;34m.\u001b[0m\u001b[0mget_loc\u001b[0m\u001b[0;34m(\u001b[0m\u001b[0mkey\u001b[0m\u001b[0;34m)\u001b[0m\u001b[0;34m\u001b[0m\u001b[0;34m\u001b[0m\u001b[0m\n\u001b[0m\u001b[1;32m   2907\u001b[0m             \u001b[0;32mif\u001b[0m \u001b[0mis_integer\u001b[0m\u001b[0;34m(\u001b[0m\u001b[0mindexer\u001b[0m\u001b[0;34m)\u001b[0m\u001b[0;34m:\u001b[0m\u001b[0;34m\u001b[0m\u001b[0;34m\u001b[0m\u001b[0m\n\u001b[1;32m   2908\u001b[0m                 \u001b[0mindexer\u001b[0m \u001b[0;34m=\u001b[0m \u001b[0;34m[\u001b[0m\u001b[0mindexer\u001b[0m\u001b[0;34m]\u001b[0m\u001b[0;34m\u001b[0m\u001b[0;34m\u001b[0m\u001b[0m\n",
            "\u001b[0;32m/usr/local/lib/python3.6/dist-packages/pandas/core/indexes/base.py\u001b[0m in \u001b[0;36mget_loc\u001b[0;34m(self, key, method, tolerance)\u001b[0m\n\u001b[1;32m   2898\u001b[0m                 \u001b[0;32mreturn\u001b[0m \u001b[0mself\u001b[0m\u001b[0;34m.\u001b[0m\u001b[0m_engine\u001b[0m\u001b[0;34m.\u001b[0m\u001b[0mget_loc\u001b[0m\u001b[0;34m(\u001b[0m\u001b[0mcasted_key\u001b[0m\u001b[0;34m)\u001b[0m\u001b[0;34m\u001b[0m\u001b[0;34m\u001b[0m\u001b[0m\n\u001b[1;32m   2899\u001b[0m             \u001b[0;32mexcept\u001b[0m \u001b[0mKeyError\u001b[0m \u001b[0;32mas\u001b[0m \u001b[0merr\u001b[0m\u001b[0;34m:\u001b[0m\u001b[0;34m\u001b[0m\u001b[0;34m\u001b[0m\u001b[0m\n\u001b[0;32m-> 2900\u001b[0;31m                 \u001b[0;32mraise\u001b[0m \u001b[0mKeyError\u001b[0m\u001b[0;34m(\u001b[0m\u001b[0mkey\u001b[0m\u001b[0;34m)\u001b[0m \u001b[0;32mfrom\u001b[0m \u001b[0merr\u001b[0m\u001b[0;34m\u001b[0m\u001b[0;34m\u001b[0m\u001b[0m\n\u001b[0m\u001b[1;32m   2901\u001b[0m \u001b[0;34m\u001b[0m\u001b[0m\n\u001b[1;32m   2902\u001b[0m         \u001b[0;32mif\u001b[0m \u001b[0mtolerance\u001b[0m \u001b[0;32mis\u001b[0m \u001b[0;32mnot\u001b[0m \u001b[0;32mNone\u001b[0m\u001b[0;34m:\u001b[0m\u001b[0;34m\u001b[0m\u001b[0;34m\u001b[0m\u001b[0m\n",
            "\u001b[0;31mKeyError\u001b[0m: 'Sleeping'"
          ]
        }
      ]
    },
    {
      "cell_type": "code",
      "metadata": {
        "id": "wf2IyAjkUwe7",
        "colab": {
          "base_uri": "https://localhost:8080/",
          "height": 173
        },
        "outputId": "b88ca2e8-9e20-4b77-d1ca-a9b2a2e5db69"
      },
      "source": [
        "tab1"
      ],
      "execution_count": null,
      "outputs": [
        {
          "output_type": "error",
          "ename": "NameError",
          "evalue": "ignored",
          "traceback": [
            "\u001b[0;31m---------------------------------------------------------------------------\u001b[0m",
            "\u001b[0;31mNameError\u001b[0m                                 Traceback (most recent call last)",
            "\u001b[0;32m<ipython-input-35-e5b9f7619de1>\u001b[0m in \u001b[0;36m<module>\u001b[0;34m()\u001b[0m\n\u001b[0;32m----> 1\u001b[0;31m \u001b[0mtab1\u001b[0m\u001b[0;34m\u001b[0m\u001b[0;34m\u001b[0m\u001b[0m\n\u001b[0m",
            "\u001b[0;31mNameError\u001b[0m: name 'tab1' is not defined"
          ]
        }
      ]
    },
    {
      "cell_type": "code",
      "metadata": {
        "id": "0FGoSyXzUyY1",
        "colab": {
          "base_uri": "https://localhost:8080/",
          "height": 601
        },
        "outputId": "96f9c186-48bb-4d2b-d42d-6d01aba286a5"
      },
      "source": [
        "tab1 = pd.crosstab(study_data['Gender'],  study_data['Sleeping'], margins=True, margins_name=\"Total\", normalize=\"all\").applymap(lambda x: \"{0:.0f}%\".format(100*x))"
      ],
      "execution_count": null,
      "outputs": [
        {
          "output_type": "error",
          "ename": "KeyError",
          "evalue": "ignored",
          "traceback": [
            "\u001b[0;31m---------------------------------------------------------------------------\u001b[0m",
            "\u001b[0;31mKeyError\u001b[0m                                  Traceback (most recent call last)",
            "\u001b[0;32m/usr/local/lib/python3.6/dist-packages/pandas/core/indexes/base.py\u001b[0m in \u001b[0;36mget_loc\u001b[0;34m(self, key, method, tolerance)\u001b[0m\n\u001b[1;32m   2897\u001b[0m             \u001b[0;32mtry\u001b[0m\u001b[0;34m:\u001b[0m\u001b[0;34m\u001b[0m\u001b[0;34m\u001b[0m\u001b[0m\n\u001b[0;32m-> 2898\u001b[0;31m                 \u001b[0;32mreturn\u001b[0m \u001b[0mself\u001b[0m\u001b[0;34m.\u001b[0m\u001b[0m_engine\u001b[0m\u001b[0;34m.\u001b[0m\u001b[0mget_loc\u001b[0m\u001b[0;34m(\u001b[0m\u001b[0mcasted_key\u001b[0m\u001b[0;34m)\u001b[0m\u001b[0;34m\u001b[0m\u001b[0;34m\u001b[0m\u001b[0m\n\u001b[0m\u001b[1;32m   2899\u001b[0m             \u001b[0;32mexcept\u001b[0m \u001b[0mKeyError\u001b[0m \u001b[0;32mas\u001b[0m \u001b[0merr\u001b[0m\u001b[0;34m:\u001b[0m\u001b[0;34m\u001b[0m\u001b[0;34m\u001b[0m\u001b[0m\n",
            "\u001b[0;32mpandas/_libs/index.pyx\u001b[0m in \u001b[0;36mpandas._libs.index.IndexEngine.get_loc\u001b[0;34m()\u001b[0m\n",
            "\u001b[0;32mpandas/_libs/index.pyx\u001b[0m in \u001b[0;36mpandas._libs.index.IndexEngine.get_loc\u001b[0;34m()\u001b[0m\n",
            "\u001b[0;32mpandas/_libs/hashtable_class_helper.pxi\u001b[0m in \u001b[0;36mpandas._libs.hashtable.PyObjectHashTable.get_item\u001b[0;34m()\u001b[0m\n",
            "\u001b[0;32mpandas/_libs/hashtable_class_helper.pxi\u001b[0m in \u001b[0;36mpandas._libs.hashtable.PyObjectHashTable.get_item\u001b[0;34m()\u001b[0m\n",
            "\u001b[0;31mKeyError\u001b[0m: 'Sleeping'",
            "\nThe above exception was the direct cause of the following exception:\n",
            "\u001b[0;31mKeyError\u001b[0m                                  Traceback (most recent call last)",
            "\u001b[0;32m<ipython-input-36-5469af084bb3>\u001b[0m in \u001b[0;36m<module>\u001b[0;34m()\u001b[0m\n\u001b[0;32m----> 1\u001b[0;31m \u001b[0mtab1\u001b[0m \u001b[0;34m=\u001b[0m \u001b[0mpd\u001b[0m\u001b[0;34m.\u001b[0m\u001b[0mcrosstab\u001b[0m\u001b[0;34m(\u001b[0m\u001b[0mstudy_data\u001b[0m\u001b[0;34m[\u001b[0m\u001b[0;34m'Gender'\u001b[0m\u001b[0;34m]\u001b[0m\u001b[0;34m,\u001b[0m  \u001b[0mstudy_data\u001b[0m\u001b[0;34m[\u001b[0m\u001b[0;34m'Sleeping'\u001b[0m\u001b[0;34m]\u001b[0m\u001b[0;34m,\u001b[0m \u001b[0mmargins\u001b[0m\u001b[0;34m=\u001b[0m\u001b[0;32mTrue\u001b[0m\u001b[0;34m,\u001b[0m \u001b[0mmargins_name\u001b[0m\u001b[0;34m=\u001b[0m\u001b[0;34m\"Total\"\u001b[0m\u001b[0;34m,\u001b[0m \u001b[0mnormalize\u001b[0m\u001b[0;34m=\u001b[0m\u001b[0;34m\"all\"\u001b[0m\u001b[0;34m)\u001b[0m\u001b[0;34m.\u001b[0m\u001b[0mapplymap\u001b[0m\u001b[0;34m(\u001b[0m\u001b[0;32mlambda\u001b[0m \u001b[0mx\u001b[0m\u001b[0;34m:\u001b[0m \u001b[0;34m\"{0:.0f}%\"\u001b[0m\u001b[0;34m.\u001b[0m\u001b[0mformat\u001b[0m\u001b[0;34m(\u001b[0m\u001b[0;36m100\u001b[0m\u001b[0;34m*\u001b[0m\u001b[0mx\u001b[0m\u001b[0;34m)\u001b[0m\u001b[0;34m)\u001b[0m\u001b[0;34m\u001b[0m\u001b[0;34m\u001b[0m\u001b[0m\n\u001b[0m",
            "\u001b[0;32m/usr/local/lib/python3.6/dist-packages/pandas/core/frame.py\u001b[0m in \u001b[0;36m__getitem__\u001b[0;34m(self, key)\u001b[0m\n\u001b[1;32m   2904\u001b[0m             \u001b[0;32mif\u001b[0m \u001b[0mself\u001b[0m\u001b[0;34m.\u001b[0m\u001b[0mcolumns\u001b[0m\u001b[0;34m.\u001b[0m\u001b[0mnlevels\u001b[0m \u001b[0;34m>\u001b[0m \u001b[0;36m1\u001b[0m\u001b[0;34m:\u001b[0m\u001b[0;34m\u001b[0m\u001b[0;34m\u001b[0m\u001b[0m\n\u001b[1;32m   2905\u001b[0m                 \u001b[0;32mreturn\u001b[0m \u001b[0mself\u001b[0m\u001b[0;34m.\u001b[0m\u001b[0m_getitem_multilevel\u001b[0m\u001b[0;34m(\u001b[0m\u001b[0mkey\u001b[0m\u001b[0;34m)\u001b[0m\u001b[0;34m\u001b[0m\u001b[0;34m\u001b[0m\u001b[0m\n\u001b[0;32m-> 2906\u001b[0;31m             \u001b[0mindexer\u001b[0m \u001b[0;34m=\u001b[0m \u001b[0mself\u001b[0m\u001b[0;34m.\u001b[0m\u001b[0mcolumns\u001b[0m\u001b[0;34m.\u001b[0m\u001b[0mget_loc\u001b[0m\u001b[0;34m(\u001b[0m\u001b[0mkey\u001b[0m\u001b[0;34m)\u001b[0m\u001b[0;34m\u001b[0m\u001b[0;34m\u001b[0m\u001b[0m\n\u001b[0m\u001b[1;32m   2907\u001b[0m             \u001b[0;32mif\u001b[0m \u001b[0mis_integer\u001b[0m\u001b[0;34m(\u001b[0m\u001b[0mindexer\u001b[0m\u001b[0;34m)\u001b[0m\u001b[0;34m:\u001b[0m\u001b[0;34m\u001b[0m\u001b[0;34m\u001b[0m\u001b[0m\n\u001b[1;32m   2908\u001b[0m                 \u001b[0mindexer\u001b[0m \u001b[0;34m=\u001b[0m \u001b[0;34m[\u001b[0m\u001b[0mindexer\u001b[0m\u001b[0;34m]\u001b[0m\u001b[0;34m\u001b[0m\u001b[0;34m\u001b[0m\u001b[0m\n",
            "\u001b[0;32m/usr/local/lib/python3.6/dist-packages/pandas/core/indexes/base.py\u001b[0m in \u001b[0;36mget_loc\u001b[0;34m(self, key, method, tolerance)\u001b[0m\n\u001b[1;32m   2898\u001b[0m                 \u001b[0;32mreturn\u001b[0m \u001b[0mself\u001b[0m\u001b[0;34m.\u001b[0m\u001b[0m_engine\u001b[0m\u001b[0;34m.\u001b[0m\u001b[0mget_loc\u001b[0m\u001b[0;34m(\u001b[0m\u001b[0mcasted_key\u001b[0m\u001b[0;34m)\u001b[0m\u001b[0;34m\u001b[0m\u001b[0;34m\u001b[0m\u001b[0m\n\u001b[1;32m   2899\u001b[0m             \u001b[0;32mexcept\u001b[0m \u001b[0mKeyError\u001b[0m \u001b[0;32mas\u001b[0m \u001b[0merr\u001b[0m\u001b[0;34m:\u001b[0m\u001b[0;34m\u001b[0m\u001b[0;34m\u001b[0m\u001b[0m\n\u001b[0;32m-> 2900\u001b[0;31m                 \u001b[0;32mraise\u001b[0m \u001b[0mKeyError\u001b[0m\u001b[0;34m(\u001b[0m\u001b[0mkey\u001b[0m\u001b[0;34m)\u001b[0m \u001b[0;32mfrom\u001b[0m \u001b[0merr\u001b[0m\u001b[0;34m\u001b[0m\u001b[0;34m\u001b[0m\u001b[0m\n\u001b[0m\u001b[1;32m   2901\u001b[0m \u001b[0;34m\u001b[0m\u001b[0m\n\u001b[1;32m   2902\u001b[0m         \u001b[0;32mif\u001b[0m \u001b[0mtolerance\u001b[0m \u001b[0;32mis\u001b[0m \u001b[0;32mnot\u001b[0m \u001b[0;32mNone\u001b[0m\u001b[0;34m:\u001b[0m\u001b[0;34m\u001b[0m\u001b[0;34m\u001b[0m\u001b[0m\n",
            "\u001b[0;31mKeyError\u001b[0m: 'Sleeping'"
          ]
        }
      ]
    },
    {
      "cell_type": "code",
      "metadata": {
        "id": "vacr1EzmU0kj"
      },
      "source": [
        "tab1"
      ],
      "execution_count": null,
      "outputs": []
    },
    {
      "cell_type": "code",
      "metadata": {
        "id": "QlxK92hIU2n3"
      },
      "source": [
        "tab1 = pd.crosstab(study_data['Smoking'],  study_data['Sleeping'], margins=True, margins_name=\"Total\", normalize=\"all\").applymap(lambda x: \"{0:.0f}%\".format(100*x))"
      ],
      "execution_count": null,
      "outputs": []
    },
    {
      "cell_type": "code",
      "metadata": {
        "id": "UtpDwkcAU44r"
      },
      "source": [
        "tab1"
      ],
      "execution_count": null,
      "outputs": []
    },
    {
      "cell_type": "markdown",
      "metadata": {
        "id": "vkXHD4s8l6T1"
      },
      "source": [
        "### Question 3.3\n",
        "*a.* Choose the appropriate method to evaluate your hypotheses for questions **(A)** and **(B)**.  \n",
        "*b.* state why you chose these methods."
      ]
    },
    {
      "cell_type": "markdown",
      "metadata": {
        "id": "33o6IhL6l6T1"
      },
      "source": [
        "#### Solution 3.3"
      ]
    },
    {
      "cell_type": "markdown",
      "metadata": {
        "id": "UUSkSGeMC5L9"
      },
      "source": [
        "Before doing the EDA, we tried to evaluate three different Test Statistics Method which are Z-Test, T-Test and Chi-Square Test.\n",
        "\n",
        "We choose to go ahead with **T-Test** because:  \n",
        "\n",
        "* In **Z-Test**, in order to proceed, we need to have the Sample Mean and Population mean and should also have known variance. Z-Test is used to check the hypotheses if the Sample drawn belongs to the same population. Our agenda here is not to check that but to find out the effect of a variable.  \n",
        "  \n",
        "* In **Chi-Square Test**, we test out if two or more variables are independent of each other or not. That means, it checks for either Goodness of fit or compare the independent variables. Thus, it does not fit our requirement.  \n",
        "  \n",
        "* Whereas in **T-Test**, it compares the means of 2 different samples. As in our case, we have different samples for male and female, checking the sleep pattern for these two samples through T-Test seems to be the best choice in order to complete our testing. Similary, checking the effect of Smoking on 2 different samples of smokers and non-smokers through T-Test also fulfills our requirement."
      ]
    },
    {
      "cell_type": "markdown",
      "metadata": {
        "id": "wtXJfo01l6T1"
      },
      "source": [
        "* * *"
      ]
    },
    {
      "cell_type": "markdown",
      "metadata": {
        "id": "QvA48DBEl6T2"
      },
      "source": [
        "#### Question 3.4\n",
        "Report scientifically your answer to the questions: provide enough information about the study and the hypotheses, and choose how you want to report the results (see lecture videos, also L05)."
      ]
    },
    {
      "cell_type": "markdown",
      "metadata": {
        "id": "IoQXvE16l6T2"
      },
      "source": [
        "#### Solution 3.4"
      ]
    },
    {
      "cell_type": "code",
      "metadata": {
        "id": "Q74cAr5rl6T2"
      },
      "source": [
        "# Displaying Normal Distribution to explain how the testing will be done\n",
        "\n",
        "mu = 0\n",
        "variance = 1\n",
        "sigma = math.sqrt(variance)\n",
        "x = np.linspace(mu - 3*sigma, mu + 3*sigma, 100)\n",
        "plt.plot(x, stats.norm.pdf(x, mu, sigma))\n",
        "plt.title('Figure-3: -- Normal distribution')\n",
        "plt.text(-0.2, 0.2, \"0.95\")\n",
        "plt.text(-2.6, 0.05, \"0.25\")\n",
        "plt.text(2.2, 0.05, \"0.25\")\n",
        "plt.axvline(x=-1.96, ymin=0.01, ymax=0.15, color='red', label='-z critical')\n",
        "plt.axvline(x=-2.2, ymin=0.01, ymax=0.1, color='green')\n",
        "plt.axvline(x=-2.4, ymin=0.01, ymax=0.08, color='green')\n",
        "plt.axvline(x=-2.6, ymin=0.01, ymax=0.06, color='green')\n",
        "plt.axvline(x=-2.8, ymin=0.01, ymax=0.04, color='green')\n",
        "plt.axvline(x=-3, ymin=0.01, ymax=0.03, color='green')\n",
        "plt.axvline(x=1.96, ymin=0.01, ymax=0.15, color='red', label='z critical')\n",
        "plt.axvline(x=2.2, ymin=0.01, ymax=0.1, color='green')\n",
        "plt.axvline(x=2.4, ymin=0.01, ymax=0.08, color='green')\n",
        "plt.axvline(x=2.6, ymin=0.01, ymax=0.06, color='green')\n",
        "plt.axvline(x=2.8, ymin=0.01, ymax=0.04, color='green')\n",
        "plt.axvline(x=3, ymin=0.01, ymax=0.03, color='green')\n",
        "plt.show()"
      ],
      "execution_count": null,
      "outputs": []
    },
    {
      "cell_type": "markdown",
      "metadata": {
        "id": "fNnUI5Ek_aTD"
      },
      "source": [
        "So here, we have two hypothesis to test as below:  \n",
        "\n",
        "**Hypothesis Testing (A)**  \n",
        "- *$H_0$ : \"There is no difference in hours of sleep per night between males and females\".*  \n",
        "- *$H_1$ : \"There is a significant difference in hours of sleep per night between males and females\".*  \n",
        "\n",
        "**Hypothesis Testing (B)**  \n",
        "- *$H_0$ : \"There is no difference in hours of sleep per night between smokers and non-smokers\".*  \n",
        "- *$H_1$ : \"There is a significant difference in hours of sleep per night between smokers and non-smokers\".*  \n",
        "\n",
        "For both the Hypothesis Testing, we will be doing Two-Tailed T-Test, taking into consideration that the samples on which the testing is being done are independent. Also, because we want to test the possibility of the relationship in both directions.  \n",
        "\n",
        ">(A) *Either Male Sleep > Female Sleep **OR** Male Sleep < Female Sleep  \n",
        ">Our alternative hypothesis (H1) states that Male and Female sleep are not equal, which could be any of these two cases.*  \n",
        "\n",
        ">(B) *Either Smoker's Sleep > Non-Smoker's Sleep **OR** Smoker's Sleep < Non-Smoker's Sleep  \n",
        ">Our alternative hypothesis (H1) states that Smoker's and Non-Smoker's sleep is not equal, which could be any of these two cases.*  \n",
        "\n",
        "For both the Hypothesis, we keep the Significance Level ($\\alpha$) = 0.05  \n",
        "\n",
        "In this Normal Dirstibution (**Figure-4**), shaded areas are our rejection regions. Our $\\alpha$ = 0.05 that means\n",
        "that critical value is 1.96, and since we have two-tailed test we divide alpha by 2 and get 0.25 on both\n",
        "sides (rejection regions)."
      ]
    },
    {
      "cell_type": "markdown",
      "metadata": {
        "id": "Dq2eqUAtGnGR"
      },
      "source": [
        "#### Hypothesis Testing (A)"
      ]
    },
    {
      "cell_type": "code",
      "metadata": {
        "id": "RB0JEqG9_dhL"
      },
      "source": [
        "# Calculating the population size for Males and Females\n",
        "\n",
        "male_population_size = len(study_data[study_data['Gender'] == 'Male'])\n",
        "female_population_size = len(study_data[study_data['Gender'] == 'Female'])"
      ],
      "execution_count": null,
      "outputs": []
    },
    {
      "cell_type": "code",
      "metadata": {
        "id": "BIQcsa_0_frp"
      },
      "source": [
        "# Calculating the means\n",
        "\n",
        "sleep_means = study_data.groupby('Gender')['Total Sleep Hours'].mean()\n",
        "male_sleep_mean = sleep_means['Male']\n",
        "female_sleep_mean = sleep_means['Female']"
      ],
      "execution_count": null,
      "outputs": []
    },
    {
      "cell_type": "code",
      "metadata": {
        "id": "nW1d5S6P_h8c"
      },
      "source": [
        "sleep_means = sleep_means.rename_axis().reset_index()"
      ],
      "execution_count": null,
      "outputs": []
    },
    {
      "cell_type": "code",
      "metadata": {
        "id": "vTv_3Liz_kAM"
      },
      "source": [
        "# Using plotly to plot the graph\n",
        "\n",
        "gender_based_sleep_mean_plot = go.Figure()\n",
        "gender_based_sleep_mean_plot = px.bar(sleep_means, \n",
        "                                 x=\"Gender\", \n",
        "                                 y=\"Total Sleep Hours\", \n",
        "                                 color=\"Gender\", \n",
        "                                 text=\"Total Sleep Hours\", \n",
        "                                 range_y=[0,10])\n",
        "\n",
        "gender_based_sleep_mean_plot.update_layout(width=1000,\n",
        "                                title_text=\"Figure-4: -- Sleep (mean) Comparison Between Males and Females'\",\n",
        "                                title_x=0.5, \n",
        "                                bargap=0.8)\n",
        "\n",
        "gender_based_sleep_mean_plot.update_traces(texttemplate='%{text:.2s} Hours', textposition='outside')\n",
        "gender_based_sleep_mean_plot.show()"
      ],
      "execution_count": null,
      "outputs": []
    },
    {
      "cell_type": "markdown",
      "metadata": {
        "id": "7Bd1ge_5_mnI"
      },
      "source": [
        "Through **Figure-4**, we can notice that there is **no difference in the Average Sleeping Hours per Night between Males and Females**. This is actually very **surprising** and goes opposite to a lot of studies done in the past which have shown significant differences in the Sleep for Males and Females.  \n",
        "\n",
        "Even **Figure-5**, portrays the same picture. Both the distributions are similar and have no difference among remoted values, except some outliers which are seen.\n",
        "\n",
        "One reason why we get this data could be the sample of **Younger Generation** and **Generation from 21st Century**. As a lot of trends have changed over the years, the biggest change has been the **Increase in Working Women Population**. Also, with advances in technology, the **exposure** to things have become more **uniform between Males and Females**. Thus, this could have been a reason of showing no difference at all.  \n",
        "\n",
        "The other reason could be the **Age Group**. As, the study was done only on a specific age-group of 20-35 Years old individuals, which could have significantly impacted the result.\n",
        "\n",
        "Another possible reason for such data could be the approximation done by the individuals while filling up the questionnaire. As we had no means to accurately track the total sleeping hours, most individuals might have approximated the sleeping hours from 7.5 Hours to 8 Hours or any such figure. This can be assumed to be true as a lot of **participants in the Post-Survey Interview gave the confidence level of 85-90% to their answers**.  \n",
        "\n",
        "One more factor which leads to this data is the **low number of participants** in the study. Since, the study only takes into consideration 30 people. Thus, could possibly be the biggest factor which leads to such results.\n",
        "\n",
        "But for now, we will continue with our statistical study."
      ]
    },
    {
      "cell_type": "code",
      "metadata": {
        "id": "luwZlUCA_pJj"
      },
      "source": [
        "# Finding Gender based Standard Deviation\n",
        "\n",
        "sleep_deviation = study_data.groupby('Gender')['Total Sleep Hours'].std()\n",
        "male_sleep_deviation = sleep_deviation['Male']\n",
        "female_sleep_deviation = sleep_deviation['Female']"
      ],
      "execution_count": null,
      "outputs": []
    },
    {
      "cell_type": "code",
      "metadata": {
        "id": "WsIN6tQG_rLL"
      },
      "source": [
        "# Finding out Gender based Variance\n",
        "\n",
        "male_sleep_variance = male_sleep_deviation**2\n",
        "female_sleep_variance = female_sleep_deviation**2"
      ],
      "execution_count": null,
      "outputs": []
    },
    {
      "cell_type": "code",
      "metadata": {
        "id": "XR8cLlHs_tWW"
      },
      "source": [
        "# Finding out the T-Score\n",
        "\n",
        "numerator = np.abs(male_sleep_mean - female_sleep_mean)\n",
        "denominator = np.sqrt((male_sleep_variance/male_population_size) + (female_sleep_variance/female_population_size))\n",
        "t_value = numerator/denominator"
      ],
      "execution_count": null,
      "outputs": []
    },
    {
      "cell_type": "code",
      "metadata": {
        "id": "3UMe8KI5_wlH"
      },
      "source": [
        "print(\"T-Score from the Gender Based Data and Statistics is : \", t_value)"
      ],
      "execution_count": null,
      "outputs": []
    },
    {
      "cell_type": "markdown",
      "metadata": {
        "id": "WGlpOlIg_yNs"
      },
      "source": [
        "Now, using the **T-Score**, we will find out the **p-value** through T-Distribution Table for Two-Tailed Test.  \n",
        "After looking through the T-Distribution Table, we get the p-value of 0.950135  \n",
        "\n",
        "As it can be seen that p-value is greater than the significance level i.e.  \n",
        "**p-value > $\\alpha$**  \n",
        "**0.950135 > 0.05**  \n",
        "\n",
        "Getting such a **large p-value** suggests the same result as it was seen through **Figure-4 and Figure-5**, that there is no significant difference the the Sleep Hours per Night for Males and Females.\n",
        "\n",
        "Therefore, we fail to reject the null hypothesis $H_0$."
      ]
    },
    {
      "cell_type": "markdown",
      "metadata": {
        "id": "MuiZO7t5_0LX"
      },
      "source": [
        "But, since this test is based on **Mean Values** and as we know **Outliers significantly impact Mean Values**. Thus, we will remove the outliers where Total Sleep Hours < 6 Hours && Total Sleep Hours > 9 Hours."
      ]
    },
    {
      "cell_type": "code",
      "metadata": {
        "id": "OtYmAUd2_3rn"
      },
      "source": [
        "# Calculating sample means\n",
        "\n",
        "study_data_interim = study_data[study_data['Total Sleep Hours'] >= 6.0]\n",
        "study_data_interim = study_data_interim[study_data_interim['Total Sleep Hours'] <= 9.0]\n",
        "sleep_means = study_data_interim.groupby('Gender')['Total Sleep Hours'].mean()\n",
        "male_sleep_mean = sleep_means['Male']\n",
        "female_sleep_mean = sleep_means['Female']"
      ],
      "execution_count": null,
      "outputs": []
    },
    {
      "cell_type": "code",
      "metadata": {
        "id": "KYJ4r1oX_6tw"
      },
      "source": [
        "# Calculating the sample size\n",
        "\n",
        "sample_male = len(study_data_interim[study_data_interim['Gender'] == 'Male'])\n",
        "sample_female = len(study_data_interim[study_data_interim['Gender'] == 'Female'])"
      ],
      "execution_count": null,
      "outputs": []
    },
    {
      "cell_type": "code",
      "metadata": {
        "id": "Rdm1o1z5_8i-"
      },
      "source": [
        "sleep_means = sleep_means.rename_axis().reset_index()"
      ],
      "execution_count": null,
      "outputs": []
    },
    {
      "cell_type": "code",
      "metadata": {
        "id": "WTLGWx-y_-a3"
      },
      "source": [
        "# Using plotly to plot the graph\n",
        "\n",
        "gender_based_sleep_mean_plot = go.Figure()\n",
        "gender_based_sleep_mean_plot = px.bar(sleep_means, \n",
        "                                 x=\"Gender\", \n",
        "                                 y=\"Total Sleep Hours\", \n",
        "                                 color=\"Gender\", \n",
        "                                 text=\"Total Sleep Hours\", \n",
        "                                 range_y=[0,10])\n",
        "\n",
        "gender_based_sleep_mean_plot.update_layout(width=1000,\n",
        "                                title_text=\"Figure-5: -- Sleep (mean) Comparison Between Males and Females (Outliers Removed)'\",\n",
        "                                title_x=0.5, \n",
        "                                bargap=0.8)\n",
        "\n",
        "gender_based_sleep_mean_plot.update_traces(texttemplate='%{text:.2s} Hours', textposition='outside')\n",
        "gender_based_sleep_mean_plot.show()"
      ],
      "execution_count": null,
      "outputs": []
    },
    {
      "cell_type": "markdown",
      "metadata": {
        "id": "mjPXF3kiACxB"
      },
      "source": [
        "Through **Figure-6 and Figure-7**, we can notice that removing the outliers only slightly increase the Average Sleeping Hours per Night for Females, but overall the sleeping pattern remains the same.\n",
        "\n",
        "Again, We will continue with our test."
      ]
    },
    {
      "cell_type": "code",
      "metadata": {
        "id": "FOD2j0NxADu7"
      },
      "source": [
        "# Finding Gender based Standard Deviation\n",
        "\n",
        "sleep_deviation = study_data.groupby('Gender')['Total Sleep Hours'].std()\n",
        "male_sleep_deviation = sleep_deviation['Male']\n",
        "female_sleep_deviation = sleep_deviation['Female']"
      ],
      "execution_count": null,
      "outputs": []
    },
    {
      "cell_type": "code",
      "metadata": {
        "id": "N7Gm7SCqAFjy"
      },
      "source": [
        "# Finding out Gender based Variance\n",
        "\n",
        "male_sleep_variance = male_sleep_deviation**2\n",
        "female_sleep_variance = female_sleep_deviation**2"
      ],
      "execution_count": null,
      "outputs": []
    },
    {
      "cell_type": "code",
      "metadata": {
        "id": "pTyZ0xyeAIT6"
      },
      "source": [
        "# Finding out the T-Score\n",
        "\n",
        "numerator = np.abs(male_sleep_mean - female_sleep_mean)\n",
        "denominator = np.sqrt((male_sleep_variance/male_population_size) + (female_sleep_variance/female_population_size))\n",
        "t_value = numerator/denominator"
      ],
      "execution_count": null,
      "outputs": []
    },
    {
      "cell_type": "code",
      "metadata": {
        "id": "-I3Nc7atAKiz"
      },
      "source": [
        "print(\"T-Score from the Gender Based Data and Statistics is : \", t_value)"
      ],
      "execution_count": null,
      "outputs": []
    },
    {
      "cell_type": "markdown",
      "metadata": {
        "id": "-5ny0H3CAO_f"
      },
      "source": [
        "Now, using the **T-Score**, we will find out the **p-value** through T-Distribution Table for Two-Tailed Test.  \n",
        "After looking through the T-Distribution Table, we get the p-value of 0.680147  \n",
        "\n",
        "As it can be seen that p-value is greater than the significance level i.e.  \n",
        "**p-value > $\\alpha$**  \n",
        "**0.680147 > 0.05**  \n",
        "\n",
        "Thus, even after removing the outliers, we get similarly large p-value leading to the evidence that there is no significant difference between hours of sleep for Males and Females. Therefore, we fail to reject the null hypothesis $H_0$.  \n",
        "\n",
        "But an important question arises here, *Can we generalise this result to all other Age Groups and say that there is no difference between Sleeping Hours between Males and Females?*  \n",
        "\n",
        "No, we cannot. All previous studies talk about Poor Quality of Sleep for Women as compared to Men. But no evidence could be seen showing less sleeping hours for Women as compared to Men. Still, it cannot be generelased as the number of participants are low to generalise to a larger or global population. Apart from this, the data has been taken involving people from a specific region and region wise differences cannot be provided through this small data. There are still many difference between the activities being carried out by both the genders throughout the day which have not been taken into consideration here. Also, a major factor which could affect are the hormonal changes, For eg: Pregnancy, Meno-pause and so on. Thus, we would say that this data is not sufficient enough to generalise this hypothesis.  \n",
        "\n",
        "In the later section of this experiment, we would try to see if various factors like depression, anxiety and so on affect the sleeping hours or not but before that, we will have a look at the sleep pattern using our variable **Smoking**."
      ]
    },
    {
      "cell_type": "markdown",
      "metadata": {
        "id": "vKswFYHWHKAm"
      },
      "source": [
        "#### Hypothesis Testing (B)"
      ]
    },
    {
      "cell_type": "code",
      "metadata": {
        "id": "N590bIU-AQwM"
      },
      "source": [
        "# Calculating Sample Sizes for Smokers and Non-Smokers\n",
        "\n",
        "nonsmoker_population_size = len(study_data[study_data['Smoker'] == 0])\n",
        "smoker_population_size = len(study_data[study_data['Smoker'] == 1])"
      ],
      "execution_count": null,
      "outputs": []
    },
    {
      "cell_type": "code",
      "metadata": {
        "id": "4HNzeDSrAT7y"
      },
      "source": [
        "# Calculating the Mean Hours of Sleep for Smokers and Non-Smokers\n",
        "\n",
        "sleep_means = study_data.groupby('Smoker')['Total Sleep Hours'].mean()\n",
        "nonsmoker_mean = sleep_means[0]\n",
        "smoker_mean = sleep_means[1]"
      ],
      "execution_count": null,
      "outputs": []
    },
    {
      "cell_type": "code",
      "metadata": {
        "id": "Vj9bm5izAWFa"
      },
      "source": [
        "sleep_means = sleep_means.rename_axis().reset_index()"
      ],
      "execution_count": null,
      "outputs": []
    },
    {
      "cell_type": "code",
      "metadata": {
        "id": "wPKIDyxHAYmE"
      },
      "source": [
        "sleep_means.loc[sleep_means['Smoker'] == 0, 'Smoking Status'] = 'Non-Smokers'\n",
        "sleep_means.loc[sleep_means['Smoker'] == 1, 'Smoking Status'] = 'Smokers'"
      ],
      "execution_count": null,
      "outputs": []
    },
    {
      "cell_type": "code",
      "metadata": {
        "id": "MGGV7CFTAajt"
      },
      "source": [
        "# Using plotly to plot the graph\n",
        "\n",
        "gender_based_sleep_mean_plot = go.Figure()\n",
        "gender_based_sleep_mean_plot = px.bar(sleep_means, \n",
        "                                 x=\"Smoking Status\", \n",
        "                                 y=\"Total Sleep Hours\", \n",
        "                                 color=\"Smoking Status\", \n",
        "                                 text=\"Total Sleep Hours\", \n",
        "                                 range_y=[0,10])\n",
        "\n",
        "gender_based_sleep_mean_plot.update_layout(width=1000,\n",
        "                                title_text=\"Figure-6: -- Sleep (mean) Comparison Between Smokers and Non-Smokers'\",\n",
        "                                title_x=0.5, \n",
        "                                bargap=0.8)\n",
        "\n",
        "gender_based_sleep_mean_plot.update_traces(texttemplate='%{text:.2s} Hours', textposition='outside')\n",
        "gender_based_sleep_mean_plot.show()"
      ],
      "execution_count": null,
      "outputs": []
    },
    {
      "cell_type": "markdown",
      "metadata": {
        "id": "9HB8hmuXAfEv"
      },
      "source": [
        "In contrast to the variable Gender, we observe that Smokers Tend to Sleep more as compared to Non-Smokers and there is significant difference between the two (**Figure-8**). This again is a surprising result, as it was speculated that Smoking increases attentive power and stimulates the Brain Activity. Thus, it should have reduced the sleeping hours, but it has the opposite effect.  \n",
        "\n",
        "Lets see if our statistical test supports this claim."
      ]
    },
    {
      "cell_type": "code",
      "metadata": {
        "id": "P1lu-xcnAhbL"
      },
      "source": [
        "# Calculating Standard Deviation for Smokers and Non-Smokers\n",
        "\n",
        "sleep_deviation = study_data.groupby('Smoker')['Total Sleep Hours'].std()\n",
        "nonsmoker_sleep_deviation = sleep_deviation[0]\n",
        "smoker_sleep_deviation = sleep_deviation[1]"
      ],
      "execution_count": null,
      "outputs": []
    },
    {
      "cell_type": "code",
      "metadata": {
        "id": "_uQnvwI0Aihp"
      },
      "source": [
        "# Calculating the Variance for Smokers and Non-Smokers\n",
        "\n",
        "smoker_sleep_variance = smoker_sleep_deviation**2\n",
        "nonsmoker_sleep_variance = nonsmoker_sleep_deviation**2"
      ],
      "execution_count": null,
      "outputs": []
    },
    {
      "cell_type": "code",
      "metadata": {
        "id": "XLUv6QhbAkvk"
      },
      "source": [
        "# Finding out the T-Score\n",
        "\n",
        "numerator = np.abs(smoker_mean - nonsmoker_mean)\n",
        "denominator = np.sqrt((smoker_sleep_variance/smoker_population_size) + (nonsmoker_sleep_variance/nonsmoker_population_size))\n",
        "t_value = numerator/denominator"
      ],
      "execution_count": null,
      "outputs": []
    },
    {
      "cell_type": "code",
      "metadata": {
        "id": "zf-ltSPFAm9j"
      },
      "source": [
        "print(\"T-Score from the Gender Based Data and Statistics is : \", t_value)"
      ],
      "execution_count": null,
      "outputs": []
    },
    {
      "cell_type": "markdown",
      "metadata": {
        "id": "1KB3FvuvApNM"
      },
      "source": [
        "Now, using the **T-Score**, we will find out the **p-value** through T-Distribution Table for Two-Tailed Test.  \n",
        "After looking through the T-Distribution Table, we get the p-value of 0.014651  \n",
        "\n",
        "As it can be seen that p-value is small compared to the significance level i.e.  \n",
        "**p-value > $\\alpha$**  \n",
        "**0.014651 > 0.05**  \n",
        "\n",
        "Thus, we obtain a **very small p-value** leading to the evidence that there is significant difference between hours of sleep for Smokers and Non-Smokers. Therefore, we have enough evidence to reject the null hypothesis $H_0$.  \n",
        "\n",
        "But again, same question arises here, *Can we generalise this result to all other Age Groups and say that there is no difference between Sleeping Hours between Smokers and Non-Smoker?*  \n",
        "\n",
        "Yes, we can. As could be seen from **Figure-8**, the difference is not a small difference between the two groups but significant. Also, if in such a small experiment, such small difference could be observed, in a larger experiment much more significant difference could be seen. One more factor to consider here is that, such an effect is seen in a young population and it might have a bigger impact for older age groups with low activity.\n",
        "\n",
        "Since we have enough statistical evidence to reject null hypothesis, we should calculate the power of test. To do so we use function to calculate power for t-test provided by Statsmodels."
      ]
    },
    {
      "cell_type": "code",
      "metadata": {
        "id": "FS4GF1NmrwId"
      },
      "source": [
        "from statsmodels.stats.power import tt_ind_solve_power\n",
        "sleep_deviation_total = study_data['Total Sleep Hours'].std()\n",
        "effect_size = (smoker_mean - nonsmoker_mean)/sleep_deviation_total"
      ],
      "execution_count": null,
      "outputs": []
    },
    {
      "cell_type": "code",
      "metadata": {
        "id": "JhaHKEcQr4NF"
      },
      "source": [
        "power = tt_ind_solve_power(effect_size=effect_size, nobs1=15, alpha=0.05, ratio=1.0, alternative='two-sided')\n",
        "print(power)"
      ],
      "execution_count": null,
      "outputs": []
    },
    {
      "cell_type": "markdown",
      "metadata": {
        "id": "zxFk5_MpsrpL"
      },
      "source": [
        "The **power** of this hypothesis testing is **0.63**, which makes **Betha = 0.37**."
      ]
    },
    {
      "cell_type": "markdown",
      "metadata": {
        "id": "TEW6Gc0eHWIB"
      },
      "source": [
        "But before we conclude, we would like to do further to study to analyze the impact of different factors on both males and females and similarly on Smokers and Non Smokers.  "
      ]
    },
    {
      "cell_type": "markdown",
      "metadata": {
        "id": "uUm68qmJHYWU"
      },
      "source": [
        "Now we will try look at the overall data, (using Extraneous/Confounding Variables) which uses the standardized scales as mentioned in **Table-2**.  \n",
        "\n",
        "We have calulated the scores using the standardized scores.  \n",
        ">*For Sleep Scores of Males and Females, the scores range from 1 - 73*  \n",
        "\n",
        ">*For Sleep Scored of Smokers and Non-Smokers, the scores range from 1 - 93*"
      ]
    },
    {
      "cell_type": "markdown",
      "metadata": {
        "id": "FwO406RiHade"
      },
      "source": [
        "#### Hypothesis Testing (A): Effect of Confounding Variables"
      ]
    },
    {
      "cell_type": "code",
      "metadata": {
        "id": "Tg1HX40cHc4m"
      },
      "source": [
        "# Calculating sample means\n",
        "\n",
        "score_means = study_data.groupby('Gender')['Overall Sleep Score'].mean()\n",
        "male_score_mean = score_means['Male']\n",
        "female_score_mean = score_means['Female']"
      ],
      "execution_count": null,
      "outputs": []
    },
    {
      "cell_type": "code",
      "metadata": {
        "id": "BK74mhqPHeoz"
      },
      "source": [
        "score_means = score_means.rename_axis().reset_index()"
      ],
      "execution_count": null,
      "outputs": []
    },
    {
      "cell_type": "code",
      "metadata": {
        "id": "v645rIxxHlTI"
      },
      "source": [
        "# Using plotly to plot the graph\n",
        "\n",
        "gender_based_sleep_score_plot = go.Figure()\n",
        "gender_based_sleep_score_plot = px.box(study_data, \n",
        "                                 x=\"Gender\", \n",
        "                                 y=\"Overall Sleep Score\", \n",
        "                                 color=\"Gender\")\n",
        "\n",
        "gender_based_sleep_score_plot.update_layout(width=900,\n",
        "                                title_text=\"Figure-7: -- Sleep Score Distribution of Males and Females (Range: 1 - 73 Points)'\",\n",
        "                                title_x=0.5)\n",
        "\n",
        "gender_based_sleep_score_plot.show()"
      ],
      "execution_count": null,
      "outputs": []
    },
    {
      "cell_type": "markdown",
      "metadata": {
        "id": "1bdLLgz0HvAL"
      },
      "source": [
        "The Sleep Score shown above is calculated after taking into consideration various external factors which could not be controlled but still can affect overall sleeping hours. These scores include:  \n",
        "\n",
        "1. Physical Exercise Score\n",
        "2. Falling Sleep Score\n",
        "3. Refreshed Score\n",
        "4. Sleep Satisfaction Score\n",
        "5. Sleep Difficulty Score\n",
        "6. Drinking Score\n",
        "7. Anxiety Score\n",
        "8. Depression Score\n",
        "9. Negative Thoughts Score and so on.\n",
        "\n",
        "These scores impact the overall sleep score along with total hours of sleep. Higher the Score better the Sleep.  \n",
        "\n",
        "As it can be seen through the **Figure-8**, that there is not much difference between the sleep score distributions for Males and Females, but among Females its impact is higher than the Males as the score is lower.  \n",
        "\n",
        ">***Note:*** *These scores does not includes scores calculated through Smoking Variables but only contain other variables which are consistent for both these distributions*\n",
        "\n",
        "We will again try to verify if this difference is significant enough or not using our statistical testing."
      ]
    },
    {
      "cell_type": "code",
      "metadata": {
        "id": "V77GudAQHxlm"
      },
      "source": [
        "# Finding Gender based Standard Deviation\n",
        "\n",
        "sleep_deviation = study_data.groupby('Gender')['Overall Sleep Score'].std()\n",
        "male_sleep_deviation = sleep_deviation['Male']\n",
        "female_sleep_deviation = sleep_deviation['Female']"
      ],
      "execution_count": null,
      "outputs": []
    },
    {
      "cell_type": "code",
      "metadata": {
        "id": "TMNiIh2nHzSO"
      },
      "source": [
        "# Finding out Gender based Variance\n",
        "\n",
        "male_sleep_variance = male_sleep_deviation**2\n",
        "female_sleep_variance = female_sleep_deviation**2"
      ],
      "execution_count": null,
      "outputs": []
    },
    {
      "cell_type": "code",
      "metadata": {
        "id": "WAxGck-DH28Z"
      },
      "source": [
        "# Finding out the T-Score\n",
        "\n",
        "numerator = np.abs(male_sleep_mean - female_sleep_mean)\n",
        "denominator = np.sqrt((male_sleep_variance/male_population_size) + (female_sleep_variance/female_population_size))\n",
        "t_value = numerator/denominator"
      ],
      "execution_count": null,
      "outputs": []
    },
    {
      "cell_type": "code",
      "metadata": {
        "id": "ksTXBUB8H3w6"
      },
      "source": [
        "print(\"T-Score from the Gender Based Data and Statistics is : \", t_value)"
      ],
      "execution_count": null,
      "outputs": []
    },
    {
      "cell_type": "markdown",
      "metadata": {
        "id": "5aoPzTvWH74K"
      },
      "source": [
        "Now, using the **T-Score**, we will find out the **p-value** through T-Distribution Table for Two-Tailed Test.  \n",
        "After looking through the T-Distribution Table, we get the p-value of 0.820251  \n",
        "\n",
        "As it can be seen that p-value is greater than the significance level i.e.  \n",
        "**p-value > $\\alpha$**  \n",
        "**0.954161 > 0.05**  \n",
        "\n",
        "Thus such large p-value leads to the evidence that there is no significant difference between the sleep for Males and Females. This even suggests that despite of higher impact of these variable on the sleep opf Females, the difference is not significant enough to reject the hypotheses. Therefore, we fail to reject the null hypothesis $H_0$."
      ]
    },
    {
      "cell_type": "markdown",
      "metadata": {
        "id": "lckq50W-H8x5"
      },
      "source": [
        "Now, lets see and verify the effect of smoking."
      ]
    },
    {
      "cell_type": "markdown",
      "metadata": {
        "id": "vwILiCy7H_fR"
      },
      "source": [
        "#### Hypothesis Testing (B): Effect of Confounding Variables"
      ]
    },
    {
      "cell_type": "code",
      "metadata": {
        "id": "iuVD0uRuICL9"
      },
      "source": [
        "# Calculating the Mean Hours of Sleep for Smokers and Non-Smokers\n",
        "\n",
        "score_means = study_data.groupby('Smoker')['Overall Score'].mean()\n",
        "nonsmoker_mean = score_means[0]\n",
        "smoker_mean = score_means[1]"
      ],
      "execution_count": null,
      "outputs": []
    },
    {
      "cell_type": "code",
      "metadata": {
        "id": "_19eAizlIEOo"
      },
      "source": [
        "score_means = score_means.rename_axis().reset_index()"
      ],
      "execution_count": null,
      "outputs": []
    },
    {
      "cell_type": "code",
      "metadata": {
        "id": "yaCpY98xIGcK"
      },
      "source": [
        "score_means.loc[score_means['Smoker'] == 0, 'Smoking Status'] = 'Non-Smokers'\n",
        "score_means.loc[score_means['Smoker'] == 1, 'Smoking Status'] = 'Smokers'"
      ],
      "execution_count": null,
      "outputs": []
    },
    {
      "cell_type": "code",
      "metadata": {
        "id": "sFrDq5_yIIII"
      },
      "source": [
        "study_data.loc[study_data['Smoker'] == 0, 'Smoking Status'] = 'Non-Smokers'\n",
        "study_data.loc[study_data['Smoker'] == 1, 'Smoking Status'] = 'Smokers'"
      ],
      "execution_count": null,
      "outputs": []
    },
    {
      "cell_type": "code",
      "metadata": {
        "id": "1FrAU7LxIKl8"
      },
      "source": [
        "# Using plotly to plot the graph\n",
        "\n",
        "smoking_based_sleep_score_plot = go.Figure()\n",
        "smoking_based_sleep_score_plot = px.box(study_data, \n",
        "                                 x=\"Smoking Status\", \n",
        "                                 y=\"Overall Score\", \n",
        "                                 color=\"Smoking Status\")\n",
        "\n",
        "smoking_based_sleep_score_plot.update_layout(width=900,\n",
        "                                title_text=\"Figure-8: -- Sleep Score Distribution of Smokers and Non-Smokers (Range: 1 - 93 Points)\",\n",
        "                                title_x=0.5)\n",
        "\n",
        "smoking_based_sleep_score_plot.show()"
      ],
      "execution_count": null,
      "outputs": []
    },
    {
      "cell_type": "markdown",
      "metadata": {
        "id": "9YXIJbXOIQM8"
      },
      "source": [
        "As described earlier, the overall score consists of Sleep Score along with Smoking Score Components:  \n",
        "\n",
        "1. Smoking Years Score\n",
        "2. Smoke Anxiety Reduction Score\n",
        "3. Smoke Sleep Betterment Score\n",
        "\n",
        "There was a surprising submission done through the Survey. People smoking mentioned about better sleep and lower anxiety after smoking. Also, the Standardised Scale gives higher values to these variables contributing to better sleep quality. Thus, same has been done in this experiment.  \n",
        "\n",
        "But, we have a surprising phenomenon here. It can be clearly seen through **Figure-10 and Figure-11**, that smoking as a Factor has a lot of impact on the overall sleep which was seen in the previous analysis as well.\n",
        "\n",
        "Now, we will verify through the statistical test."
      ]
    },
    {
      "cell_type": "code",
      "metadata": {
        "id": "fyAgQ696IThQ"
      },
      "source": [
        "# Calculating Standard Deviation for Smokers and Non-Smokers\n",
        "\n",
        "sleep_deviation = study_data.groupby('Smoker')['Overall Score'].std()\n",
        "nonsmoker_sleep_deviation = sleep_deviation[0]\n",
        "smoker_sleep_deviation = sleep_deviation[1]"
      ],
      "execution_count": null,
      "outputs": []
    },
    {
      "cell_type": "code",
      "metadata": {
        "id": "ltRyima3IVaQ"
      },
      "source": [
        "# Calculating the Variance for Smokers and Non-Smokers\n",
        "\n",
        "smoker_sleep_variance = smoker_sleep_deviation**2\n",
        "nonsmoker_sleep_variance = nonsmoker_sleep_deviation**2"
      ],
      "execution_count": null,
      "outputs": []
    },
    {
      "cell_type": "code",
      "metadata": {
        "id": "HWwlfXuwIW3w"
      },
      "source": [
        "# Finding out the T-Score\n",
        "\n",
        "numerator = np.abs(smoker_mean - nonsmoker_mean)\n",
        "denominator = np.sqrt((smoker_sleep_variance/smoker_population_size) + (nonsmoker_sleep_variance/nonsmoker_population_size))\n",
        "t_value = numerator/denominator"
      ],
      "execution_count": null,
      "outputs": []
    },
    {
      "cell_type": "code",
      "metadata": {
        "id": "n2OAFKfFIYvM"
      },
      "source": [
        "print(\"T-Score from the Gender Based Data and Statistics is : \", t_value)"
      ],
      "execution_count": null,
      "outputs": []
    },
    {
      "cell_type": "markdown",
      "metadata": {
        "id": "5zey_gMBIQZI"
      },
      "source": [
        "Now, using the **T-Score**, we will find out the **p-value** through T-Distribution Table for Two-Tailed Test.  \n",
        "After looking through the T-Distribution Table, we get the p-value of 0.003462  \n",
        "\n",
        "As it can be seen that p-value is small compared to the significance level i.e.  \n",
        "**p-value > $\\alpha$**  \n",
        "**0.003462 > 0.05**  \n",
        "\n",
        "Thus such small p-value leads to the evidence that there is significant difference between hours of sleep for Smokers and Non-Smokers. Therefore, we have enough evidence to reject the null hypothesis $H_0$."
      ]
    },
    {
      "cell_type": "markdown",
      "metadata": {
        "id": "r8RacE8Vl6T2"
      },
      "source": [
        "* * *\n",
        "* * *"
      ]
    },
    {
      "cell_type": "markdown",
      "metadata": {
        "id": "4KnzckC8l6T2"
      },
      "source": [
        "## Task 4 **[25 points] Discuss**\n",
        "\n",
        "A discussion in a paper is the paragraph where you should be critical with your study.\n",
        "1. Report limitations of your study (Design, Conduct, Results).\n",
        "2. Discuss the variability.\n",
        "3. What would you improve in your study?\n",
        "4. How would you proceed? Now that you have the results of your study - can you think of more variables and ways to gain insight? And why?\n",
        "5. Identify and state here the most interesting learnings for yourself and prepare to present them in our zoom meeting. These question may help you: Did everything go as you have planned - when designing, conducting, evaluating, discussing your study? Did you like asking people? "
      ]
    },
    {
      "cell_type": "markdown",
      "metadata": {
        "id": "WAlEoku_l6T3"
      },
      "source": [
        "* * *\n",
        "* * *"
      ]
    },
    {
      "cell_type": "markdown",
      "metadata": {
        "id": "EoM6njajl6T3"
      },
      "source": [
        "#### Task 4: Discuss\n",
        "A discussion in a paper is the paragraph where you should be critical with your study."
      ]
    },
    {
      "cell_type": "markdown",
      "metadata": {
        "id": "O6-mVE92l6T3"
      },
      "source": [
        "### Question 4.1\n",
        "Report limitations of your study (Design, Conduct, Results)."
      ]
    },
    {
      "cell_type": "markdown",
      "metadata": {
        "id": "B4cQr9yql6T3"
      },
      "source": [
        "#### Solution 4.1"
      ]
    },
    {
      "cell_type": "markdown",
      "metadata": {
        "id": "Ayy9Bwq2dtrt"
      },
      "source": [
        "##### **Design**\n",
        "\n",
        "1. For the current study we have conducted people in the age group between 20 - 35. Therefore, this study have **selection bias** because the respondents were not randomply selected for the survey. The result of this study cannot be aplied for all age groups.\n",
        "\n",
        "2. Another limitation of the study is **self-reported data**, as we took what people said. Some people may have not answered honestly or have forgotten the facts.\n",
        "\n",
        "\n",
        "##### **Conduct**\n",
        "\n",
        "1. The study has **lack of available data**. There were only 15 smokers and 15 female respondents. Since we sent the questionnaire and waited till there would be enough participants, so we could not force people to take a survey.\n",
        "\n",
        "2. There is also a **cultural bias**. The respondents were from different parts of the world, hence there might be different views and opinions to the same questions.\n",
        "\n",
        "3. The respondents may also not be **fluent in language**, as for most of the respondents English is not a native language, so there is possibility that they misunderstood some questions.\n",
        "\n",
        "##### **Results**\n",
        "\n",
        "1. For the A hypothesis testing (Impact of gender on sleep hours) we did not take into account **study** and **work status** of a person.\n",
        "\n",
        "2. For the B hypothesis testing (Impact of smoking on sleep hours) we did not take into account the **duration of smoking** and **amount of cigarettes per week** of the respondent. We counted person as a smoker regardless of duration of smoking."
      ]
    },
    {
      "cell_type": "markdown",
      "metadata": {
        "id": "5RaAgjz7l6T3"
      },
      "source": [
        "* * *"
      ]
    },
    {
      "cell_type": "markdown",
      "metadata": {
        "id": "I6rMjS0Vl6T4"
      },
      "source": [
        "### Question 4.2\n",
        "Discuss the variability."
      ]
    },
    {
      "cell_type": "markdown",
      "metadata": {
        "id": "_XH5Ujkbl6T4"
      },
      "source": [
        "#### Solution 4.2"
      ]
    },
    {
      "cell_type": "markdown",
      "metadata": {
        "id": "Dr2UyOqrnqP4"
      },
      "source": [
        "1. By selecting people in one age group (20-35) we decreased within variability and increased between variability. The age in our study varies little.\n",
        "\n",
        "2. Using Overall Sleep Score Analysis, we can see that the effect of Confounding Variables does not have any impact or its impact is uniform across both the distributions (Male/Female and Smokers/Non-Smokers).\n",
        "\n",
        "3. In our study smoking is a manipulated variable. By changing this variable we check the effect on sleep hours, and this causes between variability.\n",
        "\n",
        "4. For our study we also did randomization. By removing 10 random people from 40 participants.\n",
        "\n",
        "5. The study also has been double-blinded, because the participants did not know what is this study about and the person (team member), who did the data analysis, did not take part in surveying people."
      ]
    },
    {
      "cell_type": "markdown",
      "metadata": {
        "id": "JB0C56PRl6T5"
      },
      "source": [
        "* * *"
      ]
    },
    {
      "cell_type": "markdown",
      "metadata": {
        "id": "CEGVJeaXl6T6"
      },
      "source": [
        "### Question 4.3\n",
        "What would you improve in your study?"
      ]
    },
    {
      "cell_type": "markdown",
      "metadata": {
        "id": "WFy2zhDSl6T6"
      },
      "source": [
        "#### Solution 4.3"
      ]
    },
    {
      "cell_type": "markdown",
      "metadata": {
        "id": "8HDTUC1jl6T7"
      },
      "source": [
        "* * *"
      ]
    },
    {
      "cell_type": "markdown",
      "metadata": {
        "id": "j5ayeqm8vfd8"
      },
      "source": [
        "1. Since the data in our study is self-reported, one of the possible ways to improve study is to **monitor people's sleep hours** during the week.\n",
        "\n",
        "2. **Reduce the number of questions** in the questionnaire, as people tend to get bored very quickly with uninteresting questions. Especially if there is no reward for participants.\n",
        "\n",
        "3. **Change questions**, so people cannot answer dishonestly. People are alarmed by the abundance of questions about their private lives."
      ]
    },
    {
      "cell_type": "markdown",
      "metadata": {
        "id": "ZcU3ToGUl6T7"
      },
      "source": [
        "### Question 4.4\n",
        "How would you proceed? Now that you have the results of your study - can you think of more variables and ways to gain insight? And why?"
      ]
    },
    {
      "cell_type": "markdown",
      "metadata": {
        "id": "TInxKgQZl6T8"
      },
      "source": [
        "#### Solution 4.4"
      ]
    },
    {
      "cell_type": "markdown",
      "metadata": {
        "id": "fPvNBtBfiFfY"
      },
      "source": [
        "In the current study we relied on people's honesty, but  people tend to forget and sugarcoat the facts. Therefore, for further research, it is a good idea to monitor participants's sleep behaviour for a few days and get more accurate data. For instance, some of the participants' data didn't fit, one had bedtime at 3 AM and wake up time at 10 AM, but claimed to have 8 hours of sleep.\n",
        "\n",
        "Other variables that could be further included are: illness (diabetes, chronical diseases, etc.) , place of residence (downtown, countryside, etc.), family size.\n",
        "\n",
        "We were also surprised by the fact that male and female participants did not have much difference in sleep hours. In this case we assume conducting more people would help to see more clear view.\n",
        "\n"
      ]
    },
    {
      "cell_type": "markdown",
      "metadata": {
        "id": "Ml1B-a6El6T8"
      },
      "source": [
        "* * *"
      ]
    },
    {
      "cell_type": "markdown",
      "metadata": {
        "id": "pGskDXzjl6T8"
      },
      "source": [
        "### Question 4.5\n",
        "Identify and state here the most interesting learnings for yourself and prepare to present them in our zoom meeting. These question may help you: Did everything go as you have planned - when designing, conducting, evaluating, discussing your study? Did you like asking people? "
      ]
    },
    {
      "cell_type": "markdown",
      "metadata": {
        "id": "LbmGgFE4l6T8"
      },
      "source": [
        "#### Solution 4.5"
      ]
    },
    {
      "cell_type": "markdown",
      "metadata": {
        "id": "xp7xoIsVl6UK"
      },
      "source": [
        "* * *"
      ]
    },
    {
      "cell_type": "markdown",
      "metadata": {
        "id": "FuhKCLfQlPIT"
      },
      "source": [
        "Firstly, we had a hard time deciding on the second variable for study. There have been several discussions about potential variables. Once we chose our variable (Smoking) it took us quite sometime to think what is the right way to collect this type of data.\n",
        "\n",
        "Secondly, our first two versions of questionnaire did not work that is why we had 2 pilot studies. We had to redo the questionnaire and come up with questions that help us to gain insight. The designing and conducting parts did not go well as planned. Some of the individuals were deliberately giving incorrect data, like age of 124 or 64 hours of sleep.\n",
        "\n",
        "Some of us liked asking people. Overall, most of the people willingly completed the survey and were interested in the aim of the study. The interesting part was that the more positive words were involved when sharing the survey (like \"Happy New Year!\", \"Hello, friends!\", \"I appreciate your answer\"), the quicker and more enthusiastically people did the survey."
      ]
    }
  ]
}