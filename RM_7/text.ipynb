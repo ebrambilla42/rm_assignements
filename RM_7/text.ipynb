{
 "cells": [
  {
   "cell_type": "markdown",
   "metadata": {},
   "source": [
    "# Research Methods <br>UHH - Knowledge Technology Research Group - WiSe 2020/2021\n",
    "## Assignment #7 - Paper Review"
   ]
  },
  {
   "cell_type": "markdown",
   "metadata": {},
   "source": [
    "***\n",
    "### Group: \n",
    "### Names of members: \n",
    "\n",
    "***"
   ]
  },
  {
   "cell_type": "markdown",
   "metadata": {},
   "source": [
    "### Instructions:\n",
    "\n",
    "For this assignment, you won't need to upload this jupyter notebook, but prepare two paper reviews as PowerPoint (or equivalent) presentations. In order to successfully complete the assignment, you will need the lecture material provided in the [RM moodle course](https://lernen.min.uni-hamburg.de/course/view.php?id=582), especially L12.\n",
    "\n",
    "### Grading Criteria:\n",
    "\n",
    "In order to successfully pass this assignment, you will need **at least a total of 70 points out of 100 points**.\n",
    "\n",
    "### Submission:\n",
    "\n",
    "Please upload the following two files **until Tuesday, 16 February 2021, 19:59 CET (Germany)** together in a .zip archive in moodle:\n",
    "1. presentation slides (as exported PDF) of the \"Therapeutical Effects of Prayer\" paper review (file extension: .pdf)\n",
    "2. presentation slides (as exported PDF) of the \"Toxicity of Herbicide and Genetically Modified Maize\" paper review (file extension: .pdf)\n",
    "\n",
    "### Presentation:\n",
    "\n",
    "Make sure that each (!) group member takes part in solving this assignment and is prepared to answer questions and/or present your reviews during our assignment revision meeting scheduled for **Wednesday, 17 February 2021, 12:00 - 13:30 CET (Germany)**. For your presentation in the meeting, you are free to use your original slides in .ppt/.pptx format!\n",
    "\n",
    "### File Naming:\n",
    "\n",
    "For each review presentation, add the group letter to the file name prior to submission. For example, if your group letter is \"A\" (see group selection in moodle), you would use the following filename: \n",
    "1. RM_A07_Task_1_Group_A.pdf\n",
    "2. RM_A07_Task_2_Group_A.pdf\n",
    "\n",
    "***\n",
    "***"
   ]
  },
  {
   "cell_type": "markdown",
   "metadata": {},
   "source": [
    "#### **General Remarks**\n",
    "\n",
    "In this assignment, your mission will be to conduct two independent reviews, one for each of the papers whose references are listed below. Both papers are based on a study conducted by the authors and covering two different topics. The goal is, for each of the two studies, to critically analyze the research methodology that was used when planning, conducting, and evaluating the experiments, and finally to formulate an argument about to what extent the study is in line with common standards of research and scientific quality. Each of your review presentations should address the following four questions with reasonable explanations:\n",
    "1. What were the hypotheses?\n",
    "2. Was the experiment design appropriate for the hypotheses?\n",
    "3. Were the analysis and conclusion appropriate?\n",
    "4. General review: Does the paper give a good account of the research conducted? Why (not)?\n",
    "\n",
    "\n",
    "As a guideline, the actual review part in each presentation should consist of **roughly 8-10 slides**, although we will particularly pay attention to quality of your review.\n",
    "\n",
    "_Note: Make sure you use the terminology that was introduced in the lecture and be aware of the fact that there are plenty of examples available on the Internet to help you find your way. And last but not least: Stay objective, no matter which subject the study deals with!_"
   ]
  },
  {
   "cell_type": "markdown",
   "metadata": {},
   "source": [
    "#### Task 1 **[50 points] Therapeutical Effects of Prayer (Benson et al., 2006)**\n",
    "\n",
    "Benson, H., Dusek, J. A., Sherwood, J. B., Lam, P., Bethea, C. F., Carpenter, W., ... & Drumel, D. (2006). Study of the Therapeutic Effects of Intercessory Prayer (STEP) in cardiac bypass patients: a multicenter randomized trial of uncertainty and certainty of receiving intercessory prayer. American heart journal, 151(4), 934-942."
   ]
  },
  {
   "cell_type": "markdown",
   "metadata": {},
   "source": [
    "#### Task 2 **[50 points] Toxicity of Herbicide and Genetically Modified Maize (Séralini et al., 2012)**\n",
    "\n",
    "Séralini, G. E., Clair, E., Mesnage, R., Gress, S., Defarge, N., Malatesta, M., ... & De Vendômois, J. S. (2012). Long term toxicity of a Roundup herbicide and a Roundup-tolerant genetically modified maize. Food and chemical toxicology, 50(11), 4221-4231."
   ]
  }
 ],
 "metadata": {
  "kernelspec": {
   "display_name": "Python 3",
   "language": "python",
   "name": "python3"
  },
  "language_info": {
   "codemirror_mode": {
    "name": "ipython",
    "version": 3
   },
   "file_extension": ".py",
   "mimetype": "text/x-python",
   "name": "python",
   "nbconvert_exporter": "python",
   "pygments_lexer": "ipython3",
   "version": "3.8.3"
  }
 },
 "nbformat": 4,
 "nbformat_minor": 4
}
