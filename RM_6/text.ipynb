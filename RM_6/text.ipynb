{
 "cells": [
  {
   "cell_type": "markdown",
   "metadata": {},
   "source": [
    "# Research Methods <br>UHH - Knowledge Technology Research Group - WiSe 2020/2021\n",
    "## Assignment #6 - Bayesian Inference & Hypothesis Testing"
   ]
  },
  {
   "cell_type": "markdown",
   "metadata": {},
   "source": [
    "***\n",
    "### Group: \n",
    "### Names of members: \n",
    "\n",
    "***"
   ]
  },
  {
   "cell_type": "markdown",
   "metadata": {},
   "source": [
    "### Instructions:\n",
    "\n",
    "Please answer the questions below. Copy this notebook and enter your answers underneath each task description, inserting cells as needed. You may use a combination of [python 3](https://python3.guide/), [markdown](http://jupyter-notebook.readthedocs.io/en/stable/examples/Notebook/Working%20With%20Markdown%20Cells.html), and [LaTex](https://towardsdatascience.com/write-markdown-latex-in-the-jupyter-notebook-10985edb91fd) to formulate your responses. In order to successfully complete the assignment, you will need the lecture material provided in the [RM moodle course](https://lernen.min.uni-hamburg.de/course/view.php?id=582), especially L10 & L11. **Make sure to use only a copy of this notebook for your answers instead of a new/blank notebook.** \n",
    "\n",
    "### Grading Criteria:\n",
    "\n",
    "In order to successfully pass this assignment, you will need **at least a total of 70 points out of 100 points**, and every task has to be tackled.\n",
    "\n",
    "### Submission:\n",
    "\n",
    "Please upload the following two files **until Tuesday, 2 February 2021, 19:59 CET (Germany)** together in a .zip archive in moodle:\n",
    "1. a (single) copy of this jupyter notebook containing your answers for all tasks (file extension: .ipynb)\n",
    "2. an [exported PDF document](https://jupyterlab.readthedocs.io/en/stable/user/export.html) of the jupyter notebook (file extension: .pdf)\n",
    "\n",
    "### Presentation:\n",
    "\n",
    "Make sure that each (!) group member takes part in solving this assignment and is prepared to answer questions and/or present solutions from your submitted notebook during our assignment revision meeting scheduled for **Wednesday, 10 February 2021, 12:00 - 13:30 CET (Germany)**.\n",
    "\n",
    "### File Naming:\n",
    "\n",
    "Add the group letter to the file name prior to submission. For example, if your group letter is \"A\" (see group selection in moodle), you would use the following filename: \n",
    "1. RM_A06_Group_A.ipynb \n",
    "2. RM_A06_Group_A.pdf\n",
    "\n",
    "***\n",
    "***"
   ]
  },
  {
   "cell_type": "markdown",
   "metadata": {},
   "source": [
    "#### Task 1 **[40 points] Bayes Parameter Estimation** \n",
    "\n",
    "Please answer each of the following three questions with step-by-step calculations **and thorough answers/explanations**, using python code and suitable plots. \n",
    "1. Suppose you are a biologist studying a pair of recently discovered species. In your area, 4% of individuals belong to species A and 96% of individuals belong to species B. There is currently no genetic test that is able to distinguish between them. However, they differ in frequency of a rare color pattern. In fact, species A exhibits the rare color pattern in 40% of the cases, while for species B this pattern is found in only 2% of the cases. Assume that these percentages are known with certainty from many years of field research. Now, suppose you find an individual with the rare color pattern.<br><br>Use Bayes Theorem to calculate the probability that this individual belongs to species A.<br><br>\n",
    "2. Let's assume that after graduating from (high) school, 3% of the graduates will study computer science. From numerous surveys, it is commonly known that among all computer science students, 30% play video and computer games for more than three hours per day on average. In contrast, only 6% of students from other disciplines do just that. You are walking across the campus of the University of Hamburg and ask the first student you encounter about the average amount of hours this student spends gaming every day and you receive \"four\" as an answer.<br><br>What is the probability that this student is studying computer science? What is the probability that he/she is taking a different course of study?<br><br>\n",
    "3. You are playing a heated game of Dungeons & Dragons, and the Dungeon Master's (DM) main character always attacks you with two weapons (one dice for each). You would like to know what kind of weapons these are, and you could easily find out if you knew the individual damage rolls, but the DM will only tell you the total sum of both dices. You know that each weapon must be either a d6, d8, d10 or d12 (dX = X-sided dice) and there is no duplicate weapon. You make the hypothesis that the DM is in possession of d6 and d10.<br><br>What is the probability for this hypothesis being valid, considering that the DM's last five attacks had a total damage of [11, 8, 5, 14, 5]?"
   ]
  },
  {
   "cell_type": "code",
   "execution_count": null,
   "metadata": {},
   "outputs": [],
   "source": []
  },
  {
   "cell_type": "markdown",
   "metadata": {},
   "source": [
    "#### Task 2 **[60 points] Savage-Dickey Method**\n",
    "\n",
    "Returning to the Dungeons & Dragons scenario from task 1.3, our goal is now to test and evaluate our hypothesis of the DM using a combination of the two dices d6 and d10.\n",
    "1. Name one uninformed and one informed prior you would pick for the upcoming hypothesis test and motivate your decision.<br><br>\n",
    "2. Perform a test on the given d6/d10 hypothesis following the Savage-Dickey method and using the **uninformed prior** that you previously chose. Show your calculation steps in python as well as the resulting Bayes Factor.<br><br>\n",
    "3. Repeat the test, but this time using the **informed prior**. Show again intermediate steps and the resulting Bayes Factor.<br><br>\n",
    "4. Analyze, interpret, and compare both test outcomes from subtasks 2.2 and 2.3. Explain how to interpret the Bayes Factor and give reasons for potential discrepancies between different kinds of priors.<br><br>\n",
    "5. Given your test results, would you assume a different dice combination and why? Support your reasoning with a suitable diagram and explain your choice.<br><br>"
   ]
  },
  {
   "cell_type": "code",
   "execution_count": null,
   "metadata": {},
   "outputs": [],
   "source": []
  }
 ],
 "metadata": {
  "kernelspec": {
   "display_name": "Python 3",
   "language": "python",
   "name": "python3"
  },
  "language_info": {
   "codemirror_mode": {
    "name": "ipython",
    "version": 3
   },
   "file_extension": ".py",
   "mimetype": "text/x-python",
   "name": "python",
   "nbconvert_exporter": "python",
   "pygments_lexer": "ipython3",
   "version": "3.9.0"
  }
 },
 "nbformat": 4,
 "nbformat_minor": 4
}
