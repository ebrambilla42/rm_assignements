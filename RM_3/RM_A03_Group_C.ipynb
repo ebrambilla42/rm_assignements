{
  "nbformat": 4,
  "nbformat_minor": 0,
  "metadata": {
    "kernelspec": {
      "display_name": "Python 3",
      "language": "python",
      "name": "python3"
    },
    "language_info": {
      "codemirror_mode": {
        "name": "ipython",
        "version": 3
      },
      "file_extension": ".py",
      "mimetype": "text/x-python",
      "name": "python",
      "nbconvert_exporter": "python",
      "pygments_lexer": "ipython3",
      "version": "3.8.6"
    },
    "colab": {
      "name": "RM_A03_Group-C.ipynb",
      "provenance": [],
      "collapsed_sections": [
        "dB-0gdymCACQ",
        "bPlL_5yiCUL4",
        "Se5L3YOaK4-Q",
        "aP0wL-p_LZSa",
        "HlMqp1zkLsnO",
        "qaNcsnkkL5hE"
      ],
      "toc_visible": true,
      "include_colab_link": true
    }
  },
  "cells": [
    {
      "cell_type": "markdown",
      "metadata": {
        "id": "view-in-github",
        "colab_type": "text"
      },
      "source": [
        "<a href=\"https://colab.research.google.com/github/ebrambilla42/rm_assignments/blob/master/RM_A03_Group_C.ipynb\" target=\"_parent\"><img src=\"https://colab.research.google.com/assets/colab-badge.svg\" alt=\"Open In Colab\"/></a>"
      ]
    },
    {
      "cell_type": "code",
      "metadata": {
        "colab": {
          "base_uri": "https://localhost:8080/"
        },
        "id": "yLQuNRU8SZ1c",
        "outputId": "81fc60f4-c39f-4d8a-b5c0-574fccf31df5"
      },
      "source": [
        "pip install plotly==4.13.0"
      ],
      "execution_count": null,
      "outputs": [
        {
          "output_type": "stream",
          "text": [
            "Requirement already satisfied: plotly==4.13.0 in /usr/local/lib/python3.6/dist-packages (4.13.0)\n",
            "Requirement already satisfied: retrying>=1.3.3 in /usr/local/lib/python3.6/dist-packages (from plotly==4.13.0) (1.3.3)\n",
            "Requirement already satisfied: six in /usr/local/lib/python3.6/dist-packages (from plotly==4.13.0) (1.15.0)\n"
          ],
          "name": "stdout"
        }
      ]
    },
    {
      "cell_type": "code",
      "metadata": {
        "colab": {
          "base_uri": "https://localhost:8080/",
          "height": 564
        },
        "id": "mYXW8IRz2pxM",
        "outputId": "da25df40-46ba-412e-bfad-f4df51329fcd"
      },
      "source": [
        "from google.colab import drive\n",
        "drive.mount('/content/drive')"
      ],
      "execution_count": null,
      "outputs": [
        {
          "output_type": "error",
          "ename": "KeyboardInterrupt",
          "evalue": "ignored",
          "traceback": [
            "\u001b[0;31m---------------------------------------------------------------------------\u001b[0m",
            "\u001b[0;31mKeyboardInterrupt\u001b[0m                         Traceback (most recent call last)",
            "\u001b[0;32m/usr/local/lib/python3.6/dist-packages/ipykernel/kernelbase.py\u001b[0m in \u001b[0;36m_input_request\u001b[0;34m(self, prompt, ident, parent, password)\u001b[0m\n\u001b[1;32m    728\u001b[0m             \u001b[0;32mtry\u001b[0m\u001b[0;34m:\u001b[0m\u001b[0;34m\u001b[0m\u001b[0;34m\u001b[0m\u001b[0m\n\u001b[0;32m--> 729\u001b[0;31m                 \u001b[0mident\u001b[0m\u001b[0;34m,\u001b[0m \u001b[0mreply\u001b[0m \u001b[0;34m=\u001b[0m \u001b[0mself\u001b[0m\u001b[0;34m.\u001b[0m\u001b[0msession\u001b[0m\u001b[0;34m.\u001b[0m\u001b[0mrecv\u001b[0m\u001b[0;34m(\u001b[0m\u001b[0mself\u001b[0m\u001b[0;34m.\u001b[0m\u001b[0mstdin_socket\u001b[0m\u001b[0;34m,\u001b[0m \u001b[0;36m0\u001b[0m\u001b[0;34m)\u001b[0m\u001b[0;34m\u001b[0m\u001b[0;34m\u001b[0m\u001b[0m\n\u001b[0m\u001b[1;32m    730\u001b[0m             \u001b[0;32mexcept\u001b[0m \u001b[0mException\u001b[0m\u001b[0;34m:\u001b[0m\u001b[0;34m\u001b[0m\u001b[0;34m\u001b[0m\u001b[0m\n",
            "\u001b[0;32m/usr/local/lib/python3.6/dist-packages/jupyter_client/session.py\u001b[0m in \u001b[0;36mrecv\u001b[0;34m(self, socket, mode, content, copy)\u001b[0m\n\u001b[1;32m    802\u001b[0m         \u001b[0;32mtry\u001b[0m\u001b[0;34m:\u001b[0m\u001b[0;34m\u001b[0m\u001b[0;34m\u001b[0m\u001b[0m\n\u001b[0;32m--> 803\u001b[0;31m             \u001b[0mmsg_list\u001b[0m \u001b[0;34m=\u001b[0m \u001b[0msocket\u001b[0m\u001b[0;34m.\u001b[0m\u001b[0mrecv_multipart\u001b[0m\u001b[0;34m(\u001b[0m\u001b[0mmode\u001b[0m\u001b[0;34m,\u001b[0m \u001b[0mcopy\u001b[0m\u001b[0;34m=\u001b[0m\u001b[0mcopy\u001b[0m\u001b[0;34m)\u001b[0m\u001b[0;34m\u001b[0m\u001b[0;34m\u001b[0m\u001b[0m\n\u001b[0m\u001b[1;32m    804\u001b[0m         \u001b[0;32mexcept\u001b[0m \u001b[0mzmq\u001b[0m\u001b[0;34m.\u001b[0m\u001b[0mZMQError\u001b[0m \u001b[0;32mas\u001b[0m \u001b[0me\u001b[0m\u001b[0;34m:\u001b[0m\u001b[0;34m\u001b[0m\u001b[0;34m\u001b[0m\u001b[0m\n",
            "\u001b[0;32m/usr/local/lib/python3.6/dist-packages/zmq/sugar/socket.py\u001b[0m in \u001b[0;36mrecv_multipart\u001b[0;34m(self, flags, copy, track)\u001b[0m\n\u001b[1;32m    565\u001b[0m         \"\"\"\n\u001b[0;32m--> 566\u001b[0;31m         \u001b[0mparts\u001b[0m \u001b[0;34m=\u001b[0m \u001b[0;34m[\u001b[0m\u001b[0mself\u001b[0m\u001b[0;34m.\u001b[0m\u001b[0mrecv\u001b[0m\u001b[0;34m(\u001b[0m\u001b[0mflags\u001b[0m\u001b[0;34m,\u001b[0m \u001b[0mcopy\u001b[0m\u001b[0;34m=\u001b[0m\u001b[0mcopy\u001b[0m\u001b[0;34m,\u001b[0m \u001b[0mtrack\u001b[0m\u001b[0;34m=\u001b[0m\u001b[0mtrack\u001b[0m\u001b[0;34m)\u001b[0m\u001b[0;34m]\u001b[0m\u001b[0;34m\u001b[0m\u001b[0;34m\u001b[0m\u001b[0m\n\u001b[0m\u001b[1;32m    567\u001b[0m         \u001b[0;31m# have first part already, only loop while more to receive\u001b[0m\u001b[0;34m\u001b[0m\u001b[0;34m\u001b[0m\u001b[0;34m\u001b[0m\u001b[0m\n",
            "\u001b[0;32mzmq/backend/cython/socket.pyx\u001b[0m in \u001b[0;36mzmq.backend.cython.socket.Socket.recv\u001b[0;34m()\u001b[0m\n",
            "\u001b[0;32mzmq/backend/cython/socket.pyx\u001b[0m in \u001b[0;36mzmq.backend.cython.socket.Socket.recv\u001b[0;34m()\u001b[0m\n",
            "\u001b[0;32mzmq/backend/cython/socket.pyx\u001b[0m in \u001b[0;36mzmq.backend.cython.socket._recv_copy\u001b[0;34m()\u001b[0m\n",
            "\u001b[0;32m/usr/local/lib/python3.6/dist-packages/zmq/backend/cython/checkrc.pxd\u001b[0m in \u001b[0;36mzmq.backend.cython.checkrc._check_rc\u001b[0;34m()\u001b[0m\n",
            "\u001b[0;31mKeyboardInterrupt\u001b[0m: ",
            "\nDuring handling of the above exception, another exception occurred:\n",
            "\u001b[0;31mKeyboardInterrupt\u001b[0m                         Traceback (most recent call last)",
            "\u001b[0;32m<ipython-input-3-d5df0069828e>\u001b[0m in \u001b[0;36m<module>\u001b[0;34m()\u001b[0m\n\u001b[1;32m      1\u001b[0m \u001b[0;32mfrom\u001b[0m \u001b[0mgoogle\u001b[0m\u001b[0;34m.\u001b[0m\u001b[0mcolab\u001b[0m \u001b[0;32mimport\u001b[0m \u001b[0mdrive\u001b[0m\u001b[0;34m\u001b[0m\u001b[0;34m\u001b[0m\u001b[0m\n\u001b[0;32m----> 2\u001b[0;31m \u001b[0mdrive\u001b[0m\u001b[0;34m.\u001b[0m\u001b[0mmount\u001b[0m\u001b[0;34m(\u001b[0m\u001b[0;34m'/content/drive'\u001b[0m\u001b[0;34m)\u001b[0m\u001b[0;34m\u001b[0m\u001b[0;34m\u001b[0m\u001b[0m\n\u001b[0m",
            "\u001b[0;32m/usr/local/lib/python3.6/dist-packages/google/colab/drive.py\u001b[0m in \u001b[0;36mmount\u001b[0;34m(mountpoint, force_remount, timeout_ms, use_metadata_server)\u001b[0m\n\u001b[1;32m    260\u001b[0m       \u001b[0;32mwith\u001b[0m \u001b[0m_output\u001b[0m\u001b[0;34m.\u001b[0m\u001b[0muse_tags\u001b[0m\u001b[0;34m(\u001b[0m\u001b[0;34m'dfs-auth-dance'\u001b[0m\u001b[0;34m)\u001b[0m\u001b[0;34m:\u001b[0m\u001b[0;34m\u001b[0m\u001b[0;34m\u001b[0m\u001b[0m\n\u001b[1;32m    261\u001b[0m         \u001b[0;32mwith\u001b[0m \u001b[0mopen\u001b[0m\u001b[0;34m(\u001b[0m\u001b[0mfifo\u001b[0m\u001b[0;34m,\u001b[0m \u001b[0;34m'w'\u001b[0m\u001b[0;34m)\u001b[0m \u001b[0;32mas\u001b[0m \u001b[0mfifo_file\u001b[0m\u001b[0;34m:\u001b[0m\u001b[0;34m\u001b[0m\u001b[0;34m\u001b[0m\u001b[0m\n\u001b[0;32m--> 262\u001b[0;31m           \u001b[0mfifo_file\u001b[0m\u001b[0;34m.\u001b[0m\u001b[0mwrite\u001b[0m\u001b[0;34m(\u001b[0m\u001b[0mget_code\u001b[0m\u001b[0;34m(\u001b[0m\u001b[0mauth_prompt\u001b[0m\u001b[0;34m)\u001b[0m \u001b[0;34m+\u001b[0m \u001b[0;34m'\\n'\u001b[0m\u001b[0;34m)\u001b[0m\u001b[0;34m\u001b[0m\u001b[0;34m\u001b[0m\u001b[0m\n\u001b[0m\u001b[1;32m    263\u001b[0m       \u001b[0mwrote_to_fifo\u001b[0m \u001b[0;34m=\u001b[0m \u001b[0;32mTrue\u001b[0m\u001b[0;34m\u001b[0m\u001b[0;34m\u001b[0m\u001b[0m\n\u001b[1;32m    264\u001b[0m     \u001b[0;32melif\u001b[0m \u001b[0mcase\u001b[0m \u001b[0;34m==\u001b[0m \u001b[0;36m5\u001b[0m\u001b[0;34m:\u001b[0m\u001b[0;34m\u001b[0m\u001b[0;34m\u001b[0m\u001b[0m\n",
            "\u001b[0;32m/usr/local/lib/python3.6/dist-packages/ipykernel/kernelbase.py\u001b[0m in \u001b[0;36mraw_input\u001b[0;34m(self, prompt)\u001b[0m\n\u001b[1;32m    702\u001b[0m             \u001b[0mself\u001b[0m\u001b[0;34m.\u001b[0m\u001b[0m_parent_ident\u001b[0m\u001b[0;34m,\u001b[0m\u001b[0;34m\u001b[0m\u001b[0;34m\u001b[0m\u001b[0m\n\u001b[1;32m    703\u001b[0m             \u001b[0mself\u001b[0m\u001b[0;34m.\u001b[0m\u001b[0m_parent_header\u001b[0m\u001b[0;34m,\u001b[0m\u001b[0;34m\u001b[0m\u001b[0;34m\u001b[0m\u001b[0m\n\u001b[0;32m--> 704\u001b[0;31m             \u001b[0mpassword\u001b[0m\u001b[0;34m=\u001b[0m\u001b[0;32mFalse\u001b[0m\u001b[0;34m,\u001b[0m\u001b[0;34m\u001b[0m\u001b[0;34m\u001b[0m\u001b[0m\n\u001b[0m\u001b[1;32m    705\u001b[0m         )\n\u001b[1;32m    706\u001b[0m \u001b[0;34m\u001b[0m\u001b[0m\n",
            "\u001b[0;32m/usr/local/lib/python3.6/dist-packages/ipykernel/kernelbase.py\u001b[0m in \u001b[0;36m_input_request\u001b[0;34m(self, prompt, ident, parent, password)\u001b[0m\n\u001b[1;32m    732\u001b[0m             \u001b[0;32mexcept\u001b[0m \u001b[0mKeyboardInterrupt\u001b[0m\u001b[0;34m:\u001b[0m\u001b[0;34m\u001b[0m\u001b[0;34m\u001b[0m\u001b[0m\n\u001b[1;32m    733\u001b[0m                 \u001b[0;31m# re-raise KeyboardInterrupt, to truncate traceback\u001b[0m\u001b[0;34m\u001b[0m\u001b[0;34m\u001b[0m\u001b[0;34m\u001b[0m\u001b[0m\n\u001b[0;32m--> 734\u001b[0;31m                 \u001b[0;32mraise\u001b[0m \u001b[0mKeyboardInterrupt\u001b[0m\u001b[0;34m\u001b[0m\u001b[0;34m\u001b[0m\u001b[0m\n\u001b[0m\u001b[1;32m    735\u001b[0m             \u001b[0;32melse\u001b[0m\u001b[0;34m:\u001b[0m\u001b[0;34m\u001b[0m\u001b[0;34m\u001b[0m\u001b[0m\n\u001b[1;32m    736\u001b[0m                 \u001b[0;32mbreak\u001b[0m\u001b[0;34m\u001b[0m\u001b[0;34m\u001b[0m\u001b[0m\n",
            "\u001b[0;31mKeyboardInterrupt\u001b[0m: "
          ]
        }
      ]
    },
    {
      "cell_type": "markdown",
      "metadata": {
        "id": "MDu5YgdaK4-Q"
      },
      "source": [
        "# Research Methods <br>UHH - Knowledge Technology Research Group - WiSe 2020/2021\n",
        "## Assignment #3 - Multivariate EDA & Testing Procedures"
      ]
    },
    {
      "cell_type": "markdown",
      "metadata": {
        "id": "eWEP5mIsK4-Q"
      },
      "source": [
        "***\n",
        "### Group: C\n",
        "### Names of members: \n",
        "\n",
        "1. Aida Usmanova\n",
        "2. Emilio Brambilla\n",
        "3. Navneet Singh Arora\n",
        "\n",
        "***"
      ]
    },
    {
      "cell_type": "markdown",
      "metadata": {
        "id": "_wjajPM3K4-Q"
      },
      "source": [
        "### Instructions:\n",
        "\n",
        "Please answer the questions below. Copy this notebook and enter your answers underneath each task description, inserting cells as needed. You may use a combination of [python 3](https://python3.guide/), [markdown](http://jupyter-notebook.readthedocs.io/en/stable/examples/Notebook/Working%20With%20Markdown%20Cells.html), and [LaTex](https://towardsdatascience.com/write-markdown-latex-in-the-jupyter-notebook-10985edb91fd) to formulate your responses. In order to successfully complete the assignment, you will need the lecture material provided in the [RM moodle course](https://lernen.min.uni-hamburg.de/course/view.php?id=582), especially L04 & L05. **Make sure to use only a copy of this notebook for your answers instead of a new/blank notebook.** \n",
        "\n",
        "### Grading Criteria:\n",
        "\n",
        "In order to successfully pass this assignment, you will need **at least a total of 70 points out of 100 points**, and every task has to be tackled.\n",
        "\n",
        "### Submission:\n",
        "\n",
        "Please upload the following two files **until Tuesday, 8 December 2020, 19:59 CET (Germany)** together in a .zip archive in moodle:\n",
        "1. a (single) copy of this jupyter notebook containing your answers for all tasks (file extension: .ipynb)\n",
        "2. an [exported PDF document](https://jupyterlab.readthedocs.io/en/stable/user/export.html) of the jupyter notebook (file extension: .pdf)\n",
        "\n",
        "### Presentation:\n",
        "\n",
        "Make sure that each (!) group member takes part in solving this assignment and is prepared to answer questions and/or present solutions from your submitted notebook during our assignment revision meeting scheduled for **Wednesday, 16 December 2020, 12:00 - 13:30 CET (Germany)**.\n",
        "\n",
        "### File Naming:\n",
        "\n",
        "Add the group letter to the file name prior to submission. For example, if your group letter is \"A\" (see group selection in moodle), you would use the following filename: \n",
        "1. RM_A03_Group_A.ipynb \n",
        "2. RM_A03_Group_A.pdf\n",
        "\n",
        "***\n",
        "***"
      ]
    },
    {
      "cell_type": "markdown",
      "metadata": {
        "id": "kQKbKWMRK4-Q"
      },
      "source": [
        "**Remember you are a senior scientist, view your results critically and write about it. (Imagine your are a member of the Covid-Research-Committee - fellow scientists, journalists, politicians are interested in your results and your critical scientific evalutation.)**\n",
        "\n",
        "#### Task 1 **[30 points] Correlation Analysis** \n",
        "\n",
        "For this task, your goal is to perform a correlation analysis on the two statistical measurements \"[Daily COVID-19 tests per thousand people](https://ourworldindata.org/grapher/full-list-daily-covid-19-tests-per-thousand?time=2020-02-18..latest)\" and \"[Daily new confirmed COVID-19 deaths per million people](https://ourworldindata.org/coronavirus-data-explorer?tab=map&zoomToSelection=true&country=GBR~USA~ESP~ITA~BRA~IND~KOR&region=World&deathsMetric=true&interval=daily&hideControls=true&perCapita=true&smoothing=0&pickerMetric=location&pickerSort=asc)\", with each country representing one data sample. Use the latest date in each of the two datasets, that you can download using the links provided above (when accessing each URL, go to menu item _download_ right below the visualization plot). \n",
        "1. Download, import and merge both datasets. Create a scatter plot of 'Daily tests per 1000 people' vs. 'Daily deaths per 1M people'. Since the dataset is being updated on a daily basis, make sure to include the reference date in the plot title/description. <br>_Hint: If you need some inspiration, the website provides scatter plots of other COVID-19 measurements as well._         \n",
        "2. Fit a linear regression model to the data (e.g., using the [scikit learn library](https://scikit-learn.org/stable/index.html)) and add the regression line to the scatterplot from the first part of the task.\n",
        "3. Calculate the Pearson's correlation coefficient of the two measurements and explain your result briefly.\n",
        "4. Explain in your own words the following factors that have to be considered when interpreting a correlation coefficient: (A) non-linear relationship, (B) outliers, and (C) correlation vs. causality. "
      ]
    },
    {
      "cell_type": "markdown",
      "metadata": {
        "id": "068A9tUmCd-D"
      },
      "source": [
        "### 1.1 Merge both datasets and create a scatter plot"
      ]
    },
    {
      "cell_type": "markdown",
      "metadata": {
        "id": "fo-RzfUuCgHs"
      },
      "source": [
        "We start with importing needed libraries and reading two datasets (\"Daily COVID-19 tests per thousand people\" and \"Daily new confirmed COVID-19 deaths per million people\"). Keep in mind that both datasets are for Novermebr 27."
      ]
    },
    {
      "cell_type": "code",
      "metadata": {
        "id": "J7zBAK7WK4-Q"
      },
      "source": [
        "import pandas as pd\n",
        "import matplotlib\n",
        "import matplotlib.pyplot as plt\n",
        "import matplotlib.ticker as ticker\n",
        "from matplotlib.dates import AutoDateFormatter, AutoDateLocator\n",
        "import seaborn as sns\n",
        "import numpy as np\n",
        "from scipy.stats import chi2_contingency\n",
        "import scipy\n",
        "%matplotlib inline\n",
        "import plotly.graph_objects as go\n",
        "import plotly.express as px\n",
        "\n"
      ],
      "execution_count": null,
      "outputs": []
    },
    {
      "cell_type": "code",
      "metadata": {
        "id": "qMPGVomZjYzJ"
      },
      "source": [
        "# dataset for Novemeber 27\n",
        "daily_tests = pd.read_csv('/content/drive/datasets/full-list-daily-covid-19-tests-per-thousand.csv')\n",
        "daily_new_confirmed = pd.read_csv('owid-covid-data.csv')"
      ],
      "execution_count": null,
      "outputs": []
    },
    {
      "cell_type": "markdown",
      "metadata": {
        "id": "W1T9y6YqBcIs"
      },
      "source": [
        "Firstly we are getting to know with the datasets"
      ]
    },
    {
      "cell_type": "code",
      "metadata": {
        "id": "hJkV-kLABQ5g"
      },
      "source": [
        "# Exploring dataset 1\n",
        "daily_tests.head(5)"
      ],
      "execution_count": null,
      "outputs": []
    },
    {
      "cell_type": "code",
      "metadata": {
        "id": "XaIkstC8BRq_"
      },
      "source": [
        "# Exploring dataset 2\n",
        "daily_new_confirmed.head(5)"
      ],
      "execution_count": null,
      "outputs": []
    },
    {
      "cell_type": "code",
      "metadata": {
        "id": "zTIHIGBbBTS8"
      },
      "source": [
        "daily_tests.describe()"
      ],
      "execution_count": null,
      "outputs": []
    },
    {
      "cell_type": "code",
      "metadata": {
        "id": "X5wWjL-NBUzT"
      },
      "source": [
        "daily_new_confirmed.describe()"
      ],
      "execution_count": null,
      "outputs": []
    },
    {
      "cell_type": "markdown",
      "metadata": {
        "id": "ML5e0lztBY3d"
      },
      "source": [
        "For the first task we merge two datasests with pandas' merge() function. Two datasets have similar two columns \"Location\" and \"Date\". We combine datasets so that these two columns will match."
      ]
    },
    {
      "cell_type": "code",
      "metadata": {
        "id": "zDu7MVgTAyrs"
      },
      "source": [
        "# Merging two datasets\n",
        "df_merged = pd.merge(daily_tests, daily_new_confirmed,  how='left', left_on=['Entity','Date'], right_on = ['location','date'])\n",
        "df_merged.drop(['Entity', 'Date', 'iso_code'],\n",
        "  axis='columns', inplace=True)"
      ],
      "execution_count": null,
      "outputs": []
    },
    {
      "cell_type": "markdown",
      "metadata": {
        "id": "92Y_zCcFBta7"
      },
      "source": [
        "To prepare data for scatter plot, we group it by \"location\" and \"continent\" columns. But in order not to make these columns as indexes, we specify attribute as_index=False."
      ]
    },
    {
      "cell_type": "code",
      "metadata": {
        "id": "KJw7ADcYAzBR"
      },
      "source": [
        "# Group by location and continent\n",
        "grouped = df_merged.groupby(['location', 'continent'], as_index=False)[df_merged.columns[:-1]].sum()\n",
        "grouped.head(5)"
      ],
      "execution_count": null,
      "outputs": []
    },
    {
      "cell_type": "markdown",
      "metadata": {
        "id": "Q2jPE5xsRJVW"
      },
      "source": [
        ""
      ]
    },
    {
      "cell_type": "markdown",
      "metadata": {
        "id": "qHfGQvKgBwvv"
      },
      "source": [
        "To make scatter plot the Plotly's scatter() function is used. total_cases_per_million is an X-axis and new_tests_per_thousand_x is Y-axis."
      ]
    },
    {
      "cell_type": "code",
      "metadata": {
        "id": "znt7hzYRAzLa"
      },
      "source": [
        "# Scatter plot\n",
        "scatter_fig = go.Figure()\n",
        "scatter_fig = px.scatter(grouped, x=\"total_cases_per_million\", y=\"new_tests_per_thousand_x\", text=\"location\", color=\"continent\")\n",
        "# scatter_fig = px.scatter(grouped, x=\"total_cases_per_million\", y=\"new_tests_per_thousand_x\",  color=\"continent\")\n",
        "scatter_fig.update_layout(width=1000, title_text=\"Figure-1. Scatter plot of 'Daily tests per 1000 people' vs. 'Daily deaths per 1M people'\", title_x=0.5)\n",
        "scatter_fig.update_traces(textposition='top center')\n",
        "\n",
        "scatter_fig.show()"
      ],
      "execution_count": null,
      "outputs": []
    },
    {
      "cell_type": "markdown",
      "metadata": {
        "id": "BNcjmedFBzKn"
      },
      "source": [
        "In the Figure-1 points represent countries that are divided on subgroups by color according to the continent. The graph shows that there are only few countries that have amount of tests more that 500. As well as there are not many countries which have death cases greater than 2 million."
      ]
    },
    {
      "cell_type": "markdown",
      "metadata": {
        "id": "l-gJ75FyXd1K"
      },
      "source": [
        "To better understand the distribution we decided to look closer to the bottom left corner, which is the most concentrated region."
      ]
    },
    {
      "cell_type": "code",
      "metadata": {
        "id": "-WRKOk-jXmHW"
      },
      "source": [
        "grouped_bl = df_merged.groupby(['location', 'continent'], as_index=False)[df_merged.columns[:-1]].sum()\n",
        "\n",
        "zoom_df = grouped_bl.loc[(grouped_bl['new_tests_per_thousand_x'] < 500) & (grouped_bl['total_cases_per_million'] < 70000)]\n",
        "\n",
        "scatter_bl_fig = go.Figure()\n",
        "scatter_bl_fig = px.scatter(zoom_df, x=\"total_cases_per_million\", y=\"new_tests_per_thousand_x\", text=\"location\", color=\"continent\")\n",
        "# scatter_fig = px.scatter(grouped, x=\"total_cases_per_million\", y=\"new_tests_per_thousand_x\",  color=\"continent\")\n",
        "scatter_bl_fig.update_layout(title_text=\"Scatter plot of 'Daily tests per 1000 people' vs. 'Daily deaths per 1M people', zoom 0 - 70k deaths per 1M\", title_x=0.5)\n",
        "scatter_bl_fig.update_traces(textposition='top center')\n",
        "\n",
        "scatter_bl_fig.show()"
      ],
      "execution_count": null,
      "outputs": []
    },
    {
      "cell_type": "markdown",
      "metadata": {
        "id": "55hhkbMCX1Fy"
      },
      "source": [
        "This graph zooms to the bottom left corner, where death rate is between 0 and 70K. Here we can see that most of the African countries didn't have much tests per thousand people, this may be due to the fact that many African countries are poor and people don't have access to the high-quality healthcare. The same is applied to some of the Asian countries (Vietnam, Taiwan, Myanmar, etc.). However, the death rate is relatively low. This phenomena can be explained by the fact that the Covid19 doesn't survive in hot temperature.\n",
        "\n",
        "\n"
      ]
    },
    {
      "cell_type": "code",
      "metadata": {
        "id": "M6tgo90fXqfi"
      },
      "source": [
        "zoom_df = grouped_bl.loc[(grouped_bl['new_tests_per_thousand_x'] < 500) & (grouped_bl['total_cases_per_million'] > 70000) & (grouped_bl['total_cases_per_million'] < 500000)]\n",
        "\n",
        "scatter_bl_fig = go.Figure()\n",
        "scatter_bl_fig = px.scatter(zoom_df, x=\"total_cases_per_million\", y=\"new_tests_per_thousand_x\", text=\"location\", color=\"continent\")\n",
        "# scatter_fig = px.scatter(grouped, x=\"total_cases_per_million\", y=\"new_tests_per_thousand_x\",  color=\"continent\")\n",
        "scatter_bl_fig.update_layout(title_text=\"Scatter plot of 'Daily tests per 1000 people' vs. 'Daily deaths per 1M people', zoom 70k - 500k deaths per 1M\", title_x=0.5)\n",
        "scatter_bl_fig.update_traces(textposition='top center')\n",
        "\n",
        "scatter_bl_fig.show()"
      ],
      "execution_count": null,
      "outputs": []
    },
    {
      "cell_type": "markdown",
      "metadata": {
        "id": "1YMp23J8XoJx"
      },
      "source": [
        "This graph shows countries with death rate between 70K and 500K. The countries at the bottom are also known as poor countries, most of them are from Africa, Central America and South-East Asia."
      ]
    },
    {
      "cell_type": "markdown",
      "metadata": {
        "id": "y7pJVq7hX-qd"
      },
      "source": [
        "Next 6 graphs shows distribution of counties by continent."
      ]
    },
    {
      "cell_type": "code",
      "metadata": {
        "id": "McLeN05VYA5t"
      },
      "source": [
        "asia_df = df_merged.loc[df_merged['continent'] == 'Asia']\n",
        "\n",
        "grouped_asia = asia_df.groupby(['location'], as_index=False)[asia_df.columns[:-1]].sum()\n",
        "\n",
        "scatter_asia_fig = go.Figure()\n",
        "scatter_asia_fig = px.scatter(grouped_asia, x=\"total_cases_per_million\", y=\"new_tests_per_thousand_x\", text=\"location\")\n",
        "# scatter_fig = px.scatter(grouped, x=\"total_cases_per_million\", y=\"new_tests_per_thousand_x\",  color=\"continent\")\n",
        "scatter_asia_fig.update_layout(width=1000, title_text=\"Scatter plot of 'Daily tests per 1000 people' vs. 'Daily deaths per 1M people' for Asia\", title_x=0.5)\n",
        "scatter_asia_fig.update_traces(textposition='top center')\n",
        "\n",
        "scatter_asia_fig.show()"
      ],
      "execution_count": null,
      "outputs": []
    },
    {
      "cell_type": "markdown",
      "metadata": {
        "id": "9WCum3v4YDq4"
      },
      "source": [
        "This scatter plot shows only Asian countries. We can clearly see that the trend goes up. In the case of Asia, it is clear that coutries distributed according to their economy and life-quality state. On the top there are wealthy countries and on the bottom countries with lower life-quality rate. And we also should keep in mind that Asia, especially East and South-East Asia, is the most populated region in the world, this fact may also affected the virus spread."
      ]
    },
    {
      "cell_type": "code",
      "metadata": {
        "id": "Px5XxKyaYF2q"
      },
      "source": [
        "europe_df = df_merged.loc[df_merged['continent'] == 'Europe']\n",
        "\n",
        "grouped_europe = europe_df.groupby(['location'], as_index=False)[europe_df.columns[:-1]].sum()\n",
        "\n",
        "scatter_europe_fig = go.Figure()\n",
        "scatter_europe_fig = px.scatter(grouped_europe, x=\"total_cases_per_million\", y=\"new_tests_per_thousand_x\", text=\"location\")\n",
        "# scatter_fig = px.scatter(grouped, x=\"total_cases_per_million\", y=\"new_tests_per_thousand_x\",  color=\"continent\")\n",
        "scatter_europe_fig.update_layout(width=1000, title_text=\"Scatter plot of 'Daily tests per 1000 people' vs. 'Daily deaths per 1M people' for Europe\", title_x=0.5)\n",
        "scatter_europe_fig.update_traces(textposition='top center')\n",
        "\n",
        "scatter_europe_fig.show()"
      ],
      "execution_count": null,
      "outputs": []
    },
    {
      "cell_type": "markdown",
      "metadata": {
        "id": "RjTO0qFQYHl5"
      },
      "source": [
        "We observe same situation in Europe. Countries are distributed according to the following factors: overall economic state, life-quality and healthcare. Closer to left there are mostly East Eropian countries and to the right there sre West Europian counties."
      ]
    },
    {
      "cell_type": "code",
      "metadata": {
        "id": "fM-9YsydYJeV"
      },
      "source": [
        "namerica_df = df_merged.loc[df_merged['continent'] == 'North America']\n",
        "\n",
        "grouped_namerica = namerica_df.groupby(['location'], as_index=False)[namerica_df.columns[:-1]].sum()\n",
        "\n",
        "scatter_namerica_fig = go.Figure()\n",
        "scatter_namerica_fig = px.scatter(grouped_namerica, x=\"total_cases_per_million\", y=\"new_tests_per_thousand_x\", text=\"location\")\n",
        "# scatter_fig = px.scatter(grouped, x=\"total_cases_per_million\", y=\"new_tests_per_thousand_x\",  color=\"continent\")\n",
        "scatter_namerica_fig.update_layout(width=1000, title_text=\"Scatter plot of 'Daily tests per 1000 people' vs. 'Daily deaths per 1M people' for North America\", title_x=0.5)\n",
        "scatter_namerica_fig.update_traces(textposition='top center')\n",
        "\n",
        "scatter_namerica_fig.show()"
      ],
      "execution_count": null,
      "outputs": []
    },
    {
      "cell_type": "code",
      "metadata": {
        "id": "YmHaNn1FYMhC"
      },
      "source": [
        "samerica_df = df_merged.loc[df_merged['continent'] == 'South America']\n",
        "\n",
        "grouped_samerica = samerica_df.groupby(['location'], as_index=False)[samerica_df.columns[:-1]].sum()\n",
        "\n",
        "scatter_samerica_fig = go.Figure()\n",
        "scatter_samerica_fig = px.scatter(grouped_samerica, x=\"total_cases_per_million\", y=\"new_tests_per_thousand_x\", text=\"location\")\n",
        "# scatter_fig = px.scatter(grouped, x=\"total_cases_per_million\", y=\"new_tests_per_thousand_x\",  color=\"continent\")\n",
        "scatter_samerica_fig.update_layout(width=1000, title_text=\"Scatter plot of 'Daily tests per 1000 people' vs. 'Daily deaths per 1M people' for South America\", title_x=0.5)\n",
        "scatter_samerica_fig.update_traces(textposition='top center')\n",
        "\n",
        "scatter_samerica_fig.show()"
      ],
      "execution_count": null,
      "outputs": []
    },
    {
      "cell_type": "code",
      "metadata": {
        "id": "IMpz1QzvYOTG"
      },
      "source": [
        "africa_df = df_merged.loc[df_merged['continent'] == 'Africa']\n",
        "\n",
        "grouped_africa = africa_df.groupby(['location'], as_index=False)[africa_df.columns[:-1]].sum()\n",
        "\n",
        "scatter_africa_fig = go.Figure()\n",
        "scatter_africa_fig = px.scatter(grouped_africa, x=\"total_cases_per_million\", y=\"new_tests_per_thousand_x\", text=\"location\")\n",
        "# scatter_fig = px.scatter(grouped, x=\"total_cases_per_million\", y=\"new_tests_per_thousand_x\",  color=\"continent\")\n",
        "scatter_africa_fig.update_layout(width=1000, title_text=\"Scatter plot of 'Daily tests per 1000 people' vs. 'Daily deaths per 1M people' for Africa\", title_x=0.5)\n",
        "scatter_africa_fig.update_traces(textposition='top center')\n",
        "\n",
        "scatter_africa_fig.show()"
      ],
      "execution_count": null,
      "outputs": []
    },
    {
      "cell_type": "code",
      "metadata": {
        "id": "0o5pBt3UYQCj"
      },
      "source": [
        "oceania_df = df_merged.loc[df_merged['continent'] == 'Oceania']\n",
        "\n",
        "grouped_oceania = oceania_df.groupby(['location'], as_index=False)[oceania_df.columns[:-1]].sum()\n",
        "\n",
        "scatter_oceania_fig = go.Figure()\n",
        "scatter_oceania_fig = px.scatter(grouped_oceania, x=\"total_cases_per_million\", y=\"new_tests_per_thousand_x\", text=\"location\")\n",
        "# scatter_fig = px.scatter(grouped, x=\"total_cases_per_million\", y=\"new_tests_per_thousand_x\",  color=\"continent\")\n",
        "scatter_oceania_fig.update_layout(width=1000, title_text=\"Scatter plot of 'Daily tests per 1000 people' vs. 'Daily deaths per 1M people' for Oceania\", title_x=0.5)\n",
        "scatter_oceania_fig.update_traces(textposition='top center')\n",
        "\n",
        "scatter_oceania_fig.show()"
      ],
      "execution_count": null,
      "outputs": []
    },
    {
      "cell_type": "markdown",
      "metadata": {
        "id": "bhBZpKUuYRto"
      },
      "source": [
        "By focusing on concentrated zones and continents, we came to conclusion that the amount of tests per thousand people depends on the overall economical state of the country, and the death per million rate mostly depends on the population."
      ]
    },
    {
      "cell_type": "markdown",
      "metadata": {
        "id": "Cju43w1sB6w3"
      },
      "source": [
        "### 1.2 Fit a linear regression model to the data and add the regression line to the scatterplot"
      ]
    },
    {
      "cell_type": "code",
      "metadata": {
        "id": "4ad1KsWLBBmD"
      },
      "source": [
        "# Regression line\n",
        "from sklearn.linear_model import LinearRegression\n",
        "\n",
        "# regression\n",
        "reg = LinearRegression().fit(np.vstack(grouped['total_cases_per_million']), grouped['new_tests_per_thousand_x'])\n",
        "grouped['bestfit'] = reg.predict(np.vstack(grouped['total_cases_per_million']))\n",
        "\n",
        "# plotly figure setup\n",
        "reg_fig=go.Figure()\n",
        "reg_fig.add_trace(go.Scatter(name='Tests per 1K vs Cases per 1M', x=grouped['total_cases_per_million'], y=grouped['new_tests_per_thousand_x'].values, mode='markers'))\n",
        "reg_fig.add_trace(go.Scatter(name='line of best fit', x=grouped['total_cases_per_million'], y=grouped['bestfit'], mode='lines'))\n",
        "\n",
        "# plotly figure layout\n",
        "reg_fig.update_layout(xaxis_title = 'total_cases_per_million', yaxis_title = 'new_tests_per_thousand_x')\n",
        "reg_fig.update_layout(width=1000, title_text=\"Figure-2. Scatter plot of 'Daily tests per 1000 people' vs. 'Daily deaths per 1M people' with Regression\", title_x=0.5);\n",
        "\n",
        "reg_fig.show()"
      ],
      "execution_count": null,
      "outputs": []
    },
    {
      "cell_type": "markdown",
      "metadata": {
        "id": "D38e5OWyB1vh"
      },
      "source": [
        "By plotting regression line we can observe the general trend of data. The trend is positive"
      ]
    },
    {
      "cell_type": "code",
      "metadata": {
        "id": "naSlpKbemhi_"
      },
      "source": [
        "# regression\n",
        "asia_df = df_merged.loc[df_merged['continent'] == 'Asia']\n",
        "\n",
        "grouped_asia = asia_df.groupby(['location'], as_index=False)[asia_df.columns[:-1]].sum()\n",
        "# grouped_asia = grouped.loc[grouped['continent'] == \"Asia\"]\n",
        "# grouped_africa = grouped.loc[grouped['continent'] == \"Africa\"]\n",
        "# grouped_europe = grouped.loc[grouped['continent'] == \"Europe\"]\n",
        "# grouped_namerica = grouped.loc[grouped['continent'] == \"North America\"]\n",
        "# grouped_samerica = grouped.loc[grouped['continent'] == \"South America\"]\n",
        "# grouped_oceania = grouped.loc[grouped['continent'] == \"Oceania\"]\n",
        "\n",
        "reg = LinearRegression().fit(np.vstack(grouped_asia['total_cases_per_million']), grouped_asia['new_tests_per_thousand_x'])\n",
        "grouped_asia['bestfit'] = reg.predict(np.vstack(grouped_asia['total_cases_per_million']))\n",
        "\n",
        "# reg = LinearRegression().fit(np.vstack(grouped_europe['total_cases_per_million']), grouped_europe['new_tests_per_thousand_x'])\n",
        "# grouped_europe['bestfit'] = reg.predict(np.vstack(grouped_europe['total_cases_per_million']))\n",
        "\n",
        "# reg = LinearRegression().fit(np.vstack(grouped_africa['total_cases_per_million']), grouped_africa['new_tests_per_thousand_x'])\n",
        "# grouped_africa['bestfit'] = reg.predict(np.vstack(grouped_africa['total_cases_per_million']))\n",
        "\n",
        "# reg = LinearRegression().fit(np.vstack(grouped_namerica['total_cases_per_million']), grouped_namerica['new_tests_per_thousand_x'])\n",
        "# grouped_namerica['bestfit'] = reg.predict(np.vstack(grouped_namerica['total_cases_per_million']))\n",
        "\n",
        "# reg = LinearRegression().fit(np.vstack(grouped_samerica['total_cases_per_million']), grouped_samerica['new_tests_per_thousand_x'])\n",
        "# grouped_samerica['bestfit'] = reg.predict(np.vstack(grouped_samerica['total_cases_per_million']))\n",
        "\n",
        "# reg = LinearRegression().fit(np.vstack(grouped_oceania['total_cases_per_million']), grouped_oceania['new_tests_per_thousand_x'])\n",
        "# grouped_oceania['bestfit'] = reg.predict(np.vstack(grouped_oceania['total_cases_per_million']))\n",
        "\n",
        "# plotly figure setup\n",
        "reg_fig=go.Figure()\n",
        "reg_fig.add_trace(go.Scatter(name='Tests per 1K vs Cases per 1M', x=grouped['total_cases_per_million'], y=grouped['new_tests_per_thousand_x'].values, mode='markers'))\n",
        "reg_fig.add_trace(go.Scatter(name='line of best fit Asia', x=grouped_asia['total_cases_per_million'], y=grouped_asia['bestfit'], mode='lines'))\n",
        "# reg_fig.add_trace(go.Scatter(name='line of best fit Europe', x=grouped_europe['total_cases_per_million'], y=grouped_europe['bestfit'], mode='lines'))\n",
        "# reg_fig.add_trace(go.Scatter(name='line of best fit Africa', x=grouped_africa['total_cases_per_million'], y=grouped_africa['bestfit'], mode='lines'))\n",
        "# reg_fig.add_trace(go.Scatter(name='line of best fit North America', x=grouped_namerica['total_cases_per_million'], y=grouped_namerica['bestfit'], mode='lines'))\n",
        "# reg_fig.add_trace(go.Scatter(name='line of best fit South America', x=grouped_samerica['total_cases_per_million'], y=grouped_samerica['bestfit'], mode='lines'))\n",
        "# reg_fig.add_trace(go.Scatter(name='line of best fit Oceania', x=grouped_oceania['total_cases_per_million'], y=grouped_oceania['bestfit'], mode='lines'))\n",
        "\n",
        "# plotly figure layout\n",
        "reg_fig.update_layout(xaxis_title = 'total_cases_per_million', yaxis_title = 'new_tests_per_thousand_x')\n",
        "reg_fig.update_layout(width=1000, title_text=\"Figure-2. Scatter plot of 'Daily tests per 1000 people' vs. 'Daily deaths per 1M people' with Regression\", title_x=0.5);\n",
        "\n",
        "reg_fig.show()"
      ],
      "execution_count": null,
      "outputs": []
    },
    {
      "cell_type": "markdown",
      "metadata": {
        "id": "dB-0gdymCACQ"
      },
      "source": [
        "### 1.3 Calculate the Pearson's correlation coefficient of the two measurements and explain your result briefly"
      ]
    },
    {
      "cell_type": "markdown",
      "metadata": {
        "id": "c8QNcEziCC-L"
      },
      "source": [
        "To calculate Pearson's correlation coeddicient we take two columns that should be measured and correlate first collumn with the second, using corr() function."
      ]
    },
    {
      "cell_type": "code",
      "metadata": {
        "id": "JoGOiM7cBHaa"
      },
      "source": [
        "# Pearson's correlation coefficient\n",
        "column_1 = grouped[\"total_cases_per_million\"]\n",
        "column_2 = grouped[\"new_tests_per_thousand_x\"]\n",
        "correlation = column_1.corr(column_2)\n",
        "print(\"Pearson's correlation coefficient: \", correlation)"
      ],
      "execution_count": null,
      "outputs": []
    },
    {
      "cell_type": "markdown",
      "metadata": {
        "id": "rC5u_75pCFbi"
      },
      "source": [
        "Pearson's correlation coefficient tells how strongly two measurments are connected. In this case Pearson's correlation coefficient is equal to 0.4597. Consequently, \"total_cases_per_million\" and \"new_tests_per_thousand_x\" have moderate correlation degree, we can assume there is a medium correlation between them. We can say that with the growth of death outcomes the amount of tests for Covid19 increases."
      ]
    },
    {
      "cell_type": "markdown",
      "metadata": {
        "id": "bPlL_5yiCUL4"
      },
      "source": [
        "### 1.4 Explain in your own words the following factors that have to be considered when interpreting a correlation coefficient: (A) non-linear relationship, (B) outliers, and (C) correlation vs. causality"
      ]
    },
    {
      "cell_type": "markdown",
      "metadata": {
        "id": "7vjzZ95OCWua"
      },
      "source": [
        "A) The correlation does not reveal any existing non-linear relationship between two variables. It means that there should be used other approach to evaluate relationship.\n",
        "\n",
        "B) Outlires are extremelly large or small values of characteristic. Outlires affect Pearson's correlation to the most significant extent, since the value of this coefficient is directly proportional to the deviation of the variable from the mean.\n",
        "\n",
        "C) Correlation does not provide any information about causality of relationship, it may only assume that there might exist some connection between two variables"
      ]
    },
    {
      "cell_type": "markdown",
      "metadata": {
        "id": "Se5L3YOaK4-Q"
      },
      "source": [
        "#### Task 2 **[40 points] Time Series Analysis**\n",
        "\n",
        "Your goal for this task is to do a time series analysis on the \"Number of daily new confirmed COVID-19 cases in Germany\" using the [RKI COVID-19 database](https://npgeo-corona-npgeo-de.hub.arcgis.com/datasets/dd4580c810204019a7b8eb3e0b329dd6_0?page=24101) from both previous assignments.\n",
        "1. Plot a timeline of the number of new COVID-19 cases in Germany per day, starting with the date of the first confirmed case. Evaluate and interprete your plot? What do you see - what don't you see?\n",
        "2. Perform a mean smoothing on the time series above and add the smoothed curve to the previous plot. Make sure the viewer can clearly recognize which line is the smoothed one. For the smoothing procedure, choose a window size $n$ that makes most sense to you and explain & evaluate your choice briefly.\n",
        "3. Make yourself familiar with the [ARIMA model](https://towardsdatascience.com/understanding-arima-time-series-modeling-d99cd11be3f8) for time series modeling. Use the corresponding [ARIMA python package](https://www.statsmodels.org/stable/generated/statsmodels.tsa.arima.model.ARIMA.html) to predict the future number of daily new confirmed COVID-19 cases in Germany. Plot both the model summary and a visualization of the predicted timeline (both of which the ARIMA package provides per default). Evaluate & explain your results.  \n",
        "4. In time series analysis, there are four main features/components that we have to consider: (A) seasonal variation, (B) other cyclic variation, (C) secular trend, and (D) other irregular variations. For each of these features, explain its properties briefly, give an example scenario, and explain whether/how to handle it when working with time series data.   "
      ]
    },
    {
      "cell_type": "markdown",
      "metadata": {
        "id": "aP0wL-p_LZSa"
      },
      "source": [
        "<hr style=\"border:1px solid gray\"></hr>\n",
        "\n",
        "### Question: 2.1\n",
        "Plot a timeline of the number of new COVID-19 cases in Germany per day, starting with the date of the first confirmed case. Evaluate and interprete your plot? What do you see - what don't you see?\n",
        "\n",
        "### Solution: 2.1"
      ]
    },
    {
      "cell_type": "code",
      "metadata": {
        "id": "EwZEDsUzLsKd"
      },
      "source": [
        "# Importing Libraries to carry out various tasks in this assignment\n",
        "\n",
        "import pandas as pd\n",
        "from datetime import datetime\n",
        "import plotly.figure_factory as ff\n",
        "import plotly.express as px\n",
        "import plotly.graph_objects as go\n",
        "from plotly.subplots import make_subplots\n",
        "import numpy as np"
      ],
      "execution_count": null,
      "outputs": []
    },
    {
      "cell_type": "code",
      "metadata": {
        "id": "x0KJQKrLQDhS"
      },
      "source": [
        "# Fetching Data from RKI COVID-19 Database\n",
        "\n",
        "file_url = 'https://prod-hub-indexer.s3.amazonaws.com/files/dd4580c810204019a7b8eb3e0b329dd6/0/full/4326/dd4580c810204019a7b8eb3e0b329dd6_0_full_4326.csv';\n",
        "covid_data = pd.read_csv(file_url);"
      ],
      "execution_count": null,
      "outputs": []
    },
    {
      "cell_type": "code",
      "metadata": {
        "id": "u33tcvOxQFy9"
      },
      "source": [
        "# Renaming columns for easy interpretation\n",
        "\n",
        "covid_data = covid_data.rename(\n",
        "                        columns = {\n",
        "                            \"ObjectId\": \"Object_Id\",\n",
        "                            \"IdBundesland\": \"State_Id\",\n",
        "                            \"Bundesland\": \"State\",\n",
        "                            \"Landkreis\": \"District\",\n",
        "                            \"Altersgruppe\": \"Age_Group\",\n",
        "                            \"Geschlecht\": \"Sex\",\n",
        "                            \"AnzahlFall\": \"Number_of_Cases\",\n",
        "                            \"AnzahlTodesfall\": \"Number_of_Deaths\",\n",
        "                            \"Meldedatum\": \"Reporting_Date\",\n",
        "                            \"IdLandkreis\": \"District_Id\",\n",
        "                            \"Datenstand\": \"Last_Updated\",\n",
        "                            \"NeuerFall\": \"New_Case\",\n",
        "                            \"NeuerTodesfall\": \"New_Death\",\n",
        "                            \"Refdatum\": \"Reference_Date\",\n",
        "                            \"NeuGenesen\": \"New_Recovered\",\n",
        "                            \"AnzahlGenesen\": \"Number_of_Recovered\",\n",
        "                            \"IstErkrankungsbeginn\": \"Disease_Onset\",\n",
        "                            \"Altersgruppe2\": \"Age_Group2\"\n",
        "                        }\n",
        "                    );"
      ],
      "execution_count": null,
      "outputs": []
    },
    {
      "cell_type": "code",
      "metadata": {
        "id": "XfwYyfHhQIBa"
      },
      "source": [
        "# Filtering Data for 'New Cases only'\n",
        "\n",
        "new_case_covid_data = covid_data[covid_data['New_Case'] >= 0];"
      ],
      "execution_count": null,
      "outputs": []
    },
    {
      "cell_type": "code",
      "metadata": {
        "id": "39nu6RWwQKNi"
      },
      "source": [
        "# Grouping Covid Data of Germany by Reporting Date\n",
        "\n",
        "new_case_per_day_data_sorted = new_case_covid_data.sort_values(by=['Reporting_Date']);\n",
        "new_case_per_day_data_unformatted = new_case_per_day_data_sorted.groupby('Reporting_Date')['Number_of_Cases'].sum();\n",
        "new_case_per_day_data = pd.DataFrame(new_case_per_day_data_unformatted).rename_axis('Reporting_Date').reset_index()\n",
        "new_case_per_day_data['Reporting_Date'] = pd.to_datetime(\n",
        "    new_case_per_day_data['Reporting_Date']).dt.strftime('%Y-%m-%d');"
      ],
      "execution_count": null,
      "outputs": []
    },
    {
      "cell_type": "code",
      "metadata": {
        "id": "4atm1bPxQML9",
        "colab": {
          "base_uri": "https://localhost:8080/"
        },
        "outputId": "a4e97951-0581-4276-e836-e358c5774749"
      },
      "source": [
        "# Finding out the date of \"First Confirmed Case\"\n",
        "\n",
        "first_confirmed_case = new_case_per_day_data['Reporting_Date'].min()\n",
        "confirmed_cases_on_first_day = new_case_covid_data['Number_of_Cases'];\n",
        "print(\"Germany reported its 'First Confirmed Case' on :\", first_confirmed_case);\n",
        "print(\"Cases reported on First Day in Germany :\", confirmed_cases_on_first_day[0]);"
      ],
      "execution_count": null,
      "outputs": [
        {
          "output_type": "stream",
          "text": [
            "Germany reported its 'First Confirmed Case' on : 2020-01-02\n",
            "Cases reported on First Day in Germany : 1\n"
          ],
          "name": "stdout"
        }
      ]
    },
    {
      "cell_type": "markdown",
      "metadata": {
        "id": "CzkyqHDOQQx1"
      },
      "source": [
        "As we can see from the **RKI COVID-19 Data**, Germany reported its **first case** on **2nd January 2020**.<br>\n",
        "Only **1** case was reported on the first day."
      ]
    },
    {
      "cell_type": "code",
      "metadata": {
        "id": "4Z1xZuLyQOIg"
      },
      "source": [
        "# Plotting Timeline of New Cases every day in Germany\n",
        "\n",
        "fig1 = go.Figure();\n",
        "fig1 = px.line(new_case_per_day_data, x='Reporting_Date', y=\"Number_of_Cases\", range_x=['2020-01-01','2020-12-31']);\n",
        "fig1.update_layout(title_text='Figure-1. -- Timeline of new COVID-19 Cases per day in Germany', title_x=0.5);\n",
        "fig1.update_xaxes(dtick=\"M1\",tickformat=\"%b\");\n",
        "fig1.update_yaxes(tickformat=\"20\");\n",
        "fig1.update_layout(showlegend=True);"
      ],
      "execution_count": null,
      "outputs": []
    },
    {
      "cell_type": "code",
      "metadata": {
        "id": "hHP-2pm6QT2A",
        "colab": {
          "base_uri": "https://localhost:8080/",
          "height": 232
        },
        "outputId": "87261258-49b7-4d44-ca42-fbd4853f021a"
      },
      "source": [
        "# Plotting Timeline with Highlighted Regions\n",
        "\n",
        "fig2 = go.Figure();\n",
        "fig2 = px.line(new_case_per_day_data, x='Reporting_Date', y=\"Number_of_Cases\", range_x=['2020-01-01','2020-12-31']);\n",
        "fig2.update_layout(title_text='Figure-2. -- Timeline with First and Second Wave of New COVID-19 Cases per day in Germany', title_x=0.5);\n",
        "fig2.update_xaxes(dtick=\"M1\",tickformat=\"%b\");\n",
        "fig2.update_yaxes(tickformat=\"20\");\n",
        "fig2.update_layout(showlegend=True);\n",
        "before_june = new_case_per_day_data[new_case_per_day_data['Reporting_Date'] < '2020-06-01'];\n",
        "x0 = before_june[before_june['Number_of_Cases'] > 1000]['Reporting_Date'].min();\n",
        "x1 = before_june[before_june['Number_of_Cases'] > 1000]['Reporting_Date'].max();\n",
        "fig2.add_vrect(x0=x0, x1=x1,fillcolor=\"LightSalmon\", opacity=0.5,layer=\"below\", line_width=0);\n",
        "after_june = new_case_per_day_data[new_case_per_day_data['Reporting_Date'] > '2020-06-01'];\n",
        "x0 = after_june[after_june['Number_of_Cases'] > 1000]['Reporting_Date'].min();\n",
        "x1 = after_june[after_june['Number_of_Cases'] > 1000]['Reporting_Date'].max();\n",
        "fig2.add_vrect(x0=x0, x1=x1,fillcolor=\"LightSalmon\", opacity=0.5,layer=\"below\", line_width=0);"
      ],
      "execution_count": null,
      "outputs": [
        {
          "output_type": "error",
          "ename": "AttributeError",
          "evalue": "ignored",
          "traceback": [
            "\u001b[0;31m---------------------------------------------------------------------------\u001b[0m",
            "\u001b[0;31mAttributeError\u001b[0m                            Traceback (most recent call last)",
            "\u001b[0;32m<ipython-input-33-97040dfe6457>\u001b[0m in \u001b[0;36m<module>\u001b[0;34m()\u001b[0m\n\u001b[1;32m     10\u001b[0m \u001b[0mx0\u001b[0m \u001b[0;34m=\u001b[0m \u001b[0mbefore_june\u001b[0m\u001b[0;34m[\u001b[0m\u001b[0mbefore_june\u001b[0m\u001b[0;34m[\u001b[0m\u001b[0;34m'Number_of_Cases'\u001b[0m\u001b[0;34m]\u001b[0m \u001b[0;34m>\u001b[0m \u001b[0;36m1000\u001b[0m\u001b[0;34m]\u001b[0m\u001b[0;34m[\u001b[0m\u001b[0;34m'Reporting_Date'\u001b[0m\u001b[0;34m]\u001b[0m\u001b[0;34m.\u001b[0m\u001b[0mmin\u001b[0m\u001b[0;34m(\u001b[0m\u001b[0;34m)\u001b[0m\u001b[0;34m;\u001b[0m\u001b[0;34m\u001b[0m\u001b[0;34m\u001b[0m\u001b[0m\n\u001b[1;32m     11\u001b[0m \u001b[0mx1\u001b[0m \u001b[0;34m=\u001b[0m \u001b[0mbefore_june\u001b[0m\u001b[0;34m[\u001b[0m\u001b[0mbefore_june\u001b[0m\u001b[0;34m[\u001b[0m\u001b[0;34m'Number_of_Cases'\u001b[0m\u001b[0;34m]\u001b[0m \u001b[0;34m>\u001b[0m \u001b[0;36m1000\u001b[0m\u001b[0;34m]\u001b[0m\u001b[0;34m[\u001b[0m\u001b[0;34m'Reporting_Date'\u001b[0m\u001b[0;34m]\u001b[0m\u001b[0;34m.\u001b[0m\u001b[0mmax\u001b[0m\u001b[0;34m(\u001b[0m\u001b[0;34m)\u001b[0m\u001b[0;34m;\u001b[0m\u001b[0;34m\u001b[0m\u001b[0;34m\u001b[0m\u001b[0m\n\u001b[0;32m---> 12\u001b[0;31m \u001b[0mfig2\u001b[0m\u001b[0;34m.\u001b[0m\u001b[0madd_vrect\u001b[0m\u001b[0;34m(\u001b[0m\u001b[0mx0\u001b[0m\u001b[0;34m=\u001b[0m\u001b[0mx0\u001b[0m\u001b[0;34m,\u001b[0m \u001b[0mx1\u001b[0m\u001b[0;34m=\u001b[0m\u001b[0mx1\u001b[0m\u001b[0;34m,\u001b[0m\u001b[0mfillcolor\u001b[0m\u001b[0;34m=\u001b[0m\u001b[0;34m\"LightSalmon\"\u001b[0m\u001b[0;34m,\u001b[0m \u001b[0mopacity\u001b[0m\u001b[0;34m=\u001b[0m\u001b[0;36m0.5\u001b[0m\u001b[0;34m,\u001b[0m\u001b[0mlayer\u001b[0m\u001b[0;34m=\u001b[0m\u001b[0;34m\"below\"\u001b[0m\u001b[0;34m,\u001b[0m \u001b[0mline_width\u001b[0m\u001b[0;34m=\u001b[0m\u001b[0;36m0\u001b[0m\u001b[0;34m)\u001b[0m\u001b[0;34m;\u001b[0m\u001b[0;34m\u001b[0m\u001b[0;34m\u001b[0m\u001b[0m\n\u001b[0m\u001b[1;32m     13\u001b[0m \u001b[0mafter_june\u001b[0m \u001b[0;34m=\u001b[0m \u001b[0mnew_case_per_day_data\u001b[0m\u001b[0;34m[\u001b[0m\u001b[0mnew_case_per_day_data\u001b[0m\u001b[0;34m[\u001b[0m\u001b[0;34m'Reporting_Date'\u001b[0m\u001b[0;34m]\u001b[0m \u001b[0;34m>\u001b[0m \u001b[0;34m'2020-06-01'\u001b[0m\u001b[0;34m]\u001b[0m\u001b[0;34m;\u001b[0m\u001b[0;34m\u001b[0m\u001b[0;34m\u001b[0m\u001b[0m\n\u001b[1;32m     14\u001b[0m \u001b[0mx0\u001b[0m \u001b[0;34m=\u001b[0m \u001b[0mafter_june\u001b[0m\u001b[0;34m[\u001b[0m\u001b[0mafter_june\u001b[0m\u001b[0;34m[\u001b[0m\u001b[0;34m'Number_of_Cases'\u001b[0m\u001b[0;34m]\u001b[0m \u001b[0;34m>\u001b[0m \u001b[0;36m1000\u001b[0m\u001b[0;34m]\u001b[0m\u001b[0;34m[\u001b[0m\u001b[0;34m'Reporting_Date'\u001b[0m\u001b[0;34m]\u001b[0m\u001b[0;34m.\u001b[0m\u001b[0mmin\u001b[0m\u001b[0;34m(\u001b[0m\u001b[0;34m)\u001b[0m\u001b[0;34m;\u001b[0m\u001b[0;34m\u001b[0m\u001b[0;34m\u001b[0m\u001b[0m\n",
            "\u001b[0;31mAttributeError\u001b[0m: 'Figure' object has no attribute 'add_vrect'"
          ]
        }
      ]
    },
    {
      "cell_type": "code",
      "metadata": {
        "id": "7nZEfBQsQWY1",
        "colab": {
          "base_uri": "https://localhost:8080/",
          "height": 232
        },
        "outputId": "b7077ef3-3658-4202-d43c-6ab5c15d9a71"
      },
      "source": [
        "# Plotting Timeline with Text and Annotations\n",
        "\n",
        "fig3 = go.Figure();\n",
        "fig3 = px.line(new_case_per_day_data, x='Reporting_Date', y=\"Number_of_Cases\", range_x=['2020-01-01','2020-12-31']);\n",
        "fig3.update_layout(title_text='Figure-3. -- Timeline with Peak Infections across Waves of New COVID-19 Cases per day in Germany', title_x=0.5);\n",
        "fig3.update_xaxes(dtick=\"M1\",tickformat=\"%b\");\n",
        "fig3.update_yaxes(tickformat=\"20\");\n",
        "before_june = new_case_per_day_data[new_case_per_day_data['Reporting_Date'] < '2020-06-01'];\n",
        "x0 = before_june[before_june['Number_of_Cases'] > 1000]['Reporting_Date'].min();\n",
        "x1 = before_june[before_june['Number_of_Cases'] > 1000]['Reporting_Date'].max();\n",
        "fig3.add_vrect(x0=x0, x1=x1,fillcolor=\"LightSalmon\", opacity=0.5,layer=\"below\", line_width=0);\n",
        "after_june = new_case_per_day_data[new_case_per_day_data['Reporting_Date'] > '2020-06-01'];\n",
        "x0 = after_june[after_june['Number_of_Cases'] > 1000]['Reporting_Date'].min();\n",
        "x1 = after_june[after_june['Number_of_Cases'] > 1000]['Reporting_Date'].max();\n",
        "fig3.add_vrect(x0=x0, x1=x1,fillcolor=\"LightSalmon\", opacity=0.5,layer=\"below\", line_width=0);\n",
        "fig3.add_shape(type=\"line\",\n",
        "              x0=new_case_per_day_data['Reporting_Date'].min(), \n",
        "              y0=new_case_per_day_data[new_case_per_day_data['Reporting_Date'] < '2020-05-01']['Number_of_Cases'].max(), \n",
        "              x1=new_case_per_day_data[new_case_per_day_data['Number_of_Cases'] == new_case_per_day_data[new_case_per_day_data['Reporting_Date'] < '2020-05-01']['Number_of_Cases'].max()]['Reporting_Date'].values[0], \n",
        "              y1=new_case_per_day_data[new_case_per_day_data['Reporting_Date'] < '2020-05-01']['Number_of_Cases'].max(), \n",
        "    line=dict(\n",
        "        color=\"red\",\n",
        "        width=1,\n",
        "    )\n",
        ");\n",
        "fig3.add_shape(type=\"line\",\n",
        "              x0=new_case_per_day_data[new_case_per_day_data['Number_of_Cases'] == new_case_per_day_data[new_case_per_day_data['Reporting_Date'] < '2020-05-01']['Number_of_Cases'].max()]['Reporting_Date'].values[0], \n",
        "              y0='0', \n",
        "              x1=new_case_per_day_data[new_case_per_day_data['Number_of_Cases'] == new_case_per_day_data[new_case_per_day_data['Reporting_Date'] < '2020-05-01']['Number_of_Cases'].max()]['Reporting_Date'].values[0], \n",
        "              y1=new_case_per_day_data[new_case_per_day_data['Reporting_Date'] < '2020-05-01']['Number_of_Cases'].max(), \n",
        "    line=dict(\n",
        "        color=\"red\",\n",
        "        width=1,\n",
        "    )\n",
        ");\n",
        "fig3.add_annotation(\n",
        "        x=new_case_per_day_data[new_case_per_day_data['Number_of_Cases'] == new_case_per_day_data[new_case_per_day_data['Reporting_Date'] < '2020-05-01']['Number_of_Cases'].max()]['Reporting_Date'].values[0],\n",
        "        y=new_case_per_day_data[new_case_per_day_data['Reporting_Date'] < '2020-05-01']['Number_of_Cases'].max(),\n",
        "        text=str(new_case_per_day_data[new_case_per_day_data['Reporting_Date'] < '2020-05-01']['Number_of_Cases'].max()) + str(\" Cases\"),\n",
        "        showarrow=True,\n",
        "        font=dict(\n",
        "            family=\"Courier New, monospace\",\n",
        "            size=16,\n",
        "            color=\"#ffffff\"\n",
        "            ),\n",
        "        align=\"center\",\n",
        "        arrowhead=2,\n",
        "        arrowsize=1,\n",
        "        arrowwidth=2,\n",
        "        arrowcolor=\"#636363\",\n",
        "        ax=20,\n",
        "        ay=-30,\n",
        "        bordercolor=\"#c7c7c7\",\n",
        "        borderwidth=2,\n",
        "        borderpad=4,\n",
        "        bgcolor=\"red\",\n",
        "        opacity=0.8\n",
        "        );\n",
        "fig3.add_annotation(\n",
        "        x=new_case_per_day_data[new_case_per_day_data['Number_of_Cases'] == new_case_per_day_data[new_case_per_day_data['Reporting_Date'] < '2020-05-01']['Number_of_Cases'].max()]['Reporting_Date'].values[0],\n",
        "        y=0,\n",
        "        text=str(\"Peak Date: \") + str(new_case_per_day_data[new_case_per_day_data['Number_of_Cases'] == new_case_per_day_data[new_case_per_day_data['Reporting_Date'] < '2020-05-01']['Number_of_Cases'].max()]['Reporting_Date'].values[0]),\n",
        "        showarrow=True,\n",
        "        font=dict(\n",
        "            family=\"Courier New, monospace\",\n",
        "            size=16,\n",
        "            color=\"#ffffff\"\n",
        "            ),\n",
        "        align=\"center\",\n",
        "        arrowhead=2,\n",
        "        arrowsize=1,\n",
        "        arrowwidth=2,\n",
        "        arrowcolor=\"#636363\",\n",
        "        ax=0,\n",
        "        ay=30,\n",
        "        bordercolor=\"#c7c7c7\",\n",
        "        borderwidth=2,\n",
        "        borderpad=4,\n",
        "        bgcolor=\"red\",\n",
        "        opacity=0.8\n",
        "        );\n",
        "\n",
        "fig3.add_shape(type=\"line\",\n",
        "              x0=new_case_per_day_data['Reporting_Date'].min(), \n",
        "              y0=new_case_per_day_data['Number_of_Cases'].max(), \n",
        "              x1=new_case_per_day_data[new_case_per_day_data['Number_of_Cases'] == new_case_per_day_data['Number_of_Cases'].max()]['Reporting_Date'].values[0], \n",
        "              y1=new_case_per_day_data['Number_of_Cases'].max(),\n",
        "    line=dict(\n",
        "        color=\"red\",\n",
        "        width=1,\n",
        "    )\n",
        ");\n",
        "fig3.add_shape(type=\"line\",\n",
        "              x0=new_case_per_day_data[new_case_per_day_data['Number_of_Cases'] == new_case_per_day_data['Number_of_Cases'].max()]['Reporting_Date'].values[0], \n",
        "              y0='0', \n",
        "              x1=new_case_per_day_data[new_case_per_day_data['Number_of_Cases'] == new_case_per_day_data['Number_of_Cases'].max()]['Reporting_Date'].values[0], \n",
        "              y1=new_case_per_day_data['Number_of_Cases'].max(),\n",
        "    line=dict(\n",
        "        color=\"red\",\n",
        "        width=1,\n",
        "    )\n",
        ");\n",
        "fig3.add_annotation(\n",
        "        x=new_case_per_day_data[new_case_per_day_data['Number_of_Cases'] == new_case_per_day_data['Number_of_Cases'].max()]['Reporting_Date'].values[0],\n",
        "        y=new_case_per_day_data['Number_of_Cases'].max(),\n",
        "        text=str(new_case_per_day_data['Number_of_Cases'].max()) + str(\" Cases\"),\n",
        "        showarrow=True,\n",
        "        font=dict(\n",
        "            family=\"Courier New, monospace\",\n",
        "            size=16,\n",
        "            color=\"#ffffff\"\n",
        "            ),\n",
        "        align=\"center\",\n",
        "        arrowhead=2,\n",
        "        arrowsize=1,\n",
        "        arrowwidth=2,\n",
        "        arrowcolor=\"#636363\",\n",
        "        ax=20,\n",
        "        ay=-30,\n",
        "        bordercolor=\"#c7c7c7\",\n",
        "        borderwidth=2,\n",
        "        borderpad=4,\n",
        "        bgcolor=\"red\",\n",
        "        opacity=0.8\n",
        "        );\n",
        "fig3.add_annotation(\n",
        "        x=new_case_per_day_data[new_case_per_day_data['Number_of_Cases'] == new_case_per_day_data['Number_of_Cases'].max()]['Reporting_Date'].values[0],\n",
        "        y=0,\n",
        "        text=str(\"Peak Date: \") + str(new_case_per_day_data[new_case_per_day_data['Number_of_Cases'] == new_case_per_day_data['Number_of_Cases'].max()]['Reporting_Date'].values[0]),\n",
        "        showarrow=True,\n",
        "        font=dict(\n",
        "            family=\"Courier New, monospace\",\n",
        "            size=16,\n",
        "            color=\"#ffffff\"\n",
        "            ),\n",
        "        align=\"center\",\n",
        "        arrowhead=2,\n",
        "        arrowsize=1,\n",
        "        arrowwidth=2,\n",
        "        arrowcolor=\"#636363\",\n",
        "        ax=0,\n",
        "        ay=30,\n",
        "        bordercolor=\"#c7c7c7\",\n",
        "        borderwidth=2,\n",
        "        borderpad=4,\n",
        "        bgcolor=\"red\",\n",
        "        opacity=0.8\n",
        "        );\n",
        "\n",
        "fig3.update_layout(showlegend=True);"
      ],
      "execution_count": null,
      "outputs": [
        {
          "output_type": "error",
          "ename": "AttributeError",
          "evalue": "ignored",
          "traceback": [
            "\u001b[0;31m---------------------------------------------------------------------------\u001b[0m",
            "\u001b[0;31mAttributeError\u001b[0m                            Traceback (most recent call last)",
            "\u001b[0;32m<ipython-input-34-43b1da81dbda>\u001b[0m in \u001b[0;36m<module>\u001b[0;34m()\u001b[0m\n\u001b[1;32m      9\u001b[0m \u001b[0mx0\u001b[0m \u001b[0;34m=\u001b[0m \u001b[0mbefore_june\u001b[0m\u001b[0;34m[\u001b[0m\u001b[0mbefore_june\u001b[0m\u001b[0;34m[\u001b[0m\u001b[0;34m'Number_of_Cases'\u001b[0m\u001b[0;34m]\u001b[0m \u001b[0;34m>\u001b[0m \u001b[0;36m1000\u001b[0m\u001b[0;34m]\u001b[0m\u001b[0;34m[\u001b[0m\u001b[0;34m'Reporting_Date'\u001b[0m\u001b[0;34m]\u001b[0m\u001b[0;34m.\u001b[0m\u001b[0mmin\u001b[0m\u001b[0;34m(\u001b[0m\u001b[0;34m)\u001b[0m\u001b[0;34m;\u001b[0m\u001b[0;34m\u001b[0m\u001b[0;34m\u001b[0m\u001b[0m\n\u001b[1;32m     10\u001b[0m \u001b[0mx1\u001b[0m \u001b[0;34m=\u001b[0m \u001b[0mbefore_june\u001b[0m\u001b[0;34m[\u001b[0m\u001b[0mbefore_june\u001b[0m\u001b[0;34m[\u001b[0m\u001b[0;34m'Number_of_Cases'\u001b[0m\u001b[0;34m]\u001b[0m \u001b[0;34m>\u001b[0m \u001b[0;36m1000\u001b[0m\u001b[0;34m]\u001b[0m\u001b[0;34m[\u001b[0m\u001b[0;34m'Reporting_Date'\u001b[0m\u001b[0;34m]\u001b[0m\u001b[0;34m.\u001b[0m\u001b[0mmax\u001b[0m\u001b[0;34m(\u001b[0m\u001b[0;34m)\u001b[0m\u001b[0;34m;\u001b[0m\u001b[0;34m\u001b[0m\u001b[0;34m\u001b[0m\u001b[0m\n\u001b[0;32m---> 11\u001b[0;31m \u001b[0mfig3\u001b[0m\u001b[0;34m.\u001b[0m\u001b[0madd_vrect\u001b[0m\u001b[0;34m(\u001b[0m\u001b[0mx0\u001b[0m\u001b[0;34m=\u001b[0m\u001b[0mx0\u001b[0m\u001b[0;34m,\u001b[0m \u001b[0mx1\u001b[0m\u001b[0;34m=\u001b[0m\u001b[0mx1\u001b[0m\u001b[0;34m,\u001b[0m\u001b[0mfillcolor\u001b[0m\u001b[0;34m=\u001b[0m\u001b[0;34m\"LightSalmon\"\u001b[0m\u001b[0;34m,\u001b[0m \u001b[0mopacity\u001b[0m\u001b[0;34m=\u001b[0m\u001b[0;36m0.5\u001b[0m\u001b[0;34m,\u001b[0m\u001b[0mlayer\u001b[0m\u001b[0;34m=\u001b[0m\u001b[0;34m\"below\"\u001b[0m\u001b[0;34m,\u001b[0m \u001b[0mline_width\u001b[0m\u001b[0;34m=\u001b[0m\u001b[0;36m0\u001b[0m\u001b[0;34m)\u001b[0m\u001b[0;34m;\u001b[0m\u001b[0;34m\u001b[0m\u001b[0;34m\u001b[0m\u001b[0m\n\u001b[0m\u001b[1;32m     12\u001b[0m \u001b[0mafter_june\u001b[0m \u001b[0;34m=\u001b[0m \u001b[0mnew_case_per_day_data\u001b[0m\u001b[0;34m[\u001b[0m\u001b[0mnew_case_per_day_data\u001b[0m\u001b[0;34m[\u001b[0m\u001b[0;34m'Reporting_Date'\u001b[0m\u001b[0;34m]\u001b[0m \u001b[0;34m>\u001b[0m \u001b[0;34m'2020-06-01'\u001b[0m\u001b[0;34m]\u001b[0m\u001b[0;34m;\u001b[0m\u001b[0;34m\u001b[0m\u001b[0;34m\u001b[0m\u001b[0m\n\u001b[1;32m     13\u001b[0m \u001b[0mx0\u001b[0m \u001b[0;34m=\u001b[0m \u001b[0mafter_june\u001b[0m\u001b[0;34m[\u001b[0m\u001b[0mafter_june\u001b[0m\u001b[0;34m[\u001b[0m\u001b[0;34m'Number_of_Cases'\u001b[0m\u001b[0;34m]\u001b[0m \u001b[0;34m>\u001b[0m \u001b[0;36m1000\u001b[0m\u001b[0;34m]\u001b[0m\u001b[0;34m[\u001b[0m\u001b[0;34m'Reporting_Date'\u001b[0m\u001b[0;34m]\u001b[0m\u001b[0;34m.\u001b[0m\u001b[0mmin\u001b[0m\u001b[0;34m(\u001b[0m\u001b[0;34m)\u001b[0m\u001b[0;34m;\u001b[0m\u001b[0;34m\u001b[0m\u001b[0;34m\u001b[0m\u001b[0m\n",
            "\u001b[0;31mAttributeError\u001b[0m: 'Figure' object has no attribute 'add_vrect'"
          ]
        }
      ]
    },
    {
      "cell_type": "code",
      "metadata": {
        "id": "7vszEphjQY_g"
      },
      "source": [
        "fig1.show();"
      ],
      "execution_count": null,
      "outputs": []
    },
    {
      "cell_type": "markdown",
      "metadata": {
        "id": "cSKalV0vQdM8"
      },
      "source": [
        "<div style=\"text-align: center\">\n",
        "    From the above plot <b>(Figure-1)</b>, we can see the <b>overall trend</b> of <b>COVID-19</b> cases over the year\n",
        "    in Germany\n",
        "</div>"
      ]
    },
    {
      "cell_type": "code",
      "metadata": {
        "id": "utght6WsQggP"
      },
      "source": [
        "fig2.show();"
      ],
      "execution_count": null,
      "outputs": []
    },
    {
      "cell_type": "markdown",
      "metadata": {
        "id": "pX1DtqA1QjwC"
      },
      "source": [
        "<div style=\"text-align: justify\">\n",
        "    Doing further analysis on the <b>COVID-19 Cases Timeline</b>, we observe <b>two distinct areas</b> on the plot \n",
        "    <b>(Figure-2)</b> having <b>steep incline and decline</b>, with <b>second incline being much steeper than the\n",
        "    first</b>.\n",
        "    <br>\n",
        "    <br>\n",
        "    We call these areas <b>First and Second Wave</b> of the pandemic <b>respectively</b>.\n",
        "    <br>\n",
        "    <br>\n",
        "    Another observation from these plots is that the <b>First Wave</b> is much more smaller than the <b>Second\n",
        "    Wave</b>.\n",
        "    <br>\n",
        "    <br>\n",
        "    One more eye catching phenomenon which we can observe here is that the <b>First Wave</b> starts with the beginning\n",
        "    of <b>Spring Season</b> and ends with the change of season from Spring to Summer in Germany. Throughout the\n",
        "    <b>Summer Season</b>, the number of <b>new cases remain extremely low</b>, never crossing 1000 cases until the\n",
        "    start of <b>Autumn Season</b> and leading into the <b>Winter Season</b> with very slight decline.\n",
        "    <br>\n",
        "    <br>\n",
        "    Therefore, we can see a <b>direct relation</b> between <b>COVID-19 Infection and Temperature</b>, which might have\n",
        "    gone un-noticed.\n",
        "</div>\n"
      ]
    },
    {
      "cell_type": "markdown",
      "metadata": {
        "id": "NF3I-EK_Qkhj"
      },
      "source": [
        "> <b>Note:</b> The First and Second Wave are meagre interpretations from the plot. Beginning and End of these waves is just the representation and from medical point of view, it may differ. <b>Minimum number of new cases</b> in these two waves were/are <b>more than 1000</b>. Hence, it was logical to club them into these <b>two significant categories</b>."
      ]
    },
    {
      "cell_type": "code",
      "metadata": {
        "id": "lzze52ekQnLL"
      },
      "source": [
        "fig3.show();"
      ],
      "execution_count": null,
      "outputs": []
    },
    {
      "cell_type": "markdown",
      "metadata": {
        "id": "95TY2eOxQrCm"
      },
      "source": [
        "<div style=\"text-align: justify\">\n",
        "    We further try to analyse the <b>peak</b> of these waves. As we can see <b>(Figure-3)</b> that after the peak of \n",
        "    First Wave, there is heavy decline in the cases and then it becomes stangnant over the Summer with cases meagrely \n",
        "    in 100's. This could also mean that after the First wave, people stopped taking any precautions and as the \n",
        "    temperature started dipping again, this lead to a higher impact worsening the situation to a greater level. \n",
        "    <br>\n",
        "    <br>\n",
        "    Also, <b>lower</b> the temperature, <b>higher</b> is the peak number of cases. \n",
        "    This could also mean, that as we enter the <b>Winter Season in Germany</b>, we could see an even worse situation\n",
        "    in the coming months.\n",
        "</div>"
      ]
    },
    {
      "cell_type": "markdown",
      "metadata": {
        "id": "KZLU97gIQr6W"
      },
      "source": [
        "<div style=\"text-align: center\">\n",
        "    <b>What can not be Interpretted?</b>\n",
        "</div>\n",
        "<div style=\"text-align: justify\">\n",
        "    Even though we were able to observe a lot, there are a few things which are not visible or clear through this \n",
        "    timeline.\n",
        "    <br>\n",
        "    <br>\n",
        "    1) Firstly, we see a continuous line, with no gaps. This could mean, that there was atleast 1 person infected \n",
        "    everyday in Germany. This infact is not an accurate observation. There were days when either no person got \n",
        "    infected or atleast no infection was reported, which obviously is not visible through this timeline. \n",
        "    <br>\n",
        "    2) Secondly, we can see in the plot that there are sudden spikes all over the plot. But we cannot be certain the \n",
        "    spikes are sudden or a gradual increase over a span of time.\n",
        "</div>\n",
        "\n",
        "> <b>Note:</b> The gaps in the reporting data were verified manually through the RKI COVID-19 data. Hence, stated in point 1 above."
      ]
    },
    {
      "cell_type": "markdown",
      "metadata": {
        "id": "HlMqp1zkLsnO"
      },
      "source": [
        "<hr style=\"border:1px solid gray\"></hr>\n",
        "\n",
        "### Question: 2.2\n",
        "Perform a mean smoothing on the time series above and add the smoothed curve to the previous plot. Make sure the viewer can clearly recognize which line is the smoothed one. For the smoothing procedure, choose a window size  𝑛  that makes most sense to you and explain & evaluate your choice briefly.\n",
        "\n",
        "### Solution: 2.2"
      ]
    },
    {
      "cell_type": "code",
      "metadata": {
        "id": "g1AIh1UPL5Mw",
        "colab": {
          "base_uri": "https://localhost:8080/",
          "height": 232
        },
        "outputId": "66f115d1-5b71-4aef-9b7e-35a11c1b60db"
      },
      "source": [
        "# Computing Mean Smoothing Timeline Series using different Window Sizes\n",
        "\n",
        "new_case_per_day_data['Window_5']  = new_case_per_day_data.Number_of_Cases.rolling(window=5).mean()\n",
        "new_case_per_day_data['Window_10'] = new_case_per_day_data.Number_of_Cases.rolling(window=10).mean()\n",
        "new_case_per_day_data['Window_15'] = new_case_per_day_data.Number_of_Cases.rolling(window=15).mean()\n",
        "new_case_per_day_data['Window_20'] = new_case_per_day_data.Number_of_Cases.rolling(window=20).mean()\n",
        "new_case_per_day_data['Window_25'] = new_case_per_day_data.Number_of_Cases.rolling(window=25).mean()\n",
        "new_case_per_day_data['Window_50'] = new_case_per_day_data.Number_of_Cases.rolling(window=50).mean()"
      ],
      "execution_count": null,
      "outputs": [
        {
          "output_type": "error",
          "ename": "NameError",
          "evalue": "ignored",
          "traceback": [
            "\u001b[0;31m---------------------------------------------------------------------------\u001b[0m",
            "\u001b[0;31mNameError\u001b[0m                                 Traceback (most recent call last)",
            "\u001b[0;32m<ipython-input-1-4c8ae178ed34>\u001b[0m in \u001b[0;36m<module>\u001b[0;34m()\u001b[0m\n\u001b[1;32m      1\u001b[0m \u001b[0;31m# Computing Mean Smoothing Timeline Series using different Window Sizes\u001b[0m\u001b[0;34m\u001b[0m\u001b[0;34m\u001b[0m\u001b[0;34m\u001b[0m\u001b[0m\n\u001b[1;32m      2\u001b[0m \u001b[0;34m\u001b[0m\u001b[0m\n\u001b[0;32m----> 3\u001b[0;31m \u001b[0mnew_case_per_day_data\u001b[0m\u001b[0;34m[\u001b[0m\u001b[0;34m'Window_5'\u001b[0m\u001b[0;34m]\u001b[0m  \u001b[0;34m=\u001b[0m \u001b[0mnew_case_per_day_data\u001b[0m\u001b[0;34m.\u001b[0m\u001b[0mNumber_of_Cases\u001b[0m\u001b[0;34m.\u001b[0m\u001b[0mrolling\u001b[0m\u001b[0;34m(\u001b[0m\u001b[0mwindow\u001b[0m\u001b[0;34m=\u001b[0m\u001b[0;36m5\u001b[0m\u001b[0;34m)\u001b[0m\u001b[0;34m.\u001b[0m\u001b[0mmean\u001b[0m\u001b[0;34m(\u001b[0m\u001b[0;34m)\u001b[0m\u001b[0;34m\u001b[0m\u001b[0;34m\u001b[0m\u001b[0m\n\u001b[0m\u001b[1;32m      4\u001b[0m \u001b[0mnew_case_per_day_data\u001b[0m\u001b[0;34m[\u001b[0m\u001b[0;34m'Window_10'\u001b[0m\u001b[0;34m]\u001b[0m \u001b[0;34m=\u001b[0m \u001b[0mnew_case_per_day_data\u001b[0m\u001b[0;34m.\u001b[0m\u001b[0mNumber_of_Cases\u001b[0m\u001b[0;34m.\u001b[0m\u001b[0mrolling\u001b[0m\u001b[0;34m(\u001b[0m\u001b[0mwindow\u001b[0m\u001b[0;34m=\u001b[0m\u001b[0;36m10\u001b[0m\u001b[0;34m)\u001b[0m\u001b[0;34m.\u001b[0m\u001b[0mmean\u001b[0m\u001b[0;34m(\u001b[0m\u001b[0;34m)\u001b[0m\u001b[0;34m\u001b[0m\u001b[0;34m\u001b[0m\u001b[0m\n\u001b[1;32m      5\u001b[0m \u001b[0mnew_case_per_day_data\u001b[0m\u001b[0;34m[\u001b[0m\u001b[0;34m'Window_15'\u001b[0m\u001b[0;34m]\u001b[0m \u001b[0;34m=\u001b[0m \u001b[0mnew_case_per_day_data\u001b[0m\u001b[0;34m.\u001b[0m\u001b[0mNumber_of_Cases\u001b[0m\u001b[0;34m.\u001b[0m\u001b[0mrolling\u001b[0m\u001b[0;34m(\u001b[0m\u001b[0mwindow\u001b[0m\u001b[0;34m=\u001b[0m\u001b[0;36m15\u001b[0m\u001b[0;34m)\u001b[0m\u001b[0;34m.\u001b[0m\u001b[0mmean\u001b[0m\u001b[0;34m(\u001b[0m\u001b[0;34m)\u001b[0m\u001b[0;34m\u001b[0m\u001b[0;34m\u001b[0m\u001b[0m\n",
            "\u001b[0;31mNameError\u001b[0m: name 'new_case_per_day_data' is not defined"
          ]
        }
      ]
    },
    {
      "cell_type": "code",
      "metadata": {
        "id": "nd7O3KDMC7B0",
        "colab": {
          "base_uri": "https://localhost:8080/",
          "height": 232
        },
        "outputId": "6896e816-b0a0-446a-d4a7-c3b3668356a2"
      },
      "source": [
        "# Plotting Timeline Comparison of Normal Timeline with Mean Smooth Timeline\n",
        "\n",
        "# Window Size n = 5 Computation\n",
        "\n",
        "fig4 = go.Figure();\n",
        "fig4 = px.line(new_case_per_day_data, x='Reporting_Date', y=[\"Number_of_Cases\", \"Window_5\"], \n",
        "               range_x=['2020-01-01','2020-12-31'], \n",
        "               labels=dict(variable=\"Timeline Comparison of per day COVID-19 Cases\", value=\"Total Number of Cases\", \n",
        "                           Reporting_Date=\"Reporting Date\"));\n",
        "fig4.data[0].name = \"Normal Timeline\"\n",
        "fig4.data[1].name = \"Mean Smoothing (Window Size: 5)\"\n",
        "fig4.update_layout(title_text='Figure-4. -- Timeline Comparison -- Normal v/s Mean Smoothing (n = 5)', title_x=0.5);\n",
        "fig4.update_xaxes(dtick=\"M1\",tickformat=\"%b\", ticklabelmode=\"period\");\n",
        "fig4.update_yaxes(tickformat=\"20\");\n",
        "fig4.update_layout(showlegend=True);\n",
        "fig4.update_layout(legend=dict(yanchor=\"top\", y=0.99, xanchor=\"left\", x=0.01));\n",
        "\n",
        "# Window Size n = 10 Computation\n",
        "\n",
        "fig5 = go.Figure();\n",
        "fig5 = px.line(new_case_per_day_data, x='Reporting_Date', y=[\"Number_of_Cases\", \"Window_10\"], range_x=['2020-01-01','2020-12-31'], \n",
        "               labels=dict(variable=\"Timeline Comparison of per day COVID-19 Cases\", value=\"Total Number of Cases\", \n",
        "                           Reporting_Date=\"Reporting Date\"));\n",
        "fig5.data[0].name = \"Normal Timeline\"\n",
        "fig5.data[1].name = \"Mean Smoothing (Window Size: 10)\"\n",
        "fig5.update_layout(title_text='Figure-5. -- Timeline Comparison -- Normal v/s Mean Smoothing (n = 10)', title_x=0.5);\n",
        "fig5.update_xaxes(dtick=\"M1\",tickformat=\"%b\", ticklabelmode=\"period\");\n",
        "fig5.update_yaxes(tickformat=\"20\");\n",
        "fig5.update_layout(showlegend=True);\n",
        "fig5.update_layout(legend=dict(yanchor=\"top\", y=0.99, xanchor=\"left\", x=0.01));\n",
        "\n",
        "# Window Size n = 15 Computation\n",
        "\n",
        "fig6 = go.Figure();\n",
        "fig6 = px.line(new_case_per_day_data, x='Reporting_Date', y=[\"Number_of_Cases\", \"Window_15\"], range_x=['2020-01-01','2020-12-31'], \n",
        "               labels=dict(variable=\"Timeline Comparison of per day COVID-19 Cases\", value=\"Total Number of Cases\", \n",
        "                           Reporting_Date=\"Reporting Date\"));\n",
        "fig6.data[0].name = \"Normal Timeline\"\n",
        "fig6.data[1].name = \"Mean Smoothing (Window Size: 15)\"\n",
        "fig6.update_layout(title_text='Figure-6. -- Timeline Comparison -- Normal v/s Mean Smoothing (n = 15)', title_x=0.5);\n",
        "fig6.update_xaxes(dtick=\"M1\",tickformat=\"%b\", ticklabelmode=\"period\");\n",
        "fig6.update_yaxes(tickformat=\"20\");\n",
        "fig6.update_layout(showlegend=True);\n",
        "fig6.update_layout(legend=dict(yanchor=\"top\", y=0.99, xanchor=\"left\", x=0.01));\n",
        "\n",
        "# Window Size n = 20 Computation\n",
        "\n",
        "fig7 = go.Figure();\n",
        "fig7 = px.line(new_case_per_day_data, x='Reporting_Date', y=[\"Number_of_Cases\", \"Window_20\"], range_x=['2020-01-01','2020-12-31'], \n",
        "               labels=dict(variable=\"Timeline Comparison of per day COVID-19 Cases\", value=\"Total Number of Cases\", \n",
        "                           Reporting_Date=\"Reporting Date\"));\n",
        "fig7.data[0].name = \"Normal Timeline\"\n",
        "fig7.data[1].name = \"Mean Smoothing (Window Size: 20)\"\n",
        "fig7.update_layout(title_text='Figure-7. -- Timeline Comparison -- Normal v/s Mean Smoothing (n = 20)', title_x=0.5);\n",
        "fig7.update_xaxes(dtick=\"M1\",tickformat=\"%b\", ticklabelmode=\"period\");\n",
        "fig7.update_yaxes(tickformat=\"20\");\n",
        "fig7.update_layout(showlegend=True);\n",
        "fig7.update_layout(legend=dict(yanchor=\"top\", y=0.99, xanchor=\"left\",x=0.01));\n",
        "\n",
        "# Window Size n = 25 Computation\n",
        "\n",
        "fig8 = go.Figure();\n",
        "fig8 = px.line(new_case_per_day_data, x='Reporting_Date', y=[\"Number_of_Cases\", \"Window_25\"], range_x=['2020-01-01','2020-12-31'], \n",
        "               labels=dict(variable=\"Timeline Comparison of per day COVID-19 Cases\", value=\"Total Number of Cases\", \n",
        "                           Reporting_Date=\"Reporting Date\"));\n",
        "fig8.data[0].name = \"Normal Timeline\"\n",
        "fig8.data[1].name = \"Mean Smoothing (Window Size: 25)\"\n",
        "fig8.update_layout(title_text='Figure-8. -- Timeline Comparison -- Normal v/s Mean Smoothing (n = 25)', title_x=0.5);\n",
        "fig8.update_xaxes(dtick=\"M1\",tickformat=\"%b\", ticklabelmode=\"period\");\n",
        "fig8.update_yaxes(tickformat=\"20\");\n",
        "fig8.update_layout(showlegend=True);\n",
        "fig8.update_layout(legend=dict(yanchor=\"top\", y=0.99, xanchor=\"left\", x=0.01));\n",
        "\n",
        "# Window Size n = 50 Computation\n",
        "\n",
        "fig9 = go.Figure();\n",
        "fig9 = px.line(new_case_per_day_data, x='Reporting_Date', y=[\"Number_of_Cases\", \"Window_50\"], range_x=['2020-01-01','2020-12-31'], \n",
        "               labels=dict(variable=\"Timeline Comparison of per day COVID-19 Cases\", value=\"Total Number of Cases\", \n",
        "                           Reporting_Date=\"Reporting Date\"));\n",
        "fig9.data[0].name = \"Normal Timeline\"\n",
        "fig9.data[1].name = \"Mean Smoothing (Window Size: 50)\"\n",
        "fig9.update_layout(title_text='Figure-9. -- Timeline Comparison -- Normal v/s Mean Smoothing (n = 50)', title_x=0.5);\n",
        "fig9.update_xaxes(dtick=\"M1\",tickformat=\"%b\", ticklabelmode=\"period\");\n",
        "fig9.update_yaxes(tickformat=\"20\");\n",
        "fig9.update_layout(showlegend=True);\n",
        "fig9.update_layout(legend=dict(yanchor=\"top\", y=0.99, xanchor=\"left\", x=0.01));"
      ],
      "execution_count": null,
      "outputs": [
        {
          "output_type": "error",
          "ename": "NameError",
          "evalue": "ignored",
          "traceback": [
            "\u001b[0;31m---------------------------------------------------------------------------\u001b[0m",
            "\u001b[0;31mNameError\u001b[0m                                 Traceback (most recent call last)",
            "\u001b[0;32m<ipython-input-2-dadd0173b2b7>\u001b[0m in \u001b[0;36m<module>\u001b[0;34m()\u001b[0m\n\u001b[1;32m      3\u001b[0m \u001b[0;31m# Window Size n = 5 Computation\u001b[0m\u001b[0;34m\u001b[0m\u001b[0;34m\u001b[0m\u001b[0;34m\u001b[0m\u001b[0m\n\u001b[1;32m      4\u001b[0m \u001b[0;34m\u001b[0m\u001b[0m\n\u001b[0;32m----> 5\u001b[0;31m \u001b[0mfig4\u001b[0m \u001b[0;34m=\u001b[0m \u001b[0mgo\u001b[0m\u001b[0;34m.\u001b[0m\u001b[0mFigure\u001b[0m\u001b[0;34m(\u001b[0m\u001b[0;34m)\u001b[0m\u001b[0;34m;\u001b[0m\u001b[0;34m\u001b[0m\u001b[0;34m\u001b[0m\u001b[0m\n\u001b[0m\u001b[1;32m      6\u001b[0m fig4 = px.line(new_case_per_day_data, x='Reporting_Date', y=[\"Number_of_Cases\", \"Window_5\"], \n\u001b[1;32m      7\u001b[0m                \u001b[0mrange_x\u001b[0m\u001b[0;34m=\u001b[0m\u001b[0;34m[\u001b[0m\u001b[0;34m'2020-01-01'\u001b[0m\u001b[0;34m,\u001b[0m\u001b[0;34m'2020-12-31'\u001b[0m\u001b[0;34m]\u001b[0m\u001b[0;34m,\u001b[0m\u001b[0;34m\u001b[0m\u001b[0;34m\u001b[0m\u001b[0m\n",
            "\u001b[0;31mNameError\u001b[0m: name 'go' is not defined"
          ]
        }
      ]
    },
    {
      "cell_type": "code",
      "metadata": {
        "id": "FZR-XdiBC9Nr"
      },
      "source": [
        "# Showing and Evaluating various Comparisons\n",
        "\n",
        "fig4.show()\n",
        "fig5.show()\n",
        "fig6.show()\n",
        "fig7.show()\n",
        "fig8.show()\n",
        "fig9.show()"
      ],
      "execution_count": null,
      "outputs": []
    },
    {
      "cell_type": "markdown",
      "metadata": {
        "id": "CkrbEy_2DEdA"
      },
      "source": [
        "<div style=\"text-align: justify\">\n",
        "    Here we have plotted the <b>Mean Smoothed Time Series</b> using varying <b>Window Sizes (n = 5, 10, 15, 20, 25 and \n",
        "    50)</b>.\n",
        "    As we see through <b>Figure-4 to Figure-9</b>, when we do the mean smoothing, as the <b>Window Size increases</b>, \n",
        "    more and more <b>local features are lost</b> and the time series becomes more general.\n",
        "    <br>\n",
        "    <br>\n",
        "    It is clearly visible then we have <b>lost</b> all the <b>local features</b> when the <b>Window Size is n = \n",
        "    50</b> and we <b>retain</b> almost all local features when <b>Window Size is n = 5</b>.\n",
        "    <br>\n",
        "    <br>\n",
        "    Therefore, we <b>choose</b> the <b>Window Size (n = 15)</b>, because we get the trend accurately, maintaining few \n",
        "    local features and matching the general trend nicely. In comparison, Windows size of n = 5, retains almost all \n",
        "    significant local features and does not really help generalizing the mean smooth time series. For Window Size of n \n",
        "    = 10, the mean gets affected and as we can see , it shows an upward trend but in reality, the trend is downwards \n",
        "    in the original timeline. Any window size higher than Window Size n = 15, tends to lose a lot more detail and \n",
        "    hence loses significance and effectiveness of generalized graph. Hence, we choose to go ahead with Window Size n = \n",
        "    15.\n",
        "</div>"
      ]
    },
    {
      "cell_type": "markdown",
      "metadata": {
        "id": "qaNcsnkkL5hE"
      },
      "source": [
        "<hr style=\"border:1px solid gray\"></hr>\n",
        "\n",
        "### Solution: 2.3"
      ]
    },
    {
      "cell_type": "code",
      "metadata": {
        "id": "kwz3CtarL7TW"
      },
      "source": [
        ""
      ],
      "execution_count": null,
      "outputs": []
    },
    {
      "cell_type": "markdown",
      "metadata": {
        "id": "Xe7GTfEHL7vC"
      },
      "source": [
        "<hr style=\"border:1px solid gray\"></hr>\n",
        "\n",
        "### Solution: 2.4"
      ]
    },
    {
      "cell_type": "code",
      "metadata": {
        "id": "qsbxK7aLL9AV"
      },
      "source": [
        ""
      ],
      "execution_count": null,
      "outputs": []
    },
    {
      "cell_type": "markdown",
      "metadata": {
        "id": "A_vBV5kaL9cY"
      },
      "source": [
        "<hr style=\"border:1px solid gray\"></hr>"
      ]
    },
    {
      "cell_type": "code",
      "metadata": {
        "id": "Y2nL4Q00ge5v"
      },
      "source": [
        "l"
      ],
      "execution_count": null,
      "outputs": []
    },
    {
      "cell_type": "markdown",
      "metadata": {
        "id": "9oRo3cE3K4-Q"
      },
      "source": [
        "#### Task 3 **[30 points] Hypothesis Testing**\n",
        "\n",
        "Imagine you want to determine whether there is a global difference between male and female in COVID-19 case fatality using the RKI database's confirmed deaths in Germany as sample data.\n",
        "1. State hypotheses $H_0$ and $H_1$ and briefly evaluate whether they're testable and falsifiable.\n",
        "2. Define both type 1 ($\\alpha$) and type 2 ($\\beta$) error for the given hypotheses. What does mean for your hypotheses?\n",
        "3. What kind of hypothesis test would you perform in order to answer the given question (one-sided or two-sided)? Explain your choice. \n",
        "4. (A) Perform the test, provide results and explain & evaluate them. (B) Is the result enough to make a decision whether there are in fact differences or not? (C) What would you suggest?\n",
        "5. Define the term \"Statistical Power\" and its characteristics with respect to the given research question.\n",
        "6. Calculate the power of the test you performed in this task using the [statsmodels TTestIndPower library](https://www.statsmodels.org/dev/generated/statsmodels.stats.power.TTestIndPower.html) and interpret the result. \n",
        "7. Suggest variables that may also influence the death rate. "
      ]
    },
    {
      "cell_type": "markdown",
      "metadata": {
        "id": "uRCaZOY_wmuM"
      },
      "source": [
        "### 1. State hypotheses  𝐻0  and  𝐻1  and briefly evaluate whether they're testable and falsifiable"
      ]
    },
    {
      "cell_type": "markdown",
      "metadata": {
        "id": "nhlGABumwHVS"
      },
      "source": [
        "H0: p1 - p2 = 0 (Null hypothesis states that there is no difference between male and female fatality)\n",
        "\n",
        "H1: p1 - p2 != 0 (Alternative hypothesis states that there exist difference between male and female fatality)\n",
        "\n",
        "Falsifiability: It refers to having enough evidence to contradict the hypothesis i.e Refutibility of the statement. In our hypothesis testing, we are trying to falsify H1. Our hypothesis is falsifiable as we have the dataset available and using that we can show good evidence that there is no difference between male and female fatality.\n",
        "\n",
        "Testability: It refers to having a hypothesis which can be testable either through experience or through data collection and computation. In our case we have the required data sample for male and female fatalities and hence, doing statitics and calculations on this data will help us gain enough evidence for or against the hypothesis."
      ]
    },
    {
      "cell_type": "markdown",
      "metadata": {
        "id": "Bydy7nvowh8H"
      },
      "source": [
        "### 2. Define both type 1 ( 𝛼 ) and type 2 ( 𝛽 ) error for the given hypotheses"
      ]
    },
    {
      "cell_type": "markdown",
      "metadata": {
        "id": "VnOD8BUZwvwr"
      },
      "source": [
        "𝛼 = 0.05 (Probability of making type 1 error). 𝛼 is the probability of rejecting H0 (There is no difference between male and female fatality), when in reality H0 is true.\n",
        "\n",
        "𝛽 = 0.527 (Probability of making type 2 error) **Note**: 𝛽 is calculated in section 4.6. 𝛽 is the probability of accepting H0 (There is no difference between male and female fatality), when in reality H0 is false."
      ]
    },
    {
      "cell_type": "markdown",
      "metadata": {
        "id": "ZXjc265yxFdQ"
      },
      "source": [
        "### 3. What kind of hypothesis test would you perform in order to answer the given question (one-sided or two-sided)?"
      ]
    },
    {
      "cell_type": "markdown",
      "metadata": {
        "id": "SrasYB58xJ3D"
      },
      "source": [
        "To test our hypothesis we should perform two-tailed test, because we want to test the possibility of the relationship in both directions (Eather male fatality > female fatality or female fatality > male fatality). Our alternative hypothesis (H1) states that male and female fatalitites are not equal, which could any of these two cases."
      ]
    },
    {
      "cell_type": "markdown",
      "metadata": {
        "id": "AlP9AiFoxjJi"
      },
      "source": [
        "### 4. (A) Perform the test, provide results and explain & evaluate them. (B) Is the result enough to make a decision whether there are in fact differences or not? (C) What would you suggest?"
      ]
    },
    {
      "cell_type": "markdown",
      "metadata": {
        "id": "RApkj1Vhxk71"
      },
      "source": [
        "#### (A) Perform the test, provide results and explain & evaluate them"
      ]
    },
    {
      "cell_type": "markdown",
      "metadata": {
        "id": "V4K-LgY7xun8"
      },
      "source": [
        "To perform the test we should find out initial values: number of \"success\" and total number of trials. In this case we have two independent samples, which means that we take these values for both groups (male and female). Our number of \"success\" would be number of fatality cases and total number of trials is the number of cases."
      ]
    },
    {
      "cell_type": "code",
      "metadata": {
        "colab": {
          "base_uri": "https://localhost:8080/"
        },
        "id": "UacVAmXpEceU",
        "outputId": "3076a73d-bf12-42ad-d4b0-23fe56eddc46"
      },
      "source": [
        "gender_cases = covid_data.groupby('Sex')\n",
        "infected_gender = gender_cases['Number_of_Cases'].sum().rename_axis('Sex').reset_index()\n",
        "n1 = (infected_gender[infected_gender['Sex'] == 'M'])['Number_of_Cases'][0]\n",
        "n2 = (infected_gender[infected_gender['Sex'] == 'W'])['Number_of_Cases'][1]\n",
        "print('Fatality number for men = ', n1)\n",
        "print('Fatality number for women = ', n2)"
      ],
      "execution_count": null,
      "outputs": [
        {
          "output_type": "stream",
          "text": [
            "Number of \"successes\" for men =  578297\n",
            "Number of \"successes\" for women =  609999\n"
          ],
          "name": "stdout"
        }
      ]
    },
    {
      "cell_type": "code",
      "metadata": {
        "colab": {
          "base_uri": "https://localhost:8080/"
        },
        "id": "0SiWHeuXE4Wr",
        "outputId": "18e0549b-871a-4517-be1d-7f4d87905db7"
      },
      "source": [
        "death_cases = covid_data[covid_data['New_Death'] >= 0]\n",
        "gender_death_cases = death_cases.groupby('Sex')\n",
        "death_gender = gender_death_cases['Number_of_Deaths'].sum().rename_axis('Sex').reset_index()\n",
        "x1 = (death_gender[death_gender['Sex'] == 'M'])['Number_of_Deaths'][0]\n",
        "x2 = (death_gender[death_gender['Sex'] == 'W'])['Number_of_Deaths'][1]\n",
        "print(\"Total number of cases for men = \", x1)\n",
        "print(\"Total number of cases for women = \", x2)"
      ],
      "execution_count": null,
      "outputs": [
        {
          "output_type": "stream",
          "text": [
            "Total number of trials for men =  10403\n",
            "Total number of trials for women =  8916\n"
          ],
          "name": "stdout"
        }
      ]
    },
    {
      "cell_type": "markdown",
      "metadata": {
        "id": "FOuhh-8syQiG"
      },
      "source": [
        "After finding fatality and total case numbers, we can define the probability of success on each trial by following formula."
      ]
    },
    {
      "cell_type": "code",
      "metadata": {
        "colab": {
          "base_uri": "https://localhost:8080/"
        },
        "id": "aMomFXOaeZeo",
        "outputId": "7e8f742c-b8a7-44a9-cfe1-ed7e06a93782"
      },
      "source": [
        "p1 = x1/n1\n",
        "p2 = x2/n2\n",
        "print(\"The probability of success on each trial for men = \", p1)\n",
        "print(\"The probability of success on each trial for men = \", p2)"
      ],
      "execution_count": null,
      "outputs": [
        {
          "output_type": "stream",
          "text": [
            "The probability of success on each trial for men =  0.01798902639992945\n",
            "The probability of success on each trial for men =  0.014616417403962958\n"
          ],
          "name": "stdout"
        }
      ]
    },
    {
      "cell_type": "markdown",
      "metadata": {
        "id": "jfKIcqPml3CE"
      },
      "source": [
        "We perform pooling, because we assume that our null hypothesis (H0) is true and proportions are equal."
      ]
    },
    {
      "cell_type": "code",
      "metadata": {
        "colab": {
          "base_uri": "https://localhost:8080/"
        },
        "id": "JTFAXq_mqw5t",
        "outputId": "2a83aed5-9374-4828-c259-7fae0998c019"
      },
      "source": [
        "p = (x1 + x2)/(n1 + n2)\n",
        "\n",
        "print(\"Pooled proportion = \", p)"
      ],
      "execution_count": null,
      "outputs": [
        {
          "output_type": "stream",
          "text": [
            "Pooled proportion =  0.016257733763304767\n"
          ],
          "name": "stdout"
        }
      ]
    },
    {
      "cell_type": "markdown",
      "metadata": {
        "id": "__CilD6xyiCx"
      },
      "source": [
        "Now as we have all needed values, we can perform z-test. Z-test allows us to compare two proportions and determine whether they are equal."
      ]
    },
    {
      "cell_type": "code",
      "metadata": {
        "colab": {
          "base_uri": "https://localhost:8080/"
        },
        "id": "ThtCBknj1QlQ",
        "outputId": "d3e6a4a4-1eb0-4498-9d41-a5b2f2a7628e"
      },
      "source": [
        "denominator = p*(1-p)*((1/n1)+(1/n2))\n",
        "z = (p1 - p2)/(np.sqrt(denominator))\n",
        "\n",
        "print(\"Z-score = \", z)"
      ],
      "execution_count": null,
      "outputs": [
        {
          "output_type": "stream",
          "text": [
            "Z-score =  14.53024838977369\n"
          ],
          "name": "stdout"
        }
      ]
    },
    {
      "cell_type": "markdown",
      "metadata": {
        "id": "VjbvKK95tlHC"
      },
      "source": [
        "As we found z-score we use \"Table of normal distribution\" to find out if it falls into \"rejection region\". So in our case z-score is equal to 14.5, which means that the p-value is 0. It means that the chance of type I error (rejecting a correct H0) is very small. \n",
        "\n",
        "Now we need to visualize our results, to do so we plot normal distribution.\n"
      ]
    },
    {
      "cell_type": "code",
      "metadata": {
        "colab": {
          "base_uri": "https://localhost:8080/",
          "height": 281
        },
        "id": "0wshSJpk4SRI",
        "outputId": "4dc69a30-dd5e-4454-dd92-356dff1a642b"
      },
      "source": [
        "import matplotlib.pyplot as plt\n",
        "import numpy as np\n",
        "import scipy.stats as stats\n",
        "import math\n",
        "\n",
        "mu = 0\n",
        "variance = 1\n",
        "sigma = math.sqrt(variance)\n",
        "x = np.linspace(mu - 3*sigma, mu + 3*sigma, 100)\n",
        "plt.plot(x, stats.norm.pdf(x, mu, sigma))\n",
        "plt.title('Normal distribution')\n",
        "\n",
        "plt.text(-0.2, 0.2, \"0.95\")\n",
        "plt.text(-2.6, 0.05, \"0.25\")\n",
        "plt.text(2.2, 0.05, \"0.25\")\n",
        "plt.axvline(x=-1.96, ymin=0.01, ymax=0.15, color='red', label='-z critical')\n",
        "plt.axvline(x=-2.2, ymin=0.01, ymax=0.1, color='green')\n",
        "plt.axvline(x=-2.4, ymin=0.01, ymax=0.08, color='green')\n",
        "plt.axvline(x=-2.6, ymin=0.01, ymax=0.06, color='green')\n",
        "plt.axvline(x=-2.8, ymin=0.01, ymax=0.04, color='green')\n",
        "plt.axvline(x=-3, ymin=0.01, ymax=0.03, color='green')\n",
        "plt.axvline(x=1.96, ymin=0.01, ymax=0.15, color='red', label='z critical')\n",
        "plt.axvline(x=2.2, ymin=0.01, ymax=0.1, color='green')\n",
        "plt.axvline(x=2.4, ymin=0.01, ymax=0.08, color='green')\n",
        "plt.axvline(x=2.6, ymin=0.01, ymax=0.06, color='green')\n",
        "plt.axvline(x=2.8, ymin=0.01, ymax=0.04, color='green')\n",
        "plt.axvline(x=3, ymin=0.01, ymax=0.03, color='green')\n",
        "plt.show()"
      ],
      "execution_count": null,
      "outputs": [
        {
          "output_type": "display_data",
          "data": {
            "image/png": "[encoded data removed]",
            "text/plain": [
              "<Figure size 432x288 with 1 Axes>"
            ]
          },
          "metadata": {
            "tags": [],
            "needs_background": "light"
          }
        }
      ]
    },
    {
      "cell_type": "markdown",
      "metadata": {
        "id": "-gthVhMr_BM-"
      },
      "source": [
        "On this normal dirstibution shaded areas are our rejection regions. Our 𝛼 = 0.05 that means that z-critical is 1.96 (red lines), and since we have two-tailed test we divide 𝛼 by 2 and get 0.25 on both sides (rejection regions).\n",
        "\n"
      ]
    },
    {
      "cell_type": "markdown",
      "metadata": {
        "id": "_ewHTcn9ApLs"
      },
      "source": [
        "Our calculated z-score is 14.5, it means that it lies in the rejection region and it is so strongly statisticaly significant that we can reject the null hypothesis (H0).\n",
        "\n",
        "We can also see that p-value < 𝛼 (0 < 0.25), which states that we have strong evidence to reject H0. The difference between the proportion of men and women populations is big enough to be statistically significant."
      ]
    },
    {
      "cell_type": "markdown",
      "metadata": {
        "id": "q-RvSrNMBywK"
      },
      "source": [
        "#### (B) Is the result enough to make a decision whether there are in fact differences or not?"
      ]
    },
    {
      "cell_type": "markdown",
      "metadata": {
        "id": "bt1LL2T9VqII"
      },
      "source": [
        "The p-value is the area associated with the test statistic. If the probability is less than the level of significance (𝛼), then we believe we have enough statistical evidence to reject the null hypothesis and support the alternative claim.\n",
        "\n",
        "However, in real life there is a possibility that we may not encountered some instance.\n",
        "Our hypothesis may be true, but it may not be true all the time."
      ]
    },
    {
      "cell_type": "markdown",
      "metadata": {
        "id": "6HnZ2xW5D8FE"
      },
      "source": [
        "#### (C) What would you suggest?"
      ]
    },
    {
      "cell_type": "markdown",
      "metadata": {
        "id": "0XGgiUzBW5D0"
      },
      "source": [
        "We assume that gathering more information will help to get more accurate results and derive correlations from the data. Not only that, removing unknown residual can also help to improve this estimation."
      ]
    },
    {
      "cell_type": "markdown",
      "metadata": {
        "id": "97lsGve0ED-m"
      },
      "source": [
        "### 5. Define the term \"Statistical Power\" and its characteristics with respect to the given research question."
      ]
    },
    {
      "cell_type": "markdown",
      "metadata": {
        "id": "VOiEbHOZW_Z-"
      },
      "source": [
        "\"Statistical Power\" is the probability of not making type 2 error.\n",
        "The probability of making a type 2 error is 𝛽, then the\n",
        "probability of not making a type 2 error is 1 - 𝛽.\n",
        "\n",
        "In our case \"Statistica power\" is the probability of assuming that there is no difference between male and female fatality, when actually the difference exists."
      ]
    },
    {
      "cell_type": "markdown",
      "metadata": {
        "id": "V_IZc9YqEH13"
      },
      "source": [
        "### 6. Calculate the power of the test you performed in this task using the statsmodels TTestIndPower library and interpret the result."
      ]
    },
    {
      "cell_type": "markdown",
      "metadata": {
        "id": "VpZ1We3BZmJL"
      },
      "source": [
        "In Task 4 we used z-test to find p-value, because our values are binary, so we have to perform Binomial testing. However, statsmodels provide function to calculate power for t-test. So we calculated power of test manually."
      ]
    },
    {
      "cell_type": "code",
      "metadata": {
        "colab": {
          "base_uri": "https://localhost:8080/",
          "height": 286
        },
        "id": "R2oI8L7x6y9G",
        "outputId": "6bfea13b-dee1-4229-b868-a8339b3319db"
      },
      "source": [
        "from statsmodels.stats.power import  tt_ind_solve_power\n",
        "\n",
        "men = covid_data.loc[covid_data['Sex'] == 'M']\n",
        "\n",
        "mean = men['Number_of_Deaths'].mean()\n",
        "std = men['Number_of_Deaths'].std()\n",
        "\n",
        "print(\"Mean = \", mean)\n",
        "print(\"Standard deviation = \", std)"
      ],
      "execution_count": null,
      "outputs": [
        {
          "output_type": "stream",
          "text": [
            "/usr/local/lib/python3.6/dist-packages/statsmodels/tools/_testing.py:19: FutureWarning: pandas.util.testing is deprecated. Use the functions in the public API at pandas.testing instead.\n",
            "  import pandas.util.testing as tm\n"
          ],
          "name": "stderr"
        },
        {
          "output_type": "error",
          "ename": "NameError",
          "evalue": "ignored",
          "traceback": [
            "\u001b[0;31m---------------------------------------------------------------------------\u001b[0m",
            "\u001b[0;31mNameError\u001b[0m                                 Traceback (most recent call last)",
            "\u001b[0;32m<ipython-input-1-b12f1be5a53b>\u001b[0m in \u001b[0;36m<module>\u001b[0;34m()\u001b[0m\n\u001b[1;32m      1\u001b[0m \u001b[0;32mfrom\u001b[0m \u001b[0mstatsmodels\u001b[0m\u001b[0;34m.\u001b[0m\u001b[0mstats\u001b[0m\u001b[0;34m.\u001b[0m\u001b[0mpower\u001b[0m \u001b[0;32mimport\u001b[0m  \u001b[0mtt_ind_solve_power\u001b[0m\u001b[0;34m\u001b[0m\u001b[0;34m\u001b[0m\u001b[0m\n\u001b[1;32m      2\u001b[0m \u001b[0;34m\u001b[0m\u001b[0m\n\u001b[0;32m----> 3\u001b[0;31m \u001b[0mmen\u001b[0m \u001b[0;34m=\u001b[0m \u001b[0mcovid_data\u001b[0m\u001b[0;34m.\u001b[0m\u001b[0mloc\u001b[0m\u001b[0;34m[\u001b[0m\u001b[0mcovid_data\u001b[0m\u001b[0;34m[\u001b[0m\u001b[0;34m'Sex'\u001b[0m\u001b[0;34m]\u001b[0m \u001b[0;34m==\u001b[0m \u001b[0;34m'M'\u001b[0m\u001b[0;34m]\u001b[0m\u001b[0;34m\u001b[0m\u001b[0;34m\u001b[0m\u001b[0m\n\u001b[0m\u001b[1;32m      4\u001b[0m \u001b[0;34m\u001b[0m\u001b[0m\n\u001b[1;32m      5\u001b[0m \u001b[0mmean\u001b[0m \u001b[0;34m=\u001b[0m \u001b[0mmen\u001b[0m\u001b[0;34m[\u001b[0m\u001b[0;34m'Number_of_Deaths'\u001b[0m\u001b[0;34m]\u001b[0m\u001b[0;34m.\u001b[0m\u001b[0mmean\u001b[0m\u001b[0;34m(\u001b[0m\u001b[0;34m)\u001b[0m\u001b[0;34m\u001b[0m\u001b[0;34m\u001b[0m\u001b[0m\n",
            "\u001b[0;31mNameError\u001b[0m: name 'covid_data' is not defined"
          ]
        }
      ]
    },
    {
      "cell_type": "markdown",
      "metadata": {
        "id": "0Ci3V32O7dHB"
      },
      "source": [
        "By following formulas we define x-bar.\n",
        "\n",
        "\n",
        "\n",
        "```\n",
        "(x_bar - mu)/(std/sqrt(n)) <= - 𝛼/2\n",
        "\n",
        "(x_bar - mu)/(std/sqrt(n)) >= 𝛼/2\n",
        "```\n",
        "\n",
        "\n",
        "\n"
      ]
    },
    {
      "cell_type": "code",
      "metadata": {
        "colab": {
          "base_uri": "https://localhost:8080/"
        },
        "id": "jlv0HS_563hP",
        "outputId": "a20a8723-457a-4037-8d36-234b3f2b0c3b"
      },
      "source": [
        "x_bar_left = mean - (1.96*(std/np.sqrt(n1)))\n",
        "x_bar_right = mean + (1.96*(std/np.sqrt(n1)))\n",
        "\n",
        "print(x_bar_left)\n",
        "print(x_bar_right)"
      ],
      "execution_count": null,
      "outputs": [
        {
          "output_type": "stream",
          "text": [
            "0.029010155581299723\n",
            "0.0364008184091221\n"
          ],
          "name": "stdout"
        }
      ]
    },
    {
      "cell_type": "code",
      "metadata": {
        "colab": {
          "base_uri": "https://localhost:8080/",
          "height": 281
        },
        "id": "fG-Sk98iQXBf",
        "outputId": "3b0c92fb-fa12-40c3-ca88-de881dfa5119"
      },
      "source": [
        "mu = 0\n",
        "mu_1 = 1\n",
        "variance = 1\n",
        "sigma = math.sqrt(variance)\n",
        "x = np.linspace(mu - 3*sigma, mu + 4*sigma, 100)\n",
        "plt.plot(x, stats.norm.pdf(x, mu, sigma))\n",
        "plt.plot(x, stats.norm.pdf(x, mu_1, sigma))\n",
        "plt.title('Power of test')\n",
        "\n",
        "plt.axvline(x=-1.96, ymin=0.01, ymax=0.04, color='red', label='-z critical')\n",
        "plt.axvline(x=-2.2, ymin=0.01, ymax=0.04, color='green')\n",
        "plt.axvline(x=-2.4, ymin=0.01, ymax=0.03, color='green')\n",
        "plt.axvline(x=-2.6, ymin=0.01, ymax=0.03, color='green')\n",
        "plt.axvline(x=-2.8, ymin=0.01, ymax=0.03, color='green')\n",
        "plt.axvline(x=-3, ymin=0.01, ymax=0.03, color='green')\n",
        "plt.axvline(x=1.96, ymin=0.01, ymax=0.6, color='red', label='z critical')\n",
        "plt.axvline(x=2.2, ymin=0.01, ymax=0.5, color='green')\n",
        "plt.axvline(x=2.4, ymin=0.01, ymax=0.42, color='green')\n",
        "plt.axvline(x=2.6, ymin=0.01, ymax=0.32, color='green')\n",
        "plt.axvline(x=2.8, ymin=0.01, ymax=0.22, color='green')\n",
        "plt.axvline(x=3, ymin=0.01, ymax=0.15, color='green')\n",
        "plt.axvline(x=3.2, ymin=0.01, ymax=0.12, color='green')\n",
        "plt.axvline(x=3.4, ymin=0.01, ymax=0.08, color='green')\n",
        "plt.show()"
      ],
      "execution_count": null,
      "outputs": [
        {
          "output_type": "display_data",
          "data": {
            "image/png": "[encoded data removed]",
            "text/plain": [
              "<Figure size 432x288 with 1 Axes>"
            ]
          },
          "metadata": {
            "tags": [],
            "needs_background": "light"
          }
        }
      ]
    },
    {
      "cell_type": "markdown",
      "metadata": {
        "id": "yZ4-i8YA8VJW"
      },
      "source": [
        "We know that mu = 0.034, so know we want to find to find the rejection regions for mu equal to 0.035. The sum of these shaded areas is the power of test."
      ]
    },
    {
      "cell_type": "markdown",
      "metadata": {
        "id": "iMKwucGu79j6"
      },
      "source": [
        "Following formulas help us find z-critical for both sides.\n",
        "\n",
        "\n",
        "\n",
        "\n",
        "```\n",
        "z <= (x_bar_left - mu1)/(std/sqrt(n))\n",
        "\n",
        "z => (x_bar_right - mu1)/(std/sqrt(n))\n",
        "```\n",
        "\n"
      ]
    },
    {
      "cell_type": "code",
      "metadata": {
        "colab": {
          "base_uri": "https://localhost:8080/"
        },
        "id": "aFR3ssvQ66Dh",
        "outputId": "72590cbd-f775-4a62-add2-ca397a4dbf5a"
      },
      "source": [
        "mu1 = 0.035\n",
        "z_left = (x_bar_left - mu1)/(std/np.sqrt(n1))\n",
        "z_right = (x_bar_right - mu1)/(std/np.sqrt(n1))\n",
        "\n",
        "print(z_left)\n",
        "print(z_right)"
      ],
      "execution_count": null,
      "outputs": [
        {
          "output_type": "stream",
          "text": [
            "-3.1770073494508777\n",
            "0.7429926505491216\n"
          ],
          "name": "stdout"
        }
      ]
    },
    {
      "cell_type": "markdown",
      "metadata": {
        "id": "Hji82p2c68Hh"
      },
      "source": [
        "According to \"Table of normal distribution\" p-value for left is equal to 0.0014, and p-value for right is 0.459.\n",
        "\n",
        "By summing these two values we get **power** (1 - 𝛽) = 0.473. So 𝛽 = 0.527."
      ]
    },
    {
      "cell_type": "markdown",
      "metadata": {
        "id": "ObENDZ4jEK2O"
      },
      "source": [
        "### 7. Suggest variables that may also influence the death rate."
      ]
    },
    {
      "cell_type": "markdown",
      "metadata": {
        "id": "gk_mnDZteSXH"
      },
      "source": [
        "Obviously age greatly impacts on death rate, fatality cases are mostly happen in the older age groups. \n",
        "\n",
        "Lifestyle can be counted as an influencial factor, people who are active have a better immune system, so the virus doesn't stay long in the organism.\n",
        "\n",
        "Region of recidence also plays a role, this factor determines how fast people are diagnozed and what quality treatment they recieve in hospitals."
      ]
    }
  ]
}